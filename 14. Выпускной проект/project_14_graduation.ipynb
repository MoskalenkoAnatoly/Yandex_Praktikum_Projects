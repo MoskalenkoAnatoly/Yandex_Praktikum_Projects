{
 "cells": [
  {
   "cell_type": "markdown",
   "metadata": {},
   "source": [
    "## 1. План работы\n",
    "1. Анализ и подготовка данных. Изучить данные, найти неточности, пропуски, удаление аномалий, заполнение пропусков, соединение таблиц, расчет дополнительных показателей.\n",
    "2. Построение и обучение моделей. Обучение различных моделей.\n",
    "3. Сравнение результатов обучения и выбор лучшей модели."
   ]
  },
  {
   "cell_type": "markdown",
   "metadata": {},
   "source": [
    "## 2. Анализ данных и подготовка данных"
   ]
  },
  {
   "cell_type": "code",
   "execution_count": 1,
   "metadata": {},
   "outputs": [],
   "source": [
    "import pandas as pd\n",
    "import matplotlib.pyplot as plt\n",
    "import seaborn as sns\n",
    "import numpy as np\n",
    "from sklearn.metrics import mean_absolute_error\n",
    "from sklearn.model_selection import train_test_split\n",
    "from sklearn.ensemble import RandomForestRegressor\n",
    "from catboost import CatBoostRegressor\n",
    "import lightgbm as ltb\n",
    "from sklearn.linear_model import LinearRegression"
   ]
  },
  {
   "cell_type": "markdown",
   "metadata": {},
   "source": [
    "Данные состоят из файлов, полученных из разных источников:\n",
    "\n",
    "- `data_arc.csv` — данные об электродах;\n",
    "- `data_bulk.csv` — данные о подаче сыпучих материалов (объём);\n",
    "- `data_bulk_time.csv` *—* данные о подаче сыпучих материалов (время);\n",
    "- `data_gas.csv` — данные о продувке сплава газом;\n",
    "- `data_temp.csv` — результаты измерения температуры;\n",
    "- `data_wire.csv` — данные о проволочных материалах (объём);\n",
    "- `data_wire_time.csv` — данные о проволочных материалах (время)."
   ]
  },
  {
   "cell_type": "code",
   "execution_count": 2,
   "metadata": {},
   "outputs": [
    {
     "name": "stdout",
     "output_type": "stream",
     "text": [
      "<class 'pandas.core.frame.DataFrame'>\n",
      "RangeIndex: 14876 entries, 0 to 14875\n",
      "Data columns (total 5 columns):\n",
      "key                     14876 non-null int64\n",
      "start_of_arc_heating    14876 non-null object\n",
      "end_of_arc_heating      14876 non-null object\n",
      "active_power            14876 non-null float64\n",
      "reactive_power          14876 non-null float64\n",
      "dtypes: float64(2), int64(1), object(2)\n",
      "memory usage: 581.2+ KB\n"
     ]
    },
    {
     "data": {
      "text/html": [
       "<div>\n",
       "<style scoped>\n",
       "    .dataframe tbody tr th:only-of-type {\n",
       "        vertical-align: middle;\n",
       "    }\n",
       "\n",
       "    .dataframe tbody tr th {\n",
       "        vertical-align: top;\n",
       "    }\n",
       "\n",
       "    .dataframe thead th {\n",
       "        text-align: right;\n",
       "    }\n",
       "</style>\n",
       "<table border=\"1\" class=\"dataframe\">\n",
       "  <thead>\n",
       "    <tr style=\"text-align: right;\">\n",
       "      <th></th>\n",
       "      <th>key</th>\n",
       "      <th>start_of_arc_heating</th>\n",
       "      <th>end_of_arc_heating</th>\n",
       "      <th>active_power</th>\n",
       "      <th>reactive_power</th>\n",
       "    </tr>\n",
       "  </thead>\n",
       "  <tbody>\n",
       "    <tr>\n",
       "      <td>0</td>\n",
       "      <td>1</td>\n",
       "      <td>2019-05-03 11:02:14</td>\n",
       "      <td>2019-05-03 11:06:02</td>\n",
       "      <td>0.976059</td>\n",
       "      <td>0.687084</td>\n",
       "    </tr>\n",
       "    <tr>\n",
       "      <td>1</td>\n",
       "      <td>1</td>\n",
       "      <td>2019-05-03 11:07:28</td>\n",
       "      <td>2019-05-03 11:10:33</td>\n",
       "      <td>0.805607</td>\n",
       "      <td>0.520285</td>\n",
       "    </tr>\n",
       "    <tr>\n",
       "      <td>2</td>\n",
       "      <td>1</td>\n",
       "      <td>2019-05-03 11:11:44</td>\n",
       "      <td>2019-05-03 11:14:36</td>\n",
       "      <td>0.744363</td>\n",
       "      <td>0.498805</td>\n",
       "    </tr>\n",
       "    <tr>\n",
       "      <td>3</td>\n",
       "      <td>1</td>\n",
       "      <td>2019-05-03 11:18:14</td>\n",
       "      <td>2019-05-03 11:24:19</td>\n",
       "      <td>1.659363</td>\n",
       "      <td>1.062669</td>\n",
       "    </tr>\n",
       "    <tr>\n",
       "      <td>4</td>\n",
       "      <td>1</td>\n",
       "      <td>2019-05-03 11:26:09</td>\n",
       "      <td>2019-05-03 11:28:37</td>\n",
       "      <td>0.692755</td>\n",
       "      <td>0.414397</td>\n",
       "    </tr>\n",
       "    <tr>\n",
       "      <td>5</td>\n",
       "      <td>2</td>\n",
       "      <td>2019-05-03 11:34:14</td>\n",
       "      <td>2019-05-03 11:36:31</td>\n",
       "      <td>0.438063</td>\n",
       "      <td>0.283043</td>\n",
       "    </tr>\n",
       "    <tr>\n",
       "      <td>6</td>\n",
       "      <td>2</td>\n",
       "      <td>2019-05-03 11:38:50</td>\n",
       "      <td>2019-05-03 11:44:28</td>\n",
       "      <td>1.296415</td>\n",
       "      <td>0.892914</td>\n",
       "    </tr>\n",
       "    <tr>\n",
       "      <td>7</td>\n",
       "      <td>2</td>\n",
       "      <td>2019-05-03 11:46:19</td>\n",
       "      <td>2019-05-03 11:48:25</td>\n",
       "      <td>0.490377</td>\n",
       "      <td>0.305281</td>\n",
       "    </tr>\n",
       "    <tr>\n",
       "      <td>8</td>\n",
       "      <td>2</td>\n",
       "      <td>2019-05-03 11:49:48</td>\n",
       "      <td>2019-05-03 11:53:18</td>\n",
       "      <td>0.827743</td>\n",
       "      <td>0.516874</td>\n",
       "    </tr>\n",
       "    <tr>\n",
       "      <td>9</td>\n",
       "      <td>3</td>\n",
       "      <td>2019-05-03 12:06:54</td>\n",
       "      <td>2019-05-03 12:11:34</td>\n",
       "      <td>1.062053</td>\n",
       "      <td>0.671494</td>\n",
       "    </tr>\n",
       "  </tbody>\n",
       "</table>\n",
       "</div>"
      ],
      "text/plain": [
       "   key start_of_arc_heating   end_of_arc_heating  active_power  reactive_power\n",
       "0    1  2019-05-03 11:02:14  2019-05-03 11:06:02      0.976059        0.687084\n",
       "1    1  2019-05-03 11:07:28  2019-05-03 11:10:33      0.805607        0.520285\n",
       "2    1  2019-05-03 11:11:44  2019-05-03 11:14:36      0.744363        0.498805\n",
       "3    1  2019-05-03 11:18:14  2019-05-03 11:24:19      1.659363        1.062669\n",
       "4    1  2019-05-03 11:26:09  2019-05-03 11:28:37      0.692755        0.414397\n",
       "5    2  2019-05-03 11:34:14  2019-05-03 11:36:31      0.438063        0.283043\n",
       "6    2  2019-05-03 11:38:50  2019-05-03 11:44:28      1.296415        0.892914\n",
       "7    2  2019-05-03 11:46:19  2019-05-03 11:48:25      0.490377        0.305281\n",
       "8    2  2019-05-03 11:49:48  2019-05-03 11:53:18      0.827743        0.516874\n",
       "9    3  2019-05-03 12:06:54  2019-05-03 12:11:34      1.062053        0.671494"
      ]
     },
     "execution_count": 2,
     "metadata": {},
     "output_type": "execute_result"
    }
   ],
   "source": [
    "data_arc = pd.read_csv()\n",
    "data_arc.columns = ['key', 'start_of_arc_heating', 'end_of_arc_heating', 'active_power', 'reactive_power']\n",
    "data_arc.info()\n",
    "data_arc.head(10)"
   ]
  },
  {
   "cell_type": "markdown",
   "metadata": {},
   "source": [
    "Приведем столбцы к нужному формату"
   ]
  },
  {
   "cell_type": "code",
   "execution_count": 3,
   "metadata": {},
   "outputs": [
    {
     "name": "stdout",
     "output_type": "stream",
     "text": [
      "<class 'pandas.core.frame.DataFrame'>\n",
      "RangeIndex: 14876 entries, 0 to 14875\n",
      "Data columns (total 5 columns):\n",
      "key                     14876 non-null int64\n",
      "start_of_arc_heating    14876 non-null datetime64[ns]\n",
      "end_of_arc_heating      14876 non-null datetime64[ns]\n",
      "active_power            14876 non-null float64\n",
      "reactive_power          14876 non-null float64\n",
      "dtypes: datetime64[ns](2), float64(2), int64(1)\n",
      "memory usage: 581.2 KB\n"
     ]
    }
   ],
   "source": [
    "data_arc['start_of_arc_heating'] = pd.to_datetime(data_arc['start_of_arc_heating'])\n",
    "data_arc['end_of_arc_heating'] = pd.to_datetime(data_arc['end_of_arc_heating'])\n",
    "data_arc.info()"
   ]
  },
  {
   "cell_type": "markdown",
   "metadata": {},
   "source": [
    "Проверим колонки на пропуски"
   ]
  },
  {
   "cell_type": "code",
   "execution_count": 4,
   "metadata": {},
   "outputs": [
    {
     "data": {
      "text/plain": [
       "key                     0\n",
       "start_of_arc_heating    0\n",
       "end_of_arc_heating      0\n",
       "active_power            0\n",
       "reactive_power          0\n",
       "dtype: int64"
      ]
     },
     "execution_count": 4,
     "metadata": {},
     "output_type": "execute_result"
    }
   ],
   "source": [
    "data_arc.isna().sum()"
   ]
  },
  {
   "cell_type": "markdown",
   "metadata": {},
   "source": [
    "Посмотрим на распределение мощностей"
   ]
  },
  {
   "cell_type": "code",
   "execution_count": 5,
   "metadata": {},
   "outputs": [
    {
     "data": {
      "image/png": "[encoded data removed]",
      "text/plain": [
       "<Figure size 1296x432 with 1 Axes>"
      ]
     },
     "metadata": {
      "needs_background": "light"
     },
     "output_type": "display_data"
    }
   ],
   "source": [
    "data_arc['active_power'].hist(figsize=(18, 6), bins=30)\n",
    "plt.show()"
   ]
  },
  {
   "cell_type": "code",
   "execution_count": 6,
   "metadata": {},
   "outputs": [
    {
     "data": {
      "image/png": "[encoded data removed]",
      "text/plain": [
       "<Figure size 1296x432 with 1 Axes>"
      ]
     },
     "metadata": {
      "needs_background": "light"
     },
     "output_type": "display_data"
    }
   ],
   "source": [
    "data_arc['reactive_power'].hist(figsize=(18, 6), bins=30)\n",
    "plt.show()"
   ]
  },
  {
   "cell_type": "markdown",
   "metadata": {},
   "source": [
    "Как видно в реактивной мощности есть аномалии, посмотрим на это значение"
   ]
  },
  {
   "cell_type": "code",
   "execution_count": 7,
   "metadata": {
    "scrolled": true
   },
   "outputs": [
    {
     "data": {
      "text/plain": [
       "9780    -715.504924\n",
       "5596       0.020806\n",
       "2419       0.021154\n",
       "4914       0.022485\n",
       "4633       0.022983\n",
       "            ...    \n",
       "13760      2.335088\n",
       "12424      2.397032\n",
       "9361       2.459959\n",
       "9226       2.504206\n",
       "7799       2.676388\n",
       "Name: reactive_power, Length: 14876, dtype: float64"
      ]
     },
     "execution_count": 7,
     "metadata": {},
     "output_type": "execute_result"
    }
   ],
   "source": [
    "data_arc['reactive_power'].sort_values()"
   ]
  },
  {
   "cell_type": "markdown",
   "metadata": {},
   "source": [
    "Удалим это значение для корректности данных"
   ]
  },
  {
   "cell_type": "code",
   "execution_count": 8,
   "metadata": {},
   "outputs": [],
   "source": [
    "data_arc = data_arc.drop(index=[9780]).reset_index()"
   ]
  },
  {
   "cell_type": "code",
   "execution_count": 9,
   "metadata": {},
   "outputs": [
    {
     "data": {
      "image/png": "[encoded data removed]",
      "text/plain": [
       "<Figure size 1296x504 with 1 Axes>"
      ]
     },
     "metadata": {
      "needs_background": "light"
     },
     "output_type": "display_data"
    }
   ],
   "source": [
    "data_arc['active_power'].hist(bins=30, label='active_power')\n",
    "data_arc['reactive_power'].hist(figsize=(18, 7), alpha = 0.6, bins=30, label='reactive_power')\n",
    "plt.legend()\n",
    "plt.show()"
   ]
  },
  {
   "cell_type": "markdown",
   "metadata": {},
   "source": [
    "Теперь данные имуют корректный вид"
   ]
  },
  {
   "cell_type": "markdown",
   "metadata": {},
   "source": [
    "Дополнительно выделим данные по средним значениям и сумме по стадиям"
   ]
  },
  {
   "cell_type": "code",
   "execution_count": 10,
   "metadata": {},
   "outputs": [
    {
     "data": {
      "text/html": [
       "<div>\n",
       "<style scoped>\n",
       "    .dataframe tbody tr th:only-of-type {\n",
       "        vertical-align: middle;\n",
       "    }\n",
       "\n",
       "    .dataframe tbody tr th {\n",
       "        vertical-align: top;\n",
       "    }\n",
       "\n",
       "    .dataframe thead th {\n",
       "        text-align: right;\n",
       "    }\n",
       "</style>\n",
       "<table border=\"1\" class=\"dataframe\">\n",
       "  <thead>\n",
       "    <tr style=\"text-align: right;\">\n",
       "      <th></th>\n",
       "      <th>act_pow_mean</th>\n",
       "      <th>react_pow_mean</th>\n",
       "    </tr>\n",
       "    <tr>\n",
       "      <th>key</th>\n",
       "      <th></th>\n",
       "      <th></th>\n",
       "    </tr>\n",
       "  </thead>\n",
       "  <tbody>\n",
       "    <tr>\n",
       "      <td>1</td>\n",
       "      <td>0.975629</td>\n",
       "      <td>0.636648</td>\n",
       "    </tr>\n",
       "    <tr>\n",
       "      <td>2</td>\n",
       "      <td>0.763150</td>\n",
       "      <td>0.499528</td>\n",
       "    </tr>\n",
       "    <tr>\n",
       "      <td>3</td>\n",
       "      <td>0.505176</td>\n",
       "      <td>0.319815</td>\n",
       "    </tr>\n",
       "    <tr>\n",
       "      <td>4</td>\n",
       "      <td>0.802313</td>\n",
       "      <td>0.515074</td>\n",
       "    </tr>\n",
       "    <tr>\n",
       "      <td>5</td>\n",
       "      <td>0.836793</td>\n",
       "      <td>0.563161</td>\n",
       "    </tr>\n",
       "    <tr>\n",
       "      <td>...</td>\n",
       "      <td>...</td>\n",
       "      <td>...</td>\n",
       "    </tr>\n",
       "    <tr>\n",
       "      <td>3237</td>\n",
       "      <td>0.786493</td>\n",
       "      <td>0.565692</td>\n",
       "    </tr>\n",
       "    <tr>\n",
       "      <td>3238</td>\n",
       "      <td>0.702176</td>\n",
       "      <td>0.560394</td>\n",
       "    </tr>\n",
       "    <tr>\n",
       "      <td>3239</td>\n",
       "      <td>0.583344</td>\n",
       "      <td>0.388952</td>\n",
       "    </tr>\n",
       "    <tr>\n",
       "      <td>3240</td>\n",
       "      <td>0.596817</td>\n",
       "      <td>0.496653</td>\n",
       "    </tr>\n",
       "    <tr>\n",
       "      <td>3241</td>\n",
       "      <td>0.494289</td>\n",
       "      <td>0.339240</td>\n",
       "    </tr>\n",
       "  </tbody>\n",
       "</table>\n",
       "<p>3214 rows × 2 columns</p>\n",
       "</div>"
      ],
      "text/plain": [
       "      act_pow_mean  react_pow_mean\n",
       "key                               \n",
       "1         0.975629        0.636648\n",
       "2         0.763150        0.499528\n",
       "3         0.505176        0.319815\n",
       "4         0.802313        0.515074\n",
       "5         0.836793        0.563161\n",
       "...            ...             ...\n",
       "3237      0.786493        0.565692\n",
       "3238      0.702176        0.560394\n",
       "3239      0.583344        0.388952\n",
       "3240      0.596817        0.496653\n",
       "3241      0.494289        0.339240\n",
       "\n",
       "[3214 rows x 2 columns]"
      ]
     },
     "execution_count": 10,
     "metadata": {},
     "output_type": "execute_result"
    }
   ],
   "source": [
    "arc_pivot = data_arc.pivot_table(index='key', values=['active_power', 'reactive_power'], aggfunc='mean')\n",
    "arc_pivot.columns = ['act_pow_mean', 'react_pow_mean']\n",
    "arc_pivot"
   ]
  },
  {
   "cell_type": "code",
   "execution_count": 11,
   "metadata": {},
   "outputs": [
    {
     "data": {
      "text/html": [
       "<div>\n",
       "<style scoped>\n",
       "    .dataframe tbody tr th:only-of-type {\n",
       "        vertical-align: middle;\n",
       "    }\n",
       "\n",
       "    .dataframe tbody tr th {\n",
       "        vertical-align: top;\n",
       "    }\n",
       "\n",
       "    .dataframe thead th {\n",
       "        text-align: right;\n",
       "    }\n",
       "</style>\n",
       "<table border=\"1\" class=\"dataframe\">\n",
       "  <thead>\n",
       "    <tr style=\"text-align: right;\">\n",
       "      <th></th>\n",
       "      <th>act_pow_sum</th>\n",
       "      <th>react_pow_sum</th>\n",
       "    </tr>\n",
       "    <tr>\n",
       "      <th>key</th>\n",
       "      <th></th>\n",
       "      <th></th>\n",
       "    </tr>\n",
       "  </thead>\n",
       "  <tbody>\n",
       "    <tr>\n",
       "      <td>1</td>\n",
       "      <td>4.878147</td>\n",
       "      <td>3.183241</td>\n",
       "    </tr>\n",
       "    <tr>\n",
       "      <td>2</td>\n",
       "      <td>3.052598</td>\n",
       "      <td>1.998112</td>\n",
       "    </tr>\n",
       "    <tr>\n",
       "      <td>3</td>\n",
       "      <td>2.525882</td>\n",
       "      <td>1.599076</td>\n",
       "    </tr>\n",
       "    <tr>\n",
       "      <td>4</td>\n",
       "      <td>3.209250</td>\n",
       "      <td>2.060298</td>\n",
       "    </tr>\n",
       "    <tr>\n",
       "      <td>5</td>\n",
       "      <td>3.347173</td>\n",
       "      <td>2.252643</td>\n",
       "    </tr>\n",
       "    <tr>\n",
       "      <td>...</td>\n",
       "      <td>...</td>\n",
       "      <td>...</td>\n",
       "    </tr>\n",
       "    <tr>\n",
       "      <td>3237</td>\n",
       "      <td>3.932467</td>\n",
       "      <td>2.828459</td>\n",
       "    </tr>\n",
       "    <tr>\n",
       "      <td>3238</td>\n",
       "      <td>2.106529</td>\n",
       "      <td>1.681182</td>\n",
       "    </tr>\n",
       "    <tr>\n",
       "      <td>3239</td>\n",
       "      <td>4.666754</td>\n",
       "      <td>3.111617</td>\n",
       "    </tr>\n",
       "    <tr>\n",
       "      <td>3240</td>\n",
       "      <td>2.984083</td>\n",
       "      <td>2.483267</td>\n",
       "    </tr>\n",
       "    <tr>\n",
       "      <td>3241</td>\n",
       "      <td>2.471447</td>\n",
       "      <td>1.696199</td>\n",
       "    </tr>\n",
       "  </tbody>\n",
       "</table>\n",
       "<p>3214 rows × 2 columns</p>\n",
       "</div>"
      ],
      "text/plain": [
       "      act_pow_sum  react_pow_sum\n",
       "key                             \n",
       "1        4.878147       3.183241\n",
       "2        3.052598       1.998112\n",
       "3        2.525882       1.599076\n",
       "4        3.209250       2.060298\n",
       "5        3.347173       2.252643\n",
       "...           ...            ...\n",
       "3237     3.932467       2.828459\n",
       "3238     2.106529       1.681182\n",
       "3239     4.666754       3.111617\n",
       "3240     2.984083       2.483267\n",
       "3241     2.471447       1.696199\n",
       "\n",
       "[3214 rows x 2 columns]"
      ]
     },
     "execution_count": 11,
     "metadata": {},
     "output_type": "execute_result"
    }
   ],
   "source": [
    "arc_pivot_sum = data_arc.pivot_table(index='key', values=['active_power', 'reactive_power'], aggfunc='sum')\n",
    "arc_pivot_sum.columns = ['act_pow_sum', 'react_pow_sum']\n",
    "arc_pivot_sum"
   ]
  },
  {
   "cell_type": "code",
   "execution_count": 12,
   "metadata": {},
   "outputs": [
    {
     "data": {
      "text/html": [
       "<div>\n",
       "<style scoped>\n",
       "    .dataframe tbody tr th:only-of-type {\n",
       "        vertical-align: middle;\n",
       "    }\n",
       "\n",
       "    .dataframe tbody tr th {\n",
       "        vertical-align: top;\n",
       "    }\n",
       "\n",
       "    .dataframe thead th {\n",
       "        text-align: right;\n",
       "    }\n",
       "</style>\n",
       "<table border=\"1\" class=\"dataframe\">\n",
       "  <thead>\n",
       "    <tr style=\"text-align: right;\">\n",
       "      <th></th>\n",
       "      <th>iteracion</th>\n",
       "    </tr>\n",
       "    <tr>\n",
       "      <th>key</th>\n",
       "      <th></th>\n",
       "    </tr>\n",
       "  </thead>\n",
       "  <tbody>\n",
       "    <tr>\n",
       "      <td>1</td>\n",
       "      <td>5</td>\n",
       "    </tr>\n",
       "    <tr>\n",
       "      <td>2</td>\n",
       "      <td>4</td>\n",
       "    </tr>\n",
       "    <tr>\n",
       "      <td>3</td>\n",
       "      <td>5</td>\n",
       "    </tr>\n",
       "    <tr>\n",
       "      <td>4</td>\n",
       "      <td>4</td>\n",
       "    </tr>\n",
       "    <tr>\n",
       "      <td>5</td>\n",
       "      <td>4</td>\n",
       "    </tr>\n",
       "    <tr>\n",
       "      <td>...</td>\n",
       "      <td>...</td>\n",
       "    </tr>\n",
       "    <tr>\n",
       "      <td>3237</td>\n",
       "      <td>5</td>\n",
       "    </tr>\n",
       "    <tr>\n",
       "      <td>3238</td>\n",
       "      <td>3</td>\n",
       "    </tr>\n",
       "    <tr>\n",
       "      <td>3239</td>\n",
       "      <td>8</td>\n",
       "    </tr>\n",
       "    <tr>\n",
       "      <td>3240</td>\n",
       "      <td>5</td>\n",
       "    </tr>\n",
       "    <tr>\n",
       "      <td>3241</td>\n",
       "      <td>5</td>\n",
       "    </tr>\n",
       "  </tbody>\n",
       "</table>\n",
       "<p>3214 rows × 1 columns</p>\n",
       "</div>"
      ],
      "text/plain": [
       "      iteracion\n",
       "key            \n",
       "1             5\n",
       "2             4\n",
       "3             5\n",
       "4             4\n",
       "5             4\n",
       "...         ...\n",
       "3237          5\n",
       "3238          3\n",
       "3239          8\n",
       "3240          5\n",
       "3241          5\n",
       "\n",
       "[3214 rows x 1 columns]"
      ]
     },
     "execution_count": 12,
     "metadata": {},
     "output_type": "execute_result"
    }
   ],
   "source": [
    "arc_pivot_count = data_arc.pivot_table(index='key', values='active_power', aggfunc='count')\n",
    "arc_pivot_count.columns = ['iteracion']\n",
    "arc_pivot_count"
   ]
  },
  {
   "cell_type": "code",
   "execution_count": 13,
   "metadata": {},
   "outputs": [
    {
     "data": {
      "text/html": [
       "<div>\n",
       "<style scoped>\n",
       "    .dataframe tbody tr th:only-of-type {\n",
       "        vertical-align: middle;\n",
       "    }\n",
       "\n",
       "    .dataframe tbody tr th {\n",
       "        vertical-align: top;\n",
       "    }\n",
       "\n",
       "    .dataframe thead th {\n",
       "        text-align: right;\n",
       "    }\n",
       "</style>\n",
       "<table border=\"1\" class=\"dataframe\">\n",
       "  <thead>\n",
       "    <tr style=\"text-align: right;\">\n",
       "      <th></th>\n",
       "      <th>key</th>\n",
       "      <th>Bulk 1</th>\n",
       "      <th>Bulk 2</th>\n",
       "      <th>Bulk 3</th>\n",
       "      <th>Bulk 4</th>\n",
       "      <th>Bulk 5</th>\n",
       "      <th>Bulk 6</th>\n",
       "      <th>Bulk 7</th>\n",
       "      <th>Bulk 8</th>\n",
       "      <th>Bulk 9</th>\n",
       "      <th>Bulk 10</th>\n",
       "      <th>Bulk 11</th>\n",
       "      <th>Bulk 12</th>\n",
       "      <th>Bulk 13</th>\n",
       "      <th>Bulk 14</th>\n",
       "      <th>Bulk 15</th>\n",
       "    </tr>\n",
       "  </thead>\n",
       "  <tbody>\n",
       "    <tr>\n",
       "      <td>0</td>\n",
       "      <td>1</td>\n",
       "      <td>NaN</td>\n",
       "      <td>NaN</td>\n",
       "      <td>NaN</td>\n",
       "      <td>43.0</td>\n",
       "      <td>NaN</td>\n",
       "      <td>NaN</td>\n",
       "      <td>NaN</td>\n",
       "      <td>NaN</td>\n",
       "      <td>NaN</td>\n",
       "      <td>NaN</td>\n",
       "      <td>NaN</td>\n",
       "      <td>206.0</td>\n",
       "      <td>NaN</td>\n",
       "      <td>150.0</td>\n",
       "      <td>154.0</td>\n",
       "    </tr>\n",
       "    <tr>\n",
       "      <td>1</td>\n",
       "      <td>2</td>\n",
       "      <td>NaN</td>\n",
       "      <td>NaN</td>\n",
       "      <td>NaN</td>\n",
       "      <td>73.0</td>\n",
       "      <td>NaN</td>\n",
       "      <td>NaN</td>\n",
       "      <td>NaN</td>\n",
       "      <td>NaN</td>\n",
       "      <td>NaN</td>\n",
       "      <td>NaN</td>\n",
       "      <td>NaN</td>\n",
       "      <td>206.0</td>\n",
       "      <td>NaN</td>\n",
       "      <td>149.0</td>\n",
       "      <td>154.0</td>\n",
       "    </tr>\n",
       "    <tr>\n",
       "      <td>2</td>\n",
       "      <td>3</td>\n",
       "      <td>NaN</td>\n",
       "      <td>NaN</td>\n",
       "      <td>NaN</td>\n",
       "      <td>34.0</td>\n",
       "      <td>NaN</td>\n",
       "      <td>NaN</td>\n",
       "      <td>NaN</td>\n",
       "      <td>NaN</td>\n",
       "      <td>NaN</td>\n",
       "      <td>NaN</td>\n",
       "      <td>NaN</td>\n",
       "      <td>205.0</td>\n",
       "      <td>NaN</td>\n",
       "      <td>152.0</td>\n",
       "      <td>153.0</td>\n",
       "    </tr>\n",
       "    <tr>\n",
       "      <td>3</td>\n",
       "      <td>4</td>\n",
       "      <td>NaN</td>\n",
       "      <td>NaN</td>\n",
       "      <td>NaN</td>\n",
       "      <td>81.0</td>\n",
       "      <td>NaN</td>\n",
       "      <td>NaN</td>\n",
       "      <td>NaN</td>\n",
       "      <td>NaN</td>\n",
       "      <td>NaN</td>\n",
       "      <td>NaN</td>\n",
       "      <td>NaN</td>\n",
       "      <td>207.0</td>\n",
       "      <td>NaN</td>\n",
       "      <td>153.0</td>\n",
       "      <td>154.0</td>\n",
       "    </tr>\n",
       "    <tr>\n",
       "      <td>4</td>\n",
       "      <td>5</td>\n",
       "      <td>NaN</td>\n",
       "      <td>NaN</td>\n",
       "      <td>NaN</td>\n",
       "      <td>78.0</td>\n",
       "      <td>NaN</td>\n",
       "      <td>NaN</td>\n",
       "      <td>NaN</td>\n",
       "      <td>NaN</td>\n",
       "      <td>NaN</td>\n",
       "      <td>NaN</td>\n",
       "      <td>NaN</td>\n",
       "      <td>203.0</td>\n",
       "      <td>NaN</td>\n",
       "      <td>151.0</td>\n",
       "      <td>152.0</td>\n",
       "    </tr>\n",
       "  </tbody>\n",
       "</table>\n",
       "</div>"
      ],
      "text/plain": [
       "   key  Bulk 1  Bulk 2  Bulk 3  Bulk 4  Bulk 5  Bulk 6  Bulk 7  Bulk 8  \\\n",
       "0    1     NaN     NaN     NaN    43.0     NaN     NaN     NaN     NaN   \n",
       "1    2     NaN     NaN     NaN    73.0     NaN     NaN     NaN     NaN   \n",
       "2    3     NaN     NaN     NaN    34.0     NaN     NaN     NaN     NaN   \n",
       "3    4     NaN     NaN     NaN    81.0     NaN     NaN     NaN     NaN   \n",
       "4    5     NaN     NaN     NaN    78.0     NaN     NaN     NaN     NaN   \n",
       "\n",
       "   Bulk 9  Bulk 10  Bulk 11  Bulk 12  Bulk 13  Bulk 14  Bulk 15  \n",
       "0     NaN      NaN      NaN    206.0      NaN    150.0    154.0  \n",
       "1     NaN      NaN      NaN    206.0      NaN    149.0    154.0  \n",
       "2     NaN      NaN      NaN    205.0      NaN    152.0    153.0  \n",
       "3     NaN      NaN      NaN    207.0      NaN    153.0    154.0  \n",
       "4     NaN      NaN      NaN    203.0      NaN    151.0    152.0  "
      ]
     },
     "execution_count": 13,
     "metadata": {},
     "output_type": "execute_result"
    }
   ],
   "source": [
    "data_bulk = pd.read_csv()\n",
    "data_bulk.head()"
   ]
  },
  {
   "cell_type": "code",
   "execution_count": 14,
   "metadata": {},
   "outputs": [
    {
     "data": {
      "text/html": [
       "<div>\n",
       "<style scoped>\n",
       "    .dataframe tbody tr th:only-of-type {\n",
       "        vertical-align: middle;\n",
       "    }\n",
       "\n",
       "    .dataframe tbody tr th {\n",
       "        vertical-align: top;\n",
       "    }\n",
       "\n",
       "    .dataframe thead th {\n",
       "        text-align: right;\n",
       "    }\n",
       "</style>\n",
       "<table border=\"1\" class=\"dataframe\">\n",
       "  <thead>\n",
       "    <tr style=\"text-align: right;\">\n",
       "      <th></th>\n",
       "      <th>key</th>\n",
       "      <th>Bulk 1</th>\n",
       "      <th>Bulk 2</th>\n",
       "      <th>Bulk 3</th>\n",
       "      <th>Bulk 4</th>\n",
       "      <th>Bulk 5</th>\n",
       "      <th>Bulk 6</th>\n",
       "      <th>Bulk 7</th>\n",
       "      <th>Bulk 8</th>\n",
       "      <th>Bulk 9</th>\n",
       "      <th>Bulk 10</th>\n",
       "      <th>Bulk 11</th>\n",
       "      <th>Bulk 12</th>\n",
       "      <th>Bulk 13</th>\n",
       "      <th>Bulk 14</th>\n",
       "      <th>Bulk 15</th>\n",
       "    </tr>\n",
       "  </thead>\n",
       "  <tbody>\n",
       "    <tr>\n",
       "      <td>0</td>\n",
       "      <td>1</td>\n",
       "      <td>NaN</td>\n",
       "      <td>NaN</td>\n",
       "      <td>NaN</td>\n",
       "      <td>2019-05-03 11:21:30</td>\n",
       "      <td>NaN</td>\n",
       "      <td>NaN</td>\n",
       "      <td>NaN</td>\n",
       "      <td>NaN</td>\n",
       "      <td>NaN</td>\n",
       "      <td>NaN</td>\n",
       "      <td>NaN</td>\n",
       "      <td>2019-05-03 11:03:52</td>\n",
       "      <td>NaN</td>\n",
       "      <td>2019-05-03 11:03:52</td>\n",
       "      <td>2019-05-03 11:03:52</td>\n",
       "    </tr>\n",
       "    <tr>\n",
       "      <td>1</td>\n",
       "      <td>2</td>\n",
       "      <td>NaN</td>\n",
       "      <td>NaN</td>\n",
       "      <td>NaN</td>\n",
       "      <td>2019-05-03 11:46:38</td>\n",
       "      <td>NaN</td>\n",
       "      <td>NaN</td>\n",
       "      <td>NaN</td>\n",
       "      <td>NaN</td>\n",
       "      <td>NaN</td>\n",
       "      <td>NaN</td>\n",
       "      <td>NaN</td>\n",
       "      <td>2019-05-03 11:40:20</td>\n",
       "      <td>NaN</td>\n",
       "      <td>2019-05-03 11:40:20</td>\n",
       "      <td>2019-05-03 11:40:20</td>\n",
       "    </tr>\n",
       "    <tr>\n",
       "      <td>2</td>\n",
       "      <td>3</td>\n",
       "      <td>NaN</td>\n",
       "      <td>NaN</td>\n",
       "      <td>NaN</td>\n",
       "      <td>2019-05-03 12:31:06</td>\n",
       "      <td>NaN</td>\n",
       "      <td>NaN</td>\n",
       "      <td>NaN</td>\n",
       "      <td>NaN</td>\n",
       "      <td>NaN</td>\n",
       "      <td>NaN</td>\n",
       "      <td>NaN</td>\n",
       "      <td>2019-05-03 12:09:40</td>\n",
       "      <td>NaN</td>\n",
       "      <td>2019-05-03 12:09:40</td>\n",
       "      <td>2019-05-03 12:09:40</td>\n",
       "    </tr>\n",
       "    <tr>\n",
       "      <td>3</td>\n",
       "      <td>4</td>\n",
       "      <td>NaN</td>\n",
       "      <td>NaN</td>\n",
       "      <td>NaN</td>\n",
       "      <td>2019-05-03 12:48:43</td>\n",
       "      <td>NaN</td>\n",
       "      <td>NaN</td>\n",
       "      <td>NaN</td>\n",
       "      <td>NaN</td>\n",
       "      <td>NaN</td>\n",
       "      <td>NaN</td>\n",
       "      <td>NaN</td>\n",
       "      <td>2019-05-03 12:41:24</td>\n",
       "      <td>NaN</td>\n",
       "      <td>2019-05-03 12:41:24</td>\n",
       "      <td>2019-05-03 12:41:24</td>\n",
       "    </tr>\n",
       "    <tr>\n",
       "      <td>4</td>\n",
       "      <td>5</td>\n",
       "      <td>NaN</td>\n",
       "      <td>NaN</td>\n",
       "      <td>NaN</td>\n",
       "      <td>2019-05-03 13:18:50</td>\n",
       "      <td>NaN</td>\n",
       "      <td>NaN</td>\n",
       "      <td>NaN</td>\n",
       "      <td>NaN</td>\n",
       "      <td>NaN</td>\n",
       "      <td>NaN</td>\n",
       "      <td>NaN</td>\n",
       "      <td>2019-05-03 13:12:56</td>\n",
       "      <td>NaN</td>\n",
       "      <td>2019-05-03 13:12:56</td>\n",
       "      <td>2019-05-03 13:12:56</td>\n",
       "    </tr>\n",
       "  </tbody>\n",
       "</table>\n",
       "</div>"
      ],
      "text/plain": [
       "   key Bulk 1 Bulk 2 Bulk 3               Bulk 4 Bulk 5 Bulk 6 Bulk 7 Bulk 8  \\\n",
       "0    1    NaN    NaN    NaN  2019-05-03 11:21:30    NaN    NaN    NaN    NaN   \n",
       "1    2    NaN    NaN    NaN  2019-05-03 11:46:38    NaN    NaN    NaN    NaN   \n",
       "2    3    NaN    NaN    NaN  2019-05-03 12:31:06    NaN    NaN    NaN    NaN   \n",
       "3    4    NaN    NaN    NaN  2019-05-03 12:48:43    NaN    NaN    NaN    NaN   \n",
       "4    5    NaN    NaN    NaN  2019-05-03 13:18:50    NaN    NaN    NaN    NaN   \n",
       "\n",
       "  Bulk 9 Bulk 10 Bulk 11              Bulk 12 Bulk 13              Bulk 14  \\\n",
       "0    NaN     NaN     NaN  2019-05-03 11:03:52     NaN  2019-05-03 11:03:52   \n",
       "1    NaN     NaN     NaN  2019-05-03 11:40:20     NaN  2019-05-03 11:40:20   \n",
       "2    NaN     NaN     NaN  2019-05-03 12:09:40     NaN  2019-05-03 12:09:40   \n",
       "3    NaN     NaN     NaN  2019-05-03 12:41:24     NaN  2019-05-03 12:41:24   \n",
       "4    NaN     NaN     NaN  2019-05-03 13:12:56     NaN  2019-05-03 13:12:56   \n",
       "\n",
       "               Bulk 15  \n",
       "0  2019-05-03 11:03:52  \n",
       "1  2019-05-03 11:40:20  \n",
       "2  2019-05-03 12:09:40  \n",
       "3  2019-05-03 12:41:24  \n",
       "4  2019-05-03 13:12:56  "
      ]
     },
     "execution_count": 14,
     "metadata": {},
     "output_type": "execute_result"
    }
   ],
   "source": [
    "data_bulk_time = pd.read_csv()\n",
    "data_bulk_time.head()"
   ]
  },
  {
   "cell_type": "code",
   "execution_count": 15,
   "metadata": {},
   "outputs": [
    {
     "data": {
      "text/html": [
       "<div>\n",
       "<style scoped>\n",
       "    .dataframe tbody tr th:only-of-type {\n",
       "        vertical-align: middle;\n",
       "    }\n",
       "\n",
       "    .dataframe tbody tr th {\n",
       "        vertical-align: top;\n",
       "    }\n",
       "\n",
       "    .dataframe thead th {\n",
       "        text-align: right;\n",
       "    }\n",
       "</style>\n",
       "<table border=\"1\" class=\"dataframe\">\n",
       "  <thead>\n",
       "    <tr style=\"text-align: right;\">\n",
       "      <th></th>\n",
       "      <th>key</th>\n",
       "      <th>gas</th>\n",
       "    </tr>\n",
       "  </thead>\n",
       "  <tbody>\n",
       "    <tr>\n",
       "      <td>0</td>\n",
       "      <td>1</td>\n",
       "      <td>29.749986</td>\n",
       "    </tr>\n",
       "    <tr>\n",
       "      <td>1</td>\n",
       "      <td>2</td>\n",
       "      <td>12.555561</td>\n",
       "    </tr>\n",
       "    <tr>\n",
       "      <td>2</td>\n",
       "      <td>3</td>\n",
       "      <td>28.554793</td>\n",
       "    </tr>\n",
       "    <tr>\n",
       "      <td>3</td>\n",
       "      <td>4</td>\n",
       "      <td>18.841219</td>\n",
       "    </tr>\n",
       "    <tr>\n",
       "      <td>4</td>\n",
       "      <td>5</td>\n",
       "      <td>5.413692</td>\n",
       "    </tr>\n",
       "  </tbody>\n",
       "</table>\n",
       "</div>"
      ],
      "text/plain": [
       "   key        gas\n",
       "0    1  29.749986\n",
       "1    2  12.555561\n",
       "2    3  28.554793\n",
       "3    4  18.841219\n",
       "4    5   5.413692"
      ]
     },
     "execution_count": 15,
     "metadata": {},
     "output_type": "execute_result"
    }
   ],
   "source": [
    "data_gas = pd.read_csv()\n",
    "data_gas.columns = ['key', 'gas']\n",
    "data_gas.head()"
   ]
  },
  {
   "cell_type": "markdown",
   "metadata": {},
   "source": [
    "Проверим данные на пропуски"
   ]
  },
  {
   "cell_type": "code",
   "execution_count": 16,
   "metadata": {},
   "outputs": [
    {
     "data": {
      "text/plain": [
       "key    0\n",
       "gas    0\n",
       "dtype: int64"
      ]
     },
     "execution_count": 16,
     "metadata": {},
     "output_type": "execute_result"
    }
   ],
   "source": [
    "data_gas.isna().sum()"
   ]
  },
  {
   "cell_type": "code",
   "execution_count": 17,
   "metadata": {},
   "outputs": [
    {
     "name": "stdout",
     "output_type": "stream",
     "text": [
      "<class 'pandas.core.frame.DataFrame'>\n",
      "RangeIndex: 15907 entries, 0 to 15906\n",
      "Data columns (total 3 columns):\n",
      "key                 15907 non-null int64\n",
      "measurement_time    15907 non-null object\n",
      "temp                13006 non-null float64\n",
      "dtypes: float64(1), int64(1), object(1)\n",
      "memory usage: 372.9+ KB\n"
     ]
    },
    {
     "data": {
      "text/html": [
       "<div>\n",
       "<style scoped>\n",
       "    .dataframe tbody tr th:only-of-type {\n",
       "        vertical-align: middle;\n",
       "    }\n",
       "\n",
       "    .dataframe tbody tr th {\n",
       "        vertical-align: top;\n",
       "    }\n",
       "\n",
       "    .dataframe thead th {\n",
       "        text-align: right;\n",
       "    }\n",
       "</style>\n",
       "<table border=\"1\" class=\"dataframe\">\n",
       "  <thead>\n",
       "    <tr style=\"text-align: right;\">\n",
       "      <th></th>\n",
       "      <th>key</th>\n",
       "      <th>measurement_time</th>\n",
       "      <th>temp</th>\n",
       "    </tr>\n",
       "  </thead>\n",
       "  <tbody>\n",
       "    <tr>\n",
       "      <td>0</td>\n",
       "      <td>1</td>\n",
       "      <td>2019-05-03 11:16:18</td>\n",
       "      <td>1571.0</td>\n",
       "    </tr>\n",
       "    <tr>\n",
       "      <td>1</td>\n",
       "      <td>1</td>\n",
       "      <td>2019-05-03 11:25:53</td>\n",
       "      <td>1604.0</td>\n",
       "    </tr>\n",
       "    <tr>\n",
       "      <td>2</td>\n",
       "      <td>1</td>\n",
       "      <td>2019-05-03 11:29:11</td>\n",
       "      <td>1618.0</td>\n",
       "    </tr>\n",
       "    <tr>\n",
       "      <td>3</td>\n",
       "      <td>1</td>\n",
       "      <td>2019-05-03 11:30:01</td>\n",
       "      <td>1601.0</td>\n",
       "    </tr>\n",
       "    <tr>\n",
       "      <td>4</td>\n",
       "      <td>1</td>\n",
       "      <td>2019-05-03 11:30:39</td>\n",
       "      <td>1613.0</td>\n",
       "    </tr>\n",
       "    <tr>\n",
       "      <td>...</td>\n",
       "      <td>...</td>\n",
       "      <td>...</td>\n",
       "      <td>...</td>\n",
       "    </tr>\n",
       "    <tr>\n",
       "      <td>15902</td>\n",
       "      <td>3241</td>\n",
       "      <td>2019-09-01 04:03:30</td>\n",
       "      <td>1586.0</td>\n",
       "    </tr>\n",
       "    <tr>\n",
       "      <td>15903</td>\n",
       "      <td>3241</td>\n",
       "      <td>2019-09-01 04:16:12</td>\n",
       "      <td>NaN</td>\n",
       "    </tr>\n",
       "    <tr>\n",
       "      <td>15904</td>\n",
       "      <td>3241</td>\n",
       "      <td>2019-09-01 04:22:39</td>\n",
       "      <td>NaN</td>\n",
       "    </tr>\n",
       "    <tr>\n",
       "      <td>15905</td>\n",
       "      <td>3241</td>\n",
       "      <td>2019-09-01 04:33:42</td>\n",
       "      <td>NaN</td>\n",
       "    </tr>\n",
       "    <tr>\n",
       "      <td>15906</td>\n",
       "      <td>3241</td>\n",
       "      <td>2019-09-01 04:38:08</td>\n",
       "      <td>NaN</td>\n",
       "    </tr>\n",
       "  </tbody>\n",
       "</table>\n",
       "<p>15907 rows × 3 columns</p>\n",
       "</div>"
      ],
      "text/plain": [
       "        key     measurement_time    temp\n",
       "0         1  2019-05-03 11:16:18  1571.0\n",
       "1         1  2019-05-03 11:25:53  1604.0\n",
       "2         1  2019-05-03 11:29:11  1618.0\n",
       "3         1  2019-05-03 11:30:01  1601.0\n",
       "4         1  2019-05-03 11:30:39  1613.0\n",
       "...     ...                  ...     ...\n",
       "15902  3241  2019-09-01 04:03:30  1586.0\n",
       "15903  3241  2019-09-01 04:16:12     NaN\n",
       "15904  3241  2019-09-01 04:22:39     NaN\n",
       "15905  3241  2019-09-01 04:33:42     NaN\n",
       "15906  3241  2019-09-01 04:38:08     NaN\n",
       "\n",
       "[15907 rows x 3 columns]"
      ]
     },
     "execution_count": 17,
     "metadata": {},
     "output_type": "execute_result"
    }
   ],
   "source": [
    "data_temp = pd.read_csv()\n",
    "data_temp.columns = ['key', 'measurement_time', 'temp']\n",
    "data_temp.info()\n",
    "data_temp"
   ]
  },
  {
   "cell_type": "markdown",
   "metadata": {},
   "source": [
    "Исправим тип данных столбцов"
   ]
  },
  {
   "cell_type": "code",
   "execution_count": 18,
   "metadata": {},
   "outputs": [],
   "source": [
    "data_temp['measurement_time'] = pd.to_datetime(data_temp['measurement_time'])"
   ]
  },
  {
   "cell_type": "markdown",
   "metadata": {},
   "source": [
    "Проверим данные на пропуски"
   ]
  },
  {
   "cell_type": "code",
   "execution_count": 19,
   "metadata": {},
   "outputs": [
    {
     "data": {
      "text/plain": [
       "key                    0\n",
       "measurement_time       0\n",
       "temp                2901\n",
       "dtype: int64"
      ]
     },
     "execution_count": 19,
     "metadata": {},
     "output_type": "execute_result"
    }
   ],
   "source": [
    "data_temp.isna().sum()"
   ]
  },
  {
   "cell_type": "markdown",
   "metadata": {},
   "source": [
    "Также посмотрим на распределение температуры"
   ]
  },
  {
   "cell_type": "code",
   "execution_count": 20,
   "metadata": {},
   "outputs": [
    {
     "data": {
      "text/plain": [
       "<matplotlib.axes._subplots.AxesSubplot at 0x7fbcafdfe750>"
      ]
     },
     "execution_count": 20,
     "metadata": {},
     "output_type": "execute_result"
    },
    {
     "data": {
      "image/png": "[encoded data removed]",
      "text/plain": [
       "<Figure size 1224x360 with 1 Axes>"
      ]
     },
     "metadata": {
      "needs_background": "light"
     },
     "output_type": "display_data"
    }
   ],
   "source": [
    "plt.figure(figsize=(17, 5))\n",
    "data_temp['temp'].plot()"
   ]
  },
  {
   "cell_type": "markdown",
   "metadata": {},
   "source": [
    "Также заметим, что есть выбросы, удалим их, так же как и партии с пропущенными значениями"
   ]
  },
  {
   "cell_type": "markdown",
   "metadata": {},
   "source": [
    "Заполним пропуски \"ключем\", чтобы посмотреть, откуда начинаются пропуски."
   ]
  },
  {
   "cell_type": "code",
   "execution_count": 21,
   "metadata": {},
   "outputs": [
    {
     "data": {
      "text/html": [
       "<div>\n",
       "<style scoped>\n",
       "    .dataframe tbody tr th:only-of-type {\n",
       "        vertical-align: middle;\n",
       "    }\n",
       "\n",
       "    .dataframe tbody tr th {\n",
       "        vertical-align: top;\n",
       "    }\n",
       "\n",
       "    .dataframe thead th {\n",
       "        text-align: right;\n",
       "    }\n",
       "</style>\n",
       "<table border=\"1\" class=\"dataframe\">\n",
       "  <thead>\n",
       "    <tr style=\"text-align: right;\">\n",
       "      <th></th>\n",
       "      <th>key</th>\n",
       "      <th>measurement_time</th>\n",
       "      <th>temp</th>\n",
       "    </tr>\n",
       "  </thead>\n",
       "  <tbody>\n",
       "    <tr>\n",
       "      <td>12268</td>\n",
       "      <td>2500</td>\n",
       "      <td>2019-08-06 03:24:43</td>\n",
       "      <td>112233.0</td>\n",
       "    </tr>\n",
       "    <tr>\n",
       "      <td>12269</td>\n",
       "      <td>2500</td>\n",
       "      <td>2019-08-06 03:25:16</td>\n",
       "      <td>112233.0</td>\n",
       "    </tr>\n",
       "    <tr>\n",
       "      <td>12270</td>\n",
       "      <td>2500</td>\n",
       "      <td>2019-08-06 03:28:21</td>\n",
       "      <td>112233.0</td>\n",
       "    </tr>\n",
       "    <tr>\n",
       "      <td>12272</td>\n",
       "      <td>2501</td>\n",
       "      <td>2019-08-06 04:01:59</td>\n",
       "      <td>112233.0</td>\n",
       "    </tr>\n",
       "    <tr>\n",
       "      <td>12273</td>\n",
       "      <td>2501</td>\n",
       "      <td>2019-08-06 04:14:35</td>\n",
       "      <td>112233.0</td>\n",
       "    </tr>\n",
       "    <tr>\n",
       "      <td>...</td>\n",
       "      <td>...</td>\n",
       "      <td>...</td>\n",
       "      <td>...</td>\n",
       "    </tr>\n",
       "    <tr>\n",
       "      <td>15901</td>\n",
       "      <td>3240</td>\n",
       "      <td>2019-09-01 03:35:16</td>\n",
       "      <td>112233.0</td>\n",
       "    </tr>\n",
       "    <tr>\n",
       "      <td>15903</td>\n",
       "      <td>3241</td>\n",
       "      <td>2019-09-01 04:16:12</td>\n",
       "      <td>112233.0</td>\n",
       "    </tr>\n",
       "    <tr>\n",
       "      <td>15904</td>\n",
       "      <td>3241</td>\n",
       "      <td>2019-09-01 04:22:39</td>\n",
       "      <td>112233.0</td>\n",
       "    </tr>\n",
       "    <tr>\n",
       "      <td>15905</td>\n",
       "      <td>3241</td>\n",
       "      <td>2019-09-01 04:33:42</td>\n",
       "      <td>112233.0</td>\n",
       "    </tr>\n",
       "    <tr>\n",
       "      <td>15906</td>\n",
       "      <td>3241</td>\n",
       "      <td>2019-09-01 04:38:08</td>\n",
       "      <td>112233.0</td>\n",
       "    </tr>\n",
       "  </tbody>\n",
       "</table>\n",
       "<p>2901 rows × 3 columns</p>\n",
       "</div>"
      ],
      "text/plain": [
       "        key    measurement_time      temp\n",
       "12268  2500 2019-08-06 03:24:43  112233.0\n",
       "12269  2500 2019-08-06 03:25:16  112233.0\n",
       "12270  2500 2019-08-06 03:28:21  112233.0\n",
       "12272  2501 2019-08-06 04:01:59  112233.0\n",
       "12273  2501 2019-08-06 04:14:35  112233.0\n",
       "...     ...                 ...       ...\n",
       "15901  3240 2019-09-01 03:35:16  112233.0\n",
       "15903  3241 2019-09-01 04:16:12  112233.0\n",
       "15904  3241 2019-09-01 04:22:39  112233.0\n",
       "15905  3241 2019-09-01 04:33:42  112233.0\n",
       "15906  3241 2019-09-01 04:38:08  112233.0\n",
       "\n",
       "[2901 rows x 3 columns]"
      ]
     },
     "execution_count": 21,
     "metadata": {},
     "output_type": "execute_result"
    }
   ],
   "source": [
    "data_temp_new = data_temp.fillna(112233)\n",
    "data_temp_key = data_temp_new.query('temp == 112233')\n",
    "data_temp_key"
   ]
  },
  {
   "cell_type": "markdown",
   "metadata": {},
   "source": [
    "Пропущенные значения идут после 2500 партии или 12268 индекса"
   ]
  },
  {
   "cell_type": "markdown",
   "metadata": {},
   "source": [
    "Теперь мы можем удалить пропущенные данные, включая партию, и выбросы"
   ]
  },
  {
   "cell_type": "code",
   "execution_count": 22,
   "metadata": {},
   "outputs": [
    {
     "data": {
      "text/html": [
       "<div>\n",
       "<style scoped>\n",
       "    .dataframe tbody tr th:only-of-type {\n",
       "        vertical-align: middle;\n",
       "    }\n",
       "\n",
       "    .dataframe tbody tr th {\n",
       "        vertical-align: top;\n",
       "    }\n",
       "\n",
       "    .dataframe thead th {\n",
       "        text-align: right;\n",
       "    }\n",
       "</style>\n",
       "<table border=\"1\" class=\"dataframe\">\n",
       "  <thead>\n",
       "    <tr style=\"text-align: right;\">\n",
       "      <th></th>\n",
       "      <th>key</th>\n",
       "      <th>measurement_time</th>\n",
       "      <th>temp</th>\n",
       "    </tr>\n",
       "  </thead>\n",
       "  <tbody>\n",
       "    <tr>\n",
       "      <td>0</td>\n",
       "      <td>1</td>\n",
       "      <td>2019-05-03 11:16:18</td>\n",
       "      <td>1571.0</td>\n",
       "    </tr>\n",
       "    <tr>\n",
       "      <td>1</td>\n",
       "      <td>1</td>\n",
       "      <td>2019-05-03 11:25:53</td>\n",
       "      <td>1604.0</td>\n",
       "    </tr>\n",
       "    <tr>\n",
       "      <td>2</td>\n",
       "      <td>1</td>\n",
       "      <td>2019-05-03 11:29:11</td>\n",
       "      <td>1618.0</td>\n",
       "    </tr>\n",
       "    <tr>\n",
       "      <td>3</td>\n",
       "      <td>1</td>\n",
       "      <td>2019-05-03 11:30:01</td>\n",
       "      <td>1601.0</td>\n",
       "    </tr>\n",
       "    <tr>\n",
       "      <td>4</td>\n",
       "      <td>1</td>\n",
       "      <td>2019-05-03 11:30:39</td>\n",
       "      <td>1613.0</td>\n",
       "    </tr>\n",
       "    <tr>\n",
       "      <td>...</td>\n",
       "      <td>...</td>\n",
       "      <td>...</td>\n",
       "      <td>...</td>\n",
       "    </tr>\n",
       "    <tr>\n",
       "      <td>12262</td>\n",
       "      <td>2498</td>\n",
       "      <td>2019-08-06 02:19:26</td>\n",
       "      <td>1593.0</td>\n",
       "    </tr>\n",
       "    <tr>\n",
       "      <td>12263</td>\n",
       "      <td>2498</td>\n",
       "      <td>2019-08-06 02:25:31</td>\n",
       "      <td>1594.0</td>\n",
       "    </tr>\n",
       "    <tr>\n",
       "      <td>12264</td>\n",
       "      <td>2499</td>\n",
       "      <td>2019-08-06 02:40:25</td>\n",
       "      <td>1569.0</td>\n",
       "    </tr>\n",
       "    <tr>\n",
       "      <td>12265</td>\n",
       "      <td>2499</td>\n",
       "      <td>2019-08-06 02:54:24</td>\n",
       "      <td>1604.0</td>\n",
       "    </tr>\n",
       "    <tr>\n",
       "      <td>12266</td>\n",
       "      <td>2499</td>\n",
       "      <td>2019-08-06 03:00:28</td>\n",
       "      <td>1603.0</td>\n",
       "    </tr>\n",
       "  </tbody>\n",
       "</table>\n",
       "<p>12261 rows × 3 columns</p>\n",
       "</div>"
      ],
      "text/plain": [
       "        key    measurement_time    temp\n",
       "0         1 2019-05-03 11:16:18  1571.0\n",
       "1         1 2019-05-03 11:25:53  1604.0\n",
       "2         1 2019-05-03 11:29:11  1618.0\n",
       "3         1 2019-05-03 11:30:01  1601.0\n",
       "4         1 2019-05-03 11:30:39  1613.0\n",
       "...     ...                 ...     ...\n",
       "12262  2498 2019-08-06 02:19:26  1593.0\n",
       "12263  2498 2019-08-06 02:25:31  1594.0\n",
       "12264  2499 2019-08-06 02:40:25  1569.0\n",
       "12265  2499 2019-08-06 02:54:24  1604.0\n",
       "12266  2499 2019-08-06 03:00:28  1603.0\n",
       "\n",
       "[12261 rows x 3 columns]"
      ]
     },
     "execution_count": 22,
     "metadata": {},
     "output_type": "execute_result"
    }
   ],
   "source": [
    "data_temp = data_temp.query('key < 2500')\n",
    "data_temp = data_temp.query('temp > 1500')\n",
    "data_temp"
   ]
  },
  {
   "cell_type": "code",
   "execution_count": 23,
   "metadata": {},
   "outputs": [
    {
     "data": {
      "text/html": [
       "<div>\n",
       "<style scoped>\n",
       "    .dataframe tbody tr th:only-of-type {\n",
       "        vertical-align: middle;\n",
       "    }\n",
       "\n",
       "    .dataframe tbody tr th {\n",
       "        vertical-align: top;\n",
       "    }\n",
       "\n",
       "    .dataframe thead th {\n",
       "        text-align: right;\n",
       "    }\n",
       "</style>\n",
       "<table border=\"1\" class=\"dataframe\">\n",
       "  <thead>\n",
       "    <tr style=\"text-align: right;\">\n",
       "      <th></th>\n",
       "      <th>key</th>\n",
       "      <th>Wire 1</th>\n",
       "      <th>Wire 2</th>\n",
       "      <th>Wire 3</th>\n",
       "      <th>Wire 4</th>\n",
       "      <th>Wire 5</th>\n",
       "      <th>Wire 6</th>\n",
       "      <th>Wire 7</th>\n",
       "      <th>Wire 8</th>\n",
       "      <th>Wire 9</th>\n",
       "    </tr>\n",
       "  </thead>\n",
       "  <tbody>\n",
       "    <tr>\n",
       "      <td>0</td>\n",
       "      <td>1</td>\n",
       "      <td>60.059998</td>\n",
       "      <td>NaN</td>\n",
       "      <td>NaN</td>\n",
       "      <td>NaN</td>\n",
       "      <td>NaN</td>\n",
       "      <td>NaN</td>\n",
       "      <td>NaN</td>\n",
       "      <td>NaN</td>\n",
       "      <td>NaN</td>\n",
       "    </tr>\n",
       "    <tr>\n",
       "      <td>1</td>\n",
       "      <td>2</td>\n",
       "      <td>96.052315</td>\n",
       "      <td>NaN</td>\n",
       "      <td>NaN</td>\n",
       "      <td>NaN</td>\n",
       "      <td>NaN</td>\n",
       "      <td>NaN</td>\n",
       "      <td>NaN</td>\n",
       "      <td>NaN</td>\n",
       "      <td>NaN</td>\n",
       "    </tr>\n",
       "    <tr>\n",
       "      <td>2</td>\n",
       "      <td>3</td>\n",
       "      <td>91.160157</td>\n",
       "      <td>NaN</td>\n",
       "      <td>NaN</td>\n",
       "      <td>NaN</td>\n",
       "      <td>NaN</td>\n",
       "      <td>NaN</td>\n",
       "      <td>NaN</td>\n",
       "      <td>NaN</td>\n",
       "      <td>NaN</td>\n",
       "    </tr>\n",
       "    <tr>\n",
       "      <td>3</td>\n",
       "      <td>4</td>\n",
       "      <td>89.063515</td>\n",
       "      <td>NaN</td>\n",
       "      <td>NaN</td>\n",
       "      <td>NaN</td>\n",
       "      <td>NaN</td>\n",
       "      <td>NaN</td>\n",
       "      <td>NaN</td>\n",
       "      <td>NaN</td>\n",
       "      <td>NaN</td>\n",
       "    </tr>\n",
       "    <tr>\n",
       "      <td>4</td>\n",
       "      <td>5</td>\n",
       "      <td>89.238236</td>\n",
       "      <td>9.11456</td>\n",
       "      <td>NaN</td>\n",
       "      <td>NaN</td>\n",
       "      <td>NaN</td>\n",
       "      <td>NaN</td>\n",
       "      <td>NaN</td>\n",
       "      <td>NaN</td>\n",
       "      <td>NaN</td>\n",
       "    </tr>\n",
       "    <tr>\n",
       "      <td>...</td>\n",
       "      <td>...</td>\n",
       "      <td>...</td>\n",
       "      <td>...</td>\n",
       "      <td>...</td>\n",
       "      <td>...</td>\n",
       "      <td>...</td>\n",
       "      <td>...</td>\n",
       "      <td>...</td>\n",
       "      <td>...</td>\n",
       "      <td>...</td>\n",
       "    </tr>\n",
       "    <tr>\n",
       "      <td>3076</td>\n",
       "      <td>3237</td>\n",
       "      <td>38.088959</td>\n",
       "      <td>NaN</td>\n",
       "      <td>NaN</td>\n",
       "      <td>NaN</td>\n",
       "      <td>NaN</td>\n",
       "      <td>NaN</td>\n",
       "      <td>NaN</td>\n",
       "      <td>NaN</td>\n",
       "      <td>NaN</td>\n",
       "    </tr>\n",
       "    <tr>\n",
       "      <td>3077</td>\n",
       "      <td>3238</td>\n",
       "      <td>56.128799</td>\n",
       "      <td>NaN</td>\n",
       "      <td>NaN</td>\n",
       "      <td>NaN</td>\n",
       "      <td>NaN</td>\n",
       "      <td>NaN</td>\n",
       "      <td>NaN</td>\n",
       "      <td>NaN</td>\n",
       "      <td>NaN</td>\n",
       "    </tr>\n",
       "    <tr>\n",
       "      <td>3078</td>\n",
       "      <td>3239</td>\n",
       "      <td>143.357761</td>\n",
       "      <td>NaN</td>\n",
       "      <td>NaN</td>\n",
       "      <td>NaN</td>\n",
       "      <td>NaN</td>\n",
       "      <td>NaN</td>\n",
       "      <td>NaN</td>\n",
       "      <td>NaN</td>\n",
       "      <td>NaN</td>\n",
       "    </tr>\n",
       "    <tr>\n",
       "      <td>3079</td>\n",
       "      <td>3240</td>\n",
       "      <td>34.070400</td>\n",
       "      <td>NaN</td>\n",
       "      <td>NaN</td>\n",
       "      <td>NaN</td>\n",
       "      <td>NaN</td>\n",
       "      <td>NaN</td>\n",
       "      <td>NaN</td>\n",
       "      <td>NaN</td>\n",
       "      <td>NaN</td>\n",
       "    </tr>\n",
       "    <tr>\n",
       "      <td>3080</td>\n",
       "      <td>3241</td>\n",
       "      <td>63.117595</td>\n",
       "      <td>NaN</td>\n",
       "      <td>NaN</td>\n",
       "      <td>NaN</td>\n",
       "      <td>NaN</td>\n",
       "      <td>NaN</td>\n",
       "      <td>NaN</td>\n",
       "      <td>NaN</td>\n",
       "      <td>NaN</td>\n",
       "    </tr>\n",
       "  </tbody>\n",
       "</table>\n",
       "<p>3081 rows × 10 columns</p>\n",
       "</div>"
      ],
      "text/plain": [
       "       key      Wire 1   Wire 2  Wire 3  Wire 4  Wire 5  Wire 6  Wire 7  \\\n",
       "0        1   60.059998      NaN     NaN     NaN     NaN     NaN     NaN   \n",
       "1        2   96.052315      NaN     NaN     NaN     NaN     NaN     NaN   \n",
       "2        3   91.160157      NaN     NaN     NaN     NaN     NaN     NaN   \n",
       "3        4   89.063515      NaN     NaN     NaN     NaN     NaN     NaN   \n",
       "4        5   89.238236  9.11456     NaN     NaN     NaN     NaN     NaN   \n",
       "...    ...         ...      ...     ...     ...     ...     ...     ...   \n",
       "3076  3237   38.088959      NaN     NaN     NaN     NaN     NaN     NaN   \n",
       "3077  3238   56.128799      NaN     NaN     NaN     NaN     NaN     NaN   \n",
       "3078  3239  143.357761      NaN     NaN     NaN     NaN     NaN     NaN   \n",
       "3079  3240   34.070400      NaN     NaN     NaN     NaN     NaN     NaN   \n",
       "3080  3241   63.117595      NaN     NaN     NaN     NaN     NaN     NaN   \n",
       "\n",
       "      Wire 8  Wire 9  \n",
       "0        NaN     NaN  \n",
       "1        NaN     NaN  \n",
       "2        NaN     NaN  \n",
       "3        NaN     NaN  \n",
       "4        NaN     NaN  \n",
       "...      ...     ...  \n",
       "3076     NaN     NaN  \n",
       "3077     NaN     NaN  \n",
       "3078     NaN     NaN  \n",
       "3079     NaN     NaN  \n",
       "3080     NaN     NaN  \n",
       "\n",
       "[3081 rows x 10 columns]"
      ]
     },
     "execution_count": 23,
     "metadata": {},
     "output_type": "execute_result"
    }
   ],
   "source": [
    "data_wire = pd.read_csv()\n",
    "data_wire"
   ]
  },
  {
   "cell_type": "code",
   "execution_count": 25,
   "metadata": {},
   "outputs": [
    {
     "data": {
      "text/html": [
       "<div>\n",
       "<style scoped>\n",
       "    .dataframe tbody tr th:only-of-type {\n",
       "        vertical-align: middle;\n",
       "    }\n",
       "\n",
       "    .dataframe tbody tr th {\n",
       "        vertical-align: top;\n",
       "    }\n",
       "\n",
       "    .dataframe thead th {\n",
       "        text-align: right;\n",
       "    }\n",
       "</style>\n",
       "<table border=\"1\" class=\"dataframe\">\n",
       "  <thead>\n",
       "    <tr style=\"text-align: right;\">\n",
       "      <th></th>\n",
       "      <th>key</th>\n",
       "      <th>Wire 1</th>\n",
       "      <th>Wire 2</th>\n",
       "      <th>Wire 3</th>\n",
       "      <th>Wire 4</th>\n",
       "      <th>Wire 5</th>\n",
       "      <th>Wire 6</th>\n",
       "      <th>Wire 7</th>\n",
       "      <th>Wire 8</th>\n",
       "      <th>Wire 9</th>\n",
       "    </tr>\n",
       "  </thead>\n",
       "  <tbody>\n",
       "    <tr>\n",
       "      <td>0</td>\n",
       "      <td>1</td>\n",
       "      <td>2019-05-03 11:11:41</td>\n",
       "      <td>NaN</td>\n",
       "      <td>NaN</td>\n",
       "      <td>NaN</td>\n",
       "      <td>NaN</td>\n",
       "      <td>NaN</td>\n",
       "      <td>NaN</td>\n",
       "      <td>NaN</td>\n",
       "      <td>NaN</td>\n",
       "    </tr>\n",
       "    <tr>\n",
       "      <td>1</td>\n",
       "      <td>2</td>\n",
       "      <td>2019-05-03 11:46:10</td>\n",
       "      <td>NaN</td>\n",
       "      <td>NaN</td>\n",
       "      <td>NaN</td>\n",
       "      <td>NaN</td>\n",
       "      <td>NaN</td>\n",
       "      <td>NaN</td>\n",
       "      <td>NaN</td>\n",
       "      <td>NaN</td>\n",
       "    </tr>\n",
       "    <tr>\n",
       "      <td>2</td>\n",
       "      <td>3</td>\n",
       "      <td>2019-05-03 12:13:47</td>\n",
       "      <td>NaN</td>\n",
       "      <td>NaN</td>\n",
       "      <td>NaN</td>\n",
       "      <td>NaN</td>\n",
       "      <td>NaN</td>\n",
       "      <td>NaN</td>\n",
       "      <td>NaN</td>\n",
       "      <td>NaN</td>\n",
       "    </tr>\n",
       "    <tr>\n",
       "      <td>3</td>\n",
       "      <td>4</td>\n",
       "      <td>2019-05-03 12:48:05</td>\n",
       "      <td>NaN</td>\n",
       "      <td>NaN</td>\n",
       "      <td>NaN</td>\n",
       "      <td>NaN</td>\n",
       "      <td>NaN</td>\n",
       "      <td>NaN</td>\n",
       "      <td>NaN</td>\n",
       "      <td>NaN</td>\n",
       "    </tr>\n",
       "    <tr>\n",
       "      <td>4</td>\n",
       "      <td>5</td>\n",
       "      <td>2019-05-03 13:18:15</td>\n",
       "      <td>2019-05-03 13:32:06</td>\n",
       "      <td>NaN</td>\n",
       "      <td>NaN</td>\n",
       "      <td>NaN</td>\n",
       "      <td>NaN</td>\n",
       "      <td>NaN</td>\n",
       "      <td>NaN</td>\n",
       "      <td>NaN</td>\n",
       "    </tr>\n",
       "  </tbody>\n",
       "</table>\n",
       "</div>"
      ],
      "text/plain": [
       "   key               Wire 1               Wire 2 Wire 3 Wire 4 Wire 5 Wire 6  \\\n",
       "0    1  2019-05-03 11:11:41                  NaN    NaN    NaN    NaN    NaN   \n",
       "1    2  2019-05-03 11:46:10                  NaN    NaN    NaN    NaN    NaN   \n",
       "2    3  2019-05-03 12:13:47                  NaN    NaN    NaN    NaN    NaN   \n",
       "3    4  2019-05-03 12:48:05                  NaN    NaN    NaN    NaN    NaN   \n",
       "4    5  2019-05-03 13:18:15  2019-05-03 13:32:06    NaN    NaN    NaN    NaN   \n",
       "\n",
       "  Wire 7 Wire 8 Wire 9  \n",
       "0    NaN    NaN    NaN  \n",
       "1    NaN    NaN    NaN  \n",
       "2    NaN    NaN    NaN  \n",
       "3    NaN    NaN    NaN  \n",
       "4    NaN    NaN    NaN  "
      ]
     },
     "execution_count": 25,
     "metadata": {},
     "output_type": "execute_result"
    }
   ],
   "source": [
    "data_wire_time = pd.read_csv('/datasets/final_steel/data_wire_time.csv')\n",
    "data_wire_time.head()"
   ]
  },
  {
   "cell_type": "markdown",
   "metadata": {},
   "source": [
    "Перейдем к объединению таблиц, будем использовать метод `merge`, объединять будем не все таблицы, исключим `data_wire_time` и `data_bulk_time`"
   ]
  },
  {
   "cell_type": "code",
   "execution_count": 47,
   "metadata": {},
   "outputs": [],
   "source": [
    "data_merge = data_arc[['key', 'start_of_arc_heating']].drop_duplicates(subset='key', keep='first').merge(arc_pivot, on='key')\n",
    "data_merge = data_merge. merge(data_arc[['key', 'end_of_arc_heating']].drop_duplicates(subset='key', keep='last'), on='key')\n",
    "data_merge = data_merge.merge(arc_pivot_sum, on='key')\n",
    "data_merge = data_merge.merge(data_temp.drop_duplicates(subset='key', keep='first'), on='key')\n",
    "data_merge = data_merge.merge(data_gas, on='key')\n",
    "data_merge = data_merge.merge(data_wire, on='key')\n",
    "data_merge = data_merge.merge(data_bulk, on='key')\n",
    "data_merge = data_merge.merge(arc_pivot_count, on='key')"
   ]
  },
  {
   "cell_type": "code",
   "execution_count": 48,
   "metadata": {},
   "outputs": [],
   "source": [
    "# пропущенные значения заполним 0, он не повлияет на результатирующую метрику\n",
    "data_merge.fillna(0, inplace=True)"
   ]
  },
  {
   "cell_type": "code",
   "execution_count": 49,
   "metadata": {},
   "outputs": [
    {
     "data": {
      "text/html": [
       "<div>\n",
       "<style scoped>\n",
       "    .dataframe tbody tr th:only-of-type {\n",
       "        vertical-align: middle;\n",
       "    }\n",
       "\n",
       "    .dataframe tbody tr th {\n",
       "        vertical-align: top;\n",
       "    }\n",
       "\n",
       "    .dataframe thead th {\n",
       "        text-align: right;\n",
       "    }\n",
       "</style>\n",
       "<table border=\"1\" class=\"dataframe\">\n",
       "  <thead>\n",
       "    <tr style=\"text-align: right;\">\n",
       "      <th></th>\n",
       "      <th>key</th>\n",
       "      <th>start_of_arc_heating</th>\n",
       "      <th>act_pow_mean</th>\n",
       "      <th>react_pow_mean</th>\n",
       "      <th>end_of_arc_heating</th>\n",
       "      <th>act_pow_sum</th>\n",
       "      <th>react_pow_sum</th>\n",
       "      <th>measurement_time</th>\n",
       "      <th>temp</th>\n",
       "      <th>gas</th>\n",
       "      <th>...</th>\n",
       "      <th>Bulk 7</th>\n",
       "      <th>Bulk 8</th>\n",
       "      <th>Bulk 9</th>\n",
       "      <th>Bulk 10</th>\n",
       "      <th>Bulk 11</th>\n",
       "      <th>Bulk 12</th>\n",
       "      <th>Bulk 13</th>\n",
       "      <th>Bulk 14</th>\n",
       "      <th>Bulk 15</th>\n",
       "      <th>iteracion</th>\n",
       "    </tr>\n",
       "  </thead>\n",
       "  <tbody>\n",
       "    <tr>\n",
       "      <td>0</td>\n",
       "      <td>1</td>\n",
       "      <td>2019-05-03 11:02:14</td>\n",
       "      <td>0.975629</td>\n",
       "      <td>0.636648</td>\n",
       "      <td>2019-05-03 11:28:37</td>\n",
       "      <td>4.878147</td>\n",
       "      <td>3.183241</td>\n",
       "      <td>2019-05-03 11:16:18</td>\n",
       "      <td>1571.0</td>\n",
       "      <td>29.749986</td>\n",
       "      <td>...</td>\n",
       "      <td>0.0</td>\n",
       "      <td>0.0</td>\n",
       "      <td>0.0</td>\n",
       "      <td>0.0</td>\n",
       "      <td>0.0</td>\n",
       "      <td>206.0</td>\n",
       "      <td>0.0</td>\n",
       "      <td>150.0</td>\n",
       "      <td>154.0</td>\n",
       "      <td>5</td>\n",
       "    </tr>\n",
       "    <tr>\n",
       "      <td>1</td>\n",
       "      <td>2</td>\n",
       "      <td>2019-05-03 11:34:14</td>\n",
       "      <td>0.763150</td>\n",
       "      <td>0.499528</td>\n",
       "      <td>2019-05-03 11:53:18</td>\n",
       "      <td>3.052598</td>\n",
       "      <td>1.998112</td>\n",
       "      <td>2019-05-03 11:37:27</td>\n",
       "      <td>1581.0</td>\n",
       "      <td>12.555561</td>\n",
       "      <td>...</td>\n",
       "      <td>0.0</td>\n",
       "      <td>0.0</td>\n",
       "      <td>0.0</td>\n",
       "      <td>0.0</td>\n",
       "      <td>0.0</td>\n",
       "      <td>206.0</td>\n",
       "      <td>0.0</td>\n",
       "      <td>149.0</td>\n",
       "      <td>154.0</td>\n",
       "      <td>4</td>\n",
       "    </tr>\n",
       "    <tr>\n",
       "      <td>2</td>\n",
       "      <td>3</td>\n",
       "      <td>2019-05-03 12:06:54</td>\n",
       "      <td>0.505176</td>\n",
       "      <td>0.319815</td>\n",
       "      <td>2019-05-03 12:32:19</td>\n",
       "      <td>2.525882</td>\n",
       "      <td>1.599076</td>\n",
       "      <td>2019-05-03 12:13:17</td>\n",
       "      <td>1596.0</td>\n",
       "      <td>28.554793</td>\n",
       "      <td>...</td>\n",
       "      <td>0.0</td>\n",
       "      <td>0.0</td>\n",
       "      <td>0.0</td>\n",
       "      <td>0.0</td>\n",
       "      <td>0.0</td>\n",
       "      <td>205.0</td>\n",
       "      <td>0.0</td>\n",
       "      <td>152.0</td>\n",
       "      <td>153.0</td>\n",
       "      <td>5</td>\n",
       "    </tr>\n",
       "    <tr>\n",
       "      <td>3</td>\n",
       "      <td>4</td>\n",
       "      <td>2019-05-03 12:39:37</td>\n",
       "      <td>0.802313</td>\n",
       "      <td>0.515074</td>\n",
       "      <td>2019-05-03 12:57:50</td>\n",
       "      <td>3.209250</td>\n",
       "      <td>2.060298</td>\n",
       "      <td>2019-05-03 12:52:57</td>\n",
       "      <td>1601.0</td>\n",
       "      <td>18.841219</td>\n",
       "      <td>...</td>\n",
       "      <td>0.0</td>\n",
       "      <td>0.0</td>\n",
       "      <td>0.0</td>\n",
       "      <td>0.0</td>\n",
       "      <td>0.0</td>\n",
       "      <td>207.0</td>\n",
       "      <td>0.0</td>\n",
       "      <td>153.0</td>\n",
       "      <td>154.0</td>\n",
       "      <td>4</td>\n",
       "    </tr>\n",
       "    <tr>\n",
       "      <td>4</td>\n",
       "      <td>5</td>\n",
       "      <td>2019-05-03 13:11:13</td>\n",
       "      <td>0.836793</td>\n",
       "      <td>0.563161</td>\n",
       "      <td>2019-05-03 13:33:55</td>\n",
       "      <td>3.347173</td>\n",
       "      <td>2.252643</td>\n",
       "      <td>2019-05-03 13:23:19</td>\n",
       "      <td>1576.0</td>\n",
       "      <td>5.413692</td>\n",
       "      <td>...</td>\n",
       "      <td>0.0</td>\n",
       "      <td>0.0</td>\n",
       "      <td>0.0</td>\n",
       "      <td>0.0</td>\n",
       "      <td>0.0</td>\n",
       "      <td>203.0</td>\n",
       "      <td>0.0</td>\n",
       "      <td>151.0</td>\n",
       "      <td>152.0</td>\n",
       "      <td>4</td>\n",
       "    </tr>\n",
       "  </tbody>\n",
       "</table>\n",
       "<p>5 rows × 35 columns</p>\n",
       "</div>"
      ],
      "text/plain": [
       "   key start_of_arc_heating  act_pow_mean  react_pow_mean  end_of_arc_heating  \\\n",
       "0    1  2019-05-03 11:02:14      0.975629        0.636648 2019-05-03 11:28:37   \n",
       "1    2  2019-05-03 11:34:14      0.763150        0.499528 2019-05-03 11:53:18   \n",
       "2    3  2019-05-03 12:06:54      0.505176        0.319815 2019-05-03 12:32:19   \n",
       "3    4  2019-05-03 12:39:37      0.802313        0.515074 2019-05-03 12:57:50   \n",
       "4    5  2019-05-03 13:11:13      0.836793        0.563161 2019-05-03 13:33:55   \n",
       "\n",
       "   act_pow_sum  react_pow_sum    measurement_time    temp        gas  ...  \\\n",
       "0     4.878147       3.183241 2019-05-03 11:16:18  1571.0  29.749986  ...   \n",
       "1     3.052598       1.998112 2019-05-03 11:37:27  1581.0  12.555561  ...   \n",
       "2     2.525882       1.599076 2019-05-03 12:13:17  1596.0  28.554793  ...   \n",
       "3     3.209250       2.060298 2019-05-03 12:52:57  1601.0  18.841219  ...   \n",
       "4     3.347173       2.252643 2019-05-03 13:23:19  1576.0   5.413692  ...   \n",
       "\n",
       "   Bulk 7  Bulk 8  Bulk 9  Bulk 10  Bulk 11  Bulk 12  Bulk 13  Bulk 14  \\\n",
       "0     0.0     0.0     0.0      0.0      0.0    206.0      0.0    150.0   \n",
       "1     0.0     0.0     0.0      0.0      0.0    206.0      0.0    149.0   \n",
       "2     0.0     0.0     0.0      0.0      0.0    205.0      0.0    152.0   \n",
       "3     0.0     0.0     0.0      0.0      0.0    207.0      0.0    153.0   \n",
       "4     0.0     0.0     0.0      0.0      0.0    203.0      0.0    151.0   \n",
       "\n",
       "   Bulk 15  iteracion  \n",
       "0    154.0          5  \n",
       "1    154.0          4  \n",
       "2    153.0          5  \n",
       "3    154.0          4  \n",
       "4    152.0          4  \n",
       "\n",
       "[5 rows x 35 columns]"
      ]
     },
     "execution_count": 49,
     "metadata": {},
     "output_type": "execute_result"
    }
   ],
   "source": [
    "data_merge.head()"
   ]
  },
  {
   "cell_type": "markdown",
   "metadata": {},
   "source": [
    "Создадим дополнительные признаки для лучшего обучения моделей"
   ]
  },
  {
   "cell_type": "code",
   "execution_count": 50,
   "metadata": {
    "scrolled": false
   },
   "outputs": [
    {
     "data": {
      "text/html": [
       "<div>\n",
       "<style scoped>\n",
       "    .dataframe tbody tr th:only-of-type {\n",
       "        vertical-align: middle;\n",
       "    }\n",
       "\n",
       "    .dataframe tbody tr th {\n",
       "        vertical-align: top;\n",
       "    }\n",
       "\n",
       "    .dataframe thead th {\n",
       "        text-align: right;\n",
       "    }\n",
       "</style>\n",
       "<table border=\"1\" class=\"dataframe\">\n",
       "  <thead>\n",
       "    <tr style=\"text-align: right;\">\n",
       "      <th></th>\n",
       "      <th>key</th>\n",
       "      <th>start_of_arc_heating</th>\n",
       "      <th>act_pow_mean</th>\n",
       "      <th>react_pow_mean</th>\n",
       "      <th>end_of_arc_heating</th>\n",
       "      <th>act_pow_sum</th>\n",
       "      <th>react_pow_sum</th>\n",
       "      <th>measurement_time</th>\n",
       "      <th>temp_x</th>\n",
       "      <th>gas</th>\n",
       "      <th>...</th>\n",
       "      <th>Bulk 12</th>\n",
       "      <th>Bulk 13</th>\n",
       "      <th>Bulk 14</th>\n",
       "      <th>Bulk 15</th>\n",
       "      <th>iteracion</th>\n",
       "      <th>duration_of_heating</th>\n",
       "      <th>first_measuring_time</th>\n",
       "      <th>raznica_pow_mean</th>\n",
       "      <th>temp_y</th>\n",
       "      <th>temp_formula</th>\n",
       "    </tr>\n",
       "  </thead>\n",
       "  <tbody>\n",
       "    <tr>\n",
       "      <td>0</td>\n",
       "      <td>1</td>\n",
       "      <td>2019-05-03 11:02:14</td>\n",
       "      <td>0.975629</td>\n",
       "      <td>0.636648</td>\n",
       "      <td>2019-05-03 11:28:37</td>\n",
       "      <td>4.878147</td>\n",
       "      <td>3.183241</td>\n",
       "      <td>2019-05-03 11:16:18</td>\n",
       "      <td>1571.0</td>\n",
       "      <td>29.749986</td>\n",
       "      <td>...</td>\n",
       "      <td>206.0</td>\n",
       "      <td>0.0</td>\n",
       "      <td>150.0</td>\n",
       "      <td>154.0</td>\n",
       "      <td>5</td>\n",
       "      <td>1583.0</td>\n",
       "      <td>844.0</td>\n",
       "      <td>0.338981</td>\n",
       "      <td>1613.0</td>\n",
       "      <td>269.704689</td>\n",
       "    </tr>\n",
       "    <tr>\n",
       "      <td>1</td>\n",
       "      <td>2</td>\n",
       "      <td>2019-05-03 11:34:14</td>\n",
       "      <td>0.763150</td>\n",
       "      <td>0.499528</td>\n",
       "      <td>2019-05-03 11:53:18</td>\n",
       "      <td>3.052598</td>\n",
       "      <td>1.998112</td>\n",
       "      <td>2019-05-03 11:37:27</td>\n",
       "      <td>1581.0</td>\n",
       "      <td>12.555561</td>\n",
       "      <td>...</td>\n",
       "      <td>206.0</td>\n",
       "      <td>0.0</td>\n",
       "      <td>149.0</td>\n",
       "      <td>154.0</td>\n",
       "      <td>4</td>\n",
       "      <td>1144.0</td>\n",
       "      <td>193.0</td>\n",
       "      <td>0.263622</td>\n",
       "      <td>1602.0</td>\n",
       "      <td>433.340909</td>\n",
       "    </tr>\n",
       "    <tr>\n",
       "      <td>2</td>\n",
       "      <td>3</td>\n",
       "      <td>2019-05-03 12:06:54</td>\n",
       "      <td>0.505176</td>\n",
       "      <td>0.319815</td>\n",
       "      <td>2019-05-03 12:32:19</td>\n",
       "      <td>2.525882</td>\n",
       "      <td>1.599076</td>\n",
       "      <td>2019-05-03 12:13:17</td>\n",
       "      <td>1596.0</td>\n",
       "      <td>28.554793</td>\n",
       "      <td>...</td>\n",
       "      <td>205.0</td>\n",
       "      <td>0.0</td>\n",
       "      <td>152.0</td>\n",
       "      <td>153.0</td>\n",
       "      <td>5</td>\n",
       "      <td>1525.0</td>\n",
       "      <td>383.0</td>\n",
       "      <td>0.185361</td>\n",
       "      <td>1599.0</td>\n",
       "      <td>533.868101</td>\n",
       "    </tr>\n",
       "    <tr>\n",
       "      <td>3</td>\n",
       "      <td>4</td>\n",
       "      <td>2019-05-03 12:39:37</td>\n",
       "      <td>0.802313</td>\n",
       "      <td>0.515074</td>\n",
       "      <td>2019-05-03 12:57:50</td>\n",
       "      <td>3.209250</td>\n",
       "      <td>2.060298</td>\n",
       "      <td>2019-05-03 12:52:57</td>\n",
       "      <td>1601.0</td>\n",
       "      <td>18.841219</td>\n",
       "      <td>...</td>\n",
       "      <td>207.0</td>\n",
       "      <td>0.0</td>\n",
       "      <td>153.0</td>\n",
       "      <td>154.0</td>\n",
       "      <td>4</td>\n",
       "      <td>1093.0</td>\n",
       "      <td>800.0</td>\n",
       "      <td>0.287238</td>\n",
       "      <td>1625.0</td>\n",
       "      <td>419.805108</td>\n",
       "    </tr>\n",
       "    <tr>\n",
       "      <td>4</td>\n",
       "      <td>5</td>\n",
       "      <td>2019-05-03 13:11:13</td>\n",
       "      <td>0.836793</td>\n",
       "      <td>0.563161</td>\n",
       "      <td>2019-05-03 13:33:55</td>\n",
       "      <td>3.347173</td>\n",
       "      <td>2.252643</td>\n",
       "      <td>2019-05-03 13:23:19</td>\n",
       "      <td>1576.0</td>\n",
       "      <td>5.413692</td>\n",
       "      <td>...</td>\n",
       "      <td>203.0</td>\n",
       "      <td>0.0</td>\n",
       "      <td>151.0</td>\n",
       "      <td>152.0</td>\n",
       "      <td>4</td>\n",
       "      <td>1362.0</td>\n",
       "      <td>726.0</td>\n",
       "      <td>0.273633</td>\n",
       "      <td>1602.0</td>\n",
       "      <td>390.621520</td>\n",
       "    </tr>\n",
       "    <tr>\n",
       "      <td>...</td>\n",
       "      <td>...</td>\n",
       "      <td>...</td>\n",
       "      <td>...</td>\n",
       "      <td>...</td>\n",
       "      <td>...</td>\n",
       "      <td>...</td>\n",
       "      <td>...</td>\n",
       "      <td>...</td>\n",
       "      <td>...</td>\n",
       "      <td>...</td>\n",
       "      <td>...</td>\n",
       "      <td>...</td>\n",
       "      <td>...</td>\n",
       "      <td>...</td>\n",
       "      <td>...</td>\n",
       "      <td>...</td>\n",
       "      <td>...</td>\n",
       "      <td>...</td>\n",
       "      <td>...</td>\n",
       "      <td>...</td>\n",
       "      <td>...</td>\n",
       "    </tr>\n",
       "    <tr>\n",
       "      <td>2324</td>\n",
       "      <td>2495</td>\n",
       "      <td>2019-08-06 00:31:05</td>\n",
       "      <td>0.802673</td>\n",
       "      <td>0.590194</td>\n",
       "      <td>2019-08-06 00:51:13</td>\n",
       "      <td>3.210690</td>\n",
       "      <td>2.360777</td>\n",
       "      <td>2019-08-06 00:35:45</td>\n",
       "      <td>1570.0</td>\n",
       "      <td>7.125735</td>\n",
       "      <td>...</td>\n",
       "      <td>256.0</td>\n",
       "      <td>0.0</td>\n",
       "      <td>129.0</td>\n",
       "      <td>223.0</td>\n",
       "      <td>4</td>\n",
       "      <td>1208.0</td>\n",
       "      <td>280.0</td>\n",
       "      <td>0.212478</td>\n",
       "      <td>1591.0</td>\n",
       "      <td>393.957910</td>\n",
       "    </tr>\n",
       "    <tr>\n",
       "      <td>2325</td>\n",
       "      <td>2496</td>\n",
       "      <td>2019-08-06 01:00:06</td>\n",
       "      <td>0.700511</td>\n",
       "      <td>0.468364</td>\n",
       "      <td>2019-08-06 01:23:32</td>\n",
       "      <td>4.203064</td>\n",
       "      <td>2.810185</td>\n",
       "      <td>2019-08-06 01:02:54</td>\n",
       "      <td>1554.0</td>\n",
       "      <td>9.412616</td>\n",
       "      <td>...</td>\n",
       "      <td>256.0</td>\n",
       "      <td>0.0</td>\n",
       "      <td>129.0</td>\n",
       "      <td>226.0</td>\n",
       "      <td>6</td>\n",
       "      <td>1406.0</td>\n",
       "      <td>168.0</td>\n",
       "      <td>0.232147</td>\n",
       "      <td>1591.0</td>\n",
       "      <td>307.359076</td>\n",
       "    </tr>\n",
       "    <tr>\n",
       "      <td>2326</td>\n",
       "      <td>2497</td>\n",
       "      <td>2019-08-06 01:38:01</td>\n",
       "      <td>0.737460</td>\n",
       "      <td>0.617090</td>\n",
       "      <td>2019-08-06 01:50:45</td>\n",
       "      <td>2.212379</td>\n",
       "      <td>1.851269</td>\n",
       "      <td>2019-08-06 01:41:53</td>\n",
       "      <td>1571.0</td>\n",
       "      <td>6.271699</td>\n",
       "      <td>...</td>\n",
       "      <td>230.0</td>\n",
       "      <td>0.0</td>\n",
       "      <td>124.0</td>\n",
       "      <td>226.0</td>\n",
       "      <td>3</td>\n",
       "      <td>764.0</td>\n",
       "      <td>232.0</td>\n",
       "      <td>0.120370</td>\n",
       "      <td>1589.0</td>\n",
       "      <td>544.586747</td>\n",
       "    </tr>\n",
       "    <tr>\n",
       "      <td>2327</td>\n",
       "      <td>2498</td>\n",
       "      <td>2019-08-06 01:57:46</td>\n",
       "      <td>0.681745</td>\n",
       "      <td>0.471086</td>\n",
       "      <td>2019-08-06 02:20:24</td>\n",
       "      <td>3.408725</td>\n",
       "      <td>2.355428</td>\n",
       "      <td>2019-08-06 02:03:49</td>\n",
       "      <td>1591.0</td>\n",
       "      <td>14.953657</td>\n",
       "      <td>...</td>\n",
       "      <td>206.0</td>\n",
       "      <td>0.0</td>\n",
       "      <td>129.0</td>\n",
       "      <td>207.0</td>\n",
       "      <td>5</td>\n",
       "      <td>1358.0</td>\n",
       "      <td>363.0</td>\n",
       "      <td>0.210659</td>\n",
       "      <td>1594.0</td>\n",
       "      <td>383.987660</td>\n",
       "    </tr>\n",
       "    <tr>\n",
       "      <td>2328</td>\n",
       "      <td>2499</td>\n",
       "      <td>2019-08-06 02:32:56</td>\n",
       "      <td>1.024608</td>\n",
       "      <td>0.694466</td>\n",
       "      <td>2019-08-06 02:55:42</td>\n",
       "      <td>4.098431</td>\n",
       "      <td>2.777865</td>\n",
       "      <td>2019-08-06 02:40:25</td>\n",
       "      <td>1569.0</td>\n",
       "      <td>11.336151</td>\n",
       "      <td>...</td>\n",
       "      <td>233.0</td>\n",
       "      <td>0.0</td>\n",
       "      <td>126.0</td>\n",
       "      <td>227.0</td>\n",
       "      <td>4</td>\n",
       "      <td>1366.0</td>\n",
       "      <td>449.0</td>\n",
       "      <td>0.330141</td>\n",
       "      <td>1603.0</td>\n",
       "      <td>316.897476</td>\n",
       "    </tr>\n",
       "  </tbody>\n",
       "</table>\n",
       "<p>2329 rows × 40 columns</p>\n",
       "</div>"
      ],
      "text/plain": [
       "       key start_of_arc_heating  act_pow_mean  react_pow_mean  \\\n",
       "0        1  2019-05-03 11:02:14      0.975629        0.636648   \n",
       "1        2  2019-05-03 11:34:14      0.763150        0.499528   \n",
       "2        3  2019-05-03 12:06:54      0.505176        0.319815   \n",
       "3        4  2019-05-03 12:39:37      0.802313        0.515074   \n",
       "4        5  2019-05-03 13:11:13      0.836793        0.563161   \n",
       "...    ...                  ...           ...             ...   \n",
       "2324  2495  2019-08-06 00:31:05      0.802673        0.590194   \n",
       "2325  2496  2019-08-06 01:00:06      0.700511        0.468364   \n",
       "2326  2497  2019-08-06 01:38:01      0.737460        0.617090   \n",
       "2327  2498  2019-08-06 01:57:46      0.681745        0.471086   \n",
       "2328  2499  2019-08-06 02:32:56      1.024608        0.694466   \n",
       "\n",
       "      end_of_arc_heating  act_pow_sum  react_pow_sum    measurement_time  \\\n",
       "0    2019-05-03 11:28:37     4.878147       3.183241 2019-05-03 11:16:18   \n",
       "1    2019-05-03 11:53:18     3.052598       1.998112 2019-05-03 11:37:27   \n",
       "2    2019-05-03 12:32:19     2.525882       1.599076 2019-05-03 12:13:17   \n",
       "3    2019-05-03 12:57:50     3.209250       2.060298 2019-05-03 12:52:57   \n",
       "4    2019-05-03 13:33:55     3.347173       2.252643 2019-05-03 13:23:19   \n",
       "...                  ...          ...            ...                 ...   \n",
       "2324 2019-08-06 00:51:13     3.210690       2.360777 2019-08-06 00:35:45   \n",
       "2325 2019-08-06 01:23:32     4.203064       2.810185 2019-08-06 01:02:54   \n",
       "2326 2019-08-06 01:50:45     2.212379       1.851269 2019-08-06 01:41:53   \n",
       "2327 2019-08-06 02:20:24     3.408725       2.355428 2019-08-06 02:03:49   \n",
       "2328 2019-08-06 02:55:42     4.098431       2.777865 2019-08-06 02:40:25   \n",
       "\n",
       "      temp_x        gas  ...  Bulk 12  Bulk 13  Bulk 14  Bulk 15  iteracion  \\\n",
       "0     1571.0  29.749986  ...    206.0      0.0    150.0    154.0          5   \n",
       "1     1581.0  12.555561  ...    206.0      0.0    149.0    154.0          4   \n",
       "2     1596.0  28.554793  ...    205.0      0.0    152.0    153.0          5   \n",
       "3     1601.0  18.841219  ...    207.0      0.0    153.0    154.0          4   \n",
       "4     1576.0   5.413692  ...    203.0      0.0    151.0    152.0          4   \n",
       "...      ...        ...  ...      ...      ...      ...      ...        ...   \n",
       "2324  1570.0   7.125735  ...    256.0      0.0    129.0    223.0          4   \n",
       "2325  1554.0   9.412616  ...    256.0      0.0    129.0    226.0          6   \n",
       "2326  1571.0   6.271699  ...    230.0      0.0    124.0    226.0          3   \n",
       "2327  1591.0  14.953657  ...    206.0      0.0    129.0    207.0          5   \n",
       "2328  1569.0  11.336151  ...    233.0      0.0    126.0    227.0          4   \n",
       "\n",
       "      duration_of_heating  first_measuring_time  raznica_pow_mean  temp_y  \\\n",
       "0                  1583.0                 844.0          0.338981  1613.0   \n",
       "1                  1144.0                 193.0          0.263622  1602.0   \n",
       "2                  1525.0                 383.0          0.185361  1599.0   \n",
       "3                  1093.0                 800.0          0.287238  1625.0   \n",
       "4                  1362.0                 726.0          0.273633  1602.0   \n",
       "...                   ...                   ...               ...     ...   \n",
       "2324               1208.0                 280.0          0.212478  1591.0   \n",
       "2325               1406.0                 168.0          0.232147  1591.0   \n",
       "2326                764.0                 232.0          0.120370  1589.0   \n",
       "2327               1358.0                 363.0          0.210659  1594.0   \n",
       "2328               1366.0                 449.0          0.330141  1603.0   \n",
       "\n",
       "      temp_formula  \n",
       "0       269.704689  \n",
       "1       433.340909  \n",
       "2       533.868101  \n",
       "3       419.805108  \n",
       "4       390.621520  \n",
       "...            ...  \n",
       "2324    393.957910  \n",
       "2325    307.359076  \n",
       "2326    544.586747  \n",
       "2327    383.987660  \n",
       "2328    316.897476  \n",
       "\n",
       "[2329 rows x 40 columns]"
      ]
     },
     "execution_count": 50,
     "metadata": {},
     "output_type": "execute_result"
    }
   ],
   "source": [
    "# суммарная продолжительность нагрева в секундах\n",
    "data_merge['duration_of_heating'] = data_merge['end_of_arc_heating'] - data_merge['start_of_arc_heating']\n",
    "data_merge['duration_of_heating'] = data_merge['duration_of_heating'].dt.total_seconds()\n",
    "\n",
    "# время первого замера температуры в секундах \n",
    "data_merge['first_measuring_time'] = data_merge['measurement_time'] - data_merge['start_of_arc_heating']\n",
    "data_merge['first_measuring_time'] = data_merge['first_measuring_time'].dt.total_seconds()\n",
    "\n",
    "# разница активной и реактивной мощности, средняя, сколько тратиться мощности на нагрев\n",
    "data_merge['raznica_pow_mean'] = data_merge['act_pow_mean'] - data_merge['react_pow_mean']\n",
    "\n",
    "# таргет\n",
    "data_merge = data_merge.merge(data_temp[['key', 'temp']].drop_duplicates(subset='key', keep='last'), on='key')\n",
    "\n",
    "# формула полной мощности через активную и реактивную мощность\n",
    "data_merge['temp_formula'] = data_merge['temp_x'] / (((data_merge['act_pow_sum']**2) + (data_merge['react_pow_sum']**2))**0.5)\n",
    "data_merge"
   ]
  },
  {
   "cell_type": "markdown",
   "metadata": {},
   "source": [
    "Проверим наши признаки на мультиколлинеарность, и если у нас она есть, то удалим часть признаков, которые меньше скоррелированы с таргетом."
   ]
  },
  {
   "cell_type": "code",
   "execution_count": 51,
   "metadata": {},
   "outputs": [
    {
     "data": {
      "text/plain": [
       "<matplotlib.axes._subplots.AxesSubplot at 0x7fbca750d790>"
      ]
     },
     "execution_count": 51,
     "metadata": {},
     "output_type": "execute_result"
    },
    {
     "data": {
      "image/png": "[encoded data removed]",
      "text/plain": [
       "<Figure size 1440x1080 with 2 Axes>"
      ]
     },
     "metadata": {
      "needs_background": "light"
     },
     "output_type": "display_data"
    }
   ],
   "source": [
    "plt.figure(figsize=(20,15))\n",
    "sns.heatmap(data_merge.corr(), annot=True, fmt=\".2f\", linewidths=.5, cmap= 'coolwarm') "
   ]
  },
  {
   "cell_type": "markdown",
   "metadata": {},
   "source": [
    "Удалим признаки `react_pow_mean`, `react_pow_sum` и `Wire 8`"
   ]
  },
  {
   "cell_type": "code",
   "execution_count": 52,
   "metadata": {},
   "outputs": [
    {
     "data": {
      "text/html": [
       "<div>\n",
       "<style scoped>\n",
       "    .dataframe tbody tr th:only-of-type {\n",
       "        vertical-align: middle;\n",
       "    }\n",
       "\n",
       "    .dataframe tbody tr th {\n",
       "        vertical-align: top;\n",
       "    }\n",
       "\n",
       "    .dataframe thead th {\n",
       "        text-align: right;\n",
       "    }\n",
       "</style>\n",
       "<table border=\"1\" class=\"dataframe\">\n",
       "  <thead>\n",
       "    <tr style=\"text-align: right;\">\n",
       "      <th></th>\n",
       "      <th>key</th>\n",
       "      <th>start_of_arc_heating</th>\n",
       "      <th>act_pow_mean</th>\n",
       "      <th>end_of_arc_heating</th>\n",
       "      <th>act_pow_sum</th>\n",
       "      <th>measurement_time</th>\n",
       "      <th>temp_x</th>\n",
       "      <th>gas</th>\n",
       "      <th>Wire 1</th>\n",
       "      <th>Wire 2</th>\n",
       "      <th>...</th>\n",
       "      <th>Bulk 12</th>\n",
       "      <th>Bulk 13</th>\n",
       "      <th>Bulk 14</th>\n",
       "      <th>Bulk 15</th>\n",
       "      <th>iteracion</th>\n",
       "      <th>duration_of_heating</th>\n",
       "      <th>first_measuring_time</th>\n",
       "      <th>raznica_pow_mean</th>\n",
       "      <th>temp_y</th>\n",
       "      <th>temp_formula</th>\n",
       "    </tr>\n",
       "  </thead>\n",
       "  <tbody>\n",
       "    <tr>\n",
       "      <td>0</td>\n",
       "      <td>1</td>\n",
       "      <td>2019-05-03 11:02:14</td>\n",
       "      <td>0.975629</td>\n",
       "      <td>2019-05-03 11:28:37</td>\n",
       "      <td>4.878147</td>\n",
       "      <td>2019-05-03 11:16:18</td>\n",
       "      <td>1571.0</td>\n",
       "      <td>29.749986</td>\n",
       "      <td>60.059998</td>\n",
       "      <td>0.00000</td>\n",
       "      <td>...</td>\n",
       "      <td>206.0</td>\n",
       "      <td>0.0</td>\n",
       "      <td>150.0</td>\n",
       "      <td>154.0</td>\n",
       "      <td>5</td>\n",
       "      <td>1583.0</td>\n",
       "      <td>844.0</td>\n",
       "      <td>0.338981</td>\n",
       "      <td>1613.0</td>\n",
       "      <td>269.704689</td>\n",
       "    </tr>\n",
       "    <tr>\n",
       "      <td>1</td>\n",
       "      <td>2</td>\n",
       "      <td>2019-05-03 11:34:14</td>\n",
       "      <td>0.763150</td>\n",
       "      <td>2019-05-03 11:53:18</td>\n",
       "      <td>3.052598</td>\n",
       "      <td>2019-05-03 11:37:27</td>\n",
       "      <td>1581.0</td>\n",
       "      <td>12.555561</td>\n",
       "      <td>96.052315</td>\n",
       "      <td>0.00000</td>\n",
       "      <td>...</td>\n",
       "      <td>206.0</td>\n",
       "      <td>0.0</td>\n",
       "      <td>149.0</td>\n",
       "      <td>154.0</td>\n",
       "      <td>4</td>\n",
       "      <td>1144.0</td>\n",
       "      <td>193.0</td>\n",
       "      <td>0.263622</td>\n",
       "      <td>1602.0</td>\n",
       "      <td>433.340909</td>\n",
       "    </tr>\n",
       "    <tr>\n",
       "      <td>2</td>\n",
       "      <td>3</td>\n",
       "      <td>2019-05-03 12:06:54</td>\n",
       "      <td>0.505176</td>\n",
       "      <td>2019-05-03 12:32:19</td>\n",
       "      <td>2.525882</td>\n",
       "      <td>2019-05-03 12:13:17</td>\n",
       "      <td>1596.0</td>\n",
       "      <td>28.554793</td>\n",
       "      <td>91.160157</td>\n",
       "      <td>0.00000</td>\n",
       "      <td>...</td>\n",
       "      <td>205.0</td>\n",
       "      <td>0.0</td>\n",
       "      <td>152.0</td>\n",
       "      <td>153.0</td>\n",
       "      <td>5</td>\n",
       "      <td>1525.0</td>\n",
       "      <td>383.0</td>\n",
       "      <td>0.185361</td>\n",
       "      <td>1599.0</td>\n",
       "      <td>533.868101</td>\n",
       "    </tr>\n",
       "    <tr>\n",
       "      <td>3</td>\n",
       "      <td>4</td>\n",
       "      <td>2019-05-03 12:39:37</td>\n",
       "      <td>0.802313</td>\n",
       "      <td>2019-05-03 12:57:50</td>\n",
       "      <td>3.209250</td>\n",
       "      <td>2019-05-03 12:52:57</td>\n",
       "      <td>1601.0</td>\n",
       "      <td>18.841219</td>\n",
       "      <td>89.063515</td>\n",
       "      <td>0.00000</td>\n",
       "      <td>...</td>\n",
       "      <td>207.0</td>\n",
       "      <td>0.0</td>\n",
       "      <td>153.0</td>\n",
       "      <td>154.0</td>\n",
       "      <td>4</td>\n",
       "      <td>1093.0</td>\n",
       "      <td>800.0</td>\n",
       "      <td>0.287238</td>\n",
       "      <td>1625.0</td>\n",
       "      <td>419.805108</td>\n",
       "    </tr>\n",
       "    <tr>\n",
       "      <td>4</td>\n",
       "      <td>5</td>\n",
       "      <td>2019-05-03 13:11:13</td>\n",
       "      <td>0.836793</td>\n",
       "      <td>2019-05-03 13:33:55</td>\n",
       "      <td>3.347173</td>\n",
       "      <td>2019-05-03 13:23:19</td>\n",
       "      <td>1576.0</td>\n",
       "      <td>5.413692</td>\n",
       "      <td>89.238236</td>\n",
       "      <td>9.11456</td>\n",
       "      <td>...</td>\n",
       "      <td>203.0</td>\n",
       "      <td>0.0</td>\n",
       "      <td>151.0</td>\n",
       "      <td>152.0</td>\n",
       "      <td>4</td>\n",
       "      <td>1362.0</td>\n",
       "      <td>726.0</td>\n",
       "      <td>0.273633</td>\n",
       "      <td>1602.0</td>\n",
       "      <td>390.621520</td>\n",
       "    </tr>\n",
       "    <tr>\n",
       "      <td>...</td>\n",
       "      <td>...</td>\n",
       "      <td>...</td>\n",
       "      <td>...</td>\n",
       "      <td>...</td>\n",
       "      <td>...</td>\n",
       "      <td>...</td>\n",
       "      <td>...</td>\n",
       "      <td>...</td>\n",
       "      <td>...</td>\n",
       "      <td>...</td>\n",
       "      <td>...</td>\n",
       "      <td>...</td>\n",
       "      <td>...</td>\n",
       "      <td>...</td>\n",
       "      <td>...</td>\n",
       "      <td>...</td>\n",
       "      <td>...</td>\n",
       "      <td>...</td>\n",
       "      <td>...</td>\n",
       "      <td>...</td>\n",
       "      <td>...</td>\n",
       "    </tr>\n",
       "    <tr>\n",
       "      <td>2324</td>\n",
       "      <td>2495</td>\n",
       "      <td>2019-08-06 00:31:05</td>\n",
       "      <td>0.802673</td>\n",
       "      <td>2019-08-06 00:51:13</td>\n",
       "      <td>3.210690</td>\n",
       "      <td>2019-08-06 00:35:45</td>\n",
       "      <td>1570.0</td>\n",
       "      <td>7.125735</td>\n",
       "      <td>89.150879</td>\n",
       "      <td>0.00000</td>\n",
       "      <td>...</td>\n",
       "      <td>256.0</td>\n",
       "      <td>0.0</td>\n",
       "      <td>129.0</td>\n",
       "      <td>223.0</td>\n",
       "      <td>4</td>\n",
       "      <td>1208.0</td>\n",
       "      <td>280.0</td>\n",
       "      <td>0.212478</td>\n",
       "      <td>1591.0</td>\n",
       "      <td>393.957910</td>\n",
       "    </tr>\n",
       "    <tr>\n",
       "      <td>2325</td>\n",
       "      <td>2496</td>\n",
       "      <td>2019-08-06 01:00:06</td>\n",
       "      <td>0.700511</td>\n",
       "      <td>2019-08-06 01:23:32</td>\n",
       "      <td>4.203064</td>\n",
       "      <td>2019-08-06 01:02:54</td>\n",
       "      <td>1554.0</td>\n",
       "      <td>9.412616</td>\n",
       "      <td>114.179527</td>\n",
       "      <td>0.00000</td>\n",
       "      <td>...</td>\n",
       "      <td>256.0</td>\n",
       "      <td>0.0</td>\n",
       "      <td>129.0</td>\n",
       "      <td>226.0</td>\n",
       "      <td>6</td>\n",
       "      <td>1406.0</td>\n",
       "      <td>168.0</td>\n",
       "      <td>0.232147</td>\n",
       "      <td>1591.0</td>\n",
       "      <td>307.359076</td>\n",
       "    </tr>\n",
       "    <tr>\n",
       "      <td>2326</td>\n",
       "      <td>2497</td>\n",
       "      <td>2019-08-06 01:38:01</td>\n",
       "      <td>0.737460</td>\n",
       "      <td>2019-08-06 01:50:45</td>\n",
       "      <td>2.212379</td>\n",
       "      <td>2019-08-06 01:41:53</td>\n",
       "      <td>1571.0</td>\n",
       "      <td>6.271699</td>\n",
       "      <td>94.086723</td>\n",
       "      <td>9.04800</td>\n",
       "      <td>...</td>\n",
       "      <td>230.0</td>\n",
       "      <td>0.0</td>\n",
       "      <td>124.0</td>\n",
       "      <td>226.0</td>\n",
       "      <td>3</td>\n",
       "      <td>764.0</td>\n",
       "      <td>232.0</td>\n",
       "      <td>0.120370</td>\n",
       "      <td>1589.0</td>\n",
       "      <td>544.586747</td>\n",
       "    </tr>\n",
       "    <tr>\n",
       "      <td>2327</td>\n",
       "      <td>2498</td>\n",
       "      <td>2019-08-06 01:57:46</td>\n",
       "      <td>0.681745</td>\n",
       "      <td>2019-08-06 02:20:24</td>\n",
       "      <td>3.408725</td>\n",
       "      <td>2019-08-06 02:03:49</td>\n",
       "      <td>1591.0</td>\n",
       "      <td>14.953657</td>\n",
       "      <td>118.110717</td>\n",
       "      <td>0.00000</td>\n",
       "      <td>...</td>\n",
       "      <td>206.0</td>\n",
       "      <td>0.0</td>\n",
       "      <td>129.0</td>\n",
       "      <td>207.0</td>\n",
       "      <td>5</td>\n",
       "      <td>1358.0</td>\n",
       "      <td>363.0</td>\n",
       "      <td>0.210659</td>\n",
       "      <td>1594.0</td>\n",
       "      <td>383.987660</td>\n",
       "    </tr>\n",
       "    <tr>\n",
       "      <td>2328</td>\n",
       "      <td>2499</td>\n",
       "      <td>2019-08-06 02:32:56</td>\n",
       "      <td>1.024608</td>\n",
       "      <td>2019-08-06 02:55:42</td>\n",
       "      <td>4.098431</td>\n",
       "      <td>2019-08-06 02:40:25</td>\n",
       "      <td>1569.0</td>\n",
       "      <td>11.336151</td>\n",
       "      <td>110.160958</td>\n",
       "      <td>50.00528</td>\n",
       "      <td>...</td>\n",
       "      <td>233.0</td>\n",
       "      <td>0.0</td>\n",
       "      <td>126.0</td>\n",
       "      <td>227.0</td>\n",
       "      <td>4</td>\n",
       "      <td>1366.0</td>\n",
       "      <td>449.0</td>\n",
       "      <td>0.330141</td>\n",
       "      <td>1603.0</td>\n",
       "      <td>316.897476</td>\n",
       "    </tr>\n",
       "  </tbody>\n",
       "</table>\n",
       "<p>2329 rows × 37 columns</p>\n",
       "</div>"
      ],
      "text/plain": [
       "       key start_of_arc_heating  act_pow_mean  end_of_arc_heating  \\\n",
       "0        1  2019-05-03 11:02:14      0.975629 2019-05-03 11:28:37   \n",
       "1        2  2019-05-03 11:34:14      0.763150 2019-05-03 11:53:18   \n",
       "2        3  2019-05-03 12:06:54      0.505176 2019-05-03 12:32:19   \n",
       "3        4  2019-05-03 12:39:37      0.802313 2019-05-03 12:57:50   \n",
       "4        5  2019-05-03 13:11:13      0.836793 2019-05-03 13:33:55   \n",
       "...    ...                  ...           ...                 ...   \n",
       "2324  2495  2019-08-06 00:31:05      0.802673 2019-08-06 00:51:13   \n",
       "2325  2496  2019-08-06 01:00:06      0.700511 2019-08-06 01:23:32   \n",
       "2326  2497  2019-08-06 01:38:01      0.737460 2019-08-06 01:50:45   \n",
       "2327  2498  2019-08-06 01:57:46      0.681745 2019-08-06 02:20:24   \n",
       "2328  2499  2019-08-06 02:32:56      1.024608 2019-08-06 02:55:42   \n",
       "\n",
       "      act_pow_sum    measurement_time  temp_x        gas      Wire 1  \\\n",
       "0        4.878147 2019-05-03 11:16:18  1571.0  29.749986   60.059998   \n",
       "1        3.052598 2019-05-03 11:37:27  1581.0  12.555561   96.052315   \n",
       "2        2.525882 2019-05-03 12:13:17  1596.0  28.554793   91.160157   \n",
       "3        3.209250 2019-05-03 12:52:57  1601.0  18.841219   89.063515   \n",
       "4        3.347173 2019-05-03 13:23:19  1576.0   5.413692   89.238236   \n",
       "...           ...                 ...     ...        ...         ...   \n",
       "2324     3.210690 2019-08-06 00:35:45  1570.0   7.125735   89.150879   \n",
       "2325     4.203064 2019-08-06 01:02:54  1554.0   9.412616  114.179527   \n",
       "2326     2.212379 2019-08-06 01:41:53  1571.0   6.271699   94.086723   \n",
       "2327     3.408725 2019-08-06 02:03:49  1591.0  14.953657  118.110717   \n",
       "2328     4.098431 2019-08-06 02:40:25  1569.0  11.336151  110.160958   \n",
       "\n",
       "        Wire 2  ...  Bulk 12  Bulk 13  Bulk 14  Bulk 15  iteracion  \\\n",
       "0      0.00000  ...    206.0      0.0    150.0    154.0          5   \n",
       "1      0.00000  ...    206.0      0.0    149.0    154.0          4   \n",
       "2      0.00000  ...    205.0      0.0    152.0    153.0          5   \n",
       "3      0.00000  ...    207.0      0.0    153.0    154.0          4   \n",
       "4      9.11456  ...    203.0      0.0    151.0    152.0          4   \n",
       "...        ...  ...      ...      ...      ...      ...        ...   \n",
       "2324   0.00000  ...    256.0      0.0    129.0    223.0          4   \n",
       "2325   0.00000  ...    256.0      0.0    129.0    226.0          6   \n",
       "2326   9.04800  ...    230.0      0.0    124.0    226.0          3   \n",
       "2327   0.00000  ...    206.0      0.0    129.0    207.0          5   \n",
       "2328  50.00528  ...    233.0      0.0    126.0    227.0          4   \n",
       "\n",
       "      duration_of_heating  first_measuring_time  raznica_pow_mean  temp_y  \\\n",
       "0                  1583.0                 844.0          0.338981  1613.0   \n",
       "1                  1144.0                 193.0          0.263622  1602.0   \n",
       "2                  1525.0                 383.0          0.185361  1599.0   \n",
       "3                  1093.0                 800.0          0.287238  1625.0   \n",
       "4                  1362.0                 726.0          0.273633  1602.0   \n",
       "...                   ...                   ...               ...     ...   \n",
       "2324               1208.0                 280.0          0.212478  1591.0   \n",
       "2325               1406.0                 168.0          0.232147  1591.0   \n",
       "2326                764.0                 232.0          0.120370  1589.0   \n",
       "2327               1358.0                 363.0          0.210659  1594.0   \n",
       "2328               1366.0                 449.0          0.330141  1603.0   \n",
       "\n",
       "      temp_formula  \n",
       "0       269.704689  \n",
       "1       433.340909  \n",
       "2       533.868101  \n",
       "3       419.805108  \n",
       "4       390.621520  \n",
       "...            ...  \n",
       "2324    393.957910  \n",
       "2325    307.359076  \n",
       "2326    544.586747  \n",
       "2327    383.987660  \n",
       "2328    316.897476  \n",
       "\n",
       "[2329 rows x 37 columns]"
      ]
     },
     "execution_count": 52,
     "metadata": {},
     "output_type": "execute_result"
    }
   ],
   "source": [
    "data_merge = data_merge.drop(['react_pow_mean', 'react_pow_sum', 'Wire 8'], axis=1)\n",
    "data_merge"
   ]
  },
  {
   "cell_type": "markdown",
   "metadata": {},
   "source": [
    "## 3. Построение и обучение моделей"
   ]
  },
  {
   "cell_type": "markdown",
   "metadata": {},
   "source": [
    "Выделим признаки и таргет"
   ]
  },
  {
   "cell_type": "code",
   "execution_count": 32,
   "metadata": {},
   "outputs": [],
   "source": [
    "features = data_merge.drop(\n",
    "    ['key', 'temp_y', 'start_of_arc_heating', 'end_of_arc_heating', 'measurement_time'], axis=1)\n",
    "target = data_merge['temp_y']"
   ]
  },
  {
   "cell_type": "code",
   "execution_count": 33,
   "metadata": {},
   "outputs": [],
   "source": [
    "features_train, features_valid, target_train, target_valid = train_test_split(\n",
    "    features, target, test_size=0.2, random_state=42)"
   ]
  },
  {
   "cell_type": "code",
   "execution_count": 34,
   "metadata": {},
   "outputs": [],
   "source": [
    "# DataFrame для внесения результатов моделей\n",
    "mod_columns = {'model':[],'MAE train':[],'MAE valid':[]}\n",
    "model_results = pd.DataFrame(mod_columns)"
   ]
  },
  {
   "cell_type": "markdown",
   "metadata": {},
   "source": [
    "Обучим различные модели и выберем лучшую"
   ]
  },
  {
   "cell_type": "code",
   "execution_count": 35,
   "metadata": {},
   "outputs": [],
   "source": [
    "model = RandomForestRegressor(random_state=12345, n_estimators=150, max_depth=15)\n",
    "model.fit(features_train, target_train)\n",
    "\n",
    "predict_train_forest = '{:.3f}'.format(mean_absolute_error(target_train, model.predict(features_train)))\n",
    "predict_valid_forest = '{:.3f}'.format(mean_absolute_error(target_valid, model.predict(features_valid)))\n",
    "\n",
    "row_forest = {'model':'RandomForestRegressor', 'MAE train':predict_train_forest, 'MAE valid':predict_valid_forest}\n",
    "model_results = model_results.append(row_forest, ignore_index=True)"
   ]
  },
  {
   "cell_type": "code",
   "execution_count": 36,
   "metadata": {},
   "outputs": [],
   "source": [
    "model_lin = LinearRegression()\n",
    "model_lin.fit(features_train, target_train)\n",
    "\n",
    "predict_train_linear = '{:.3f}'.format(mean_absolute_error(target_train, model_lin.predict(features_train)))\n",
    "predict_valid_linear = '{:.3f}'.format(mean_absolute_error(target_valid, model_lin.predict(features_valid)))\n",
    "\n",
    "row_linear = {'model':'LinearRegression', 'MAE train':predict_train_linear, 'MAE valid':predict_valid_linear}\n",
    "model_results = model_results.append(row_linear, ignore_index=True)"
   ]
  },
  {
   "cell_type": "code",
   "execution_count": 37,
   "metadata": {},
   "outputs": [],
   "source": [
    "model_lgbm = ltb.LGBMRegressor(random_state=54, n_estimators=200, learning_rate=.03)\n",
    "model_lgbm.fit(features_train, target_train)\n",
    "\n",
    "predict_train_lgbm = '{:.3f}'.format(mean_absolute_error(target_train, model_lgbm.predict(features_train)))\n",
    "predict_valid_lgbm = '{:.3f}'.format(mean_absolute_error(target_valid, model_lgbm.predict(features_valid)))\n",
    "\n",
    "row_linear = {'model':'LGBMRegressor', 'MAE train':predict_train_lgbm, 'MAE valid':predict_valid_lgbm}\n",
    "model_results = model_results.append(row_linear, ignore_index=True)"
   ]
  },
  {
   "cell_type": "code",
   "execution_count": 38,
   "metadata": {},
   "outputs": [],
   "source": [
    "#from sklearn.model_selection import GridSearchCV\n",
    "#from sklearn.model_selection import RandomizedSearchCV\n",
    "#model_test = ltb.LGBMRegressor(random_state=1)\n",
    "#model_test = CatBoostRegressor(random_seed=1)\n",
    "#parametrs = { 'n_estimators': range (1000, 3000, 100),\n",
    "#             'max_depth': range (1, 13, 2)}\n",
    "#gsc = RandomizedSearchCV(model_test, parametrs, scoring='neg_mean_absolute_error', cv=3, verbose=1)\n",
    "#gsc.fit(features_train, target_train)\n",
    "#gsc.best_params_"
   ]
  },
  {
   "cell_type": "code",
   "execution_count": 39,
   "metadata": {},
   "outputs": [
    {
     "name": "stdout",
     "output_type": "stream",
     "text": [
      "0:\tlearn: 11.0685597\ttotal: 49.4ms\tremaining: 1m 53s\n",
      "2:\tlearn: 10.9220226\ttotal: 53.1ms\tremaining: 40.7s\n",
      "4:\tlearn: 10.7589825\ttotal: 59.2ms\tremaining: 27.2s\n",
      "6:\tlearn: 10.6107079\ttotal: 129ms\tremaining: 42.4s\n",
      "8:\tlearn: 10.4644646\ttotal: 133ms\tremaining: 33.8s\n",
      "10:\tlearn: 10.3314677\ttotal: 136ms\tremaining: 28.3s\n",
      "12:\tlearn: 10.2147727\ttotal: 225ms\tremaining: 39.6s\n",
      "14:\tlearn: 10.0946847\ttotal: 229ms\tremaining: 34.8s\n",
      "16:\tlearn: 9.9805449\ttotal: 236ms\tremaining: 31.6s\n",
      "18:\tlearn: 9.8619626\ttotal: 322ms\tremaining: 38.7s\n",
      "20:\tlearn: 9.7642522\ttotal: 326ms\tremaining: 35.4s\n",
      "22:\tlearn: 9.6647241\ttotal: 329ms\tremaining: 32.6s\n",
      "24:\tlearn: 9.5727732\ttotal: 343ms\tremaining: 31.2s\n",
      "26:\tlearn: 9.5031103\ttotal: 422ms\tremaining: 35.5s\n",
      "28:\tlearn: 9.4007634\ttotal: 425ms\tremaining: 33.3s\n",
      "30:\tlearn: 9.3142238\ttotal: 433ms\tremaining: 31.7s\n",
      "32:\tlearn: 9.2320724\ttotal: 522ms\tremaining: 35.9s\n",
      "34:\tlearn: 9.1642026\ttotal: 526ms\tremaining: 34.1s\n",
      "36:\tlearn: 9.0894755\ttotal: 536ms\tremaining: 32.8s\n",
      "38:\tlearn: 9.0192005\ttotal: 617ms\tremaining: 35.8s\n",
      "40:\tlearn: 8.9535820\ttotal: 621ms\tremaining: 34.2s\n",
      "42:\tlearn: 8.8968619\ttotal: 633ms\tremaining: 33.2s\n",
      "44:\tlearn: 8.8287879\ttotal: 714ms\tremaining: 35.8s\n",
      "46:\tlearn: 8.7686289\ttotal: 717ms\tremaining: 34.4s\n",
      "48:\tlearn: 8.7086388\ttotal: 720ms\tremaining: 33.1s\n",
      "50:\tlearn: 8.6646162\ttotal: 811ms\tremaining: 35.7s\n",
      "52:\tlearn: 8.6005549\ttotal: 814ms\tremaining: 34.5s\n",
      "54:\tlearn: 8.5508126\ttotal: 818ms\tremaining: 33.4s\n",
      "56:\tlearn: 8.5075684\ttotal: 908ms\tremaining: 35.7s\n",
      "58:\tlearn: 8.4676748\ttotal: 911ms\tremaining: 34.6s\n",
      "60:\tlearn: 8.4182835\ttotal: 914ms\tremaining: 33.6s\n",
      "62:\tlearn: 8.3757958\ttotal: 1s\tremaining: 35.6s\n",
      "64:\tlearn: 8.3279447\ttotal: 1.01s\tremaining: 34.6s\n",
      "66:\tlearn: 8.2864529\ttotal: 1.01s\tremaining: 33.7s\n",
      "68:\tlearn: 8.2509365\ttotal: 1.02s\tremaining: 33.1s\n",
      "70:\tlearn: 8.2260604\ttotal: 1.1s\tremaining: 34.6s\n",
      "72:\tlearn: 8.1925275\ttotal: 1.11s\tremaining: 33.8s\n",
      "74:\tlearn: 8.1623019\ttotal: 1.11s\tremaining: 33.1s\n",
      "76:\tlearn: 8.1279868\ttotal: 1.2s\tremaining: 34.6s\n",
      "78:\tlearn: 8.0812700\ttotal: 1.2s\tremaining: 33.8s\n",
      "80:\tlearn: 8.0416016\ttotal: 1.21s\tremaining: 33.2s\n",
      "82:\tlearn: 8.0032603\ttotal: 1.29s\tremaining: 34.6s\n",
      "84:\tlearn: 7.9753040\ttotal: 1.3s\tremaining: 33.9s\n",
      "86:\tlearn: 7.9522368\ttotal: 1.3s\tremaining: 33.2s\n",
      "88:\tlearn: 7.9218813\ttotal: 1.39s\tremaining: 34.6s\n",
      "90:\tlearn: 7.8978166\ttotal: 1.4s\tremaining: 33.9s\n",
      "92:\tlearn: 7.8700926\ttotal: 1.4s\tremaining: 33.2s\n",
      "94:\tlearn: 7.8474076\ttotal: 1.42s\tremaining: 32.9s\n",
      "96:\tlearn: 7.8082748\ttotal: 1.49s\tremaining: 33.9s\n",
      "98:\tlearn: 7.7854108\ttotal: 1.5s\tremaining: 33.3s\n",
      "100:\tlearn: 7.7557763\ttotal: 1.51s\tremaining: 32.8s\n",
      "102:\tlearn: 7.7401326\ttotal: 1.59s\tremaining: 33.9s\n",
      "104:\tlearn: 7.7153853\ttotal: 1.59s\tremaining: 33.3s\n",
      "106:\tlearn: 7.6945681\ttotal: 1.6s\tremaining: 32.8s\n",
      "108:\tlearn: 7.6782712\ttotal: 1.68s\tremaining: 33.9s\n",
      "110:\tlearn: 7.6566915\ttotal: 1.69s\tremaining: 33.3s\n",
      "112:\tlearn: 7.6248815\ttotal: 1.69s\tremaining: 32.7s\n",
      "114:\tlearn: 7.6021963\ttotal: 1.78s\tremaining: 33.8s\n",
      "116:\tlearn: 7.5851725\ttotal: 1.78s\tremaining: 33.3s\n",
      "118:\tlearn: 7.5622998\ttotal: 1.79s\tremaining: 32.8s\n",
      "120:\tlearn: 7.5385098\ttotal: 1.8s\tremaining: 32.4s\n",
      "122:\tlearn: 7.5183555\ttotal: 1.88s\tremaining: 33.3s\n",
      "124:\tlearn: 7.5007431\ttotal: 1.88s\tremaining: 32.8s\n",
      "126:\tlearn: 7.4824455\ttotal: 1.89s\tremaining: 32.4s\n",
      "128:\tlearn: 7.4648556\ttotal: 1.98s\tremaining: 33.2s\n",
      "130:\tlearn: 7.4445142\ttotal: 1.98s\tremaining: 32.8s\n",
      "132:\tlearn: 7.4240738\ttotal: 1.98s\tremaining: 32.3s\n",
      "134:\tlearn: 7.4096952\ttotal: 2.07s\tremaining: 33.2s\n",
      "136:\tlearn: 7.3937691\ttotal: 2.08s\tremaining: 32.8s\n",
      "138:\tlearn: 7.3709433\ttotal: 2.08s\tremaining: 32.3s\n",
      "140:\tlearn: 7.3520132\ttotal: 2.09s\tremaining: 32s\n",
      "142:\tlearn: 7.3420936\ttotal: 2.17s\tremaining: 32.8s\n",
      "144:\tlearn: 7.3283577\ttotal: 2.17s\tremaining: 32.3s\n",
      "146:\tlearn: 7.3150932\ttotal: 2.18s\tremaining: 32s\n",
      "148:\tlearn: 7.3027782\ttotal: 2.27s\tremaining: 32.8s\n",
      "150:\tlearn: 7.2845879\ttotal: 2.27s\tremaining: 32.3s\n",
      "152:\tlearn: 7.2662747\ttotal: 2.28s\tremaining: 32s\n",
      "154:\tlearn: 7.2451438\ttotal: 2.36s\tremaining: 32.7s\n",
      "156:\tlearn: 7.2300527\ttotal: 2.37s\tremaining: 32.3s\n",
      "158:\tlearn: 7.2137434\ttotal: 2.37s\tremaining: 31.9s\n",
      "160:\tlearn: 7.2012609\ttotal: 2.46s\tremaining: 32.7s\n",
      "162:\tlearn: 7.1867168\ttotal: 2.46s\tremaining: 32.3s\n",
      "164:\tlearn: 7.1753314\ttotal: 2.47s\tremaining: 31.9s\n",
      "166:\tlearn: 7.1532103\ttotal: 2.56s\tremaining: 32.7s\n",
      "168:\tlearn: 7.1391427\ttotal: 2.56s\tremaining: 32.3s\n",
      "170:\tlearn: 7.1277203\ttotal: 2.56s\tremaining: 31.9s\n",
      "172:\tlearn: 7.1127039\ttotal: 2.57s\tremaining: 31.7s\n",
      "174:\tlearn: 7.0957990\ttotal: 2.66s\tremaining: 32.3s\n",
      "176:\tlearn: 7.0834634\ttotal: 2.66s\tremaining: 31.9s\n",
      "178:\tlearn: 7.0691568\ttotal: 2.67s\tremaining: 31.6s\n",
      "180:\tlearn: 7.0466647\ttotal: 2.75s\tremaining: 32.2s\n",
      "182:\tlearn: 7.0300664\ttotal: 2.76s\tremaining: 31.9s\n",
      "184:\tlearn: 7.0060126\ttotal: 2.76s\tremaining: 31.6s\n",
      "186:\tlearn: 6.9939150\ttotal: 2.77s\tremaining: 31.3s\n",
      "188:\tlearn: 6.9763047\ttotal: 2.85s\tremaining: 31.9s\n",
      "190:\tlearn: 6.9603855\ttotal: 2.86s\tremaining: 31.6s\n",
      "192:\tlearn: 6.9519476\ttotal: 2.87s\tremaining: 31.3s\n",
      "194:\tlearn: 6.9362401\ttotal: 2.95s\tremaining: 31.8s\n",
      "196:\tlearn: 6.9238301\ttotal: 2.95s\tremaining: 31.5s\n",
      "198:\tlearn: 6.9119892\ttotal: 2.95s\tremaining: 31.2s\n",
      "200:\tlearn: 6.9021389\ttotal: 2.97s\tremaining: 31s\n",
      "202:\tlearn: 6.8885999\ttotal: 3.05s\tremaining: 31.5s\n",
      "204:\tlearn: 6.8732423\ttotal: 3.05s\tremaining: 31.2s\n",
      "206:\tlearn: 6.8614982\ttotal: 3.06s\tremaining: 31s\n",
      "208:\tlearn: 6.8509562\ttotal: 3.14s\tremaining: 31.4s\n",
      "210:\tlearn: 6.8422356\ttotal: 3.15s\tremaining: 31.1s\n",
      "212:\tlearn: 6.8237080\ttotal: 3.15s\tremaining: 30.9s\n",
      "214:\tlearn: 6.8126551\ttotal: 3.24s\tremaining: 31.4s\n",
      "216:\tlearn: 6.7982753\ttotal: 3.24s\tremaining: 31.1s\n",
      "218:\tlearn: 6.7879604\ttotal: 3.25s\tremaining: 30.9s\n",
      "220:\tlearn: 6.7768128\ttotal: 3.25s\tremaining: 30.6s\n",
      "222:\tlearn: 6.7616747\ttotal: 3.34s\tremaining: 31.1s\n",
      "224:\tlearn: 6.7542427\ttotal: 3.34s\tremaining: 30.8s\n",
      "226:\tlearn: 6.7421909\ttotal: 3.35s\tremaining: 30.6s\n",
      "228:\tlearn: 6.7267775\ttotal: 3.43s\tremaining: 31.1s\n",
      "230:\tlearn: 6.7121078\ttotal: 3.44s\tremaining: 30.8s\n",
      "232:\tlearn: 6.7017389\ttotal: 3.44s\tremaining: 30.5s\n",
      "234:\tlearn: 6.6837991\ttotal: 3.46s\tremaining: 30.4s\n",
      "236:\tlearn: 6.6675109\ttotal: 3.53s\tremaining: 30.8s\n",
      "238:\tlearn: 6.6557881\ttotal: 3.54s\tremaining: 30.5s\n",
      "240:\tlearn: 6.6466780\ttotal: 3.54s\tremaining: 30.3s\n",
      "242:\tlearn: 6.6357834\ttotal: 3.63s\tremaining: 30.7s\n",
      "244:\tlearn: 6.6234339\ttotal: 3.63s\tremaining: 30.5s\n",
      "246:\tlearn: 6.6074680\ttotal: 3.64s\tremaining: 30.2s\n",
      "248:\tlearn: 6.5933157\ttotal: 3.73s\tremaining: 30.7s\n",
      "250:\tlearn: 6.5763766\ttotal: 3.73s\tremaining: 30.5s\n",
      "252:\tlearn: 6.5598328\ttotal: 3.74s\tremaining: 30.3s\n",
      "254:\tlearn: 6.5474661\ttotal: 3.82s\tremaining: 30.7s\n",
      "256:\tlearn: 6.5362553\ttotal: 3.83s\tremaining: 30.4s\n",
      "258:\tlearn: 6.5230623\ttotal: 3.83s\tremaining: 30.2s\n",
      "260:\tlearn: 6.5090076\ttotal: 3.92s\tremaining: 30.6s\n",
      "262:\tlearn: 6.4980577\ttotal: 3.92s\tremaining: 30.4s\n",
      "264:\tlearn: 6.4845697\ttotal: 3.93s\tremaining: 30.2s\n",
      "266:\tlearn: 6.4783486\ttotal: 4.02s\tremaining: 30.6s\n",
      "268:\tlearn: 6.4691978\ttotal: 4.02s\tremaining: 30.4s\n",
      "270:\tlearn: 6.4560329\ttotal: 4.02s\tremaining: 30.1s\n",
      "272:\tlearn: 6.4456350\ttotal: 4.03s\tremaining: 29.9s\n",
      "274:\tlearn: 6.4377462\ttotal: 4.12s\tremaining: 30.3s\n",
      "276:\tlearn: 6.4270308\ttotal: 4.12s\tremaining: 30.1s\n",
      "278:\tlearn: 6.4179884\ttotal: 4.12s\tremaining: 29.9s\n",
      "280:\tlearn: 6.4059631\ttotal: 4.21s\tremaining: 30.3s\n",
      "282:\tlearn: 6.3889211\ttotal: 4.22s\tremaining: 30.1s\n",
      "284:\tlearn: 6.3787368\ttotal: 4.22s\tremaining: 29.8s\n",
      "286:\tlearn: 6.3674532\ttotal: 4.31s\tremaining: 30.2s\n",
      "288:\tlearn: 6.3563644\ttotal: 4.31s\tremaining: 30s\n",
      "290:\tlearn: 6.3444433\ttotal: 4.32s\tremaining: 29.8s\n",
      "292:\tlearn: 6.3350632\ttotal: 4.32s\tremaining: 29.6s\n",
      "294:\tlearn: 6.3253533\ttotal: 4.41s\tremaining: 30s\n",
      "296:\tlearn: 6.3111959\ttotal: 4.41s\tremaining: 29.8s\n",
      "298:\tlearn: 6.2982533\ttotal: 4.42s\tremaining: 29.6s\n",
      "300:\tlearn: 6.2888813\ttotal: 4.5s\tremaining: 29.9s\n",
      "302:\tlearn: 6.2809178\ttotal: 4.51s\tremaining: 29.7s\n",
      "304:\tlearn: 6.2719470\ttotal: 4.51s\tremaining: 29.5s\n",
      "306:\tlearn: 6.2584752\ttotal: 4.6s\tremaining: 29.9s\n",
      "308:\tlearn: 6.2454630\ttotal: 4.6s\tremaining: 29.7s\n",
      "310:\tlearn: 6.2305342\ttotal: 4.61s\tremaining: 29.5s\n",
      "312:\tlearn: 6.2193041\ttotal: 4.62s\tremaining: 29.3s\n",
      "314:\tlearn: 6.2111511\ttotal: 4.7s\tremaining: 29.6s\n",
      "316:\tlearn: 6.2016746\ttotal: 4.7s\tremaining: 29.4s\n",
      "318:\tlearn: 6.1894117\ttotal: 4.71s\tremaining: 29.3s\n",
      "320:\tlearn: 6.1753329\ttotal: 4.8s\tremaining: 29.6s\n",
      "322:\tlearn: 6.1662568\ttotal: 4.8s\tremaining: 29.4s\n",
      "324:\tlearn: 6.1540736\ttotal: 4.8s\tremaining: 29.2s\n",
      "326:\tlearn: 6.1461051\ttotal: 4.82s\tremaining: 29.1s\n",
      "328:\tlearn: 6.1336749\ttotal: 4.89s\tremaining: 29.3s\n",
      "330:\tlearn: 6.1244095\ttotal: 4.9s\tremaining: 29.1s\n",
      "332:\tlearn: 6.1106850\ttotal: 4.91s\tremaining: 29s\n",
      "334:\tlearn: 6.0975155\ttotal: 4.99s\tremaining: 29.3s\n",
      "336:\tlearn: 6.0894303\ttotal: 5s\tremaining: 29.1s\n",
      "338:\tlearn: 6.0791383\ttotal: 5s\tremaining: 28.9s\n",
      "340:\tlearn: 6.0702291\ttotal: 5.09s\tremaining: 29.2s\n",
      "342:\tlearn: 6.0605042\ttotal: 5.09s\tremaining: 29.1s\n",
      "344:\tlearn: 6.0482555\ttotal: 5.09s\tremaining: 28.9s\n",
      "346:\tlearn: 6.0381890\ttotal: 5.18s\tremaining: 29.2s\n",
      "348:\tlearn: 6.0308197\ttotal: 5.19s\tremaining: 29s\n",
      "350:\tlearn: 6.0224080\ttotal: 5.19s\tremaining: 28.8s\n",
      "352:\tlearn: 6.0126752\ttotal: 5.28s\tremaining: 29.1s\n",
      "354:\tlearn: 6.0056607\ttotal: 5.29s\tremaining: 29s\n",
      "356:\tlearn: 5.9998755\ttotal: 5.29s\tremaining: 28.8s\n",
      "358:\tlearn: 5.9931708\ttotal: 5.3s\tremaining: 28.7s\n",
      "360:\tlearn: 5.9810738\ttotal: 5.38s\tremaining: 28.9s\n",
      "362:\tlearn: 5.9694697\ttotal: 5.38s\tremaining: 28.7s\n",
      "364:\tlearn: 5.9602637\ttotal: 5.39s\tremaining: 28.6s\n",
      "366:\tlearn: 5.9519561\ttotal: 5.48s\tremaining: 28.8s\n",
      "368:\tlearn: 5.9430682\ttotal: 5.48s\tremaining: 28.7s\n",
      "370:\tlearn: 5.9344514\ttotal: 5.49s\tremaining: 28.6s\n",
      "372:\tlearn: 5.9252268\ttotal: 5.58s\tremaining: 28.8s\n",
      "374:\tlearn: 5.9126059\ttotal: 5.58s\tremaining: 28.6s\n",
      "376:\tlearn: 5.9043602\ttotal: 5.58s\tremaining: 28.5s\n",
      "378:\tlearn: 5.8955013\ttotal: 5.67s\tremaining: 28.7s\n",
      "380:\tlearn: 5.8883080\ttotal: 5.67s\tremaining: 28.6s\n",
      "382:\tlearn: 5.8756473\ttotal: 5.68s\tremaining: 28.4s\n",
      "384:\tlearn: 5.8674120\ttotal: 5.77s\tremaining: 28.7s\n",
      "386:\tlearn: 5.8570718\ttotal: 5.77s\tremaining: 28.5s\n",
      "388:\tlearn: 5.8506723\ttotal: 5.77s\tremaining: 28.4s\n",
      "390:\tlearn: 5.8456669\ttotal: 5.78s\tremaining: 28.2s\n",
      "392:\tlearn: 5.8379454\ttotal: 5.87s\tremaining: 28.5s\n",
      "394:\tlearn: 5.8272540\ttotal: 5.87s\tremaining: 28.3s\n",
      "396:\tlearn: 5.8211988\ttotal: 5.87s\tremaining: 28.2s\n",
      "398:\tlearn: 5.8082258\ttotal: 5.96s\tremaining: 28.4s\n",
      "400:\tlearn: 5.7986346\ttotal: 5.97s\tremaining: 28.3s\n",
      "402:\tlearn: 5.7915955\ttotal: 5.97s\tremaining: 28.1s\n",
      "404:\tlearn: 5.7819858\ttotal: 5.99s\tremaining: 28s\n",
      "406:\tlearn: 5.7743740\ttotal: 6.06s\tremaining: 28.2s\n",
      "408:\tlearn: 5.7685515\ttotal: 6.07s\tremaining: 28s\n",
      "410:\tlearn: 5.7635296\ttotal: 6.07s\tremaining: 27.9s\n",
      "412:\tlearn: 5.7528023\ttotal: 6.16s\tremaining: 28.1s\n",
      "414:\tlearn: 5.7461900\ttotal: 6.16s\tremaining: 28s\n",
      "416:\tlearn: 5.7405621\ttotal: 6.17s\tremaining: 27.9s\n",
      "418:\tlearn: 5.7346599\ttotal: 6.26s\tremaining: 28.1s\n",
      "420:\tlearn: 5.7253642\ttotal: 6.26s\tremaining: 27.9s\n",
      "422:\tlearn: 5.7172363\ttotal: 6.26s\tremaining: 27.8s\n",
      "424:\tlearn: 5.7096416\ttotal: 6.35s\tremaining: 28s\n",
      "426:\tlearn: 5.7032752\ttotal: 6.36s\tremaining: 27.9s\n",
      "428:\tlearn: 5.6966689\ttotal: 6.37s\tremaining: 27.8s\n",
      "430:\tlearn: 5.6880440\ttotal: 6.45s\tremaining: 28s\n",
      "432:\tlearn: 5.6815220\ttotal: 6.45s\tremaining: 27.8s\n",
      "434:\tlearn: 5.6735393\ttotal: 6.46s\tremaining: 27.7s\n",
      "436:\tlearn: 5.6636567\ttotal: 6.54s\tremaining: 27.9s\n",
      "438:\tlearn: 5.6566991\ttotal: 6.55s\tremaining: 27.8s\n",
      "440:\tlearn: 5.6475806\ttotal: 6.55s\tremaining: 27.6s\n",
      "442:\tlearn: 5.6412060\ttotal: 6.64s\tremaining: 27.8s\n",
      "444:\tlearn: 5.6346484\ttotal: 6.64s\tremaining: 27.7s\n",
      "446:\tlearn: 5.6273055\ttotal: 6.65s\tremaining: 27.6s\n",
      "448:\tlearn: 5.6174172\ttotal: 6.74s\tremaining: 27.8s\n",
      "450:\tlearn: 5.6067834\ttotal: 6.75s\tremaining: 27.7s\n",
      "452:\tlearn: 5.6007863\ttotal: 6.75s\tremaining: 27.5s\n",
      "454:\tlearn: 5.5938857\ttotal: 6.84s\tremaining: 27.7s\n",
      "456:\tlearn: 5.5894137\ttotal: 6.84s\tremaining: 27.6s\n",
      "458:\tlearn: 5.5840852\ttotal: 6.85s\tremaining: 27.5s\n",
      "460:\tlearn: 5.5767135\ttotal: 6.93s\tremaining: 27.7s\n",
      "462:\tlearn: 5.5690930\ttotal: 6.94s\tremaining: 27.5s\n",
      "464:\tlearn: 5.5626097\ttotal: 6.94s\tremaining: 27.4s\n",
      "466:\tlearn: 5.5541042\ttotal: 7.03s\tremaining: 27.6s\n",
      "468:\tlearn: 5.5452263\ttotal: 7.04s\tremaining: 27.5s\n",
      "470:\tlearn: 5.5366998\ttotal: 7.04s\tremaining: 27.3s\n",
      "472:\tlearn: 5.5273527\ttotal: 7.13s\tremaining: 27.5s\n",
      "474:\tlearn: 5.5199318\ttotal: 7.13s\tremaining: 27.4s\n",
      "476:\tlearn: 5.5115351\ttotal: 7.14s\tremaining: 27.3s\n",
      "478:\tlearn: 5.5020342\ttotal: 7.15s\tremaining: 27.2s\n",
      "480:\tlearn: 5.4935765\ttotal: 7.23s\tremaining: 27.3s\n",
      "482:\tlearn: 5.4878199\ttotal: 7.24s\tremaining: 27.2s\n",
      "484:\tlearn: 5.4790285\ttotal: 7.33s\tremaining: 27.4s\n",
      "486:\tlearn: 5.4735961\ttotal: 7.33s\tremaining: 27.3s\n",
      "488:\tlearn: 5.4654656\ttotal: 7.33s\tremaining: 27.2s\n",
      "490:\tlearn: 5.4564952\ttotal: 7.34s\tremaining: 27s\n",
      "492:\tlearn: 5.4514959\ttotal: 7.42s\tremaining: 27.2s\n",
      "494:\tlearn: 5.4454162\ttotal: 7.43s\tremaining: 27.1s\n",
      "496:\tlearn: 5.4390499\ttotal: 7.44s\tremaining: 27s\n",
      "498:\tlearn: 5.4321462\ttotal: 7.52s\tremaining: 27.1s\n",
      "500:\tlearn: 5.4232259\ttotal: 7.53s\tremaining: 27s\n",
      "502:\tlearn: 5.4182094\ttotal: 7.53s\tremaining: 26.9s\n",
      "504:\tlearn: 5.4131017\ttotal: 7.62s\tremaining: 27.1s\n",
      "506:\tlearn: 5.4076784\ttotal: 7.62s\tremaining: 26.9s\n",
      "508:\tlearn: 5.4028830\ttotal: 7.62s\tremaining: 26.8s\n",
      "510:\tlearn: 5.3966292\ttotal: 7.71s\tremaining: 27s\n",
      "512:\tlearn: 5.3887174\ttotal: 7.72s\tremaining: 26.9s\n",
      "514:\tlearn: 5.3840948\ttotal: 7.72s\tremaining: 26.8s\n",
      "516:\tlearn: 5.3776841\ttotal: 7.81s\tremaining: 26.9s\n",
      "518:\tlearn: 5.3716633\ttotal: 7.81s\tremaining: 26.8s\n",
      "520:\tlearn: 5.3671027\ttotal: 7.82s\tremaining: 26.7s\n",
      "522:\tlearn: 5.3599123\ttotal: 7.91s\tremaining: 26.9s\n",
      "524:\tlearn: 5.3535584\ttotal: 7.91s\tremaining: 26.8s\n",
      "526:\tlearn: 5.3476806\ttotal: 7.92s\tremaining: 26.6s\n",
      "528:\tlearn: 5.3417432\ttotal: 8.01s\tremaining: 26.8s\n",
      "530:\tlearn: 5.3346439\ttotal: 8.01s\tremaining: 26.7s\n",
      "532:\tlearn: 5.3300360\ttotal: 8.01s\tremaining: 26.6s\n",
      "534:\tlearn: 5.3221957\ttotal: 8.1s\tremaining: 26.7s\n",
      "536:\tlearn: 5.3152859\ttotal: 8.11s\tremaining: 26.6s\n",
      "538:\tlearn: 5.3068855\ttotal: 8.11s\tremaining: 26.5s\n",
      "540:\tlearn: 5.3017364\ttotal: 8.2s\tremaining: 26.7s\n",
      "542:\tlearn: 5.2949318\ttotal: 8.2s\tremaining: 26.5s\n",
      "544:\tlearn: 5.2854139\ttotal: 8.21s\tremaining: 26.4s\n",
      "546:\tlearn: 5.2791088\ttotal: 8.22s\tremaining: 26.3s\n",
      "548:\tlearn: 5.2717180\ttotal: 8.3s\tremaining: 26.5s\n",
      "550:\tlearn: 5.2657567\ttotal: 8.3s\tremaining: 26.4s\n",
      "552:\tlearn: 5.2598482\ttotal: 8.31s\tremaining: 26.2s\n",
      "554:\tlearn: 5.2536621\ttotal: 8.4s\tremaining: 26.4s\n",
      "556:\tlearn: 5.2480355\ttotal: 8.4s\tremaining: 26.3s\n",
      "558:\tlearn: 5.2390660\ttotal: 8.41s\tremaining: 26.2s\n",
      "560:\tlearn: 5.2335561\ttotal: 8.49s\tremaining: 26.3s\n",
      "562:\tlearn: 5.2283152\ttotal: 8.5s\tremaining: 26.2s\n",
      "564:\tlearn: 5.2222780\ttotal: 8.5s\tremaining: 26.1s\n",
      "566:\tlearn: 5.2136546\ttotal: 8.59s\tremaining: 26.3s\n",
      "568:\tlearn: 5.2086935\ttotal: 8.59s\tremaining: 26.1s\n",
      "570:\tlearn: 5.2005030\ttotal: 8.6s\tremaining: 26s\n",
      "572:\tlearn: 5.1941836\ttotal: 8.69s\tremaining: 26.2s\n",
      "574:\tlearn: 5.1861362\ttotal: 8.69s\tremaining: 26.1s\n",
      "576:\tlearn: 5.1793892\ttotal: 8.69s\tremaining: 26s\n",
      "578:\tlearn: 5.1724446\ttotal: 8.7s\tremaining: 25.9s\n",
      "580:\tlearn: 5.1659863\ttotal: 8.79s\tremaining: 26s\n",
      "582:\tlearn: 5.1620967\ttotal: 8.79s\tremaining: 25.9s\n",
      "584:\tlearn: 5.1559847\ttotal: 8.8s\tremaining: 25.8s\n",
      "586:\tlearn: 5.1505484\ttotal: 8.88s\tremaining: 25.9s\n",
      "588:\tlearn: 5.1445706\ttotal: 8.89s\tremaining: 25.8s\n",
      "590:\tlearn: 5.1388845\ttotal: 8.89s\tremaining: 25.7s\n",
      "592:\tlearn: 5.1312902\ttotal: 8.98s\tremaining: 25.8s\n",
      "594:\tlearn: 5.1223922\ttotal: 8.98s\tremaining: 25.7s\n",
      "596:\tlearn: 5.1168498\ttotal: 8.99s\tremaining: 25.6s\n",
      "598:\tlearn: 5.1096003\ttotal: 9.08s\tremaining: 25.8s\n",
      "600:\tlearn: 5.1013946\ttotal: 9.08s\tremaining: 25.7s\n",
      "602:\tlearn: 5.0942622\ttotal: 9.09s\tremaining: 25.6s\n",
      "604:\tlearn: 5.0868581\ttotal: 9.17s\tremaining: 25.7s\n",
      "606:\tlearn: 5.0814244\ttotal: 9.18s\tremaining: 25.6s\n",
      "608:\tlearn: 5.0754966\ttotal: 9.18s\tremaining: 25.5s\n",
      "610:\tlearn: 5.0708923\ttotal: 9.19s\tremaining: 25.4s\n",
      "612:\tlearn: 5.0642662\ttotal: 9.27s\tremaining: 25.5s\n",
      "614:\tlearn: 5.0586712\ttotal: 9.28s\tremaining: 25.4s\n",
      "616:\tlearn: 5.0533548\ttotal: 9.28s\tremaining: 25.3s\n",
      "618:\tlearn: 5.0467072\ttotal: 9.37s\tremaining: 25.4s\n",
      "620:\tlearn: 5.0411708\ttotal: 9.37s\tremaining: 25.3s\n",
      "622:\tlearn: 5.0364763\ttotal: 9.38s\tremaining: 25.2s\n",
      "624:\tlearn: 5.0312820\ttotal: 9.47s\tremaining: 25.4s\n",
      "626:\tlearn: 5.0251819\ttotal: 9.47s\tremaining: 25.3s\n",
      "628:\tlearn: 5.0209769\ttotal: 9.47s\tremaining: 25.2s\n",
      "630:\tlearn: 5.0152326\ttotal: 9.56s\tremaining: 25.3s\n",
      "632:\tlearn: 5.0097172\ttotal: 9.57s\tremaining: 25.2s\n",
      "634:\tlearn: 5.0048441\ttotal: 9.57s\tremaining: 25.1s\n",
      "636:\tlearn: 4.9976033\ttotal: 9.66s\tremaining: 25.2s\n",
      "638:\tlearn: 4.9911776\ttotal: 9.66s\tremaining: 25.1s\n",
      "640:\tlearn: 4.9852689\ttotal: 9.67s\tremaining: 25s\n",
      "642:\tlearn: 4.9797372\ttotal: 9.68s\tremaining: 24.9s\n",
      "644:\tlearn: 4.9750026\ttotal: 9.76s\tremaining: 25s\n",
      "646:\tlearn: 4.9685128\ttotal: 9.76s\tremaining: 24.9s\n",
      "648:\tlearn: 4.9632307\ttotal: 9.77s\tremaining: 24.9s\n",
      "650:\tlearn: 4.9595694\ttotal: 9.86s\tremaining: 25s\n",
      "652:\tlearn: 4.9534378\ttotal: 9.86s\tremaining: 24.9s\n",
      "654:\tlearn: 4.9453184\ttotal: 9.87s\tremaining: 24.8s\n",
      "656:\tlearn: 4.9399579\ttotal: 9.95s\tremaining: 24.9s\n",
      "658:\tlearn: 4.9336642\ttotal: 9.96s\tremaining: 24.8s\n",
      "660:\tlearn: 4.9317190\ttotal: 9.96s\tremaining: 24.7s\n",
      "662:\tlearn: 4.9261200\ttotal: 10.1s\tremaining: 24.8s\n",
      "664:\tlearn: 4.9203261\ttotal: 10.1s\tremaining: 24.7s\n",
      "666:\tlearn: 4.9134732\ttotal: 10.1s\tremaining: 24.6s\n",
      "668:\tlearn: 4.9089295\ttotal: 10.1s\tremaining: 24.7s\n",
      "670:\tlearn: 4.9017070\ttotal: 10.2s\tremaining: 24.6s\n",
      "672:\tlearn: 4.8983721\ttotal: 10.2s\tremaining: 24.6s\n",
      "674:\tlearn: 4.8941205\ttotal: 10.2s\tremaining: 24.5s\n",
      "676:\tlearn: 4.8894334\ttotal: 10.2s\tremaining: 24.6s\n",
      "678:\tlearn: 4.8855816\ttotal: 10.3s\tremaining: 24.5s\n",
      "680:\tlearn: 4.8795998\ttotal: 10.3s\tremaining: 24.4s\n",
      "682:\tlearn: 4.8752979\ttotal: 10.3s\tremaining: 24.5s\n",
      "684:\tlearn: 4.8681991\ttotal: 10.3s\tremaining: 24.4s\n",
      "686:\tlearn: 4.8631809\ttotal: 10.4s\tremaining: 24.3s\n",
      "688:\tlearn: 4.8566027\ttotal: 10.4s\tremaining: 24.4s\n",
      "690:\tlearn: 4.8541115\ttotal: 10.4s\tremaining: 24.3s\n",
      "692:\tlearn: 4.8470540\ttotal: 10.4s\tremaining: 24.2s\n",
      "694:\tlearn: 4.8428568\ttotal: 10.5s\tremaining: 24.3s\n",
      "696:\tlearn: 4.8374189\ttotal: 10.5s\tremaining: 24.2s\n",
      "698:\tlearn: 4.8331207\ttotal: 10.5s\tremaining: 24.2s\n",
      "700:\tlearn: 4.8293398\ttotal: 10.6s\tremaining: 24.1s\n",
      "702:\tlearn: 4.8244623\ttotal: 10.6s\tremaining: 24.2s\n",
      "704:\tlearn: 4.8219247\ttotal: 10.6s\tremaining: 24.1s\n",
      "706:\tlearn: 4.8184442\ttotal: 10.6s\tremaining: 24s\n",
      "708:\tlearn: 4.8132248\ttotal: 10.7s\tremaining: 24.1s\n",
      "710:\tlearn: 4.8068983\ttotal: 10.7s\tremaining: 24s\n",
      "712:\tlearn: 4.8028067\ttotal: 10.7s\tremaining: 23.9s\n",
      "714:\tlearn: 4.7976898\ttotal: 10.8s\tremaining: 23.8s\n",
      "716:\tlearn: 4.7964600\ttotal: 10.8s\tremaining: 23.9s\n",
      "718:\tlearn: 4.7920913\ttotal: 10.8s\tremaining: 23.8s\n",
      "720:\tlearn: 4.7879151\ttotal: 10.8s\tremaining: 23.7s\n",
      "722:\tlearn: 4.7829737\ttotal: 10.9s\tremaining: 23.8s\n",
      "724:\tlearn: 4.7784331\ttotal: 10.9s\tremaining: 23.8s\n",
      "726:\tlearn: 4.7741760\ttotal: 10.9s\tremaining: 23.7s\n",
      "728:\tlearn: 4.7686971\ttotal: 11s\tremaining: 23.8s\n",
      "730:\tlearn: 4.7628125\ttotal: 11s\tremaining: 23.7s\n",
      "732:\tlearn: 4.7594644\ttotal: 11s\tremaining: 23.6s\n",
      "734:\tlearn: 4.7550438\ttotal: 11.1s\tremaining: 23.7s\n",
      "736:\tlearn: 4.7500316\ttotal: 11.1s\tremaining: 23.6s\n",
      "738:\tlearn: 4.7453524\ttotal: 11.1s\tremaining: 23.5s\n",
      "740:\tlearn: 4.7402016\ttotal: 11.2s\tremaining: 23.6s\n",
      "742:\tlearn: 4.7364427\ttotal: 11.2s\tremaining: 23.5s\n",
      "744:\tlearn: 4.7349626\ttotal: 11.2s\tremaining: 23.4s\n",
      "746:\tlearn: 4.7305231\ttotal: 11.2s\tremaining: 23.4s\n",
      "748:\tlearn: 4.7265896\ttotal: 11.3s\tremaining: 23.4s\n",
      "750:\tlearn: 4.7217515\ttotal: 11.3s\tremaining: 23.4s\n",
      "752:\tlearn: 4.7151149\ttotal: 11.3s\tremaining: 23.3s\n",
      "754:\tlearn: 4.7096292\ttotal: 11.4s\tremaining: 23.4s\n",
      "756:\tlearn: 4.7056983\ttotal: 11.4s\tremaining: 23.3s\n",
      "758:\tlearn: 4.7007222\ttotal: 11.4s\tremaining: 23.2s\n",
      "760:\tlearn: 4.6959843\ttotal: 11.5s\tremaining: 23.3s\n",
      "762:\tlearn: 4.6901647\ttotal: 11.5s\tremaining: 23.2s\n",
      "764:\tlearn: 4.6851344\ttotal: 11.5s\tremaining: 23.1s\n",
      "766:\tlearn: 4.6817168\ttotal: 11.6s\tremaining: 23.2s\n",
      "768:\tlearn: 4.6786475\ttotal: 11.6s\tremaining: 23.1s\n",
      "770:\tlearn: 4.6735623\ttotal: 11.6s\tremaining: 23s\n",
      "772:\tlearn: 4.6695139\ttotal: 11.6s\tremaining: 23s\n",
      "774:\tlearn: 4.6640418\ttotal: 11.7s\tremaining: 23s\n",
      "776:\tlearn: 4.6590683\ttotal: 11.7s\tremaining: 23s\n",
      "778:\tlearn: 4.6552841\ttotal: 11.7s\tremaining: 22.9s\n",
      "780:\tlearn: 4.6485586\ttotal: 11.8s\tremaining: 23s\n",
      "782:\tlearn: 4.6423912\ttotal: 11.8s\tremaining: 22.9s\n",
      "784:\tlearn: 4.6379397\ttotal: 11.8s\tremaining: 22.8s\n",
      "786:\tlearn: 4.6324416\ttotal: 11.9s\tremaining: 22.9s\n",
      "788:\tlearn: 4.6282631\ttotal: 11.9s\tremaining: 22.8s\n",
      "790:\tlearn: 4.6233669\ttotal: 11.9s\tremaining: 22.7s\n",
      "792:\tlearn: 4.6212523\ttotal: 11.9s\tremaining: 22.6s\n",
      "794:\tlearn: 4.6178680\ttotal: 12s\tremaining: 22.7s\n",
      "796:\tlearn: 4.6140648\ttotal: 12s\tremaining: 22.6s\n",
      "798:\tlearn: 4.6104979\ttotal: 12s\tremaining: 22.6s\n",
      "800:\tlearn: 4.6084052\ttotal: 12.1s\tremaining: 22.6s\n",
      "802:\tlearn: 4.6039612\ttotal: 12.1s\tremaining: 22.6s\n",
      "804:\tlearn: 4.5975009\ttotal: 12.1s\tremaining: 22.5s\n",
      "806:\tlearn: 4.5937069\ttotal: 12.2s\tremaining: 22.6s\n",
      "808:\tlearn: 4.5882197\ttotal: 12.2s\tremaining: 22.5s\n",
      "810:\tlearn: 4.5855983\ttotal: 12.2s\tremaining: 22.4s\n",
      "812:\tlearn: 4.5831214\ttotal: 12.3s\tremaining: 22.5s\n",
      "814:\tlearn: 4.5777557\ttotal: 12.3s\tremaining: 22.4s\n",
      "816:\tlearn: 4.5730553\ttotal: 12.3s\tremaining: 22.3s\n",
      "818:\tlearn: 4.5710832\ttotal: 12.4s\tremaining: 22.4s\n",
      "820:\tlearn: 4.5684872\ttotal: 12.4s\tremaining: 22.3s\n",
      "822:\tlearn: 4.5623047\ttotal: 12.4s\tremaining: 22.2s\n",
      "824:\tlearn: 4.5588456\ttotal: 12.5s\tremaining: 22.3s\n",
      "826:\tlearn: 4.5546496\ttotal: 12.5s\tremaining: 22.2s\n",
      "828:\tlearn: 4.5503115\ttotal: 12.5s\tremaining: 22.2s\n",
      "830:\tlearn: 4.5476280\ttotal: 12.5s\tremaining: 22.1s\n",
      "832:\tlearn: 4.5453987\ttotal: 12.6s\tremaining: 22.2s\n",
      "834:\tlearn: 4.5417026\ttotal: 12.6s\tremaining: 22.1s\n",
      "836:\tlearn: 4.5392364\ttotal: 12.6s\tremaining: 22s\n",
      "838:\tlearn: 4.5340476\ttotal: 12.7s\tremaining: 22.1s\n",
      "840:\tlearn: 4.5317009\ttotal: 12.7s\tremaining: 22s\n",
      "842:\tlearn: 4.5286640\ttotal: 12.7s\tremaining: 21.9s\n",
      "844:\tlearn: 4.5231519\ttotal: 12.8s\tremaining: 22s\n",
      "846:\tlearn: 4.5192647\ttotal: 12.8s\tremaining: 21.9s\n",
      "848:\tlearn: 4.5149416\ttotal: 12.8s\tremaining: 21.8s\n",
      "850:\tlearn: 4.5132142\ttotal: 12.8s\tremaining: 21.8s\n",
      "852:\tlearn: 4.5070274\ttotal: 12.9s\tremaining: 21.8s\n",
      "854:\tlearn: 4.5019745\ttotal: 12.9s\tremaining: 21.8s\n",
      "856:\tlearn: 4.4988243\ttotal: 12.9s\tremaining: 21.7s\n",
      "858:\tlearn: 4.4966425\ttotal: 13s\tremaining: 21.8s\n",
      "860:\tlearn: 4.4915302\ttotal: 13s\tremaining: 21.7s\n",
      "862:\tlearn: 4.4891224\ttotal: 13s\tremaining: 21.6s\n",
      "864:\tlearn: 4.4850055\ttotal: 13.1s\tremaining: 21.7s\n",
      "866:\tlearn: 4.4824014\ttotal: 13.1s\tremaining: 21.6s\n",
      "868:\tlearn: 4.4774583\ttotal: 13.1s\tremaining: 21.5s\n",
      "870:\tlearn: 4.4728888\ttotal: 13.1s\tremaining: 21.5s\n",
      "872:\tlearn: 4.4659322\ttotal: 13.2s\tremaining: 21.5s\n",
      "874:\tlearn: 4.4631028\ttotal: 13.2s\tremaining: 21.4s\n",
      "876:\tlearn: 4.4611257\ttotal: 13.2s\tremaining: 21.4s\n",
      "878:\tlearn: 4.4597316\ttotal: 13.3s\tremaining: 21.4s\n",
      "880:\tlearn: 4.4564016\ttotal: 13.3s\tremaining: 21.4s\n",
      "882:\tlearn: 4.4522147\ttotal: 13.3s\tremaining: 21.3s\n",
      "884:\tlearn: 4.4504840\ttotal: 13.4s\tremaining: 21.4s\n",
      "886:\tlearn: 4.4463481\ttotal: 13.4s\tremaining: 21.3s\n",
      "888:\tlearn: 4.4428863\ttotal: 13.4s\tremaining: 21.2s\n",
      "890:\tlearn: 4.4415477\ttotal: 13.5s\tremaining: 21.3s\n",
      "892:\tlearn: 4.4381613\ttotal: 13.5s\tremaining: 21.2s\n",
      "894:\tlearn: 4.4347331\ttotal: 13.5s\tremaining: 21.1s\n",
      "896:\tlearn: 4.4309104\ttotal: 13.5s\tremaining: 21.1s\n",
      "898:\tlearn: 4.4253142\ttotal: 13.6s\tremaining: 21.1s\n",
      "900:\tlearn: 4.4201895\ttotal: 13.6s\tremaining: 21.1s\n",
      "902:\tlearn: 4.4160582\ttotal: 13.6s\tremaining: 21s\n",
      "904:\tlearn: 4.4138271\ttotal: 13.7s\tremaining: 21s\n",
      "906:\tlearn: 4.4076192\ttotal: 13.7s\tremaining: 21s\n",
      "908:\tlearn: 4.4039180\ttotal: 13.7s\tremaining: 20.9s\n",
      "910:\tlearn: 4.4007685\ttotal: 13.7s\tremaining: 21s\n",
      "912:\tlearn: 4.3977732\ttotal: 13.8s\tremaining: 20.9s\n",
      "914:\tlearn: 4.3950609\ttotal: 13.8s\tremaining: 21s\n",
      "916:\tlearn: 4.3911606\ttotal: 13.8s\tremaining: 20.9s\n",
      "918:\tlearn: 4.3860253\ttotal: 13.8s\tremaining: 20.8s\n",
      "920:\tlearn: 4.3817141\ttotal: 13.9s\tremaining: 20.8s\n",
      "922:\tlearn: 4.3791785\ttotal: 13.9s\tremaining: 20.8s\n",
      "924:\tlearn: 4.3751306\ttotal: 13.9s\tremaining: 20.7s\n",
      "926:\tlearn: 4.3693611\ttotal: 14s\tremaining: 20.7s\n",
      "928:\tlearn: 4.3648260\ttotal: 14s\tremaining: 20.7s\n",
      "930:\tlearn: 4.3601239\ttotal: 14s\tremaining: 20.6s\n",
      "932:\tlearn: 4.3545861\ttotal: 14.1s\tremaining: 20.6s\n",
      "934:\tlearn: 4.3505057\ttotal: 14.1s\tremaining: 20.6s\n",
      "936:\tlearn: 4.3468907\ttotal: 14.1s\tremaining: 20.6s\n",
      "938:\tlearn: 4.3429548\ttotal: 14.1s\tremaining: 20.5s\n",
      "940:\tlearn: 4.3410550\ttotal: 14.2s\tremaining: 20.5s\n",
      "942:\tlearn: 4.3386990\ttotal: 14.2s\tremaining: 20.5s\n",
      "944:\tlearn: 4.3362129\ttotal: 14.2s\tremaining: 20.4s\n",
      "946:\tlearn: 4.3315628\ttotal: 14.3s\tremaining: 20.5s\n",
      "948:\tlearn: 4.3279957\ttotal: 14.3s\tremaining: 20.4s\n",
      "950:\tlearn: 4.3230540\ttotal: 14.3s\tremaining: 20.3s\n",
      "952:\tlearn: 4.3195596\ttotal: 14.3s\tremaining: 20.3s\n",
      "954:\tlearn: 4.3154084\ttotal: 14.4s\tremaining: 20.3s\n",
      "956:\tlearn: 4.3127808\ttotal: 14.4s\tremaining: 20.3s\n",
      "958:\tlearn: 4.3092611\ttotal: 14.5s\tremaining: 20.3s\n",
      "960:\tlearn: 4.3051557\ttotal: 14.5s\tremaining: 20.2s\n",
      "962:\tlearn: 4.3021077\ttotal: 14.5s\tremaining: 20.2s\n",
      "964:\tlearn: 4.2985478\ttotal: 14.5s\tremaining: 20.1s\n",
      "966:\tlearn: 4.2935110\ttotal: 14.6s\tremaining: 20.1s\n",
      "968:\tlearn: 4.2877276\ttotal: 14.6s\tremaining: 20.1s\n",
      "970:\tlearn: 4.2838377\ttotal: 14.6s\tremaining: 20s\n",
      "972:\tlearn: 4.2818255\ttotal: 14.7s\tremaining: 20.1s\n",
      "974:\tlearn: 4.2789283\ttotal: 14.7s\tremaining: 20s\n",
      "976:\tlearn: 4.2759811\ttotal: 14.7s\tremaining: 19.9s\n",
      "978:\tlearn: 4.2731955\ttotal: 14.7s\tremaining: 19.9s\n",
      "980:\tlearn: 4.2690288\ttotal: 14.8s\tremaining: 19.9s\n",
      "982:\tlearn: 4.2654109\ttotal: 14.8s\tremaining: 19.8s\n",
      "984:\tlearn: 4.2619490\ttotal: 14.8s\tremaining: 19.8s\n",
      "986:\tlearn: 4.2566164\ttotal: 14.9s\tremaining: 19.8s\n",
      "988:\tlearn: 4.2547280\ttotal: 14.9s\tremaining: 19.8s\n",
      "990:\tlearn: 4.2506825\ttotal: 14.9s\tremaining: 19.7s\n",
      "992:\tlearn: 4.2490137\ttotal: 14.9s\tremaining: 19.6s\n",
      "994:\tlearn: 4.2452075\ttotal: 15s\tremaining: 19.7s\n",
      "996:\tlearn: 4.2429692\ttotal: 15s\tremaining: 19.6s\n",
      "998:\tlearn: 4.2416102\ttotal: 15s\tremaining: 19.6s\n",
      "1000:\tlearn: 4.2383076\ttotal: 15.1s\tremaining: 19.6s\n",
      "1002:\tlearn: 4.2347072\ttotal: 15.1s\tremaining: 19.5s\n",
      "1004:\tlearn: 4.2324433\ttotal: 15.1s\tremaining: 19.5s\n",
      "1006:\tlearn: 4.2292644\ttotal: 15.2s\tremaining: 19.5s\n",
      "1008:\tlearn: 4.2262439\ttotal: 15.2s\tremaining: 19.5s\n",
      "1010:\tlearn: 4.2229434\ttotal: 15.2s\tremaining: 19.4s\n",
      "1012:\tlearn: 4.2197007\ttotal: 15.3s\tremaining: 19.4s\n",
      "1014:\tlearn: 4.2168617\ttotal: 15.3s\tremaining: 19.4s\n",
      "1016:\tlearn: 4.2150277\ttotal: 15.3s\tremaining: 19.3s\n",
      "1018:\tlearn: 4.2130343\ttotal: 15.3s\tremaining: 19.3s\n",
      "1020:\tlearn: 4.2101237\ttotal: 15.4s\tremaining: 19.3s\n",
      "1022:\tlearn: 4.2051148\ttotal: 15.4s\tremaining: 19.2s\n",
      "1024:\tlearn: 4.2019737\ttotal: 15.4s\tremaining: 19.2s\n",
      "1026:\tlearn: 4.1997574\ttotal: 15.5s\tremaining: 19.2s\n",
      "1028:\tlearn: 4.1973801\ttotal: 15.5s\tremaining: 19.1s\n",
      "1030:\tlearn: 4.1937954\ttotal: 15.5s\tremaining: 19.1s\n",
      "1032:\tlearn: 4.1923247\ttotal: 15.5s\tremaining: 19s\n",
      "1034:\tlearn: 4.1908429\ttotal: 15.6s\tremaining: 19.1s\n",
      "1036:\tlearn: 4.1883857\ttotal: 15.6s\tremaining: 19s\n",
      "1038:\tlearn: 4.1855800\ttotal: 15.6s\tremaining: 18.9s\n",
      "1040:\tlearn: 4.1801532\ttotal: 15.7s\tremaining: 19s\n",
      "1042:\tlearn: 4.1767551\ttotal: 15.7s\tremaining: 18.9s\n",
      "1044:\tlearn: 4.1723084\ttotal: 15.7s\tremaining: 18.8s\n",
      "1046:\tlearn: 4.1675911\ttotal: 15.8s\tremaining: 18.9s\n",
      "1048:\tlearn: 4.1630606\ttotal: 15.8s\tremaining: 18.8s\n",
      "1050:\tlearn: 4.1603800\ttotal: 15.8s\tremaining: 18.8s\n",
      "1052:\tlearn: 4.1558565\ttotal: 15.9s\tremaining: 18.8s\n",
      "1054:\tlearn: 4.1555469\ttotal: 15.9s\tremaining: 18.7s\n",
      "1056:\tlearn: 4.1521180\ttotal: 15.9s\tremaining: 18.7s\n",
      "1058:\tlearn: 4.1478764\ttotal: 15.9s\tremaining: 18.6s\n",
      "1060:\tlearn: 4.1445319\ttotal: 16s\tremaining: 18.7s\n",
      "1062:\tlearn: 4.1411236\ttotal: 16s\tremaining: 18.6s\n",
      "1064:\tlearn: 4.1382069\ttotal: 16s\tremaining: 18.5s\n",
      "1066:\tlearn: 4.1378642\ttotal: 16.1s\tremaining: 18.6s\n",
      "1068:\tlearn: 4.1348589\ttotal: 16.1s\tremaining: 18.5s\n",
      "1070:\tlearn: 4.1314177\ttotal: 16.1s\tremaining: 18.5s\n",
      "1072:\tlearn: 4.1287533\ttotal: 16.1s\tremaining: 18.4s\n",
      "1074:\tlearn: 4.1249056\ttotal: 16.2s\tremaining: 18.4s\n",
      "1076:\tlearn: 4.1199427\ttotal: 16.2s\tremaining: 18.4s\n",
      "1078:\tlearn: 4.1166717\ttotal: 16.2s\tremaining: 18.3s\n",
      "1080:\tlearn: 4.1133078\ttotal: 16.3s\tremaining: 18.3s\n",
      "1082:\tlearn: 4.1092054\ttotal: 16.3s\tremaining: 18.3s\n",
      "1084:\tlearn: 4.1070184\ttotal: 16.3s\tremaining: 18.2s\n",
      "1086:\tlearn: 4.1019760\ttotal: 16.4s\tremaining: 18.3s\n",
      "1088:\tlearn: 4.0983823\ttotal: 16.4s\tremaining: 18.2s\n",
      "1090:\tlearn: 4.0950625\ttotal: 16.4s\tremaining: 18.1s\n",
      "1092:\tlearn: 4.0900600\ttotal: 16.5s\tremaining: 18.2s\n",
      "1094:\tlearn: 4.0877022\ttotal: 16.5s\tremaining: 18.1s\n",
      "1096:\tlearn: 4.0837750\ttotal: 16.5s\tremaining: 18.1s\n",
      "1098:\tlearn: 4.0785194\ttotal: 16.6s\tremaining: 18.1s\n",
      "1100:\tlearn: 4.0744826\ttotal: 16.6s\tremaining: 18s\n",
      "1102:\tlearn: 4.0694836\ttotal: 16.6s\tremaining: 18s\n",
      "1104:\tlearn: 4.0652448\ttotal: 16.7s\tremaining: 18s\n",
      "1106:\tlearn: 4.0623721\ttotal: 16.7s\tremaining: 18s\n",
      "1108:\tlearn: 4.0588145\ttotal: 16.7s\tremaining: 17.9s\n",
      "1110:\tlearn: 4.0556465\ttotal: 16.7s\tremaining: 17.8s\n",
      "1112:\tlearn: 4.0531700\ttotal: 16.8s\tremaining: 17.9s\n",
      "1114:\tlearn: 4.0495205\ttotal: 16.8s\tremaining: 17.8s\n",
      "1116:\tlearn: 4.0462949\ttotal: 16.8s\tremaining: 17.8s\n",
      "1118:\tlearn: 4.0424718\ttotal: 16.9s\tremaining: 17.8s\n",
      "1120:\tlearn: 4.0392032\ttotal: 16.9s\tremaining: 17.7s\n",
      "1122:\tlearn: 4.0369105\ttotal: 16.9s\tremaining: 17.7s\n",
      "1124:\tlearn: 4.0358129\ttotal: 17s\tremaining: 17.7s\n",
      "1126:\tlearn: 4.0341975\ttotal: 17s\tremaining: 17.6s\n",
      "1128:\tlearn: 4.0296137\ttotal: 17s\tremaining: 17.6s\n",
      "1130:\tlearn: 4.0275708\ttotal: 17s\tremaining: 17.5s\n",
      "1132:\tlearn: 4.0260449\ttotal: 17s\tremaining: 17.6s\n",
      "1134:\tlearn: 4.0244598\ttotal: 17.1s\tremaining: 17.5s\n",
      "1136:\tlearn: 4.0216890\ttotal: 17.1s\tremaining: 17.5s\n",
      "1138:\tlearn: 4.0178647\ttotal: 17.1s\tremaining: 17.5s\n",
      "1140:\tlearn: 4.0157633\ttotal: 17.1s\tremaining: 17.4s\n",
      "1142:\tlearn: 4.0117533\ttotal: 17.2s\tremaining: 17.4s\n",
      "1144:\tlearn: 4.0086082\ttotal: 17.2s\tremaining: 17.4s\n",
      "1146:\tlearn: 4.0060210\ttotal: 17.2s\tremaining: 17.3s\n",
      "1148:\tlearn: 4.0035195\ttotal: 17.2s\tremaining: 17.3s\n",
      "1150:\tlearn: 4.0008922\ttotal: 17.3s\tremaining: 17.3s\n",
      "1152:\tlearn: 3.9982006\ttotal: 17.3s\tremaining: 17.3s\n",
      "1154:\tlearn: 3.9956395\ttotal: 17.3s\tremaining: 17.2s\n",
      "1156:\tlearn: 3.9916576\ttotal: 17.4s\tremaining: 17.1s\n",
      "1158:\tlearn: 3.9887329\ttotal: 17.4s\tremaining: 17.2s\n",
      "1160:\tlearn: 3.9851415\ttotal: 17.4s\tremaining: 17.1s\n",
      "1162:\tlearn: 3.9816336\ttotal: 17.5s\tremaining: 17.1s\n",
      "1164:\tlearn: 3.9783900\ttotal: 17.5s\tremaining: 17.1s\n",
      "1166:\tlearn: 3.9760460\ttotal: 17.5s\tremaining: 17s\n",
      "1168:\tlearn: 3.9734222\ttotal: 17.5s\tremaining: 17s\n",
      "1170:\tlearn: 3.9719717\ttotal: 17.6s\tremaining: 17s\n",
      "1172:\tlearn: 3.9707818\ttotal: 17.6s\tremaining: 16.9s\n",
      "1174:\tlearn: 3.9674186\ttotal: 17.6s\tremaining: 16.9s\n",
      "1176:\tlearn: 3.9621426\ttotal: 17.7s\tremaining: 16.9s\n",
      "1178:\tlearn: 3.9607822\ttotal: 17.7s\tremaining: 16.9s\n",
      "1180:\tlearn: 3.9589195\ttotal: 17.7s\tremaining: 16.8s\n",
      "1182:\tlearn: 3.9545503\ttotal: 17.7s\tremaining: 16.7s\n",
      "1184:\tlearn: 3.9501575\ttotal: 17.8s\tremaining: 16.8s\n",
      "1186:\tlearn: 3.9471757\ttotal: 17.8s\tremaining: 16.7s\n",
      "1188:\tlearn: 3.9437542\ttotal: 17.8s\tremaining: 16.7s\n",
      "1190:\tlearn: 3.9429925\ttotal: 17.9s\tremaining: 16.7s\n",
      "1192:\tlearn: 3.9402270\ttotal: 17.9s\tremaining: 16.6s\n",
      "1194:\tlearn: 3.9388341\ttotal: 17.9s\tremaining: 16.6s\n",
      "1196:\tlearn: 3.9381659\ttotal: 18s\tremaining: 16.6s\n",
      "1198:\tlearn: 3.9365691\ttotal: 18s\tremaining: 16.5s\n",
      "1200:\tlearn: 3.9326523\ttotal: 18s\tremaining: 16.5s\n",
      "1202:\tlearn: 3.9291520\ttotal: 18.1s\tremaining: 16.5s\n",
      "1204:\tlearn: 3.9261900\ttotal: 18.1s\tremaining: 16.5s\n",
      "1206:\tlearn: 3.9224784\ttotal: 18.1s\tremaining: 16.4s\n",
      "1208:\tlearn: 3.9203976\ttotal: 18.2s\tremaining: 16.4s\n",
      "1210:\tlearn: 3.9187265\ttotal: 18.2s\tremaining: 16.4s\n",
      "1212:\tlearn: 3.9132625\ttotal: 18.2s\tremaining: 16.3s\n",
      "1214:\tlearn: 3.9100913\ttotal: 18.3s\tremaining: 16.3s\n",
      "1216:\tlearn: 3.9083174\ttotal: 18.3s\tremaining: 16.3s\n",
      "1218:\tlearn: 3.9057587\ttotal: 18.3s\tremaining: 16.2s\n",
      "1220:\tlearn: 3.9023991\ttotal: 18.4s\tremaining: 16.3s\n",
      "1222:\tlearn: 3.9004660\ttotal: 18.4s\tremaining: 16.2s\n",
      "1224:\tlearn: 3.8977249\ttotal: 18.4s\tremaining: 16.2s\n",
      "1226:\tlearn: 3.8958080\ttotal: 18.4s\tremaining: 16.1s\n",
      "1228:\tlearn: 3.8926225\ttotal: 18.5s\tremaining: 16.1s\n",
      "1230:\tlearn: 3.8903025\ttotal: 18.5s\tremaining: 16.1s\n",
      "1232:\tlearn: 3.8878919\ttotal: 18.5s\tremaining: 16s\n",
      "1234:\tlearn: 3.8853367\ttotal: 18.6s\tremaining: 16s\n",
      "1236:\tlearn: 3.8829575\ttotal: 18.6s\tremaining: 16s\n",
      "1238:\tlearn: 3.8799979\ttotal: 18.6s\tremaining: 15.9s\n",
      "1240:\tlearn: 3.8760665\ttotal: 18.7s\tremaining: 16s\n",
      "1242:\tlearn: 3.8733618\ttotal: 18.7s\tremaining: 15.9s\n",
      "1244:\tlearn: 3.8715152\ttotal: 18.7s\tremaining: 15.9s\n",
      "1246:\tlearn: 3.8692727\ttotal: 18.7s\tremaining: 15.8s\n",
      "1248:\tlearn: 3.8660465\ttotal: 18.8s\tremaining: 15.8s\n",
      "1250:\tlearn: 3.8637200\ttotal: 18.8s\tremaining: 15.8s\n",
      "1252:\tlearn: 3.8615461\ttotal: 18.8s\tremaining: 15.7s\n",
      "1254:\tlearn: 3.8612886\ttotal: 18.9s\tremaining: 15.7s\n",
      "1256:\tlearn: 3.8583965\ttotal: 18.9s\tremaining: 15.7s\n",
      "1258:\tlearn: 3.8556418\ttotal: 18.9s\tremaining: 15.6s\n",
      "1260:\tlearn: 3.8533089\ttotal: 19s\tremaining: 15.6s\n",
      "1262:\tlearn: 3.8507585\ttotal: 19s\tremaining: 15.6s\n",
      "1264:\tlearn: 3.8458866\ttotal: 19s\tremaining: 15.5s\n",
      "1266:\tlearn: 3.8431678\ttotal: 19.1s\tremaining: 15.6s\n",
      "1268:\tlearn: 3.8407080\ttotal: 19.1s\tremaining: 15.5s\n",
      "1270:\tlearn: 3.8388220\ttotal: 19.1s\tremaining: 15.5s\n",
      "1272:\tlearn: 3.8366847\ttotal: 19.1s\tremaining: 15.4s\n",
      "1274:\tlearn: 3.8355252\ttotal: 19.2s\tremaining: 15.4s\n",
      "1276:\tlearn: 3.8323178\ttotal: 19.2s\tremaining: 15.4s\n",
      "1278:\tlearn: 3.8291030\ttotal: 19.2s\tremaining: 15.3s\n",
      "1280:\tlearn: 3.8245461\ttotal: 19.3s\tremaining: 15.3s\n",
      "1282:\tlearn: 3.8220176\ttotal: 19.3s\tremaining: 15.3s\n",
      "1284:\tlearn: 3.8165486\ttotal: 19.3s\tremaining: 15.2s\n",
      "1286:\tlearn: 3.8133743\ttotal: 19.4s\tremaining: 15.3s\n",
      "1288:\tlearn: 3.8115256\ttotal: 19.4s\tremaining: 15.2s\n",
      "1290:\tlearn: 3.8067834\ttotal: 19.4s\tremaining: 15.2s\n",
      "1292:\tlearn: 3.8039516\ttotal: 19.5s\tremaining: 15.2s\n",
      "1294:\tlearn: 3.8007375\ttotal: 19.5s\tremaining: 15.1s\n",
      "1296:\tlearn: 3.7981442\ttotal: 19.5s\tremaining: 15.1s\n",
      "1298:\tlearn: 3.7967555\ttotal: 19.6s\tremaining: 15.1s\n",
      "1300:\tlearn: 3.7924164\ttotal: 19.6s\tremaining: 15s\n",
      "1302:\tlearn: 3.7898486\ttotal: 19.6s\tremaining: 15s\n",
      "1304:\tlearn: 3.7883657\ttotal: 19.7s\tremaining: 15s\n",
      "1306:\tlearn: 3.7861527\ttotal: 19.7s\tremaining: 14.9s\n",
      "1308:\tlearn: 3.7828845\ttotal: 19.7s\tremaining: 14.9s\n",
      "1310:\tlearn: 3.7792794\ttotal: 19.8s\tremaining: 14.9s\n",
      "1312:\tlearn: 3.7770859\ttotal: 19.8s\tremaining: 14.9s\n",
      "1314:\tlearn: 3.7732940\ttotal: 19.8s\tremaining: 14.8s\n",
      "1316:\tlearn: 3.7709916\ttotal: 19.8s\tremaining: 14.8s\n",
      "1318:\tlearn: 3.7684159\ttotal: 19.9s\tremaining: 14.8s\n",
      "1320:\tlearn: 3.7666993\ttotal: 19.9s\tremaining: 14.7s\n",
      "1322:\tlearn: 3.7644055\ttotal: 19.9s\tremaining: 14.7s\n",
      "1324:\tlearn: 3.7623070\ttotal: 20s\tremaining: 14.7s\n",
      "1326:\tlearn: 3.7589088\ttotal: 20s\tremaining: 14.6s\n",
      "1328:\tlearn: 3.7564629\ttotal: 20s\tremaining: 14.6s\n",
      "1330:\tlearn: 3.7529119\ttotal: 20.1s\tremaining: 14.6s\n",
      "1332:\tlearn: 3.7509578\ttotal: 20.1s\tremaining: 14.6s\n",
      "1334:\tlearn: 3.7485824\ttotal: 20.1s\tremaining: 14.5s\n",
      "1336:\tlearn: 3.7452904\ttotal: 20.2s\tremaining: 14.5s\n",
      "1338:\tlearn: 3.7426552\ttotal: 20.2s\tremaining: 14.5s\n",
      "1340:\tlearn: 3.7396537\ttotal: 20.2s\tremaining: 14.4s\n",
      "1342:\tlearn: 3.7365117\ttotal: 20.3s\tremaining: 14.4s\n",
      "1344:\tlearn: 3.7349739\ttotal: 20.3s\tremaining: 14.4s\n",
      "1346:\tlearn: 3.7328900\ttotal: 20.3s\tremaining: 14.3s\n",
      "1348:\tlearn: 3.7288131\ttotal: 20.3s\tremaining: 14.3s\n",
      "1350:\tlearn: 3.7241223\ttotal: 20.4s\tremaining: 14.3s\n",
      "1352:\tlearn: 3.7202589\ttotal: 20.4s\tremaining: 14.2s\n",
      "1354:\tlearn: 3.7185224\ttotal: 20.4s\tremaining: 14.2s\n",
      "1356:\tlearn: 3.7165901\ttotal: 20.4s\tremaining: 14.2s\n",
      "1358:\tlearn: 3.7139720\ttotal: 20.5s\tremaining: 14.2s\n",
      "1360:\tlearn: 3.7118851\ttotal: 20.5s\tremaining: 14.1s\n",
      "1362:\tlearn: 3.7092092\ttotal: 20.5s\tremaining: 14.1s\n",
      "1364:\tlearn: 3.7069488\ttotal: 20.6s\tremaining: 14.1s\n",
      "1366:\tlearn: 3.7066735\ttotal: 20.6s\tremaining: 14s\n",
      "1368:\tlearn: 3.7043049\ttotal: 20.6s\tremaining: 14s\n",
      "1370:\tlearn: 3.7009770\ttotal: 20.6s\tremaining: 14s\n",
      "1372:\tlearn: 3.6992170\ttotal: 20.6s\tremaining: 13.9s\n",
      "1374:\tlearn: 3.6964360\ttotal: 20.7s\tremaining: 13.9s\n",
      "1376:\tlearn: 3.6937943\ttotal: 20.7s\tremaining: 13.9s\n",
      "1378:\tlearn: 3.6904280\ttotal: 20.7s\tremaining: 13.9s\n",
      "1380:\tlearn: 3.6886927\ttotal: 20.7s\tremaining: 13.8s\n",
      "1382:\tlearn: 3.6836240\ttotal: 20.8s\tremaining: 13.8s\n",
      "1384:\tlearn: 3.6824404\ttotal: 20.8s\tremaining: 13.8s\n",
      "1386:\tlearn: 3.6796833\ttotal: 20.9s\tremaining: 13.7s\n",
      "1388:\tlearn: 3.6773277\ttotal: 20.9s\tremaining: 13.7s\n",
      "1390:\tlearn: 3.6748148\ttotal: 20.9s\tremaining: 13.7s\n",
      "1392:\tlearn: 3.6726779\ttotal: 20.9s\tremaining: 13.6s\n",
      "1394:\tlearn: 3.6697644\ttotal: 21s\tremaining: 13.6s\n",
      "1396:\tlearn: 3.6677566\ttotal: 21s\tremaining: 13.6s\n",
      "1398:\tlearn: 3.6667183\ttotal: 21s\tremaining: 13.5s\n",
      "1400:\tlearn: 3.6638219\ttotal: 21.1s\tremaining: 13.5s\n",
      "1402:\tlearn: 3.6609825\ttotal: 21.1s\tremaining: 13.5s\n",
      "1404:\tlearn: 3.6586667\ttotal: 21.1s\tremaining: 13.5s\n",
      "1406:\tlearn: 3.6547603\ttotal: 21.1s\tremaining: 13.4s\n",
      "1408:\tlearn: 3.6516482\ttotal: 21.2s\tremaining: 13.4s\n",
      "1410:\tlearn: 3.6493164\ttotal: 21.2s\tremaining: 13.4s\n",
      "1412:\tlearn: 3.6470194\ttotal: 21.2s\tremaining: 13.3s\n",
      "1414:\tlearn: 3.6456340\ttotal: 21.2s\tremaining: 13.3s\n",
      "1416:\tlearn: 3.6428682\ttotal: 21.3s\tremaining: 13.3s\n",
      "1418:\tlearn: 3.6421706\ttotal: 21.3s\tremaining: 13.2s\n",
      "1420:\tlearn: 3.6394262\ttotal: 21.3s\tremaining: 13.2s\n",
      "1422:\tlearn: 3.6366263\ttotal: 21.4s\tremaining: 13.2s\n",
      "1424:\tlearn: 3.6344176\ttotal: 21.4s\tremaining: 13.2s\n",
      "1426:\tlearn: 3.6316535\ttotal: 21.4s\tremaining: 13.1s\n",
      "1428:\tlearn: 3.6305267\ttotal: 21.5s\tremaining: 13.1s\n",
      "1430:\tlearn: 3.6263210\ttotal: 21.5s\tremaining: 13.1s\n",
      "1432:\tlearn: 3.6226775\ttotal: 21.5s\tremaining: 13s\n",
      "1434:\tlearn: 3.6198572\ttotal: 21.5s\tremaining: 13s\n",
      "1436:\tlearn: 3.6176488\ttotal: 21.6s\tremaining: 13s\n",
      "1438:\tlearn: 3.6152957\ttotal: 21.6s\tremaining: 12.9s\n",
      "1440:\tlearn: 3.6135429\ttotal: 21.6s\tremaining: 12.9s\n",
      "1442:\tlearn: 3.6116516\ttotal: 21.7s\tremaining: 12.9s\n",
      "1444:\tlearn: 3.6098981\ttotal: 21.7s\tremaining: 12.8s\n",
      "1446:\tlearn: 3.6074035\ttotal: 21.7s\tremaining: 12.8s\n",
      "1448:\tlearn: 3.6056198\ttotal: 21.8s\tremaining: 12.8s\n",
      "1450:\tlearn: 3.6033708\ttotal: 21.8s\tremaining: 12.8s\n",
      "1452:\tlearn: 3.6011196\ttotal: 21.8s\tremaining: 12.7s\n",
      "1454:\tlearn: 3.5961069\ttotal: 21.9s\tremaining: 12.7s\n",
      "1456:\tlearn: 3.5933510\ttotal: 21.9s\tremaining: 12.7s\n",
      "1458:\tlearn: 3.5900450\ttotal: 21.9s\tremaining: 12.6s\n",
      "1460:\tlearn: 3.5883200\ttotal: 22s\tremaining: 12.6s\n",
      "1462:\tlearn: 3.5868059\ttotal: 22s\tremaining: 12.6s\n",
      "1464:\tlearn: 3.5832417\ttotal: 22s\tremaining: 12.5s\n",
      "1466:\tlearn: 3.5813899\ttotal: 22s\tremaining: 12.5s\n",
      "1468:\tlearn: 3.5793791\ttotal: 22.1s\tremaining: 12.5s\n",
      "1470:\tlearn: 3.5773846\ttotal: 22.1s\tremaining: 12.5s\n",
      "1472:\tlearn: 3.5763112\ttotal: 22.1s\tremaining: 12.4s\n",
      "1474:\tlearn: 3.5741337\ttotal: 22.2s\tremaining: 12.4s\n",
      "1476:\tlearn: 3.5707392\ttotal: 22.2s\tremaining: 12.4s\n",
      "1478:\tlearn: 3.5685392\ttotal: 22.2s\tremaining: 12.3s\n",
      "1480:\tlearn: 3.5663802\ttotal: 22.3s\tremaining: 12.3s\n",
      "1482:\tlearn: 3.5639697\ttotal: 22.3s\tremaining: 12.3s\n",
      "1484:\tlearn: 3.5603993\ttotal: 22.3s\tremaining: 12.2s\n",
      "1486:\tlearn: 3.5591707\ttotal: 22.4s\tremaining: 12.2s\n",
      "1488:\tlearn: 3.5562704\ttotal: 22.4s\tremaining: 12.2s\n",
      "1490:\tlearn: 3.5520155\ttotal: 22.4s\tremaining: 12.2s\n",
      "1492:\tlearn: 3.5491573\ttotal: 22.5s\tremaining: 12.2s\n",
      "1494:\tlearn: 3.5466027\ttotal: 22.5s\tremaining: 12.1s\n",
      "1496:\tlearn: 3.5446664\ttotal: 22.5s\tremaining: 12.1s\n",
      "1498:\tlearn: 3.5431031\ttotal: 22.5s\tremaining: 12s\n",
      "1500:\tlearn: 3.5429642\ttotal: 22.6s\tremaining: 12s\n",
      "1502:\tlearn: 3.5396381\ttotal: 22.6s\tremaining: 12s\n",
      "1504:\tlearn: 3.5376738\ttotal: 22.6s\tremaining: 11.9s\n",
      "1506:\tlearn: 3.5368711\ttotal: 22.7s\tremaining: 11.9s\n",
      "1508:\tlearn: 3.5347917\ttotal: 22.7s\tremaining: 11.9s\n",
      "1510:\tlearn: 3.5329769\ttotal: 22.7s\tremaining: 11.8s\n",
      "1512:\tlearn: 3.5310780\ttotal: 22.8s\tremaining: 11.8s\n",
      "1514:\tlearn: 3.5296115\ttotal: 22.8s\tremaining: 11.8s\n",
      "1516:\tlearn: 3.5268680\ttotal: 22.8s\tremaining: 11.8s\n",
      "1518:\tlearn: 3.5248227\ttotal: 22.8s\tremaining: 11.7s\n",
      "1520:\tlearn: 3.5220904\ttotal: 22.9s\tremaining: 11.7s\n",
      "1522:\tlearn: 3.5196606\ttotal: 22.9s\tremaining: 11.7s\n",
      "1524:\tlearn: 3.5170613\ttotal: 22.9s\tremaining: 11.6s\n",
      "1526:\tlearn: 3.5154691\ttotal: 23s\tremaining: 11.6s\n",
      "1528:\tlearn: 3.5134427\ttotal: 23s\tremaining: 11.6s\n",
      "1530:\tlearn: 3.5111844\ttotal: 23s\tremaining: 11.5s\n",
      "1532:\tlearn: 3.5081004\ttotal: 23.1s\tremaining: 11.5s\n",
      "1534:\tlearn: 3.5050912\ttotal: 23.1s\tremaining: 11.5s\n",
      "1536:\tlearn: 3.5025670\ttotal: 23.1s\tremaining: 11.5s\n",
      "1538:\tlearn: 3.5004143\ttotal: 23.2s\tremaining: 11.5s\n",
      "1540:\tlearn: 3.4977143\ttotal: 23.2s\tremaining: 11.4s\n",
      "1542:\tlearn: 3.4954695\ttotal: 23.2s\tremaining: 11.4s\n",
      "1544:\tlearn: 3.4949228\ttotal: 23.2s\tremaining: 11.3s\n",
      "1546:\tlearn: 3.4921356\ttotal: 23.3s\tremaining: 11.3s\n",
      "1548:\tlearn: 3.4878521\ttotal: 23.3s\tremaining: 11.3s\n",
      "1550:\tlearn: 3.4857242\ttotal: 23.3s\tremaining: 11.2s\n",
      "1552:\tlearn: 3.4855301\ttotal: 23.4s\tremaining: 11.2s\n",
      "1554:\tlearn: 3.4839507\ttotal: 23.4s\tremaining: 11.2s\n",
      "1556:\tlearn: 3.4799732\ttotal: 23.4s\tremaining: 11.2s\n",
      "1558:\tlearn: 3.4783957\ttotal: 23.5s\tremaining: 11.1s\n",
      "1560:\tlearn: 3.4769193\ttotal: 23.5s\tremaining: 11.1s\n",
      "1562:\tlearn: 3.4747387\ttotal: 23.5s\tremaining: 11.1s\n",
      "1564:\tlearn: 3.4740572\ttotal: 23.5s\tremaining: 11s\n",
      "1566:\tlearn: 3.4706352\ttotal: 23.6s\tremaining: 11s\n",
      "1568:\tlearn: 3.4677392\ttotal: 23.6s\tremaining: 11s\n",
      "1570:\tlearn: 3.4652099\ttotal: 23.6s\tremaining: 10.9s\n",
      "1572:\tlearn: 3.4618789\ttotal: 23.7s\tremaining: 10.9s\n",
      "1574:\tlearn: 3.4610534\ttotal: 23.7s\tremaining: 10.9s\n",
      "1576:\tlearn: 3.4601281\ttotal: 23.7s\tremaining: 10.8s\n",
      "1578:\tlearn: 3.4567552\ttotal: 23.8s\tremaining: 10.8s\n",
      "1580:\tlearn: 3.4549173\ttotal: 23.8s\tremaining: 10.8s\n",
      "1582:\tlearn: 3.4545701\ttotal: 23.8s\tremaining: 10.8s\n",
      "1584:\tlearn: 3.4525889\ttotal: 23.9s\tremaining: 10.8s\n",
      "1586:\tlearn: 3.4500901\ttotal: 23.9s\tremaining: 10.7s\n",
      "1588:\tlearn: 3.4478076\ttotal: 23.9s\tremaining: 10.7s\n",
      "1590:\tlearn: 3.4448409\ttotal: 23.9s\tremaining: 10.7s\n",
      "1592:\tlearn: 3.4417436\ttotal: 23.9s\tremaining: 10.6s\n",
      "1594:\tlearn: 3.4383994\ttotal: 24s\tremaining: 10.6s\n",
      "1596:\tlearn: 3.4363847\ttotal: 24s\tremaining: 10.6s\n",
      "1598:\tlearn: 3.4350332\ttotal: 24s\tremaining: 10.5s\n",
      "1600:\tlearn: 3.4325272\ttotal: 24.1s\tremaining: 10.5s\n",
      "1602:\tlearn: 3.4298489\ttotal: 24.1s\tremaining: 10.5s\n",
      "1604:\tlearn: 3.4283618\ttotal: 24.1s\tremaining: 10.5s\n",
      "1606:\tlearn: 3.4249854\ttotal: 24.1s\tremaining: 10.4s\n",
      "1608:\tlearn: 3.4234639\ttotal: 24.2s\tremaining: 10.4s\n",
      "1610:\tlearn: 3.4217005\ttotal: 24.2s\tremaining: 10.4s\n",
      "1612:\tlearn: 3.4210272\ttotal: 24.2s\tremaining: 10.3s\n",
      "1614:\tlearn: 3.4193883\ttotal: 24.2s\tremaining: 10.3s\n",
      "1616:\tlearn: 3.4187567\ttotal: 24.3s\tremaining: 10.2s\n",
      "1618:\tlearn: 3.4159968\ttotal: 24.3s\tremaining: 10.2s\n",
      "1620:\tlearn: 3.4132555\ttotal: 24.3s\tremaining: 10.2s\n",
      "1622:\tlearn: 3.4106097\ttotal: 24.3s\tremaining: 10.2s\n",
      "1624:\tlearn: 3.4092151\ttotal: 24.4s\tremaining: 10.1s\n",
      "1626:\tlearn: 3.4079062\ttotal: 24.4s\tremaining: 10.1s\n",
      "1628:\tlearn: 3.4047208\ttotal: 24.4s\tremaining: 10.1s\n",
      "1630:\tlearn: 3.4027548\ttotal: 24.5s\tremaining: 10.1s\n",
      "1632:\tlearn: 3.4000921\ttotal: 24.5s\tremaining: 10s\n",
      "1634:\tlearn: 3.3970078\ttotal: 24.5s\tremaining: 9.98s\n",
      "1636:\tlearn: 3.3949272\ttotal: 24.6s\tremaining: 9.97s\n",
      "1638:\tlearn: 3.3935733\ttotal: 24.6s\tremaining: 9.93s\n",
      "1640:\tlearn: 3.3923927\ttotal: 24.6s\tremaining: 9.89s\n",
      "1642:\tlearn: 3.3922113\ttotal: 24.6s\tremaining: 9.85s\n",
      "1644:\tlearn: 3.3897229\ttotal: 24.7s\tremaining: 9.85s\n",
      "1646:\tlearn: 3.3878429\ttotal: 24.7s\tremaining: 9.8s\n",
      "1648:\tlearn: 3.3853486\ttotal: 24.7s\tremaining: 9.77s\n",
      "1650:\tlearn: 3.3827459\ttotal: 24.8s\tremaining: 9.76s\n",
      "1652:\tlearn: 3.3804601\ttotal: 24.8s\tremaining: 9.72s\n",
      "1654:\tlearn: 3.3765880\ttotal: 24.8s\tremaining: 9.68s\n",
      "1656:\tlearn: 3.3748531\ttotal: 24.9s\tremaining: 9.67s\n",
      "1658:\tlearn: 3.3728549\ttotal: 24.9s\tremaining: 9.63s\n",
      "1660:\tlearn: 3.3705311\ttotal: 24.9s\tremaining: 9.59s\n",
      "1662:\tlearn: 3.3683151\ttotal: 25s\tremaining: 9.58s\n",
      "1664:\tlearn: 3.3662672\ttotal: 25s\tremaining: 9.54s\n",
      "1666:\tlearn: 3.3650986\ttotal: 25s\tremaining: 9.5s\n",
      "1668:\tlearn: 3.3631258\ttotal: 25.1s\tremaining: 9.49s\n",
      "1670:\tlearn: 3.3627887\ttotal: 25.1s\tremaining: 9.45s\n",
      "1672:\tlearn: 3.3610518\ttotal: 25.1s\tremaining: 9.41s\n",
      "1674:\tlearn: 3.3602838\ttotal: 25.2s\tremaining: 9.4s\n",
      "1676:\tlearn: 3.3593206\ttotal: 25.2s\tremaining: 9.37s\n",
      "1678:\tlearn: 3.3558767\ttotal: 25.2s\tremaining: 9.32s\n",
      "1680:\tlearn: 3.3542723\ttotal: 25.3s\tremaining: 9.32s\n",
      "1682:\tlearn: 3.3522805\ttotal: 25.3s\tremaining: 9.28s\n",
      "1684:\tlearn: 3.3509726\ttotal: 25.3s\tremaining: 9.24s\n",
      "1686:\tlearn: 3.3497658\ttotal: 25.4s\tremaining: 9.23s\n",
      "1688:\tlearn: 3.3466757\ttotal: 25.4s\tremaining: 9.19s\n",
      "1690:\tlearn: 3.3448617\ttotal: 25.4s\tremaining: 9.15s\n",
      "1692:\tlearn: 3.3418798\ttotal: 25.5s\tremaining: 9.14s\n",
      "1694:\tlearn: 3.3399801\ttotal: 25.5s\tremaining: 9.1s\n",
      "1696:\tlearn: 3.3382883\ttotal: 25.5s\tremaining: 9.06s\n",
      "1698:\tlearn: 3.3367100\ttotal: 25.6s\tremaining: 9.05s\n",
      "1700:\tlearn: 3.3344597\ttotal: 25.6s\tremaining: 9.01s\n",
      "1702:\tlearn: 3.3331457\ttotal: 25.6s\tremaining: 8.97s\n",
      "1704:\tlearn: 3.3306250\ttotal: 25.6s\tremaining: 8.94s\n",
      "1706:\tlearn: 3.3290688\ttotal: 25.7s\tremaining: 8.93s\n",
      "1708:\tlearn: 3.3276461\ttotal: 25.7s\tremaining: 8.89s\n",
      "1710:\tlearn: 3.3260020\ttotal: 25.7s\tremaining: 8.85s\n",
      "1712:\tlearn: 3.3235004\ttotal: 25.8s\tremaining: 8.84s\n",
      "1714:\tlearn: 3.3212085\ttotal: 25.8s\tremaining: 8.8s\n",
      "1716:\tlearn: 3.3193262\ttotal: 25.8s\tremaining: 8.76s\n",
      "1718:\tlearn: 3.3184230\ttotal: 25.9s\tremaining: 8.75s\n",
      "1720:\tlearn: 3.3151113\ttotal: 25.9s\tremaining: 8.71s\n",
      "1722:\tlearn: 3.3118786\ttotal: 25.9s\tremaining: 8.67s\n",
      "1724:\tlearn: 3.3099242\ttotal: 26s\tremaining: 8.66s\n",
      "1726:\tlearn: 3.3085390\ttotal: 26s\tremaining: 8.62s\n",
      "1728:\tlearn: 3.3068303\ttotal: 26s\tremaining: 8.58s\n",
      "1730:\tlearn: 3.3049847\ttotal: 26s\tremaining: 8.55s\n",
      "1732:\tlearn: 3.3029637\ttotal: 26.1s\tremaining: 8.53s\n",
      "1734:\tlearn: 3.3005549\ttotal: 26.1s\tremaining: 8.49s\n",
      "1736:\tlearn: 3.2986118\ttotal: 26.2s\tremaining: 8.48s\n",
      "1738:\tlearn: 3.2963471\ttotal: 26.2s\tremaining: 8.45s\n",
      "1740:\tlearn: 3.2932424\ttotal: 26.2s\tremaining: 8.41s\n",
      "1742:\tlearn: 3.2908405\ttotal: 26.2s\tremaining: 8.37s\n",
      "1744:\tlearn: 3.2879693\ttotal: 26.3s\tremaining: 8.36s\n",
      "1746:\tlearn: 3.2853904\ttotal: 26.3s\tremaining: 8.32s\n",
      "1748:\tlearn: 3.2836294\ttotal: 26.3s\tremaining: 8.28s\n",
      "1750:\tlearn: 3.2805206\ttotal: 26.4s\tremaining: 8.27s\n",
      "1752:\tlearn: 3.2782784\ttotal: 26.4s\tremaining: 8.23s\n",
      "1754:\tlearn: 3.2768071\ttotal: 26.4s\tremaining: 8.19s\n",
      "1756:\tlearn: 3.2745176\ttotal: 26.5s\tremaining: 8.18s\n",
      "1758:\tlearn: 3.2726786\ttotal: 26.5s\tremaining: 8.14s\n",
      "1760:\tlearn: 3.2716965\ttotal: 26.5s\tremaining: 8.1s\n",
      "1762:\tlearn: 3.2696314\ttotal: 26.6s\tremaining: 8.09s\n",
      "1764:\tlearn: 3.2688614\ttotal: 26.6s\tremaining: 8.05s\n",
      "1766:\tlearn: 3.2659115\ttotal: 26.6s\tremaining: 8.02s\n",
      "1768:\tlearn: 3.2641247\ttotal: 26.7s\tremaining: 8s\n",
      "1770:\tlearn: 3.2616151\ttotal: 26.7s\tremaining: 7.97s\n",
      "1772:\tlearn: 3.2584627\ttotal: 26.7s\tremaining: 7.93s\n",
      "1774:\tlearn: 3.2564643\ttotal: 26.8s\tremaining: 7.92s\n",
      "1776:\tlearn: 3.2533673\ttotal: 26.8s\tremaining: 7.88s\n",
      "1778:\tlearn: 3.2518105\ttotal: 26.8s\tremaining: 7.84s\n",
      "1780:\tlearn: 3.2487300\ttotal: 26.9s\tremaining: 7.83s\n",
      "1782:\tlearn: 3.2476447\ttotal: 26.9s\tremaining: 7.79s\n",
      "1784:\tlearn: 3.2437005\ttotal: 26.9s\tremaining: 7.75s\n",
      "1786:\tlearn: 3.2395334\ttotal: 27s\tremaining: 7.74s\n",
      "1788:\tlearn: 3.2394304\ttotal: 27s\tremaining: 7.7s\n",
      "1790:\tlearn: 3.2368338\ttotal: 27s\tremaining: 7.66s\n",
      "1792:\tlearn: 3.2349698\ttotal: 27.1s\tremaining: 7.65s\n",
      "1794:\tlearn: 3.2328522\ttotal: 27.1s\tremaining: 7.61s\n",
      "1796:\tlearn: 3.2297936\ttotal: 27.1s\tremaining: 7.57s\n",
      "1798:\tlearn: 3.2281096\ttotal: 27.1s\tremaining: 7.54s\n",
      "1800:\tlearn: 3.2259574\ttotal: 27.2s\tremaining: 7.52s\n",
      "1802:\tlearn: 3.2254124\ttotal: 27.2s\tremaining: 7.49s\n",
      "1804:\tlearn: 3.2237560\ttotal: 27.2s\tremaining: 7.45s\n",
      "1806:\tlearn: 3.2215981\ttotal: 27.2s\tremaining: 7.43s\n",
      "1808:\tlearn: 3.2191502\ttotal: 27.3s\tremaining: 7.4s\n",
      "1810:\tlearn: 3.2166640\ttotal: 27.3s\tremaining: 7.36s\n",
      "1812:\tlearn: 3.2146715\ttotal: 27.3s\tremaining: 7.34s\n",
      "1814:\tlearn: 3.2129744\ttotal: 27.4s\tremaining: 7.31s\n",
      "1816:\tlearn: 3.2096345\ttotal: 27.4s\tremaining: 7.27s\n",
      "1818:\tlearn: 3.2074310\ttotal: 27.4s\tremaining: 7.26s\n",
      "1820:\tlearn: 3.2046913\ttotal: 27.4s\tremaining: 7.22s\n",
      "1822:\tlearn: 3.2034087\ttotal: 27.4s\tremaining: 7.18s\n",
      "1824:\tlearn: 3.2000535\ttotal: 27.5s\tremaining: 7.15s\n",
      "1826:\tlearn: 3.1976003\ttotal: 27.5s\tremaining: 7.13s\n",
      "1828:\tlearn: 3.1951708\ttotal: 27.5s\tremaining: 7.09s\n",
      "1830:\tlearn: 3.1925872\ttotal: 27.6s\tremaining: 7.06s\n",
      "1832:\tlearn: 3.1898946\ttotal: 27.6s\tremaining: 7.04s\n",
      "1834:\tlearn: 3.1870218\ttotal: 27.6s\tremaining: 7s\n",
      "1836:\tlearn: 3.1851571\ttotal: 27.6s\tremaining: 6.97s\n",
      "1838:\tlearn: 3.1833924\ttotal: 27.7s\tremaining: 6.95s\n",
      "1840:\tlearn: 3.1822244\ttotal: 27.7s\tremaining: 6.92s\n",
      "1842:\tlearn: 3.1795155\ttotal: 27.7s\tremaining: 6.88s\n",
      "1844:\tlearn: 3.1774927\ttotal: 27.8s\tremaining: 6.84s\n",
      "1846:\tlearn: 3.1759683\ttotal: 27.8s\tremaining: 6.83s\n",
      "1848:\tlearn: 3.1738404\ttotal: 27.8s\tremaining: 6.79s\n",
      "1850:\tlearn: 3.1719846\ttotal: 27.8s\tremaining: 6.75s\n",
      "1852:\tlearn: 3.1692733\ttotal: 27.9s\tremaining: 6.74s\n",
      "1854:\tlearn: 3.1681170\ttotal: 27.9s\tremaining: 6.7s\n",
      "1856:\tlearn: 3.1657951\ttotal: 27.9s\tremaining: 6.66s\n",
      "1858:\tlearn: 3.1637442\ttotal: 28s\tremaining: 6.65s\n",
      "1860:\tlearn: 3.1622218\ttotal: 28s\tremaining: 6.61s\n",
      "1862:\tlearn: 3.1607720\ttotal: 28s\tremaining: 6.58s\n",
      "1864:\tlearn: 3.1587166\ttotal: 28s\tremaining: 6.54s\n",
      "1866:\tlearn: 3.1566857\ttotal: 28.1s\tremaining: 6.52s\n",
      "1868:\tlearn: 3.1549146\ttotal: 28.1s\tremaining: 6.49s\n",
      "1870:\tlearn: 3.1535528\ttotal: 28.1s\tremaining: 6.45s\n",
      "1872:\tlearn: 3.1512559\ttotal: 28.2s\tremaining: 6.43s\n",
      "1874:\tlearn: 3.1475531\ttotal: 28.2s\tremaining: 6.4s\n",
      "1876:\tlearn: 3.1466708\ttotal: 28.2s\tremaining: 6.36s\n",
      "1878:\tlearn: 3.1447322\ttotal: 28.3s\tremaining: 6.34s\n",
      "1880:\tlearn: 3.1430157\ttotal: 28.3s\tremaining: 6.31s\n",
      "1882:\tlearn: 3.1406457\ttotal: 28.3s\tremaining: 6.27s\n",
      "1884:\tlearn: 3.1392908\ttotal: 28.4s\tremaining: 6.26s\n",
      "1886:\tlearn: 3.1373192\ttotal: 28.4s\tremaining: 6.22s\n",
      "1888:\tlearn: 3.1359536\ttotal: 28.4s\tremaining: 6.18s\n",
      "1890:\tlearn: 3.1351238\ttotal: 28.5s\tremaining: 6.17s\n",
      "1892:\tlearn: 3.1347077\ttotal: 28.5s\tremaining: 6.13s\n",
      "1894:\tlearn: 3.1332860\ttotal: 28.5s\tremaining: 6.09s\n",
      "1896:\tlearn: 3.1310710\ttotal: 28.6s\tremaining: 6.08s\n",
      "1898:\tlearn: 3.1282750\ttotal: 28.6s\tremaining: 6.04s\n",
      "1900:\tlearn: 3.1273640\ttotal: 28.6s\tremaining: 6.01s\n",
      "1902:\tlearn: 3.1238464\ttotal: 28.7s\tremaining: 5.99s\n",
      "1904:\tlearn: 3.1219860\ttotal: 28.7s\tremaining: 5.95s\n",
      "1906:\tlearn: 3.1206134\ttotal: 28.7s\tremaining: 5.92s\n",
      "1908:\tlearn: 3.1181907\ttotal: 28.7s\tremaining: 5.88s\n",
      "1910:\tlearn: 3.1168628\ttotal: 28.8s\tremaining: 5.86s\n",
      "1912:\tlearn: 3.1152213\ttotal: 28.8s\tremaining: 5.83s\n",
      "1914:\tlearn: 3.1137823\ttotal: 28.8s\tremaining: 5.79s\n",
      "1916:\tlearn: 3.1126879\ttotal: 28.9s\tremaining: 5.77s\n",
      "1918:\tlearn: 3.1112666\ttotal: 28.9s\tremaining: 5.74s\n",
      "1920:\tlearn: 3.1094852\ttotal: 28.9s\tremaining: 5.7s\n",
      "1922:\tlearn: 3.1093209\ttotal: 29s\tremaining: 5.68s\n",
      "1924:\tlearn: 3.1076618\ttotal: 29s\tremaining: 5.65s\n",
      "1926:\tlearn: 3.1056630\ttotal: 29s\tremaining: 5.62s\n",
      "1928:\tlearn: 3.1021430\ttotal: 29s\tremaining: 5.58s\n",
      "1930:\tlearn: 3.1011801\ttotal: 29.1s\tremaining: 5.56s\n",
      "1932:\tlearn: 3.0988198\ttotal: 29.1s\tremaining: 5.53s\n",
      "1934:\tlearn: 3.0967891\ttotal: 29.1s\tremaining: 5.49s\n",
      "1936:\tlearn: 3.0954683\ttotal: 29.2s\tremaining: 5.47s\n",
      "1938:\tlearn: 3.0923463\ttotal: 29.2s\tremaining: 5.44s\n",
      "1940:\tlearn: 3.0902258\ttotal: 29.2s\tremaining: 5.4s\n",
      "1942:\tlearn: 3.0883878\ttotal: 29.3s\tremaining: 5.38s\n",
      "1944:\tlearn: 3.0843474\ttotal: 29.3s\tremaining: 5.35s\n",
      "1946:\tlearn: 3.0826468\ttotal: 29.3s\tremaining: 5.31s\n",
      "1948:\tlearn: 3.0808095\ttotal: 29.4s\tremaining: 5.29s\n",
      "1950:\tlearn: 3.0796815\ttotal: 29.4s\tremaining: 5.26s\n",
      "1952:\tlearn: 3.0774797\ttotal: 29.4s\tremaining: 5.22s\n",
      "1954:\tlearn: 3.0747027\ttotal: 29.4s\tremaining: 5.19s\n",
      "1956:\tlearn: 3.0711921\ttotal: 29.5s\tremaining: 5.17s\n",
      "1958:\tlearn: 3.0685676\ttotal: 29.5s\tremaining: 5.13s\n",
      "1960:\tlearn: 3.0672920\ttotal: 29.6s\tremaining: 5.11s\n",
      "1962:\tlearn: 3.0662364\ttotal: 29.6s\tremaining: 5.08s\n",
      "1964:\tlearn: 3.0657432\ttotal: 29.6s\tremaining: 5.04s\n",
      "1966:\tlearn: 3.0643309\ttotal: 29.6s\tremaining: 5.01s\n",
      "1968:\tlearn: 3.0617859\ttotal: 29.7s\tremaining: 4.99s\n",
      "1970:\tlearn: 3.0611942\ttotal: 29.7s\tremaining: 4.96s\n",
      "1972:\tlearn: 3.0580192\ttotal: 29.7s\tremaining: 4.92s\n",
      "1974:\tlearn: 3.0566914\ttotal: 29.8s\tremaining: 4.9s\n",
      "1976:\tlearn: 3.0545303\ttotal: 29.8s\tremaining: 4.87s\n",
      "1978:\tlearn: 3.0518917\ttotal: 29.8s\tremaining: 4.83s\n",
      "1980:\tlearn: 3.0502349\ttotal: 29.9s\tremaining: 4.81s\n",
      "1982:\tlearn: 3.0491997\ttotal: 29.9s\tremaining: 4.78s\n",
      "1984:\tlearn: 3.0478878\ttotal: 29.9s\tremaining: 4.74s\n",
      "1986:\tlearn: 3.0455715\ttotal: 30s\tremaining: 4.72s\n",
      "1988:\tlearn: 3.0433790\ttotal: 30s\tremaining: 4.69s\n",
      "1990:\tlearn: 3.0415874\ttotal: 30s\tremaining: 4.65s\n",
      "1992:\tlearn: 3.0392479\ttotal: 30.1s\tremaining: 4.63s\n",
      "1994:\tlearn: 3.0374409\ttotal: 30.1s\tremaining: 4.6s\n",
      "1996:\tlearn: 3.0357983\ttotal: 30.1s\tremaining: 4.56s\n",
      "1998:\tlearn: 3.0354578\ttotal: 30.2s\tremaining: 4.54s\n",
      "2000:\tlearn: 3.0338547\ttotal: 30.2s\tremaining: 4.51s\n",
      "2002:\tlearn: 3.0327041\ttotal: 30.2s\tremaining: 4.47s\n",
      "2004:\tlearn: 3.0310817\ttotal: 30.3s\tremaining: 4.45s\n",
      "2006:\tlearn: 3.0294270\ttotal: 30.3s\tremaining: 4.42s\n",
      "2008:\tlearn: 3.0261900\ttotal: 30.3s\tremaining: 4.38s\n",
      "2010:\tlearn: 3.0242076\ttotal: 30.3s\tremaining: 4.35s\n",
      "2012:\tlearn: 3.0220203\ttotal: 30.4s\tremaining: 4.33s\n",
      "2014:\tlearn: 3.0202085\ttotal: 30.4s\tremaining: 4.29s\n",
      "2016:\tlearn: 3.0183824\ttotal: 30.4s\tremaining: 4.26s\n",
      "2018:\tlearn: 3.0163651\ttotal: 30.5s\tremaining: 4.24s\n",
      "2020:\tlearn: 3.0139797\ttotal: 30.5s\tremaining: 4.21s\n",
      "2022:\tlearn: 3.0123827\ttotal: 30.5s\tremaining: 4.17s\n",
      "2024:\tlearn: 3.0105171\ttotal: 30.6s\tremaining: 4.15s\n",
      "2026:\tlearn: 3.0082191\ttotal: 30.6s\tremaining: 4.12s\n",
      "2028:\tlearn: 3.0064204\ttotal: 30.6s\tremaining: 4.08s\n",
      "2030:\tlearn: 3.0061482\ttotal: 30.7s\tremaining: 4.06s\n",
      "2032:\tlearn: 3.0043783\ttotal: 30.7s\tremaining: 4.03s\n",
      "2034:\tlearn: 3.0032065\ttotal: 30.7s\tremaining: 3.99s\n",
      "2036:\tlearn: 3.0017065\ttotal: 30.8s\tremaining: 3.97s\n",
      "2038:\tlearn: 3.0004769\ttotal: 30.8s\tremaining: 3.94s\n",
      "2040:\tlearn: 2.9996937\ttotal: 30.8s\tremaining: 3.9s\n",
      "2042:\tlearn: 2.9977012\ttotal: 30.8s\tremaining: 3.87s\n",
      "2044:\tlearn: 2.9962578\ttotal: 30.9s\tremaining: 3.85s\n",
      "2046:\tlearn: 2.9945040\ttotal: 30.9s\tremaining: 3.81s\n",
      "2048:\tlearn: 2.9920420\ttotal: 30.9s\tremaining: 3.78s\n",
      "2050:\tlearn: 2.9901959\ttotal: 30.9s\tremaining: 3.76s\n",
      "2052:\tlearn: 2.9882697\ttotal: 31s\tremaining: 3.72s\n",
      "2054:\tlearn: 2.9873696\ttotal: 31s\tremaining: 3.69s\n",
      "2056:\tlearn: 2.9847298\ttotal: 31s\tremaining: 3.67s\n",
      "2058:\tlearn: 2.9834630\ttotal: 31s\tremaining: 3.63s\n",
      "2060:\tlearn: 2.9814112\ttotal: 31.1s\tremaining: 3.6s\n",
      "2062:\tlearn: 2.9791924\ttotal: 31.1s\tremaining: 3.58s\n",
      "2064:\tlearn: 2.9784295\ttotal: 31.1s\tremaining: 3.54s\n",
      "2066:\tlearn: 2.9757620\ttotal: 31.1s\tremaining: 3.51s\n",
      "2068:\tlearn: 2.9732059\ttotal: 31.2s\tremaining: 3.48s\n",
      "2070:\tlearn: 2.9719379\ttotal: 31.2s\tremaining: 3.45s\n",
      "2072:\tlearn: 2.9708748\ttotal: 31.2s\tremaining: 3.42s\n",
      "2074:\tlearn: 2.9674898\ttotal: 31.3s\tremaining: 3.39s\n",
      "2076:\tlearn: 2.9651464\ttotal: 31.3s\tremaining: 3.36s\n",
      "2078:\tlearn: 2.9629499\ttotal: 31.3s\tremaining: 3.33s\n",
      "2080:\tlearn: 2.9610461\ttotal: 31.3s\tremaining: 3.3s\n",
      "2082:\tlearn: 2.9602226\ttotal: 31.4s\tremaining: 3.27s\n",
      "2084:\tlearn: 2.9588859\ttotal: 31.4s\tremaining: 3.24s\n",
      "2086:\tlearn: 2.9563163\ttotal: 31.4s\tremaining: 3.21s\n",
      "2088:\tlearn: 2.9541926\ttotal: 31.5s\tremaining: 3.18s\n",
      "2090:\tlearn: 2.9528597\ttotal: 31.5s\tremaining: 3.15s\n",
      "2092:\tlearn: 2.9523867\ttotal: 31.5s\tremaining: 3.12s\n",
      "2094:\tlearn: 2.9504388\ttotal: 31.6s\tremaining: 3.09s\n",
      "2096:\tlearn: 2.9486851\ttotal: 31.6s\tremaining: 3.06s\n",
      "2098:\tlearn: 2.9477520\ttotal: 31.6s\tremaining: 3.03s\n",
      "2100:\tlearn: 2.9467789\ttotal: 31.6s\tremaining: 3s\n",
      "2102:\tlearn: 2.9453990\ttotal: 31.7s\tremaining: 2.97s\n",
      "2104:\tlearn: 2.9435175\ttotal: 31.7s\tremaining: 2.94s\n",
      "2106:\tlearn: 2.9420087\ttotal: 31.7s\tremaining: 2.91s\n",
      "2108:\tlearn: 2.9406516\ttotal: 31.8s\tremaining: 2.88s\n",
      "2110:\tlearn: 2.9394002\ttotal: 31.8s\tremaining: 2.85s\n",
      "2112:\tlearn: 2.9376659\ttotal: 31.8s\tremaining: 2.82s\n",
      "2114:\tlearn: 2.9351751\ttotal: 31.9s\tremaining: 2.79s\n",
      "2116:\tlearn: 2.9342552\ttotal: 31.9s\tremaining: 2.76s\n",
      "2118:\tlearn: 2.9320059\ttotal: 31.9s\tremaining: 2.73s\n",
      "2120:\tlearn: 2.9307015\ttotal: 31.9s\tremaining: 2.69s\n",
      "2122:\tlearn: 2.9276714\ttotal: 32s\tremaining: 2.67s\n",
      "2124:\tlearn: 2.9264110\ttotal: 32s\tremaining: 2.64s\n",
      "2126:\tlearn: 2.9240357\ttotal: 32s\tremaining: 2.6s\n",
      "2128:\tlearn: 2.9223605\ttotal: 32.1s\tremaining: 2.58s\n",
      "2130:\tlearn: 2.9201713\ttotal: 32.1s\tremaining: 2.55s\n",
      "2132:\tlearn: 2.9191312\ttotal: 32.1s\tremaining: 2.52s\n",
      "2134:\tlearn: 2.9176575\ttotal: 32.2s\tremaining: 2.49s\n",
      "2136:\tlearn: 2.9145046\ttotal: 32.2s\tremaining: 2.46s\n",
      "2138:\tlearn: 2.9131080\ttotal: 32.2s\tremaining: 2.42s\n",
      "2140:\tlearn: 2.9118483\ttotal: 32.3s\tremaining: 2.4s\n",
      "2142:\tlearn: 2.9104005\ttotal: 32.3s\tremaining: 2.37s\n",
      "2144:\tlearn: 2.9086073\ttotal: 32.3s\tremaining: 2.33s\n",
      "2146:\tlearn: 2.9075936\ttotal: 32.3s\tremaining: 2.3s\n",
      "2148:\tlearn: 2.9063563\ttotal: 32.4s\tremaining: 2.28s\n",
      "2150:\tlearn: 2.9050567\ttotal: 32.4s\tremaining: 2.25s\n",
      "2152:\tlearn: 2.9037957\ttotal: 32.4s\tremaining: 2.21s\n",
      "2154:\tlearn: 2.9019033\ttotal: 32.5s\tremaining: 2.19s\n",
      "2156:\tlearn: 2.9003190\ttotal: 32.5s\tremaining: 2.15s\n",
      "2158:\tlearn: 2.8985540\ttotal: 32.5s\tremaining: 2.12s\n",
      "2160:\tlearn: 2.8974891\ttotal: 32.6s\tremaining: 2.1s\n",
      "2162:\tlearn: 2.8951899\ttotal: 32.6s\tremaining: 2.06s\n",
      "2164:\tlearn: 2.8946098\ttotal: 32.6s\tremaining: 2.03s\n",
      "2166:\tlearn: 2.8935735\ttotal: 32.7s\tremaining: 2.01s\n",
      "2168:\tlearn: 2.8921901\ttotal: 32.7s\tremaining: 1.98s\n",
      "2170:\tlearn: 2.8914400\ttotal: 32.7s\tremaining: 1.94s\n",
      "2172:\tlearn: 2.8897779\ttotal: 32.7s\tremaining: 1.91s\n",
      "2174:\tlearn: 2.8884349\ttotal: 32.8s\tremaining: 1.88s\n",
      "2176:\tlearn: 2.8858765\ttotal: 32.8s\tremaining: 1.85s\n",
      "2178:\tlearn: 2.8833012\ttotal: 32.8s\tremaining: 1.82s\n",
      "2180:\tlearn: 2.8823546\ttotal: 32.9s\tremaining: 1.79s\n",
      "2182:\tlearn: 2.8809189\ttotal: 32.9s\tremaining: 1.76s\n",
      "2184:\tlearn: 2.8796961\ttotal: 32.9s\tremaining: 1.73s\n",
      "2186:\tlearn: 2.8777851\ttotal: 32.9s\tremaining: 1.7s\n",
      "2188:\tlearn: 2.8759805\ttotal: 33s\tremaining: 1.67s\n",
      "2190:\tlearn: 2.8744414\ttotal: 33s\tremaining: 1.64s\n",
      "2192:\tlearn: 2.8718016\ttotal: 33s\tremaining: 1.61s\n",
      "2194:\tlearn: 2.8700805\ttotal: 33.1s\tremaining: 1.58s\n",
      "2196:\tlearn: 2.8687308\ttotal: 33.1s\tremaining: 1.55s\n",
      "2198:\tlearn: 2.8665494\ttotal: 33.1s\tremaining: 1.52s\n",
      "2200:\tlearn: 2.8650975\ttotal: 33.2s\tremaining: 1.49s\n",
      "2202:\tlearn: 2.8641833\ttotal: 33.2s\tremaining: 1.46s\n",
      "2204:\tlearn: 2.8622708\ttotal: 33.2s\tremaining: 1.43s\n",
      "2206:\tlearn: 2.8604497\ttotal: 33.2s\tremaining: 1.4s\n",
      "2208:\tlearn: 2.8603830\ttotal: 33.3s\tremaining: 1.37s\n",
      "2210:\tlearn: 2.8574549\ttotal: 33.3s\tremaining: 1.34s\n",
      "2212:\tlearn: 2.8562962\ttotal: 33.3s\tremaining: 1.31s\n",
      "2214:\tlearn: 2.8534721\ttotal: 33.4s\tremaining: 1.28s\n",
      "2216:\tlearn: 2.8523385\ttotal: 33.4s\tremaining: 1.25s\n",
      "2218:\tlearn: 2.8499939\ttotal: 33.4s\tremaining: 1.22s\n",
      "2220:\tlearn: 2.8488342\ttotal: 33.5s\tremaining: 1.19s\n",
      "2222:\tlearn: 2.8470880\ttotal: 33.5s\tremaining: 1.16s\n",
      "2224:\tlearn: 2.8458075\ttotal: 33.5s\tremaining: 1.13s\n",
      "2226:\tlearn: 2.8457305\ttotal: 33.6s\tremaining: 1.1s\n",
      "2228:\tlearn: 2.8436623\ttotal: 33.6s\tremaining: 1.07s\n",
      "2230:\tlearn: 2.8427179\ttotal: 33.6s\tremaining: 1.04s\n",
      "2232:\tlearn: 2.8407834\ttotal: 33.7s\tremaining: 1.01s\n",
      "2234:\tlearn: 2.8385759\ttotal: 33.7s\tremaining: 979ms\n",
      "2236:\tlearn: 2.8374104\ttotal: 33.7s\tremaining: 948ms\n",
      "2238:\tlearn: 2.8365833\ttotal: 33.8s\tremaining: 920ms\n",
      "2240:\tlearn: 2.8344672\ttotal: 33.8s\tremaining: 889ms\n",
      "2242:\tlearn: 2.8333919\ttotal: 33.8s\tremaining: 858ms\n",
      "2244:\tlearn: 2.8313414\ttotal: 33.9s\tremaining: 830ms\n",
      "2246:\tlearn: 2.8300191\ttotal: 33.9s\tremaining: 799ms\n",
      "2248:\tlearn: 2.8283146\ttotal: 33.9s\tremaining: 768ms\n",
      "2250:\tlearn: 2.8265248\ttotal: 33.9s\tremaining: 737ms\n",
      "2252:\tlearn: 2.8244764\ttotal: 34s\tremaining: 709ms\n",
      "2254:\tlearn: 2.8228787\ttotal: 34s\tremaining: 678ms\n",
      "2256:\tlearn: 2.8209529\ttotal: 34s\tremaining: 647ms\n",
      "2258:\tlearn: 2.8192036\ttotal: 34.1s\tremaining: 618ms\n",
      "2260:\tlearn: 2.8176159\ttotal: 34.1s\tremaining: 588ms\n",
      "2262:\tlearn: 2.8162000\ttotal: 34.1s\tremaining: 557ms\n",
      "2264:\tlearn: 2.8133086\ttotal: 34.2s\tremaining: 528ms\n",
      "2266:\tlearn: 2.8113536\ttotal: 34.2s\tremaining: 497ms\n",
      "2268:\tlearn: 2.8104444\ttotal: 34.2s\tremaining: 467ms\n",
      "2270:\tlearn: 2.8101176\ttotal: 34.3s\tremaining: 437ms\n",
      "2272:\tlearn: 2.8089119\ttotal: 34.3s\tremaining: 407ms\n",
      "2274:\tlearn: 2.8069622\ttotal: 34.3s\tremaining: 377ms\n",
      "2276:\tlearn: 2.8055944\ttotal: 34.4s\tremaining: 347ms\n",
      "2278:\tlearn: 2.8035499\ttotal: 34.4s\tremaining: 317ms\n",
      "2280:\tlearn: 2.8029263\ttotal: 34.4s\tremaining: 286ms\n",
      "2282:\tlearn: 2.8020147\ttotal: 34.4s\tremaining: 257ms\n",
      "2284:\tlearn: 2.8001403\ttotal: 34.5s\tremaining: 226ms\n",
      "2286:\tlearn: 2.7986577\ttotal: 34.5s\tremaining: 196ms\n",
      "2288:\tlearn: 2.7970218\ttotal: 34.5s\tremaining: 166ms\n",
      "2290:\tlearn: 2.7959195\ttotal: 34.5s\tremaining: 136ms\n",
      "2292:\tlearn: 2.7940829\ttotal: 34.6s\tremaining: 105ms\n",
      "2294:\tlearn: 2.7920539\ttotal: 34.6s\tremaining: 75.5ms\n",
      "2296:\tlearn: 2.7911045\ttotal: 34.6s\tremaining: 45.2ms\n",
      "2298:\tlearn: 2.7896128\ttotal: 34.6s\tremaining: 15.1ms\n",
      "2299:\tlearn: 2.7886739\ttotal: 34.6s\tremaining: 0us\n"
     ]
    }
   ],
   "source": [
    "model_cat = CatBoostRegressor(random_seed=1242, n_estimators=2300, max_depth=5) #, learning_rate=0.03)\n",
    "model_cat.fit(features_train, target_train, verbose=2)\n",
    "\n",
    "predict_train_cat = '{:.3f}'.format(mean_absolute_error(target_train, model_cat.predict(features_train)))\n",
    "predict_valid_cat = '{:.3f}'.format(mean_absolute_error(target_valid, model_cat.predict(features_valid)))\n",
    "\n",
    "row_linear = {'model':'CatBoostRegressor', 'MAE train':predict_train_cat, 'MAE valid':predict_valid_cat}\n",
    "model_results = model_results.append(row_linear, ignore_index=True)"
   ]
  },
  {
   "cell_type": "markdown",
   "metadata": {},
   "source": [
    "## 4. Сравнение результатов обучения и выбор лучшей модели"
   ]
  },
  {
   "cell_type": "markdown",
   "metadata": {},
   "source": [
    "Посмотрим на результаты работы наших моделей"
   ]
  },
  {
   "cell_type": "code",
   "execution_count": 40,
   "metadata": {},
   "outputs": [
    {
     "data": {
      "text/html": [
       "<div>\n",
       "<style scoped>\n",
       "    .dataframe tbody tr th:only-of-type {\n",
       "        vertical-align: middle;\n",
       "    }\n",
       "\n",
       "    .dataframe tbody tr th {\n",
       "        vertical-align: top;\n",
       "    }\n",
       "\n",
       "    .dataframe thead th {\n",
       "        text-align: right;\n",
       "    }\n",
       "</style>\n",
       "<table border=\"1\" class=\"dataframe\">\n",
       "  <thead>\n",
       "    <tr style=\"text-align: right;\">\n",
       "      <th></th>\n",
       "      <th>model</th>\n",
       "      <th>MAE train</th>\n",
       "      <th>MAE valid</th>\n",
       "    </tr>\n",
       "  </thead>\n",
       "  <tbody>\n",
       "    <tr>\n",
       "      <td>0</td>\n",
       "      <td>RandomForestRegressor</td>\n",
       "      <td>2.336</td>\n",
       "      <td>5.935</td>\n",
       "    </tr>\n",
       "    <tr>\n",
       "      <td>1</td>\n",
       "      <td>LinearRegression</td>\n",
       "      <td>5.376</td>\n",
       "      <td>5.776</td>\n",
       "    </tr>\n",
       "    <tr>\n",
       "      <td>2</td>\n",
       "      <td>LGBMRegressor</td>\n",
       "      <td>3.023</td>\n",
       "      <td>5.786</td>\n",
       "    </tr>\n",
       "    <tr>\n",
       "      <td>3</td>\n",
       "      <td>CatBoostRegressor</td>\n",
       "      <td>2.155</td>\n",
       "      <td>5.715</td>\n",
       "    </tr>\n",
       "  </tbody>\n",
       "</table>\n",
       "</div>"
      ],
      "text/plain": [
       "                   model MAE train MAE valid\n",
       "0  RandomForestRegressor     2.336     5.935\n",
       "1       LinearRegression     5.376     5.776\n",
       "2          LGBMRegressor     3.023     5.786\n",
       "3      CatBoostRegressor     2.155     5.715"
      ]
     },
     "execution_count": 40,
     "metadata": {},
     "output_type": "execute_result"
    }
   ],
   "source": [
    "model_results"
   ]
  },
  {
   "cell_type": "markdown",
   "metadata": {},
   "source": [
    "Как видно CatBoostRegressor показал лучший результат"
   ]
  },
  {
   "cell_type": "markdown",
   "metadata": {},
   "source": [
    "Посмотрим на важность распределения признаков в модели CatBoostRegressor"
   ]
  },
  {
   "cell_type": "code",
   "execution_count": 41,
   "metadata": {},
   "outputs": [
    {
     "data": {
      "image/png": "[encoded data removed]",
      "text/plain": [
       "<Figure size 1080x720 with 1 Axes>"
      ]
     },
     "metadata": {
      "needs_background": "light"
     },
     "output_type": "display_data"
    }
   ],
   "source": [
    "plt.figure(figsize=(15, 10))\n",
    "def chart_feature_imp(model):\n",
    "    feature_imp = pd.Series(model.feature_importances_, index=features_valid.columns).sort_values(ascending=False)\n",
    "\n",
    "    ax = sns.barplot(x=feature_imp, y=feature_imp.index)\n",
    "    _ = ax.set(xlabel='Оценка важности признаков', ylabel='Признаки')\n",
    "    _ = ax.set_title('Визуализация важности признаков')\n",
    "\n",
    "chart_feature_imp(model_cat)"
   ]
  },
  {
   "cell_type": "markdown",
   "metadata": {},
   "source": [
    "Самая высокая важность у начальной температуры, а затем идёт много \"синтетических\" признаков, которые мы добавили сами."
   ]
  },
  {
   "cell_type": "markdown",
   "metadata": {},
   "source": [
    "## 5. Отчет"
   ]
  },
  {
   "cell_type": "markdown",
   "metadata": {},
   "source": [
    " <div style=\"background; padding: 5px; border: 1px solid; border-radius: 5px;\">\n",
    "<br/>\n",
    "<b>Перед нами стояла задача создать модель, которая будет предсказывать температуру стали, для экономии электроэнергии и денежных средств предприятия.</b>\n",
    "    \n",
    "<br/><b>План работы был следующий:</b><br/>\n",
    "    <br/>1. Проанализировать и подготовить полученные данные;\n",
    "    <br/>2. Построить и обучить модели;\n",
    "    <br/>3. Выбрать лучшую из моделей.\n",
    "    \n",
    "<br/><b>1. Этап</b>\n",
    "- Проанализировав данные были найдены выбросы в файлах `data_arc.csv` и `data_temp.csv`. Выбросы были удалены, чтобы не влияли негативно на показатели моделей.\n",
    "- Также в таблице `data_temp.csv` отсутствовали часть значений, они были удалены. \n",
    "- Были построены дополнительные таблицы для добавления в признаки. \n",
    "- В итоге все данные для признаков были соеденины в одну общую таблицу, затем были проверены на мультиколлинеарность, в следствии чего было удалено 3 признака из пар признаков сильно коллерирующих друг с другом.\n",
    "    \n",
    "<br/><b>2. Этап</b>\n",
    "- Разделили данные на признаки и целевой признак.\n",
    "- Для обучения были выбраны 4 модели: RandomForestRegressor, LinearRegression, LGBMRegressor, CatBoostRegressor.\n",
    "    \n",
    "<br/><b>3. Этап</b>\n",
    "- Среди всех обученных моделей самый лучший результать показала CatBoostRegressor, с MAE = 5.715.\n",
    "- При обучении CatBoostRegressor самым важным для неё признаком была начальная температура стали поступающей на обработку. Следом \"идёт\" суммарная активная мощность в партии, а затем продолжительность нагрева."
   ]
  },
  {
   "cell_type": "code",
   "execution_count": null,
   "metadata": {},
   "outputs": [],
   "source": []
  }
 ],
 "metadata": {
  "ExecuteTimeLog": [
   {
    "duration": 730,
    "start_time": "2021-06-29T12:50:10.256Z"
   },
   {
    "duration": 2755,
    "start_time": "2021-06-29T12:50:33.563Z"
   },
   {
    "duration": 71,
    "start_time": "2021-06-29T12:50:41.131Z"
   },
   {
    "duration": 51,
    "start_time": "2021-06-29T12:50:56.210Z"
   },
   {
    "duration": 58,
    "start_time": "2021-06-29T12:51:11.370Z"
   },
   {
    "duration": 1795,
    "start_time": "2021-06-29T12:51:31.507Z"
   },
   {
    "duration": 72,
    "start_time": "2021-06-29T12:51:48.043Z"
   },
   {
    "duration": 48,
    "start_time": "2021-06-29T12:52:05.090Z"
   },
   {
    "duration": 48,
    "start_time": "2021-06-29T12:52:19.954Z"
   },
   {
    "duration": 48,
    "start_time": "2021-06-29T12:52:39.075Z"
   },
   {
    "duration": 116,
    "start_time": "2021-06-29T12:53:04.691Z"
   },
   {
    "duration": 26,
    "start_time": "2021-06-29T12:57:35.644Z"
   },
   {
    "duration": 6986,
    "start_time": "2021-06-29T12:58:11.050Z"
   },
   {
    "duration": 266,
    "start_time": "2021-06-29T12:58:29.882Z"
   },
   {
    "duration": 69,
    "start_time": "2021-06-29T12:58:52.058Z"
   },
   {
    "duration": 63,
    "start_time": "2021-06-29T12:59:14.891Z"
   },
   {
    "duration": 396,
    "start_time": "2021-06-29T12:59:20.707Z"
   },
   {
    "duration": 437,
    "start_time": "2021-06-29T12:59:49.986Z"
   },
   {
    "duration": 408,
    "start_time": "2021-06-29T13:01:44.611Z"
   },
   {
    "duration": 479,
    "start_time": "2021-06-29T13:02:14.050Z"
   },
   {
    "duration": 550,
    "start_time": "2021-06-29T13:02:21.954Z"
   },
   {
    "duration": 471,
    "start_time": "2021-06-29T13:02:29.986Z"
   },
   {
    "duration": 473,
    "start_time": "2021-06-29T13:03:03.586Z"
   },
   {
    "duration": 715,
    "start_time": "2021-06-29T13:03:16.922Z"
   },
   {
    "duration": 756,
    "start_time": "2021-06-29T13:03:22.321Z"
   },
   {
    "duration": 511,
    "start_time": "2021-06-29T13:03:29.658Z"
   },
   {
    "duration": 688,
    "start_time": "2021-06-29T13:03:41.466Z"
   },
   {
    "duration": 690,
    "start_time": "2021-06-29T13:03:54.738Z"
   },
   {
    "duration": 705,
    "start_time": "2021-06-29T13:03:58.170Z"
   },
   {
    "duration": 867,
    "start_time": "2021-06-29T13:04:02.962Z"
   },
   {
    "duration": 785,
    "start_time": "2021-06-29T13:04:15.248Z"
   },
   {
    "duration": 775,
    "start_time": "2021-06-29T13:04:31.410Z"
   },
   {
    "duration": 1273,
    "start_time": "2021-06-29T13:04:48.434Z"
   },
   {
    "duration": 7,
    "start_time": "2021-06-29T13:05:02.938Z"
   },
   {
    "duration": 11,
    "start_time": "2021-06-29T13:05:12.593Z"
   },
   {
    "duration": 525,
    "start_time": "2021-06-29T13:05:54.922Z"
   },
   {
    "duration": 12,
    "start_time": "2021-06-29T13:06:02.097Z"
   },
   {
    "duration": 16,
    "start_time": "2021-06-29T13:08:48.306Z"
   },
   {
    "duration": 498,
    "start_time": "2021-06-29T13:11:10.515Z"
   },
   {
    "duration": 606,
    "start_time": "2021-06-29T13:11:36.192Z"
   },
   {
    "duration": 404,
    "start_time": "2021-06-29T13:11:51.338Z"
   },
   {
    "duration": 1015,
    "start_time": "2021-06-29T13:12:08.577Z"
   },
   {
    "duration": 255,
    "start_time": "2021-06-29T13:12:53.986Z"
   },
   {
    "duration": 475,
    "start_time": "2021-06-29T13:13:07.570Z"
   },
   {
    "duration": 827,
    "start_time": "2021-06-29T13:13:37.074Z"
   },
   {
    "duration": 66,
    "start_time": "2021-06-29T13:13:37.904Z"
   },
   {
    "duration": 532,
    "start_time": "2021-06-29T13:13:37.973Z"
   },
   {
    "duration": 529,
    "start_time": "2021-06-29T13:13:38.507Z"
   },
   {
    "duration": 19,
    "start_time": "2021-06-29T13:13:39.038Z"
   },
   {
    "duration": 8,
    "start_time": "2021-06-29T13:13:39.059Z"
   },
   {
    "duration": 731,
    "start_time": "2021-06-29T13:13:39.070Z"
   },
   {
    "duration": 48,
    "start_time": "2021-06-29T13:13:39.804Z"
   },
   {
    "duration": 47,
    "start_time": "2021-06-29T13:13:39.855Z"
   },
   {
    "duration": 82,
    "start_time": "2021-06-29T13:13:39.904Z"
   },
   {
    "duration": 38,
    "start_time": "2021-06-29T13:13:39.988Z"
   },
   {
    "duration": 39,
    "start_time": "2021-06-29T13:13:40.028Z"
   },
   {
    "duration": 39,
    "start_time": "2021-06-29T13:13:40.070Z"
   },
   {
    "duration": 734,
    "start_time": "2021-06-29T13:15:19.081Z"
   },
   {
    "duration": 456,
    "start_time": "2021-06-29T13:32:10.591Z"
   },
   {
    "duration": 488,
    "start_time": "2021-06-29T13:32:15.183Z"
   },
   {
    "duration": 79,
    "start_time": "2021-06-29T13:32:43.503Z"
   },
   {
    "duration": 600,
    "start_time": "2021-06-29T13:32:46.935Z"
   },
   {
    "duration": 626,
    "start_time": "2021-06-29T13:32:55.759Z"
   },
   {
    "duration": 603,
    "start_time": "2021-06-29T13:33:05.479Z"
   },
   {
    "duration": 6,
    "start_time": "2021-06-29T13:34:19.991Z"
   },
   {
    "duration": 651,
    "start_time": "2021-06-29T13:35:20.606Z"
   },
   {
    "duration": 291,
    "start_time": "2021-06-29T13:46:37.310Z"
   },
   {
    "duration": 330,
    "start_time": "2021-06-29T13:46:55.631Z"
   },
   {
    "duration": 9,
    "start_time": "2021-06-29T13:47:06.998Z"
   },
   {
    "duration": 9,
    "start_time": "2021-06-29T13:47:33.279Z"
   },
   {
    "duration": 10,
    "start_time": "2021-06-29T13:47:36.390Z"
   },
   {
    "duration": 11,
    "start_time": "2021-06-29T13:47:39.822Z"
   },
   {
    "duration": 11,
    "start_time": "2021-06-29T13:47:44.742Z"
   },
   {
    "duration": 11,
    "start_time": "2021-06-29T13:47:47.662Z"
   },
   {
    "duration": 6,
    "start_time": "2021-06-29T13:49:29.527Z"
   },
   {
    "duration": 9,
    "start_time": "2021-06-29T13:50:16.118Z"
   },
   {
    "duration": 11,
    "start_time": "2021-06-29T13:50:37.134Z"
   },
   {
    "duration": 8,
    "start_time": "2021-06-29T13:51:01.502Z"
   },
   {
    "duration": 10,
    "start_time": "2021-06-29T13:53:09.255Z"
   },
   {
    "duration": 12,
    "start_time": "2021-06-29T13:53:41.022Z"
   },
   {
    "duration": 655,
    "start_time": "2021-06-29T14:02:38.399Z"
   },
   {
    "duration": 886,
    "start_time": "2021-06-29T14:02:56.799Z"
   },
   {
    "duration": 594,
    "start_time": "2021-06-29T14:03:03.143Z"
   },
   {
    "duration": 605,
    "start_time": "2021-06-29T14:03:08.286Z"
   },
   {
    "duration": 805,
    "start_time": "2021-06-29T14:04:27.447Z"
   },
   {
    "duration": 678,
    "start_time": "2021-06-29T14:04:40.839Z"
   },
   {
    "duration": 657,
    "start_time": "2021-06-29T14:04:56.775Z"
   },
   {
    "duration": 686,
    "start_time": "2021-06-29T14:06:02.095Z"
   },
   {
    "duration": 806,
    "start_time": "2021-06-29T14:07:05.391Z"
   },
   {
    "duration": 66,
    "start_time": "2021-06-29T14:07:06.200Z"
   },
   {
    "duration": 9,
    "start_time": "2021-06-29T14:07:06.269Z"
   },
   {
    "duration": 497,
    "start_time": "2021-06-29T14:07:06.281Z"
   },
   {
    "duration": 503,
    "start_time": "2021-06-29T14:07:06.780Z"
   },
   {
    "duration": 10,
    "start_time": "2021-06-29T14:07:07.287Z"
   },
   {
    "duration": 8,
    "start_time": "2021-06-29T14:07:07.300Z"
   },
   {
    "duration": 738,
    "start_time": "2021-06-29T14:07:07.310Z"
   },
   {
    "duration": 572,
    "start_time": "2021-06-29T14:07:08.055Z"
   },
   {
    "duration": 50,
    "start_time": "2021-06-29T14:07:08.630Z"
   },
   {
    "duration": 49,
    "start_time": "2021-06-29T14:07:08.682Z"
   },
   {
    "duration": 64,
    "start_time": "2021-06-29T14:07:08.733Z"
   },
   {
    "duration": 9,
    "start_time": "2021-06-29T14:07:08.800Z"
   },
   {
    "duration": 37,
    "start_time": "2021-06-29T14:07:08.812Z"
   },
   {
    "duration": 8,
    "start_time": "2021-06-29T14:07:08.851Z"
   },
   {
    "duration": 36,
    "start_time": "2021-06-29T14:07:08.861Z"
   },
   {
    "duration": 38,
    "start_time": "2021-06-29T14:07:08.899Z"
   },
   {
    "duration": 34,
    "start_time": "2021-06-29T14:07:08.939Z"
   },
   {
    "duration": 83,
    "start_time": "2021-06-29T14:11:12.269Z"
   },
   {
    "duration": 11,
    "start_time": "2021-06-29T14:11:21.796Z"
   },
   {
    "duration": 32,
    "start_time": "2021-06-29T14:11:25.148Z"
   },
   {
    "duration": 16,
    "start_time": "2021-06-29T14:14:24.023Z"
   },
   {
    "duration": 36,
    "start_time": "2021-06-29T14:14:24.581Z"
   },
   {
    "duration": 30,
    "start_time": "2021-06-29T14:15:06.084Z"
   },
   {
    "duration": 38,
    "start_time": "2021-06-29T14:15:06.653Z"
   },
   {
    "duration": 31,
    "start_time": "2021-06-29T14:15:17.444Z"
   },
   {
    "duration": 38,
    "start_time": "2021-06-29T14:15:17.829Z"
   },
   {
    "duration": 54,
    "start_time": "2021-06-29T14:15:57.868Z"
   },
   {
    "duration": 58,
    "start_time": "2021-06-29T14:15:58.413Z"
   },
   {
    "duration": 88,
    "start_time": "2021-06-29T14:19:13.013Z"
   },
   {
    "duration": 56,
    "start_time": "2021-06-29T14:19:16.884Z"
   },
   {
    "duration": 44,
    "start_time": "2021-06-29T14:52:37.450Z"
   },
   {
    "duration": 32,
    "start_time": "2021-06-29T14:52:37.946Z"
   },
   {
    "duration": 76,
    "start_time": "2021-06-29T14:52:50.801Z"
   },
   {
    "duration": 42,
    "start_time": "2021-06-29T14:52:51.409Z"
   },
   {
    "duration": 49,
    "start_time": "2021-06-29T14:52:56.514Z"
   },
   {
    "duration": 54,
    "start_time": "2021-06-29T14:53:02.298Z"
   },
   {
    "duration": 65,
    "start_time": "2021-06-29T14:53:52.602Z"
   },
   {
    "duration": 54,
    "start_time": "2021-06-29T14:54:05.081Z"
   },
   {
    "duration": 49,
    "start_time": "2021-06-29T14:54:05.490Z"
   },
   {
    "duration": 60,
    "start_time": "2021-06-29T14:54:25.833Z"
   },
   {
    "duration": 45,
    "start_time": "2021-06-29T14:54:30.058Z"
   },
   {
    "duration": 30,
    "start_time": "2021-06-29T15:13:33.857Z"
   },
   {
    "duration": 988,
    "start_time": "2021-07-01T15:06:12.023Z"
   },
   {
    "duration": 90,
    "start_time": "2021-07-01T15:06:13.014Z"
   },
   {
    "duration": 15,
    "start_time": "2021-07-01T15:06:13.382Z"
   },
   {
    "duration": 772,
    "start_time": "2021-07-01T15:06:13.950Z"
   },
   {
    "duration": 775,
    "start_time": "2021-07-01T15:06:14.725Z"
   },
   {
    "duration": 11,
    "start_time": "2021-07-01T15:06:15.637Z"
   },
   {
    "duration": 9,
    "start_time": "2021-07-01T15:06:16.461Z"
   },
   {
    "duration": 752,
    "start_time": "2021-07-01T15:06:17.157Z"
   },
   {
    "duration": 649,
    "start_time": "2021-07-01T15:06:17.912Z"
   },
   {
    "duration": 57,
    "start_time": "2021-07-01T15:06:18.563Z"
   },
   {
    "duration": 70,
    "start_time": "2021-07-01T15:06:19.542Z"
   },
   {
    "duration": 126,
    "start_time": "2021-07-01T15:06:26.780Z"
   },
   {
    "duration": 9,
    "start_time": "2021-07-01T15:06:28.013Z"
   },
   {
    "duration": 51,
    "start_time": "2021-07-01T15:06:30.688Z"
   },
   {
    "duration": 11,
    "start_time": "2021-07-01T15:06:31.413Z"
   },
   {
    "duration": 17,
    "start_time": "2021-07-01T15:06:58.213Z"
   },
   {
    "duration": 58,
    "start_time": "2021-07-01T15:07:04.655Z"
   },
   {
    "duration": 37,
    "start_time": "2021-07-01T15:07:05.542Z"
   },
   {
    "duration": 76,
    "start_time": "2021-07-01T15:07:12.277Z"
   },
   {
    "duration": 377,
    "start_time": "2021-07-01T15:07:27.869Z"
   },
   {
    "duration": 75,
    "start_time": "2021-07-01T15:07:36.629Z"
   },
   {
    "duration": 113,
    "start_time": "2021-07-01T15:08:08.757Z"
   },
   {
    "duration": 97,
    "start_time": "2021-07-01T15:08:23.173Z"
   },
   {
    "duration": 854,
    "start_time": "2021-07-01T15:10:19.350Z"
   },
   {
    "duration": 68,
    "start_time": "2021-07-01T15:10:20.207Z"
   },
   {
    "duration": 9,
    "start_time": "2021-07-01T15:10:20.278Z"
   },
   {
    "duration": 538,
    "start_time": "2021-07-01T15:10:20.289Z"
   },
   {
    "duration": 558,
    "start_time": "2021-07-01T15:10:20.830Z"
   },
   {
    "duration": 22,
    "start_time": "2021-07-01T15:10:21.390Z"
   },
   {
    "duration": 22,
    "start_time": "2021-07-01T15:10:21.416Z"
   },
   {
    "duration": 805,
    "start_time": "2021-07-01T15:10:21.442Z"
   },
   {
    "duration": 783,
    "start_time": "2021-07-01T15:10:22.250Z"
   },
   {
    "duration": 50,
    "start_time": "2021-07-01T15:10:23.035Z"
   },
   {
    "duration": 54,
    "start_time": "2021-07-01T15:10:23.087Z"
   },
   {
    "duration": 75,
    "start_time": "2021-07-01T15:10:23.144Z"
   },
   {
    "duration": 10,
    "start_time": "2021-07-01T15:10:23.223Z"
   },
   {
    "duration": 40,
    "start_time": "2021-07-01T15:10:23.235Z"
   },
   {
    "duration": 30,
    "start_time": "2021-07-01T15:10:23.277Z"
   },
   {
    "duration": 17,
    "start_time": "2021-07-01T15:10:23.310Z"
   },
   {
    "duration": 34,
    "start_time": "2021-07-01T15:10:23.330Z"
   },
   {
    "duration": 59,
    "start_time": "2021-07-01T15:10:23.367Z"
   },
   {
    "duration": 157,
    "start_time": "2021-07-01T15:10:23.429Z"
   },
   {
    "duration": 291,
    "start_time": "2021-07-01T15:10:23.590Z"
   },
   {
    "duration": 591,
    "start_time": "2021-07-01T15:10:23.884Z"
   },
   {
    "duration": 42,
    "start_time": "2021-07-01T15:10:24.478Z"
   },
   {
    "duration": 50,
    "start_time": "2021-07-01T15:10:37.805Z"
   },
   {
    "duration": 40,
    "start_time": "2021-07-01T15:10:57.774Z"
   },
   {
    "duration": 31,
    "start_time": "2021-07-01T15:10:58.532Z"
   },
   {
    "duration": 7,
    "start_time": "2021-07-01T15:11:08.950Z"
   },
   {
    "duration": 575,
    "start_time": "2021-07-01T15:13:08.590Z"
   },
   {
    "duration": 116,
    "start_time": "2021-07-01T15:14:21.629Z"
   },
   {
    "duration": 36,
    "start_time": "2021-07-01T15:15:16.523Z"
   },
   {
    "duration": 51,
    "start_time": "2021-07-01T15:16:01.488Z"
   },
   {
    "duration": 6,
    "start_time": "2021-07-01T15:16:46.700Z"
   },
   {
    "duration": 689,
    "start_time": "2021-07-01T15:18:16.364Z"
   },
   {
    "duration": 300,
    "start_time": "2021-07-01T15:22:37.500Z"
   },
   {
    "duration": 134,
    "start_time": "2021-07-01T15:23:26.146Z"
   },
   {
    "duration": 255,
    "start_time": "2021-07-01T15:23:38.652Z"
   },
   {
    "duration": 354,
    "start_time": "2021-07-01T15:23:39.763Z"
   },
   {
    "duration": 309,
    "start_time": "2021-07-01T15:26:43.154Z"
   },
   {
    "duration": 30,
    "start_time": "2021-07-01T15:29:11.034Z"
   },
   {
    "duration": 40,
    "start_time": "2021-07-01T15:30:26.030Z"
   },
   {
    "duration": 39,
    "start_time": "2021-07-01T15:30:26.974Z"
   },
   {
    "duration": 49,
    "start_time": "2021-07-01T15:30:28.088Z"
   },
   {
    "duration": 9,
    "start_time": "2021-07-01T15:30:36.054Z"
   },
   {
    "duration": 30,
    "start_time": "2021-07-01T15:30:37.070Z"
   },
   {
    "duration": 12,
    "start_time": "2021-07-01T15:30:37.542Z"
   },
   {
    "duration": 3752,
    "start_time": "2021-07-01T15:30:38.334Z"
   },
   {
    "duration": 6,
    "start_time": "2021-07-01T15:31:00.270Z"
   },
   {
    "duration": 3267,
    "start_time": "2021-07-01T15:31:29.511Z"
   },
   {
    "duration": 49177,
    "start_time": "2021-07-01T15:31:56.686Z"
   },
   {
    "duration": 49,
    "start_time": "2021-07-01T15:32:47.838Z"
   },
   {
    "duration": 14,
    "start_time": "2021-07-01T15:36:09.063Z"
   },
   {
    "duration": 15,
    "start_time": "2021-07-01T15:36:18.941Z"
   },
   {
    "duration": 36,
    "start_time": "2021-07-01T15:36:30.149Z"
   },
   {
    "duration": 14,
    "start_time": "2021-07-01T15:36:31.069Z"
   },
   {
    "duration": 33,
    "start_time": "2021-07-01T15:36:31.670Z"
   },
   {
    "duration": 6,
    "start_time": "2021-07-01T15:36:38.341Z"
   },
   {
    "duration": 11,
    "start_time": "2021-07-01T15:36:38.814Z"
   },
   {
    "duration": 7,
    "start_time": "2021-07-01T15:36:39.357Z"
   },
   {
    "duration": 12388,
    "start_time": "2021-07-01T15:36:39.925Z"
   },
   {
    "duration": 39,
    "start_time": "2021-07-01T15:37:16.864Z"
   },
   {
    "duration": 12,
    "start_time": "2021-07-01T15:38:00.790Z"
   },
   {
    "duration": 17,
    "start_time": "2021-07-01T15:38:13.612Z"
   },
   {
    "duration": 7431,
    "start_time": "2021-07-01T15:39:37.301Z"
   },
   {
    "duration": 371,
    "start_time": "2021-07-01T15:40:25.333Z"
   },
   {
    "duration": 12,
    "start_time": "2021-07-01T15:40:30.916Z"
   },
   {
    "duration": 572,
    "start_time": "2021-07-01T15:41:01.429Z"
   },
   {
    "duration": 295,
    "start_time": "2021-07-01T15:41:05.676Z"
   },
   {
    "duration": 13,
    "start_time": "2021-07-01T15:42:12.084Z"
   },
   {
    "duration": 16,
    "start_time": "2021-07-01T15:42:28.309Z"
   },
   {
    "duration": 7089,
    "start_time": "2021-07-01T15:43:16.253Z"
   },
   {
    "duration": 35,
    "start_time": "2021-07-01T15:43:38.516Z"
   },
   {
    "duration": 12,
    "start_time": "2021-07-01T15:43:39.619Z"
   },
   {
    "duration": 40,
    "start_time": "2021-07-01T15:43:40.740Z"
   },
   {
    "duration": 7193,
    "start_time": "2021-07-01T15:43:41.469Z"
   },
   {
    "duration": 342,
    "start_time": "2021-07-01T15:46:14.962Z"
   },
   {
    "duration": 7,
    "start_time": "2021-07-01T15:46:23.651Z"
   },
   {
    "duration": 12,
    "start_time": "2021-07-01T15:46:31.676Z"
   },
   {
    "duration": 55,
    "start_time": "2021-07-01T15:46:42.092Z"
   },
   {
    "duration": 10,
    "start_time": "2021-07-01T15:46:44.371Z"
   },
   {
    "duration": 19,
    "start_time": "2021-07-01T15:47:22.556Z"
   },
   {
    "duration": 8,
    "start_time": "2021-07-01T15:47:31.131Z"
   },
   {
    "duration": 1569,
    "start_time": "2021-07-01T15:47:36.263Z"
   },
   {
    "duration": 66,
    "start_time": "2021-07-01T15:47:37.834Z"
   },
   {
    "duration": 21,
    "start_time": "2021-07-01T15:47:37.907Z"
   },
   {
    "duration": 9,
    "start_time": "2021-07-01T15:47:37.930Z"
   },
   {
    "duration": 513,
    "start_time": "2021-07-01T15:47:37.941Z"
   },
   {
    "duration": 489,
    "start_time": "2021-07-01T15:47:38.457Z"
   },
   {
    "duration": 10,
    "start_time": "2021-07-01T15:47:38.948Z"
   },
   {
    "duration": 9,
    "start_time": "2021-07-01T15:47:38.962Z"
   },
   {
    "duration": 680,
    "start_time": "2021-07-01T15:47:38.974Z"
   },
   {
    "duration": 613,
    "start_time": "2021-07-01T15:47:39.657Z"
   },
   {
    "duration": 50,
    "start_time": "2021-07-01T15:47:40.273Z"
   },
   {
    "duration": 49,
    "start_time": "2021-07-01T15:47:40.325Z"
   },
   {
    "duration": 55,
    "start_time": "2021-07-01T15:47:40.376Z"
   },
   {
    "duration": 7,
    "start_time": "2021-07-01T15:47:40.433Z"
   },
   {
    "duration": 55,
    "start_time": "2021-07-01T15:47:40.443Z"
   },
   {
    "duration": 9,
    "start_time": "2021-07-01T15:47:40.500Z"
   },
   {
    "duration": 16,
    "start_time": "2021-07-01T15:47:40.512Z"
   },
   {
    "duration": 13,
    "start_time": "2021-07-01T15:47:40.530Z"
   },
   {
    "duration": 42,
    "start_time": "2021-07-01T15:47:40.546Z"
   },
   {
    "duration": 47,
    "start_time": "2021-07-01T15:47:40.590Z"
   },
   {
    "duration": 46,
    "start_time": "2021-07-01T15:47:40.639Z"
   },
   {
    "duration": 35,
    "start_time": "2021-07-01T15:47:40.687Z"
   },
   {
    "duration": 43,
    "start_time": "2021-07-01T15:47:40.725Z"
   },
   {
    "duration": 7813,
    "start_time": "2021-07-01T15:47:40.770Z"
   },
   {
    "duration": -30557,
    "start_time": "2021-07-01T15:48:19.150Z"
   },
   {
    "duration": -30558,
    "start_time": "2021-07-01T15:48:19.152Z"
   },
   {
    "duration": -30558,
    "start_time": "2021-07-01T15:48:19.153Z"
   },
   {
    "duration": -30558,
    "start_time": "2021-07-01T15:48:19.155Z"
   },
   {
    "duration": -30560,
    "start_time": "2021-07-01T15:48:19.158Z"
   },
   {
    "duration": -30559,
    "start_time": "2021-07-01T15:48:19.159Z"
   },
   {
    "duration": 13,
    "start_time": "2021-07-01T15:48:04.864Z"
   },
   {
    "duration": 20,
    "start_time": "2021-07-01T15:48:05.462Z"
   },
   {
    "duration": 29,
    "start_time": "2021-07-01T15:48:09.998Z"
   },
   {
    "duration": 13,
    "start_time": "2021-07-01T15:48:10.606Z"
   },
   {
    "duration": 1071,
    "start_time": "2021-07-01T15:48:11.494Z"
   },
   {
    "duration": 9,
    "start_time": "2021-07-01T15:49:02.656Z"
   },
   {
    "duration": 16,
    "start_time": "2021-07-01T15:49:03.038Z"
   },
   {
    "duration": 23,
    "start_time": "2021-07-01T15:49:03.734Z"
   },
   {
    "duration": 13,
    "start_time": "2021-07-01T15:49:04.334Z"
   },
   {
    "duration": 45652,
    "start_time": "2021-07-01T15:49:05.318Z"
   },
   {
    "duration": 1522,
    "start_time": "2021-07-02T12:33:59.343Z"
   },
   {
    "duration": 85,
    "start_time": "2021-07-02T12:34:00.868Z"
   },
   {
    "duration": 35,
    "start_time": "2021-07-02T12:34:00.958Z"
   },
   {
    "duration": 24,
    "start_time": "2021-07-02T12:34:00.998Z"
   },
   {
    "duration": 552,
    "start_time": "2021-07-02T12:34:01.024Z"
   },
   {
    "duration": 554,
    "start_time": "2021-07-02T12:34:01.588Z"
   },
   {
    "duration": 11,
    "start_time": "2021-07-02T12:34:02.145Z"
   },
   {
    "duration": 28,
    "start_time": "2021-07-02T12:34:02.160Z"
   },
   {
    "duration": 751,
    "start_time": "2021-07-02T12:34:02.192Z"
   },
   {
    "duration": 612,
    "start_time": "2021-07-02T12:34:02.946Z"
   },
   {
    "duration": 50,
    "start_time": "2021-07-02T12:34:03.560Z"
   },
   {
    "duration": 49,
    "start_time": "2021-07-02T12:34:03.613Z"
   },
   {
    "duration": 96,
    "start_time": "2021-07-02T12:34:03.665Z"
   },
   {
    "duration": 19,
    "start_time": "2021-07-02T12:34:03.764Z"
   },
   {
    "duration": 55,
    "start_time": "2021-07-02T12:34:03.785Z"
   },
   {
    "duration": 10,
    "start_time": "2021-07-02T12:34:03.842Z"
   },
   {
    "duration": 15,
    "start_time": "2021-07-02T12:34:03.855Z"
   },
   {
    "duration": 21,
    "start_time": "2021-07-02T12:34:03.873Z"
   },
   {
    "duration": 37,
    "start_time": "2021-07-02T12:34:03.897Z"
   },
   {
    "duration": 48,
    "start_time": "2021-07-02T12:34:03.937Z"
   },
   {
    "duration": 48,
    "start_time": "2021-07-02T12:34:03.987Z"
   },
   {
    "duration": 48,
    "start_time": "2021-07-02T12:34:04.037Z"
   },
   {
    "duration": 38,
    "start_time": "2021-07-02T12:34:04.090Z"
   },
   {
    "duration": 14,
    "start_time": "2021-07-02T12:34:04.132Z"
   },
   {
    "duration": 50,
    "start_time": "2021-07-02T12:34:04.149Z"
   },
   {
    "duration": 38,
    "start_time": "2021-07-02T12:34:04.202Z"
   },
   {
    "duration": 47,
    "start_time": "2021-07-02T12:34:04.244Z"
   },
   {
    "duration": 47348,
    "start_time": "2021-07-02T12:34:04.294Z"
   },
   {
    "duration": 5,
    "start_time": "2021-07-02T12:34:51.644Z"
   },
   {
    "duration": 11,
    "start_time": "2021-07-02T12:39:50.234Z"
   },
   {
    "duration": 84,
    "start_time": "2021-07-02T12:39:56.539Z"
   },
   {
    "duration": 27,
    "start_time": "2021-07-02T12:40:01.588Z"
   },
   {
    "duration": 26,
    "start_time": "2021-07-02T12:40:45.197Z"
   },
   {
    "duration": 435,
    "start_time": "2021-07-02T12:41:35.324Z"
   },
   {
    "duration": 310,
    "start_time": "2021-07-02T12:41:40.685Z"
   },
   {
    "duration": 331,
    "start_time": "2021-07-02T12:41:52.804Z"
   },
   {
    "duration": 300,
    "start_time": "2021-07-02T12:42:36.237Z"
   },
   {
    "duration": 306,
    "start_time": "2021-07-02T12:43:15.356Z"
   },
   {
    "duration": 379,
    "start_time": "2021-07-02T12:43:42.092Z"
   },
   {
    "duration": 322,
    "start_time": "2021-07-02T12:43:52.084Z"
   },
   {
    "duration": 324,
    "start_time": "2021-07-02T12:43:56.555Z"
   },
   {
    "duration": 358,
    "start_time": "2021-07-02T12:44:22.284Z"
   },
   {
    "duration": 312,
    "start_time": "2021-07-02T12:44:29.868Z"
   },
   {
    "duration": 360,
    "start_time": "2021-07-02T12:46:40.212Z"
   },
   {
    "duration": 300,
    "start_time": "2021-07-02T12:47:18.124Z"
   },
   {
    "duration": 7,
    "start_time": "2021-07-02T12:48:15.099Z"
   },
   {
    "duration": 10,
    "start_time": "2021-07-02T12:48:21.123Z"
   },
   {
    "duration": 67,
    "start_time": "2021-07-02T12:48:26.163Z"
   },
   {
    "duration": 12,
    "start_time": "2021-07-02T12:49:48.403Z"
   },
   {
    "duration": 64,
    "start_time": "2021-07-02T12:50:04.251Z"
   },
   {
    "duration": 67,
    "start_time": "2021-07-02T12:50:20.843Z"
   },
   {
    "duration": 20,
    "start_time": "2021-07-02T12:50:56.371Z"
   },
   {
    "duration": 17,
    "start_time": "2021-07-02T12:50:57.515Z"
   },
   {
    "duration": 41,
    "start_time": "2021-07-02T12:51:05.766Z"
   },
   {
    "duration": 24,
    "start_time": "2021-07-02T12:51:06.178Z"
   },
   {
    "duration": 34,
    "start_time": "2021-07-02T12:51:06.714Z"
   },
   {
    "duration": 63,
    "start_time": "2021-07-02T12:51:08.620Z"
   },
   {
    "duration": 21,
    "start_time": "2021-07-02T12:51:10.051Z"
   },
   {
    "duration": 16,
    "start_time": "2021-07-02T12:51:13.731Z"
   },
   {
    "duration": 26,
    "start_time": "2021-07-02T12:51:17.659Z"
   },
   {
    "duration": 11,
    "start_time": "2021-07-02T12:51:17.979Z"
   },
   {
    "duration": 54376,
    "start_time": "2021-07-02T12:51:19.091Z"
   },
   {
    "duration": 203,
    "start_time": "2021-07-02T12:52:38.684Z"
   },
   {
    "duration": 7717,
    "start_time": "2021-07-02T12:55:31.553Z"
   },
   {
    "duration": 339,
    "start_time": "2021-07-02T12:56:10.243Z"
   },
   {
    "duration": 11,
    "start_time": "2021-07-02T12:56:17.034Z"
   },
   {
    "duration": 22,
    "start_time": "2021-07-02T12:56:25.218Z"
   },
   {
    "duration": 22,
    "start_time": "2021-07-02T12:57:04.650Z"
   },
   {
    "duration": 55,
    "start_time": "2021-07-02T12:57:40.274Z"
   },
   {
    "duration": 604,
    "start_time": "2021-07-02T12:58:45.738Z"
   },
   {
    "duration": 672,
    "start_time": "2021-07-02T12:58:55.889Z"
   },
   {
    "duration": 7909,
    "start_time": "2021-07-02T13:00:26.562Z"
   },
   {
    "duration": 31,
    "start_time": "2021-07-02T13:00:44.363Z"
   },
   {
    "duration": 49,
    "start_time": "2021-07-02T13:02:54.985Z"
   },
   {
    "duration": 8,
    "start_time": "2021-07-02T13:02:55.513Z"
   },
   {
    "duration": 33,
    "start_time": "2021-07-02T13:02:56.058Z"
   },
   {
    "duration": 52,
    "start_time": "2021-07-02T13:03:28.323Z"
   },
   {
    "duration": 7,
    "start_time": "2021-07-02T13:03:33.905Z"
   },
   {
    "duration": 9,
    "start_time": "2021-07-02T13:03:40.314Z"
   },
   {
    "duration": 7,
    "start_time": "2021-07-02T13:03:40.721Z"
   },
   {
    "duration": 14533,
    "start_time": "2021-07-02T13:03:41.136Z"
   },
   {
    "duration": 214,
    "start_time": "2021-07-02T13:03:55.671Z"
   },
   {
    "duration": 12,
    "start_time": "2021-07-02T13:04:56.801Z"
   },
   {
    "duration": 18,
    "start_time": "2021-07-02T13:05:09.521Z"
   },
   {
    "duration": 12,
    "start_time": "2021-07-02T13:05:36.553Z"
   },
   {
    "duration": 16,
    "start_time": "2021-07-02T13:05:37.441Z"
   },
   {
    "duration": 32,
    "start_time": "2021-07-02T13:05:51.809Z"
   },
   {
    "duration": 9,
    "start_time": "2021-07-02T13:05:52.096Z"
   },
   {
    "duration": 35,
    "start_time": "2021-07-02T13:05:52.537Z"
   },
   {
    "duration": 7401,
    "start_time": "2021-07-02T13:06:21.058Z"
   },
   {
    "duration": 47,
    "start_time": "2021-07-02T13:06:40.313Z"
   },
   {
    "duration": 21,
    "start_time": "2021-07-02T13:06:42.090Z"
   },
   {
    "duration": 35,
    "start_time": "2021-07-02T13:06:42.434Z"
   },
   {
    "duration": 47,
    "start_time": "2021-07-02T13:07:10.065Z"
   },
   {
    "duration": 8,
    "start_time": "2021-07-02T13:07:11.016Z"
   },
   {
    "duration": 35,
    "start_time": "2021-07-02T13:07:11.432Z"
   },
   {
    "duration": 52,
    "start_time": "2021-07-02T13:07:20.089Z"
   },
   {
    "duration": 39,
    "start_time": "2021-07-02T13:07:26.049Z"
   },
   {
    "duration": 9,
    "start_time": "2021-07-02T13:07:34.233Z"
   },
   {
    "duration": 9,
    "start_time": "2021-07-02T13:07:34.776Z"
   },
   {
    "duration": 8,
    "start_time": "2021-07-02T13:07:35.152Z"
   },
   {
    "duration": 13859,
    "start_time": "2021-07-02T13:07:35.976Z"
   },
   {
    "duration": 249,
    "start_time": "2021-07-02T13:07:49.838Z"
   },
   {
    "duration": 41,
    "start_time": "2021-07-02T13:08:23.561Z"
   },
   {
    "duration": 64,
    "start_time": "2021-07-02T13:12:28.640Z"
   },
   {
    "duration": 23,
    "start_time": "2021-07-02T13:12:28.983Z"
   },
   {
    "duration": 9,
    "start_time": "2021-07-02T13:12:29.368Z"
   },
   {
    "duration": 496,
    "start_time": "2021-07-02T13:12:29.560Z"
   },
   {
    "duration": 513,
    "start_time": "2021-07-02T13:12:30.059Z"
   },
   {
    "duration": 11,
    "start_time": "2021-07-02T13:12:30.587Z"
   },
   {
    "duration": 8,
    "start_time": "2021-07-02T13:12:30.601Z"
   },
   {
    "duration": 717,
    "start_time": "2021-07-02T13:12:30.611Z"
   },
   {
    "duration": 618,
    "start_time": "2021-07-02T13:12:31.331Z"
   },
   {
    "duration": 53,
    "start_time": "2021-07-02T13:12:31.952Z"
   },
   {
    "duration": 52,
    "start_time": "2021-07-02T13:12:32.010Z"
   },
   {
    "duration": 87,
    "start_time": "2021-07-02T13:12:32.066Z"
   },
   {
    "duration": 8,
    "start_time": "2021-07-02T13:12:32.156Z"
   },
   {
    "duration": 59,
    "start_time": "2021-07-02T13:12:32.167Z"
   },
   {
    "duration": 14,
    "start_time": "2021-07-02T13:12:32.229Z"
   },
   {
    "duration": 23,
    "start_time": "2021-07-02T13:12:32.246Z"
   },
   {
    "duration": 9,
    "start_time": "2021-07-02T13:12:41.834Z"
   },
   {
    "duration": 12,
    "start_time": "2021-07-02T13:12:42.119Z"
   },
   {
    "duration": 48,
    "start_time": "2021-07-02T13:12:42.848Z"
   },
   {
    "duration": 50,
    "start_time": "2021-07-02T13:12:55.664Z"
   },
   {
    "duration": 43,
    "start_time": "2021-07-02T13:13:07.120Z"
   },
   {
    "duration": 8,
    "start_time": "2021-07-02T13:13:07.399Z"
   },
   {
    "duration": 36,
    "start_time": "2021-07-02T13:13:07.944Z"
   },
   {
    "duration": 37,
    "start_time": "2021-07-02T13:13:16.320Z"
   },
   {
    "duration": 8,
    "start_time": "2021-07-02T13:13:18.376Z"
   },
   {
    "duration": 39,
    "start_time": "2021-07-02T13:13:18.601Z"
   },
   {
    "duration": 10,
    "start_time": "2021-07-02T13:13:18.855Z"
   },
   {
    "duration": 8,
    "start_time": "2021-07-02T13:13:19.456Z"
   },
   {
    "duration": 13326,
    "start_time": "2021-07-02T13:13:21.488Z"
   },
   {
    "duration": 167,
    "start_time": "2021-07-02T13:13:34.818Z"
   },
   {
    "duration": 12906,
    "start_time": "2021-07-02T13:13:41.119Z"
   },
   {
    "duration": 66,
    "start_time": "2021-07-02T13:13:54.028Z"
   },
   {
    "duration": 8,
    "start_time": "2021-07-02T13:14:00.344Z"
   },
   {
    "duration": 7,
    "start_time": "2021-07-02T13:21:47.742Z"
   },
   {
    "duration": 41,
    "start_time": "2021-07-02T13:21:48.855Z"
   },
   {
    "duration": 368,
    "start_time": "2021-07-02T13:21:50.470Z"
   },
   {
    "duration": -33158,
    "start_time": "2021-07-02T13:22:24.000Z"
   },
   {
    "duration": 8,
    "start_time": "2021-07-02T13:22:12.519Z"
   },
   {
    "duration": 40,
    "start_time": "2021-07-02T13:22:13.095Z"
   },
   {
    "duration": 318,
    "start_time": "2021-07-02T13:22:13.758Z"
   },
   {
    "duration": 7,
    "start_time": "2021-07-02T13:22:34.599Z"
   },
   {
    "duration": 39,
    "start_time": "2021-07-02T13:22:34.920Z"
   },
   {
    "duration": 10,
    "start_time": "2021-07-02T13:22:35.390Z"
   },
   {
    "duration": 8,
    "start_time": "2021-07-02T13:22:38.182Z"
   },
   {
    "duration": 8,
    "start_time": "2021-07-02T13:22:38.534Z"
   },
   {
    "duration": 6,
    "start_time": "2021-07-02T13:24:17.430Z"
   },
   {
    "duration": 58,
    "start_time": "2021-07-02T13:24:42.047Z"
   },
   {
    "duration": 17,
    "start_time": "2021-07-02T13:24:43.470Z"
   },
   {
    "duration": 36,
    "start_time": "2021-07-02T13:24:43.919Z"
   },
   {
    "duration": 39,
    "start_time": "2021-07-02T13:25:00.191Z"
   },
   {
    "duration": 323,
    "start_time": "2021-07-02T13:25:01.359Z"
   },
   {
    "duration": 18,
    "start_time": "2021-07-02T13:25:29.814Z"
   },
   {
    "duration": 46,
    "start_time": "2021-07-02T13:25:30.831Z"
   },
   {
    "duration": 27,
    "start_time": "2021-07-02T13:25:32.126Z"
   },
   {
    "duration": 11,
    "start_time": "2021-07-02T13:25:33.430Z"
   },
   {
    "duration": 9,
    "start_time": "2021-07-02T13:25:33.902Z"
   },
   {
    "duration": 65610,
    "start_time": "2021-07-02T13:25:38.534Z"
   },
   {
    "duration": 135,
    "start_time": "2021-07-02T13:26:44.157Z"
   },
   {
    "duration": 424,
    "start_time": "2021-07-02T13:28:22.398Z"
   },
   {
    "duration": 435,
    "start_time": "2021-07-02T13:29:50.581Z"
   },
   {
    "duration": 1483,
    "start_time": "2021-07-02T13:32:21.246Z"
   },
   {
    "duration": 70,
    "start_time": "2021-07-02T13:32:22.732Z"
   },
   {
    "duration": 22,
    "start_time": "2021-07-02T13:32:22.806Z"
   },
   {
    "duration": 8,
    "start_time": "2021-07-02T13:32:22.831Z"
   },
   {
    "duration": 546,
    "start_time": "2021-07-02T13:32:22.841Z"
   },
   {
    "duration": 509,
    "start_time": "2021-07-02T13:32:23.390Z"
   },
   {
    "duration": 13,
    "start_time": "2021-07-02T13:32:23.901Z"
   },
   {
    "duration": 9,
    "start_time": "2021-07-02T13:32:23.920Z"
   },
   {
    "duration": 712,
    "start_time": "2021-07-02T13:32:23.933Z"
   },
   {
    "duration": 627,
    "start_time": "2021-07-02T13:32:24.647Z"
   },
   {
    "duration": 50,
    "start_time": "2021-07-02T13:32:25.276Z"
   },
   {
    "duration": 48,
    "start_time": "2021-07-02T13:32:25.329Z"
   },
   {
    "duration": 61,
    "start_time": "2021-07-02T13:32:25.379Z"
   },
   {
    "duration": 20,
    "start_time": "2021-07-02T13:32:25.442Z"
   },
   {
    "duration": 62,
    "start_time": "2021-07-02T13:32:25.465Z"
   },
   {
    "duration": 9,
    "start_time": "2021-07-02T13:32:25.530Z"
   },
   {
    "duration": 28,
    "start_time": "2021-07-02T13:32:25.542Z"
   },
   {
    "duration": 24,
    "start_time": "2021-07-02T13:32:25.572Z"
   },
   {
    "duration": 18,
    "start_time": "2021-07-02T13:32:25.598Z"
   },
   {
    "duration": 40,
    "start_time": "2021-07-02T13:32:25.618Z"
   },
   {
    "duration": 38,
    "start_time": "2021-07-02T13:32:25.661Z"
   },
   {
    "duration": 87,
    "start_time": "2021-07-02T13:32:25.702Z"
   },
   {
    "duration": 27,
    "start_time": "2021-07-02T13:32:25.794Z"
   },
   {
    "duration": 35,
    "start_time": "2021-07-02T13:32:25.824Z"
   },
   {
    "duration": 60,
    "start_time": "2021-07-02T13:32:25.861Z"
   },
   {
    "duration": 30,
    "start_time": "2021-07-02T13:32:25.923Z"
   },
   {
    "duration": 76,
    "start_time": "2021-07-02T13:32:25.955Z"
   },
   {
    "duration": 30,
    "start_time": "2021-07-02T13:32:26.034Z"
   },
   {
    "duration": 14,
    "start_time": "2021-07-02T13:32:26.087Z"
   },
   {
    "duration": 13,
    "start_time": "2021-07-02T13:32:26.103Z"
   },
   {
    "duration": 83633,
    "start_time": "2021-07-02T13:32:26.118Z"
   },
   {
    "duration": 574,
    "start_time": "2021-07-02T13:33:49.754Z"
   },
   {
    "duration": 162,
    "start_time": "2021-07-02T13:33:50.331Z"
   },
   {
    "duration": 108,
    "start_time": "2021-07-02T13:33:50.588Z"
   },
   {
    "duration": 13,
    "start_time": "2021-07-02T13:35:23.812Z"
   },
   {
    "duration": 50,
    "start_time": "2021-07-02T13:35:23.828Z"
   },
   {
    "duration": 38,
    "start_time": "2021-07-02T13:35:23.882Z"
   },
   {
    "duration": 61,
    "start_time": "2021-07-02T13:35:24.792Z"
   },
   {
    "duration": 24,
    "start_time": "2021-07-02T13:35:25.240Z"
   },
   {
    "duration": 58,
    "start_time": "2021-07-02T13:35:30.537Z"
   },
   {
    "duration": 65,
    "start_time": "2021-07-02T13:35:38.657Z"
   },
   {
    "duration": 68,
    "start_time": "2021-07-02T13:35:54.178Z"
   },
   {
    "duration": 15,
    "start_time": "2021-07-02T13:35:56.201Z"
   },
   {
    "duration": 43,
    "start_time": "2021-07-02T13:35:56.777Z"
   },
   {
    "duration": 26,
    "start_time": "2021-07-02T13:35:58.265Z"
   },
   {
    "duration": 10,
    "start_time": "2021-07-02T13:35:59.025Z"
   },
   {
    "duration": 8,
    "start_time": "2021-07-02T13:35:59.408Z"
   },
   {
    "duration": 66459,
    "start_time": "2021-07-02T13:36:00.736Z"
   },
   {
    "duration": 439,
    "start_time": "2021-07-02T13:37:07.197Z"
   },
   {
    "duration": 251,
    "start_time": "2021-07-02T13:37:07.639Z"
   },
   {
    "duration": 437,
    "start_time": "2021-07-02T13:56:21.847Z"
   },
   {
    "duration": 49,
    "start_time": "2021-07-02T13:56:27.703Z"
   },
   {
    "duration": 48,
    "start_time": "2021-07-02T13:56:32.334Z"
   },
   {
    "duration": 48,
    "start_time": "2021-07-02T13:56:57.678Z"
   },
   {
    "duration": 67,
    "start_time": "2021-07-02T13:57:16.430Z"
   },
   {
    "duration": 51,
    "start_time": "2021-07-02T13:59:20.253Z"
   },
   {
    "duration": 49,
    "start_time": "2021-07-02T13:59:33.574Z"
   },
   {
    "duration": 43,
    "start_time": "2021-07-02T13:59:42.742Z"
   },
   {
    "duration": 63,
    "start_time": "2021-07-02T14:00:44.277Z"
   },
   {
    "duration": 75,
    "start_time": "2021-07-02T14:02:06.230Z"
   },
   {
    "duration": 27,
    "start_time": "2021-07-02T14:02:06.798Z"
   },
   {
    "duration": 61,
    "start_time": "2021-07-02T14:02:07.503Z"
   },
   {
    "duration": 62,
    "start_time": "2021-07-02T14:02:38.229Z"
   },
   {
    "duration": 31,
    "start_time": "2021-07-02T14:02:38.708Z"
   },
   {
    "duration": 58,
    "start_time": "2021-07-02T14:02:39.182Z"
   },
   {
    "duration": 378,
    "start_time": "2021-07-02T14:02:56.062Z"
   },
   {
    "duration": 1479,
    "start_time": "2021-07-02T14:03:28.346Z"
   },
   {
    "duration": 69,
    "start_time": "2021-07-02T14:03:29.829Z"
   },
   {
    "duration": 22,
    "start_time": "2021-07-02T14:03:29.901Z"
   },
   {
    "duration": 8,
    "start_time": "2021-07-02T14:03:29.926Z"
   },
   {
    "duration": 520,
    "start_time": "2021-07-02T14:03:29.936Z"
   },
   {
    "duration": 603,
    "start_time": "2021-07-02T14:03:30.458Z"
   },
   {
    "duration": 21,
    "start_time": "2021-07-02T14:03:31.064Z"
   },
   {
    "duration": 8,
    "start_time": "2021-07-02T14:03:31.090Z"
   },
   {
    "duration": 786,
    "start_time": "2021-07-02T14:03:31.102Z"
   },
   {
    "duration": 604,
    "start_time": "2021-07-02T14:03:31.891Z"
   },
   {
    "duration": 53,
    "start_time": "2021-07-02T14:03:32.499Z"
   },
   {
    "duration": 48,
    "start_time": "2021-07-02T14:03:32.555Z"
   },
   {
    "duration": 66,
    "start_time": "2021-07-02T14:03:32.606Z"
   },
   {
    "duration": 12,
    "start_time": "2021-07-02T14:03:32.674Z"
   },
   {
    "duration": 69,
    "start_time": "2021-07-02T14:03:32.690Z"
   },
   {
    "duration": 11,
    "start_time": "2021-07-02T14:03:32.761Z"
   },
   {
    "duration": 18,
    "start_time": "2021-07-02T14:03:32.775Z"
   },
   {
    "duration": 14,
    "start_time": "2021-07-02T14:03:32.796Z"
   },
   {
    "duration": 37,
    "start_time": "2021-07-02T14:03:32.813Z"
   },
   {
    "duration": 53,
    "start_time": "2021-07-02T14:03:32.853Z"
   },
   {
    "duration": 81,
    "start_time": "2021-07-02T14:03:32.908Z"
   },
   {
    "duration": 27,
    "start_time": "2021-07-02T14:03:32.991Z"
   },
   {
    "duration": 81,
    "start_time": "2021-07-02T14:03:33.024Z"
   },
   {
    "duration": 63,
    "start_time": "2021-07-02T14:03:33.108Z"
   },
   {
    "duration": 87,
    "start_time": "2021-07-02T14:03:33.185Z"
   },
   {
    "duration": 479,
    "start_time": "2021-07-02T14:03:33.286Z"
   },
   {
    "duration": -33174,
    "start_time": "2021-07-02T14:04:06.942Z"
   },
   {
    "duration": -33177,
    "start_time": "2021-07-02T14:04:06.946Z"
   },
   {
    "duration": -33178,
    "start_time": "2021-07-02T14:04:06.948Z"
   },
   {
    "duration": -33177,
    "start_time": "2021-07-02T14:04:06.949Z"
   },
   {
    "duration": -33177,
    "start_time": "2021-07-02T14:04:06.950Z"
   },
   {
    "duration": -33178,
    "start_time": "2021-07-02T14:04:06.952Z"
   },
   {
    "duration": -33177,
    "start_time": "2021-07-02T14:04:06.953Z"
   },
   {
    "duration": 18,
    "start_time": "2021-07-02T14:03:42.023Z"
   },
   {
    "duration": 49,
    "start_time": "2021-07-02T14:03:42.816Z"
   },
   {
    "duration": 27,
    "start_time": "2021-07-02T14:03:45.639Z"
   },
   {
    "duration": 13,
    "start_time": "2021-07-02T14:03:46.239Z"
   },
   {
    "duration": 7,
    "start_time": "2021-07-02T14:03:46.807Z"
   },
   {
    "duration": 8,
    "start_time": "2021-07-02T14:03:57.399Z"
   },
   {
    "duration": 7,
    "start_time": "2021-07-02T14:04:04.663Z"
   },
   {
    "duration": 54873,
    "start_time": "2021-07-02T14:04:05.143Z"
   },
   {
    "duration": 539,
    "start_time": "2021-07-02T14:05:00.018Z"
   },
   {
    "duration": 225,
    "start_time": "2021-07-02T14:05:00.560Z"
   },
   {
    "duration": 560,
    "start_time": "2021-07-02T14:08:49.962Z"
   },
   {
    "duration": 3864,
    "start_time": "2021-07-02T14:11:43.694Z"
   },
   {
    "duration": 915,
    "start_time": "2021-07-02T14:11:49.612Z"
   },
   {
    "duration": 76,
    "start_time": "2021-07-02T14:15:20.250Z"
   },
   {
    "duration": 6184,
    "start_time": "2021-07-02T14:15:44.499Z"
   },
   {
    "duration": 62,
    "start_time": "2021-07-02T14:17:03.987Z"
   },
   {
    "duration": 369,
    "start_time": "2021-07-02T14:17:42.147Z"
   },
   {
    "duration": 62,
    "start_time": "2021-07-02T14:17:49.635Z"
   },
   {
    "duration": 23,
    "start_time": "2021-07-02T14:17:52.875Z"
   },
   {
    "duration": 570,
    "start_time": "2021-07-02T14:18:10.892Z"
   },
   {
    "duration": 500,
    "start_time": "2021-07-02T14:18:16.756Z"
   },
   {
    "duration": 10,
    "start_time": "2021-07-02T14:18:23.548Z"
   },
   {
    "duration": 1099,
    "start_time": "2021-07-02T14:18:38.075Z"
   },
   {
    "duration": 9,
    "start_time": "2021-07-02T14:18:46.067Z"
   },
   {
    "duration": 663,
    "start_time": "2021-07-02T14:18:46.635Z"
   },
   {
    "duration": 868,
    "start_time": "2021-07-02T14:19:02.306Z"
   },
   {
    "duration": 77,
    "start_time": "2021-07-02T14:19:24.859Z"
   },
   {
    "duration": 8,
    "start_time": "2021-07-02T14:19:25.619Z"
   },
   {
    "duration": 1397,
    "start_time": "2021-07-02T14:20:29.835Z"
   },
   {
    "duration": 55,
    "start_time": "2021-07-02T14:21:08.820Z"
   },
   {
    "duration": 11,
    "start_time": "2021-07-02T14:21:23.043Z"
   },
   {
    "duration": 8,
    "start_time": "2021-07-02T14:21:25.410Z"
   },
   {
    "duration": 11,
    "start_time": "2021-07-02T14:21:28.641Z"
   },
   {
    "duration": 64,
    "start_time": "2021-07-02T14:21:28.931Z"
   },
   {
    "duration": 40,
    "start_time": "2021-07-02T14:21:29.882Z"
   },
   {
    "duration": 56,
    "start_time": "2021-07-02T14:21:33.338Z"
   },
   {
    "duration": 23,
    "start_time": "2021-07-02T14:21:34.002Z"
   },
   {
    "duration": 55,
    "start_time": "2021-07-02T14:21:34.547Z"
   },
   {
    "duration": 63,
    "start_time": "2021-07-02T14:22:36.180Z"
   },
   {
    "duration": 82,
    "start_time": "2021-07-02T14:23:09.930Z"
   },
   {
    "duration": 23,
    "start_time": "2021-07-02T14:23:11.234Z"
   },
   {
    "duration": 45,
    "start_time": "2021-07-02T14:23:11.738Z"
   },
   {
    "duration": 24,
    "start_time": "2021-07-02T14:23:13.354Z"
   },
   {
    "duration": 11,
    "start_time": "2021-07-02T14:23:13.802Z"
   },
   {
    "duration": 6,
    "start_time": "2021-07-02T14:23:14.089Z"
   },
   {
    "duration": 53815,
    "start_time": "2021-07-02T14:23:14.850Z"
   },
   {
    "duration": 507,
    "start_time": "2021-07-02T14:24:08.667Z"
   },
   {
    "duration": 212,
    "start_time": "2021-07-02T14:24:09.177Z"
   },
   {
    "duration": 5105,
    "start_time": "2021-07-02T14:24:09.396Z"
   },
   {
    "duration": 610,
    "start_time": "2021-07-02T14:26:58.690Z"
   },
   {
    "duration": 742,
    "start_time": "2021-07-02T14:27:26.546Z"
   },
   {
    "duration": 712,
    "start_time": "2021-07-02T14:27:36.001Z"
   },
   {
    "duration": 27,
    "start_time": "2021-07-02T14:41:55.169Z"
   },
   {
    "duration": 8,
    "start_time": "2021-07-02T14:41:55.544Z"
   },
   {
    "duration": 29,
    "start_time": "2021-07-02T14:41:56.145Z"
   },
   {
    "duration": 22,
    "start_time": "2021-07-02T14:42:51.712Z"
   },
   {
    "duration": 6,
    "start_time": "2021-07-02T14:42:53.135Z"
   },
   {
    "duration": 30,
    "start_time": "2021-07-02T14:42:53.391Z"
   },
   {
    "duration": 22,
    "start_time": "2021-07-02T14:43:26.824Z"
   },
   {
    "duration": 7,
    "start_time": "2021-07-02T14:43:27.519Z"
   },
   {
    "duration": 27,
    "start_time": "2021-07-02T14:43:27.840Z"
   },
   {
    "duration": 36,
    "start_time": "2021-07-02T14:43:46.776Z"
   },
   {
    "duration": 46,
    "start_time": "2021-07-02T14:44:50.776Z"
   },
   {
    "duration": 7,
    "start_time": "2021-07-02T14:45:13.679Z"
   },
   {
    "duration": 9,
    "start_time": "2021-07-02T14:45:14.567Z"
   },
   {
    "duration": 327,
    "start_time": "2021-07-02T14:45:30.903Z"
   },
   {
    "duration": 9,
    "start_time": "2021-07-02T14:45:35.184Z"
   },
   {
    "duration": 8,
    "start_time": "2021-07-02T14:45:39.718Z"
   },
   {
    "duration": 6,
    "start_time": "2021-07-02T14:45:40.136Z"
   },
   {
    "duration": 5,
    "start_time": "2021-07-02T14:45:40.447Z"
   },
   {
    "duration": 1455,
    "start_time": "2021-07-02T14:45:40.831Z"
   },
   {
    "duration": 42,
    "start_time": "2021-07-02T14:45:42.288Z"
   },
   {
    "duration": 10,
    "start_time": "2021-07-02T14:45:42.332Z"
   },
   {
    "duration": 1441,
    "start_time": "2021-07-02T14:45:42.345Z"
   },
   {
    "duration": 302,
    "start_time": "2021-07-02T14:45:43.789Z"
   },
   {
    "duration": 33,
    "start_time": "2021-07-02T14:46:06.367Z"
   },
   {
    "duration": 7,
    "start_time": "2021-07-02T14:46:07.727Z"
   },
   {
    "duration": 46,
    "start_time": "2021-07-02T14:46:08.278Z"
   },
   {
    "duration": 62,
    "start_time": "2021-07-02T14:46:16.103Z"
   },
   {
    "duration": 22,
    "start_time": "2021-07-02T14:46:17.471Z"
   },
   {
    "duration": 8,
    "start_time": "2021-07-02T14:46:19.687Z"
   },
   {
    "duration": 17,
    "start_time": "2021-07-02T14:46:20.169Z"
   },
   {
    "duration": 15,
    "start_time": "2021-07-02T14:46:20.552Z"
   },
   {
    "duration": 8,
    "start_time": "2021-07-02T14:46:20.767Z"
   },
   {
    "duration": 7,
    "start_time": "2021-07-02T14:46:21.054Z"
   },
   {
    "duration": 5,
    "start_time": "2021-07-02T14:46:21.279Z"
   },
   {
    "duration": 3175,
    "start_time": "2021-07-02T14:46:21.751Z"
   },
   {
    "duration": 41,
    "start_time": "2021-07-02T14:46:24.933Z"
   },
   {
    "duration": 197,
    "start_time": "2021-07-02T14:46:24.988Z"
   },
   {
    "duration": 2510,
    "start_time": "2021-07-02T14:46:25.189Z"
   },
   {
    "duration": 713,
    "start_time": "2021-07-02T14:46:27.701Z"
   },
   {
    "duration": 309,
    "start_time": "2021-07-02T15:15:26.435Z"
   },
   {
    "duration": 376,
    "start_time": "2021-07-02T15:15:50.411Z"
   },
   {
    "duration": 378,
    "start_time": "2021-07-02T15:15:55.428Z"
   },
   {
    "duration": 354,
    "start_time": "2021-07-02T15:16:04.468Z"
   },
   {
    "duration": 327,
    "start_time": "2021-07-02T15:16:09.796Z"
   },
   {
    "duration": 329,
    "start_time": "2021-07-02T15:17:53.835Z"
   },
   {
    "duration": 39,
    "start_time": "2021-07-02T15:18:13.692Z"
   },
   {
    "duration": 9,
    "start_time": "2021-07-02T15:18:19.314Z"
   },
   {
    "duration": 306,
    "start_time": "2021-07-02T15:18:41.579Z"
   },
   {
    "duration": 407,
    "start_time": "2021-07-02T15:18:49.517Z"
   },
   {
    "duration": 318,
    "start_time": "2021-07-02T15:18:56.267Z"
   },
   {
    "duration": 351,
    "start_time": "2021-07-02T15:19:01.283Z"
   },
   {
    "duration": 377,
    "start_time": "2021-07-02T15:19:52.451Z"
   },
   {
    "duration": 339,
    "start_time": "2021-07-02T15:19:58.099Z"
   },
   {
    "duration": 8,
    "start_time": "2021-07-02T15:20:27.819Z"
   },
   {
    "duration": 7,
    "start_time": "2021-07-02T15:20:28.363Z"
   },
   {
    "duration": 7,
    "start_time": "2021-07-02T15:20:28.867Z"
   },
   {
    "duration": 3111,
    "start_time": "2021-07-02T15:20:29.443Z"
   },
   {
    "duration": 54,
    "start_time": "2021-07-02T15:20:32.558Z"
   },
   {
    "duration": 76,
    "start_time": "2021-07-02T15:20:32.616Z"
   },
   {
    "duration": 91005,
    "start_time": "2021-07-02T15:20:32.697Z"
   },
   {
    "duration": 62989,
    "start_time": "2021-07-02T15:22:03.706Z"
   },
   {
    "duration": 6,
    "start_time": "2021-07-02T15:24:28.099Z"
   },
   {
    "duration": 925,
    "start_time": "2021-07-02T15:24:38.443Z"
   },
   {
    "duration": 104097,
    "start_time": "2021-07-02T15:24:52.907Z"
   },
   {
    "duration": 632137,
    "start_time": "2021-07-02T15:28:12.474Z"
   },
   {
    "duration": 154846,
    "start_time": "2021-07-02T15:41:44.240Z"
   },
   {
    "duration": 1082,
    "start_time": "2021-07-03T10:32:17.075Z"
   },
   {
    "duration": 54,
    "start_time": "2021-07-03T10:32:18.159Z"
   },
   {
    "duration": 14,
    "start_time": "2021-07-03T10:32:18.215Z"
   },
   {
    "duration": 9,
    "start_time": "2021-07-03T10:32:18.231Z"
   },
   {
    "duration": 277,
    "start_time": "2021-07-03T10:32:18.241Z"
   },
   {
    "duration": 274,
    "start_time": "2021-07-03T10:32:18.520Z"
   },
   {
    "duration": 7,
    "start_time": "2021-07-03T10:32:18.796Z"
   },
   {
    "duration": 9,
    "start_time": "2021-07-03T10:32:18.805Z"
   },
   {
    "duration": 365,
    "start_time": "2021-07-03T10:32:18.816Z"
   },
   {
    "duration": 389,
    "start_time": "2021-07-03T10:32:19.183Z"
   },
   {
    "duration": 38,
    "start_time": "2021-07-03T10:32:19.574Z"
   },
   {
    "duration": 33,
    "start_time": "2021-07-03T10:32:19.613Z"
   },
   {
    "duration": 100,
    "start_time": "2021-07-03T10:32:19.648Z"
   },
   {
    "duration": 12,
    "start_time": "2021-07-03T10:32:19.749Z"
   },
   {
    "duration": 43,
    "start_time": "2021-07-03T10:32:19.763Z"
   },
   {
    "duration": 6,
    "start_time": "2021-07-03T10:32:19.807Z"
   },
   {
    "duration": 24,
    "start_time": "2021-07-03T10:32:19.815Z"
   },
   {
    "duration": 11,
    "start_time": "2021-07-03T10:32:19.841Z"
   },
   {
    "duration": 29,
    "start_time": "2021-07-03T10:32:19.853Z"
   },
   {
    "duration": 29,
    "start_time": "2021-07-03T10:32:19.883Z"
   },
   {
    "duration": 25,
    "start_time": "2021-07-03T10:32:19.913Z"
   },
   {
    "duration": 4,
    "start_time": "2021-07-03T10:32:19.939Z"
   },
   {
    "duration": 34,
    "start_time": "2021-07-03T10:32:19.946Z"
   },
   {
    "duration": 36,
    "start_time": "2021-07-03T10:32:19.982Z"
   },
   {
    "duration": 5,
    "start_time": "2021-07-03T10:32:20.040Z"
   },
   {
    "duration": 19,
    "start_time": "2021-07-03T10:32:20.047Z"
   },
   {
    "duration": 22,
    "start_time": "2021-07-03T10:32:20.068Z"
   },
   {
    "duration": 2034,
    "start_time": "2021-07-03T10:32:20.092Z"
   },
   {
    "duration": 32,
    "start_time": "2021-07-03T10:32:22.128Z"
   },
   {
    "duration": 180,
    "start_time": "2021-07-03T10:32:22.161Z"
   },
   {
    "duration": 3017,
    "start_time": "2021-07-03T10:32:22.343Z"
   },
   {
    "duration": 7699,
    "start_time": "2021-07-03T10:32:25.361Z"
   },
   {
    "duration": 449,
    "start_time": "2021-07-03T10:32:33.061Z"
   },
   {
    "duration": 1840,
    "start_time": "2021-07-03T10:32:59.004Z"
   },
   {
    "duration": 1229,
    "start_time": "2021-07-03T10:33:10.820Z"
   },
   {
    "duration": 831,
    "start_time": "2021-07-03T10:33:18.324Z"
   },
   {
    "duration": 1304,
    "start_time": "2021-07-03T10:33:23.244Z"
   },
   {
    "duration": 7318,
    "start_time": "2021-07-03T10:38:29.337Z"
   },
   {
    "duration": 371,
    "start_time": "2021-07-03T10:39:53.524Z"
   },
   {
    "duration": 16010,
    "start_time": "2021-07-03T10:40:06.799Z"
   },
   {
    "duration": 16728,
    "start_time": "2021-07-03T10:41:03.700Z"
   },
   {
    "duration": 16963,
    "start_time": "2021-07-03T10:42:15.388Z"
   },
   {
    "duration": 17051,
    "start_time": "2021-07-03T10:43:57.115Z"
   },
   {
    "duration": 22673,
    "start_time": "2021-07-03T10:46:57.037Z"
   },
   {
    "duration": 16688,
    "start_time": "2021-07-03T10:47:34.675Z"
   },
   {
    "duration": 17880,
    "start_time": "2021-07-03T10:48:01.244Z"
   },
   {
    "duration": 16768,
    "start_time": "2021-07-03T10:59:38.651Z"
   },
   {
    "duration": 32273,
    "start_time": "2021-07-03T11:00:22.379Z"
   },
   {
    "duration": 34929,
    "start_time": "2021-07-03T11:03:53.997Z"
   },
   {
    "duration": 240,
    "start_time": "2021-07-03T11:07:16.523Z"
   },
   {
    "duration": 4,
    "start_time": "2021-07-03T11:07:28.414Z"
   },
   {
    "duration": 7,
    "start_time": "2021-07-03T11:07:48.848Z"
   },
   {
    "duration": 32275,
    "start_time": "2021-07-03T11:08:17.632Z"
   },
   {
    "duration": 33239,
    "start_time": "2021-07-03T11:10:41.416Z"
   },
   {
    "duration": 33078,
    "start_time": "2021-07-03T11:11:20.546Z"
   },
   {
    "duration": 32477,
    "start_time": "2021-07-03T11:12:14.939Z"
   },
   {
    "duration": 32690,
    "start_time": "2021-07-03T11:13:01.617Z"
   },
   {
    "duration": 1054,
    "start_time": "2021-07-03T11:14:38.096Z"
   },
   {
    "duration": 2664,
    "start_time": "2021-07-03T11:14:47.992Z"
   },
   {
    "duration": 1322,
    "start_time": "2021-07-03T11:14:58.527Z"
   },
   {
    "duration": 1160,
    "start_time": "2021-07-03T11:15:31.088Z"
   },
   {
    "duration": 1192,
    "start_time": "2021-07-03T11:15:36.768Z"
   },
   {
    "duration": 1922,
    "start_time": "2021-07-03T11:15:41.527Z"
   },
   {
    "duration": 1619,
    "start_time": "2021-07-03T11:15:46.631Z"
   },
   {
    "duration": 33466,
    "start_time": "2021-07-03T11:20:05.073Z"
   },
   {
    "duration": 182082,
    "start_time": "2021-07-03T11:31:44.761Z"
   },
   {
    "duration": 174270,
    "start_time": "2021-07-03T11:41:05.848Z"
   },
   {
    "duration": 13192,
    "start_time": "2021-07-03T11:44:08.814Z"
   },
   {
    "duration": 4044,
    "start_time": "2021-07-03T11:44:32.063Z"
   },
   {
    "duration": 31648,
    "start_time": "2021-07-03T11:44:47.284Z"
   },
   {
    "duration": 31957,
    "start_time": "2021-07-03T11:45:18.933Z"
   },
   {
    "duration": 30816,
    "start_time": "2021-07-03T11:46:09.399Z"
   },
   {
    "duration": 182577,
    "start_time": "2021-07-03T11:46:40.217Z"
   },
   {
    "duration": 31318,
    "start_time": "2021-07-03T11:56:09.669Z"
   },
   {
    "duration": 32224,
    "start_time": "2021-07-03T11:56:47.788Z"
   },
   {
    "duration": 31692,
    "start_time": "2021-07-03T11:58:54.348Z"
   },
   {
    "duration": 32673,
    "start_time": "2021-07-03T12:01:03.116Z"
   },
   {
    "duration": 290,
    "start_time": "2021-07-03T12:05:50.242Z"
   },
   {
    "duration": 1707,
    "start_time": "2021-07-03T12:07:39.194Z"
   },
   {
    "duration": 242,
    "start_time": "2021-07-03T12:09:29.702Z"
   },
   {
    "duration": 238,
    "start_time": "2021-07-03T12:09:54.882Z"
   },
   {
    "duration": 851680,
    "start_time": "2021-07-03T12:10:08.746Z"
   },
   {
    "duration": 159007,
    "start_time": "2021-07-03T12:30:55.178Z"
   },
   {
    "duration": 151076,
    "start_time": "2021-07-03T12:52:42.369Z"
   },
   {
    "duration": 159538,
    "start_time": "2021-07-03T12:57:03.505Z"
   },
   {
    "duration": 324883,
    "start_time": "2021-07-03T13:21:47.134Z"
   },
   {
    "duration": 40557,
    "start_time": "2021-07-03T14:12:33.237Z"
   },
   {
    "duration": 41716,
    "start_time": "2021-07-03T14:13:21.878Z"
   },
   {
    "duration": 65221,
    "start_time": "2021-07-03T14:19:44.144Z"
   },
   {
    "duration": 6,
    "start_time": "2021-07-03T14:25:11.673Z"
   },
   {
    "duration": 6,
    "start_time": "2021-07-03T14:25:32.630Z"
   },
   {
    "duration": 5,
    "start_time": "2021-07-03T14:25:33.063Z"
   },
   {
    "duration": 12,
    "start_time": "2021-07-03T14:25:33.448Z"
   },
   {
    "duration": 2531,
    "start_time": "2021-07-03T14:25:33.920Z"
   },
   {
    "duration": 24,
    "start_time": "2021-07-03T14:25:36.454Z"
   },
   {
    "duration": 14,
    "start_time": "2021-07-03T14:25:36.650Z"
   },
   {
    "duration": 2797,
    "start_time": "2021-07-03T14:25:40.456Z"
   },
   {
    "duration": 39741,
    "start_time": "2021-07-03T14:25:51.555Z"
   },
   {
    "duration": 38313,
    "start_time": "2021-07-03T14:26:31.297Z"
   },
   {
    "duration": 40474,
    "start_time": "2021-07-03T14:27:25.226Z"
   },
   {
    "duration": 38937,
    "start_time": "2021-07-03T14:30:33.331Z"
   },
   {
    "duration": 39337,
    "start_time": "2021-07-03T14:31:36.713Z"
   },
   {
    "duration": 38730,
    "start_time": "2021-07-03T14:32:24.218Z"
   },
   {
    "duration": 38251,
    "start_time": "2021-07-03T14:34:48.784Z"
   },
   {
    "duration": 29253,
    "start_time": "2021-07-03T14:37:13.665Z"
   },
   {
    "duration": 39427,
    "start_time": "2021-07-03T14:39:55.976Z"
   },
   {
    "duration": 40996,
    "start_time": "2021-07-03T14:53:37.288Z"
   },
   {
    "duration": 547,
    "start_time": "2021-07-04T15:25:14.577Z"
   },
   {
    "duration": 1556,
    "start_time": "2021-07-04T15:25:21.811Z"
   },
   {
    "duration": 66,
    "start_time": "2021-07-04T15:25:23.370Z"
   },
   {
    "duration": 21,
    "start_time": "2021-07-04T15:25:23.439Z"
   },
   {
    "duration": 8,
    "start_time": "2021-07-04T15:25:23.463Z"
   },
   {
    "duration": 549,
    "start_time": "2021-07-04T15:25:23.473Z"
   },
   {
    "duration": 522,
    "start_time": "2021-07-04T15:25:24.024Z"
   },
   {
    "duration": 10,
    "start_time": "2021-07-04T15:25:24.548Z"
   },
   {
    "duration": 7,
    "start_time": "2021-07-04T15:25:24.563Z"
   },
   {
    "duration": 807,
    "start_time": "2021-07-04T15:25:24.572Z"
   },
   {
    "duration": 595,
    "start_time": "2021-07-04T15:25:25.381Z"
   },
   {
    "duration": 44,
    "start_time": "2021-07-04T15:25:25.979Z"
   },
   {
    "duration": 48,
    "start_time": "2021-07-04T15:25:26.026Z"
   },
   {
    "duration": 39,
    "start_time": "2021-07-04T15:25:26.077Z"
   },
   {
    "duration": 8,
    "start_time": "2021-07-04T15:25:26.119Z"
   },
   {
    "duration": 46,
    "start_time": "2021-07-04T15:25:26.130Z"
   },
   {
    "duration": 12,
    "start_time": "2021-07-04T15:25:26.210Z"
   },
   {
    "duration": 16,
    "start_time": "2021-07-04T15:25:26.225Z"
   },
   {
    "duration": 13,
    "start_time": "2021-07-04T15:25:26.244Z"
   },
   {
    "duration": 55,
    "start_time": "2021-07-04T15:25:26.260Z"
   },
   {
    "duration": 36,
    "start_time": "2021-07-04T15:25:26.317Z"
   },
   {
    "duration": 57,
    "start_time": "2021-07-04T15:25:26.356Z"
   },
   {
    "duration": 8,
    "start_time": "2021-07-04T15:25:26.416Z"
   },
   {
    "duration": 48,
    "start_time": "2021-07-04T15:25:26.431Z"
   },
   {
    "duration": 67,
    "start_time": "2021-07-04T15:25:26.511Z"
   },
   {
    "duration": 28,
    "start_time": "2021-07-04T15:25:26.581Z"
   },
   {
    "duration": 10,
    "start_time": "2021-07-04T15:25:26.612Z"
   },
   {
    "duration": 8,
    "start_time": "2021-07-04T15:25:26.625Z"
   },
   {
    "duration": 9,
    "start_time": "2021-07-04T15:25:26.636Z"
   },
   {
    "duration": 14,
    "start_time": "2021-07-04T15:25:26.648Z"
   },
   {
    "duration": 2919,
    "start_time": "2021-07-04T15:25:26.665Z"
   },
   {
    "duration": 49,
    "start_time": "2021-07-04T15:25:29.587Z"
   },
   {
    "duration": 170,
    "start_time": "2021-07-04T15:25:29.639Z"
   },
   {
    "duration": 349900,
    "start_time": "2021-07-04T15:25:29.812Z"
   },
   {
    "duration": 3,
    "start_time": "2021-07-04T15:31:19.715Z"
   },
   {
    "duration": 73775,
    "start_time": "2021-07-04T15:31:19.721Z"
   },
   {
    "duration": 65933,
    "start_time": "2021-07-04T15:32:33.498Z"
   },
   {
    "duration": 609,
    "start_time": "2021-07-04T15:33:39.433Z"
   },
   {
    "duration": 45,
    "start_time": "2021-07-04T15:34:14.007Z"
   },
   {
    "duration": 6,
    "start_time": "2021-07-04T15:34:15.104Z"
   },
   {
    "duration": 51,
    "start_time": "2021-07-04T15:34:15.865Z"
   },
   {
    "duration": 68,
    "start_time": "2021-07-04T15:34:42.434Z"
   },
   {
    "duration": 44,
    "start_time": "2021-07-04T15:35:03.256Z"
   },
   {
    "duration": 7,
    "start_time": "2021-07-04T15:35:03.735Z"
   },
   {
    "duration": 82,
    "start_time": "2021-07-04T15:35:04.145Z"
   },
   {
    "duration": 119,
    "start_time": "2021-07-04T15:35:57.082Z"
   },
   {
    "duration": 779,
    "start_time": "2021-07-04T15:36:01.615Z"
   },
   {
    "duration": 11,
    "start_time": "2021-07-04T15:36:21.587Z"
   },
   {
    "duration": 8,
    "start_time": "2021-07-04T15:36:22.783Z"
   },
   {
    "duration": 8,
    "start_time": "2021-07-04T15:36:23.167Z"
   },
   {
    "duration": 14,
    "start_time": "2021-07-04T15:36:25.384Z"
   },
   {
    "duration": 3765,
    "start_time": "2021-07-04T15:36:26.368Z"
   },
   {
    "duration": 50,
    "start_time": "2021-07-04T15:36:33.248Z"
   },
   {
    "duration": 87,
    "start_time": "2021-07-04T15:36:35.623Z"
   },
   {
    "duration": 327340,
    "start_time": "2021-07-04T15:36:38.384Z"
   },
   {
    "duration": 31342,
    "start_time": "2021-07-04T15:42:05.727Z"
   },
   {
    "duration": 949,
    "start_time": "2021-07-04T15:42:37.073Z"
   },
   {
    "duration": 60355,
    "start_time": "2021-07-04T15:42:38.025Z"
   },
   {
    "duration": 566,
    "start_time": "2021-07-04T15:43:38.383Z"
   },
   {
    "duration": 59866,
    "start_time": "2021-07-04T15:45:09.882Z"
   },
   {
    "duration": 7,
    "start_time": "2021-07-04T15:48:21.903Z"
   },
   {
    "duration": 2,
    "start_time": "2021-07-04T15:48:22.567Z"
   },
   {
    "duration": 3553,
    "start_time": "2021-07-04T15:48:28.839Z"
   },
   {
    "duration": 35,
    "start_time": "2021-07-04T15:54:12.492Z"
   },
   {
    "duration": 6,
    "start_time": "2021-07-04T15:54:13.335Z"
   },
   {
    "duration": 48,
    "start_time": "2021-07-04T15:54:13.816Z"
   },
   {
    "duration": 64,
    "start_time": "2021-07-04T15:54:20.976Z"
   },
   {
    "duration": 9,
    "start_time": "2021-07-04T15:54:29.342Z"
   },
   {
    "duration": 8,
    "start_time": "2021-07-04T15:54:31.405Z"
   },
   {
    "duration": 3,
    "start_time": "2021-07-04T15:54:32.477Z"
   },
   {
    "duration": 3417,
    "start_time": "2021-07-04T15:54:32.799Z"
   },
   {
    "duration": 544,
    "start_time": "2021-07-04T15:54:39.069Z"
   },
   {
    "duration": 75,
    "start_time": "2021-07-04T15:54:44.238Z"
   },
   {
    "duration": 228580,
    "start_time": "2021-07-04T15:54:45.350Z"
   },
   {
    "duration": 30141,
    "start_time": "2021-07-04T15:58:33.933Z"
   },
   {
    "duration": 59792,
    "start_time": "2021-07-04T15:59:04.077Z"
   },
   {
    "duration": -37054,
    "start_time": "2021-07-04T16:00:40.926Z"
   },
   {
    "duration": 59383,
    "start_time": "2021-07-04T16:00:48.307Z"
   },
   {
    "duration": 61982,
    "start_time": "2021-07-04T16:01:47.693Z"
   },
   {
    "duration": 528,
    "start_time": "2021-07-04T16:03:31.509Z"
   },
   {
    "duration": 754,
    "start_time": "2021-07-04T16:03:53.950Z"
   },
   {
    "duration": 577,
    "start_time": "2021-07-04T16:04:17.373Z"
   },
   {
    "duration": 70,
    "start_time": "2021-07-04T16:05:01.629Z"
   },
   {
    "duration": 20,
    "start_time": "2021-07-04T16:06:06.069Z"
   },
   {
    "duration": 5,
    "start_time": "2021-07-04T16:06:06.988Z"
   },
   {
    "duration": 27,
    "start_time": "2021-07-04T16:06:07.749Z"
   },
   {
    "duration": 47,
    "start_time": "2021-07-04T16:06:14.597Z"
   },
   {
    "duration": 7,
    "start_time": "2021-07-04T16:06:29.588Z"
   },
   {
    "duration": 10,
    "start_time": "2021-07-04T16:06:30.445Z"
   },
   {
    "duration": 4,
    "start_time": "2021-07-04T16:06:31.205Z"
   },
   {
    "duration": 1803,
    "start_time": "2021-07-04T16:06:31.645Z"
   },
   {
    "duration": 11,
    "start_time": "2021-07-04T16:06:38.300Z"
   },
   {
    "duration": 32,
    "start_time": "2021-07-04T16:10:08.125Z"
   },
   {
    "duration": 7,
    "start_time": "2021-07-04T16:10:08.524Z"
   },
   {
    "duration": 48,
    "start_time": "2021-07-04T16:10:08.939Z"
   },
   {
    "duration": 64,
    "start_time": "2021-07-04T16:10:09.701Z"
   },
   {
    "duration": 7,
    "start_time": "2021-07-04T16:10:18.796Z"
   },
   {
    "duration": 8,
    "start_time": "2021-07-04T16:10:19.140Z"
   },
   {
    "duration": 3,
    "start_time": "2021-07-04T16:10:19.652Z"
   },
   {
    "duration": 3664,
    "start_time": "2021-07-04T16:10:20.060Z"
   },
   {
    "duration": 45,
    "start_time": "2021-07-04T16:10:27.668Z"
   },
   {
    "duration": 296437,
    "start_time": "2021-07-04T16:10:30.684Z"
   },
   {
    "duration": 62302,
    "start_time": "2021-07-04T16:15:27.124Z"
   },
   {
    "duration": 942,
    "start_time": "2021-07-04T16:17:55.029Z"
   },
   {
    "duration": 1537,
    "start_time": "2021-07-05T11:55:49.613Z"
   },
   {
    "duration": 1685,
    "start_time": "2021-07-05T11:55:55.877Z"
   },
   {
    "duration": 77,
    "start_time": "2021-07-05T11:55:57.566Z"
   },
   {
    "duration": 32,
    "start_time": "2021-07-05T11:55:57.647Z"
   },
   {
    "duration": 12,
    "start_time": "2021-07-05T11:55:57.683Z"
   },
   {
    "duration": 582,
    "start_time": "2021-07-05T11:55:57.702Z"
   },
   {
    "duration": 565,
    "start_time": "2021-07-05T11:55:58.287Z"
   },
   {
    "duration": 14,
    "start_time": "2021-07-05T11:55:58.862Z"
   },
   {
    "duration": 10,
    "start_time": "2021-07-05T11:55:58.878Z"
   },
   {
    "duration": 822,
    "start_time": "2021-07-05T11:55:58.895Z"
   },
   {
    "duration": 714,
    "start_time": "2021-07-05T11:55:59.720Z"
   },
   {
    "duration": 53,
    "start_time": "2021-07-05T11:56:00.437Z"
   },
   {
    "duration": 50,
    "start_time": "2021-07-05T11:56:00.498Z"
   },
   {
    "duration": 43,
    "start_time": "2021-07-05T11:56:00.551Z"
   },
   {
    "duration": 15,
    "start_time": "2021-07-05T11:56:00.598Z"
   },
   {
    "duration": 53,
    "start_time": "2021-07-05T11:56:00.616Z"
   },
   {
    "duration": 16,
    "start_time": "2021-07-05T11:56:00.672Z"
   },
   {
    "duration": 17,
    "start_time": "2021-07-05T11:56:00.693Z"
   },
   {
    "duration": 12,
    "start_time": "2021-07-05T11:56:00.714Z"
   },
   {
    "duration": 68,
    "start_time": "2021-07-05T11:56:00.729Z"
   },
   {
    "duration": 36,
    "start_time": "2021-07-05T11:56:00.800Z"
   },
   {
    "duration": 46,
    "start_time": "2021-07-05T11:56:00.839Z"
   },
   {
    "duration": 7,
    "start_time": "2021-07-05T11:56:00.888Z"
   },
   {
    "duration": 76,
    "start_time": "2021-07-05T11:56:00.898Z"
   },
   {
    "duration": 75,
    "start_time": "2021-07-05T11:56:00.976Z"
   },
   {
    "duration": 10,
    "start_time": "2021-07-05T11:56:01.054Z"
   },
   {
    "duration": 25,
    "start_time": "2021-07-05T11:56:01.070Z"
   },
   {
    "duration": 16,
    "start_time": "2021-07-05T11:56:01.100Z"
   },
   {
    "duration": 4361,
    "start_time": "2021-07-05T11:56:01.119Z"
   },
   {
    "duration": 284,
    "start_time": "2021-07-05T11:56:05.482Z"
   },
   {
    "duration": 316302,
    "start_time": "2021-07-05T11:56:05.771Z"
   },
   {
    "duration": 2,
    "start_time": "2021-07-05T12:01:22.082Z"
   },
   {
    "duration": 666,
    "start_time": "2021-07-05T12:01:22.089Z"
   },
   {
    "duration": -38405,
    "start_time": "2021-07-05T12:02:01.164Z"
   },
   {
    "duration": -38406,
    "start_time": "2021-07-05T12:02:01.167Z"
   },
   {
    "duration": 23536,
    "start_time": "2021-07-05T12:01:29.059Z"
   },
   {
    "duration": 49549,
    "start_time": "2021-07-05T12:02:33.884Z"
   },
   {
    "duration": 60106,
    "start_time": "2021-07-05T12:04:48.801Z"
   },
   {
    "duration": 43786,
    "start_time": "2021-07-05T12:05:48.910Z"
   },
   {
    "duration": 22707,
    "start_time": "2021-07-05T12:07:00.068Z"
   },
   {
    "duration": 303,
    "start_time": "2021-07-05T12:07:22.778Z"
   },
   {
    "duration": 103,
    "start_time": "2021-07-05T12:07:32.715Z"
   },
   {
    "duration": 74,
    "start_time": "2021-07-05T12:07:46.666Z"
   },
   {
    "duration": 30129,
    "start_time": "2021-07-05T12:07:58.203Z"
   },
   {
    "duration": 15558,
    "start_time": "2021-07-05T12:08:33.739Z"
   },
   {
    "duration": 9,
    "start_time": "2021-07-05T12:08:57.202Z"
   },
   {
    "duration": 8,
    "start_time": "2021-07-05T12:08:57.705Z"
   },
   {
    "duration": 2431,
    "start_time": "2021-07-05T12:08:59.161Z"
   },
   {
    "duration": 65,
    "start_time": "2021-07-05T12:09:13.018Z"
   },
   {
    "duration": 375,
    "start_time": "2021-07-05T12:09:15.137Z"
   },
   {
    "duration": 3059,
    "start_time": "2021-07-05T12:09:44.306Z"
   },
   {
    "duration": 41,
    "start_time": "2021-07-05T12:10:08.937Z"
   },
   {
    "duration": 6,
    "start_time": "2021-07-05T12:10:09.505Z"
   },
   {
    "duration": 60,
    "start_time": "2021-07-05T12:10:10.042Z"
   },
   {
    "duration": 73,
    "start_time": "2021-07-05T12:10:13.057Z"
   },
   {
    "duration": 10,
    "start_time": "2021-07-05T12:10:18.449Z"
   },
   {
    "duration": 8,
    "start_time": "2021-07-05T12:10:18.921Z"
   },
   {
    "duration": 4,
    "start_time": "2021-07-05T12:10:19.369Z"
   },
   {
    "duration": 4483,
    "start_time": "2021-07-05T12:10:19.745Z"
   },
   {
    "duration": 200,
    "start_time": "2021-07-05T12:10:25.866Z"
   },
   {
    "duration": 486606,
    "start_time": "2021-07-05T12:10:28.178Z"
   },
   {
    "duration": 56531,
    "start_time": "2021-07-05T12:18:34.796Z"
   },
   {
    "duration": 652,
    "start_time": "2021-07-05T12:19:41.449Z"
   },
   {
    "duration": 691,
    "start_time": "2021-07-05T12:19:54.545Z"
   },
   {
    "duration": 54,
    "start_time": "2021-07-05T12:21:02.656Z"
   },
   {
    "duration": 9,
    "start_time": "2021-07-05T12:21:03.392Z"
   },
   {
    "duration": 48,
    "start_time": "2021-07-05T12:21:03.770Z"
   },
   {
    "duration": 7662,
    "start_time": "2021-07-05T12:21:04.434Z"
   },
   {
    "duration": 82,
    "start_time": "2021-07-05T12:21:41.970Z"
   },
   {
    "duration": 102,
    "start_time": "2021-07-05T12:22:17.250Z"
   },
   {
    "duration": 1311,
    "start_time": "2021-07-05T12:22:34.705Z"
   },
   {
    "duration": 61,
    "start_time": "2021-07-05T12:22:55.595Z"
   },
   {
    "duration": 8,
    "start_time": "2021-07-05T12:22:55.911Z"
   },
   {
    "duration": 99,
    "start_time": "2021-07-05T12:22:56.353Z"
   },
   {
    "duration": 122,
    "start_time": "2021-07-05T12:22:57.242Z"
   },
   {
    "duration": 43,
    "start_time": "2021-07-05T12:23:10.680Z"
   },
   {
    "duration": 8,
    "start_time": "2021-07-05T12:23:11.032Z"
   },
   {
    "duration": 81,
    "start_time": "2021-07-05T12:23:11.378Z"
   },
   {
    "duration": 116,
    "start_time": "2021-07-05T12:23:11.986Z"
   },
   {
    "duration": 16,
    "start_time": "2021-07-05T12:23:17.180Z"
   },
   {
    "duration": 11,
    "start_time": "2021-07-05T12:23:17.592Z"
   },
   {
    "duration": 3,
    "start_time": "2021-07-05T12:23:18.160Z"
   },
   {
    "duration": 4809,
    "start_time": "2021-07-05T12:23:18.512Z"
   },
   {
    "duration": 288,
    "start_time": "2021-07-05T12:23:23.326Z"
   },
   {
    "duration": 59948,
    "start_time": "2021-07-05T12:23:27.579Z"
   },
   {
    "duration": 753,
    "start_time": "2021-07-05T12:24:38.511Z"
   },
   {
    "duration": 344,
    "start_time": "2021-07-05T12:25:34.776Z"
   },
   {
    "duration": 721,
    "start_time": "2021-07-05T12:25:39.655Z"
   },
   {
    "duration": 796,
    "start_time": "2021-07-05T12:25:44.320Z"
   },
   {
    "duration": 859,
    "start_time": "2021-07-05T12:25:50.560Z"
   },
   {
    "duration": 323,
    "start_time": "2021-07-05T12:27:18.968Z"
   },
   {
    "duration": 8,
    "start_time": "2021-07-05T12:27:19.599Z"
   },
   {
    "duration": 9,
    "start_time": "2021-07-05T12:27:26.673Z"
   },
   {
    "duration": 9,
    "start_time": "2021-07-05T12:27:27.368Z"
   },
   {
    "duration": 3,
    "start_time": "2021-07-05T12:27:28.002Z"
   },
   {
    "duration": 431,
    "start_time": "2021-07-05T12:27:28.448Z"
   },
   {
    "duration": 42,
    "start_time": "2021-07-05T12:27:41.760Z"
   },
   {
    "duration": 6,
    "start_time": "2021-07-05T12:27:42.039Z"
   },
   {
    "duration": 63,
    "start_time": "2021-07-05T12:27:42.431Z"
   },
   {
    "duration": 64,
    "start_time": "2021-07-05T12:27:42.992Z"
   },
   {
    "duration": 8,
    "start_time": "2021-07-05T12:27:44.800Z"
   },
   {
    "duration": 8,
    "start_time": "2021-07-05T12:27:45.272Z"
   },
   {
    "duration": 3,
    "start_time": "2021-07-05T12:27:45.848Z"
   },
   {
    "duration": 363,
    "start_time": "2021-07-05T12:27:46.351Z"
   },
   {
    "duration": 7,
    "start_time": "2021-07-05T12:27:58.048Z"
   },
   {
    "duration": 8,
    "start_time": "2021-07-05T12:27:58.655Z"
   },
   {
    "duration": 3,
    "start_time": "2021-07-05T12:27:59.095Z"
   },
   {
    "duration": 3402,
    "start_time": "2021-07-05T12:27:59.568Z"
   },
   {
    "duration": 199,
    "start_time": "2021-07-05T12:28:02.972Z"
   },
   {
    "duration": 56438,
    "start_time": "2021-07-05T12:28:08.547Z"
   },
   {
    "duration": 717,
    "start_time": "2021-07-05T12:29:21.984Z"
   },
   {
    "duration": 8,
    "start_time": "2021-07-05T12:29:41.472Z"
   },
   {
    "duration": 7,
    "start_time": "2021-07-05T12:29:41.855Z"
   },
   {
    "duration": 7,
    "start_time": "2021-07-05T12:29:42.264Z"
   },
   {
    "duration": 4015,
    "start_time": "2021-07-05T12:29:42.871Z"
   },
   {
    "duration": 301,
    "start_time": "2021-07-05T12:29:46.888Z"
   },
   {
    "duration": 61963,
    "start_time": "2021-07-05T12:29:52.187Z"
   },
   {
    "duration": 60351,
    "start_time": "2021-07-05T12:31:35.049Z"
   },
   {
    "duration": 60558,
    "start_time": "2021-07-05T12:32:42.282Z"
   },
   {
    "duration": 32,
    "start_time": "2021-07-05T12:34:33.824Z"
   },
   {
    "duration": 7,
    "start_time": "2021-07-05T12:34:34.110Z"
   },
   {
    "duration": 68,
    "start_time": "2021-07-05T12:34:34.424Z"
   },
   {
    "duration": 64,
    "start_time": "2021-07-05T12:34:35.536Z"
   },
   {
    "duration": 34,
    "start_time": "2021-07-05T12:34:55.823Z"
   },
   {
    "duration": 6,
    "start_time": "2021-07-05T12:34:56.047Z"
   },
   {
    "duration": 46,
    "start_time": "2021-07-05T12:34:56.584Z"
   },
   {
    "duration": 70,
    "start_time": "2021-07-05T12:34:57.152Z"
   },
   {
    "duration": 87,
    "start_time": "2021-07-05T12:35:09.736Z"
   },
   {
    "duration": 1311,
    "start_time": "2021-07-05T12:35:32.432Z"
   },
   {
    "duration": 33,
    "start_time": "2021-07-05T12:35:43.527Z"
   },
   {
    "duration": 7,
    "start_time": "2021-07-05T12:35:43.782Z"
   },
   {
    "duration": 49,
    "start_time": "2021-07-05T12:35:44.199Z"
   },
   {
    "duration": 73,
    "start_time": "2021-07-05T12:35:44.607Z"
   },
   {
    "duration": 70,
    "start_time": "2021-07-05T12:35:55.288Z"
   },
   {
    "duration": 1275,
    "start_time": "2021-07-05T12:36:08.504Z"
   },
   {
    "duration": 32,
    "start_time": "2021-07-05T12:36:12.183Z"
   },
   {
    "duration": 8,
    "start_time": "2021-07-05T12:36:12.438Z"
   },
   {
    "duration": 73,
    "start_time": "2021-07-05T12:36:12.720Z"
   },
   {
    "duration": 97,
    "start_time": "2021-07-05T12:36:13.168Z"
   },
   {
    "duration": 63,
    "start_time": "2021-07-05T12:38:20.280Z"
   },
   {
    "duration": 35,
    "start_time": "2021-07-05T12:38:34.351Z"
   },
   {
    "duration": 7,
    "start_time": "2021-07-05T12:38:34.671Z"
   },
   {
    "duration": 52,
    "start_time": "2021-07-05T12:38:34.952Z"
   },
   {
    "duration": 70,
    "start_time": "2021-07-05T12:38:35.647Z"
   },
   {
    "duration": 9,
    "start_time": "2021-07-05T12:38:47.694Z"
   },
   {
    "duration": 7,
    "start_time": "2021-07-05T12:38:48.084Z"
   },
   {
    "duration": 3,
    "start_time": "2021-07-05T12:38:48.583Z"
   },
   {
    "duration": 3793,
    "start_time": "2021-07-05T12:38:48.998Z"
   },
   {
    "duration": 183,
    "start_time": "2021-07-05T12:38:52.794Z"
   },
   {
    "duration": 61036,
    "start_time": "2021-07-05T12:38:56.449Z"
   },
   {
    "duration": 32,
    "start_time": "2021-07-05T12:41:11.910Z"
   },
   {
    "duration": 7,
    "start_time": "2021-07-05T12:41:12.119Z"
   },
   {
    "duration": 54,
    "start_time": "2021-07-05T12:41:12.375Z"
   },
   {
    "duration": 71,
    "start_time": "2021-07-05T12:41:13.231Z"
   },
   {
    "duration": 104,
    "start_time": "2021-07-05T12:41:31.864Z"
   },
   {
    "duration": 47,
    "start_time": "2021-07-05T12:41:39.431Z"
   },
   {
    "duration": 7,
    "start_time": "2021-07-05T12:41:39.655Z"
   },
   {
    "duration": 68,
    "start_time": "2021-07-05T12:41:39.879Z"
   },
   {
    "duration": 99,
    "start_time": "2021-07-05T12:41:40.672Z"
   },
   {
    "duration": 10,
    "start_time": "2021-07-05T12:42:02.225Z"
   },
   {
    "duration": 10,
    "start_time": "2021-07-05T12:42:02.439Z"
   },
   {
    "duration": 3,
    "start_time": "2021-07-05T12:42:02.951Z"
   },
   {
    "duration": 4108,
    "start_time": "2021-07-05T12:42:03.263Z"
   },
   {
    "duration": 96,
    "start_time": "2021-07-05T12:42:07.373Z"
   },
   {
    "duration": 60424,
    "start_time": "2021-07-05T12:42:12.425Z"
   },
   {
    "duration": 865,
    "start_time": "2021-07-05T12:57:43.006Z"
   },
   {
    "duration": 139172,
    "start_time": "2021-07-05T12:58:02.111Z"
   },
   {
    "duration": 132793,
    "start_time": "2021-07-05T13:00:39.706Z"
   },
   {
    "duration": 27,
    "start_time": "2021-07-05T13:09:20.588Z"
   },
   {
    "duration": 47,
    "start_time": "2021-07-05T13:09:24.550Z"
   },
   {
    "duration": 31,
    "start_time": "2021-07-05T13:09:38.517Z"
   },
   {
    "duration": 34,
    "start_time": "2021-07-05T13:09:52.429Z"
   },
   {
    "duration": 27,
    "start_time": "2021-07-05T13:09:56.453Z"
   },
   {
    "duration": 22,
    "start_time": "2021-07-05T13:10:12.204Z"
   },
   {
    "duration": 25,
    "start_time": "2021-07-05T13:11:04.876Z"
   },
   {
    "duration": 24,
    "start_time": "2021-07-05T13:11:13.117Z"
   },
   {
    "duration": 1326,
    "start_time": "2021-07-05T13:11:39.100Z"
   },
   {
    "duration": 23,
    "start_time": "2021-07-05T13:14:32.340Z"
   },
   {
    "duration": 779,
    "start_time": "2021-07-05T13:14:58.132Z"
   },
   {
    "duration": 376,
    "start_time": "2021-07-05T13:15:14.836Z"
   },
   {
    "duration": 524,
    "start_time": "2021-07-05T13:15:19.244Z"
   },
   {
    "duration": 952,
    "start_time": "2021-07-05T13:15:24.596Z"
   },
   {
    "duration": 112,
    "start_time": "2021-07-05T13:15:41.269Z"
   },
   {
    "duration": 122,
    "start_time": "2021-07-05T13:15:44.628Z"
   },
   {
    "duration": 22,
    "start_time": "2021-07-05T13:15:47.764Z"
   },
   {
    "duration": 9,
    "start_time": "2021-07-05T13:16:44.994Z"
   },
   {
    "duration": 26,
    "start_time": "2021-07-05T13:16:48.323Z"
   },
   {
    "duration": 29,
    "start_time": "2021-07-05T13:18:42.636Z"
   },
   {
    "duration": 106,
    "start_time": "2021-07-05T13:19:43.564Z"
   },
   {
    "duration": 118,
    "start_time": "2021-07-05T13:19:56.116Z"
   },
   {
    "duration": 41,
    "start_time": "2021-07-05T13:20:02.898Z"
   },
   {
    "duration": 7,
    "start_time": "2021-07-05T13:20:03.627Z"
   },
   {
    "duration": 50,
    "start_time": "2021-07-05T13:20:04.196Z"
   },
   {
    "duration": 25,
    "start_time": "2021-07-05T13:21:04.601Z"
   },
   {
    "duration": 23,
    "start_time": "2021-07-05T13:21:26.696Z"
   },
   {
    "duration": 41,
    "start_time": "2021-07-05T13:21:32.859Z"
   },
   {
    "duration": 7,
    "start_time": "2021-07-05T13:21:33.147Z"
   },
   {
    "duration": 48,
    "start_time": "2021-07-05T13:21:33.588Z"
   },
   {
    "duration": 8388,
    "start_time": "2021-07-05T13:21:34.979Z"
   },
   {
    "duration": 326,
    "start_time": "2021-07-05T13:22:15.764Z"
   },
   {
    "duration": 52,
    "start_time": "2021-07-05T13:22:52.395Z"
   },
   {
    "duration": 7,
    "start_time": "2021-07-05T13:22:53.099Z"
   },
   {
    "duration": 47,
    "start_time": "2021-07-05T13:22:53.315Z"
   },
   {
    "duration": 366,
    "start_time": "2021-07-05T13:23:27.923Z"
   },
   {
    "duration": 50,
    "start_time": "2021-07-05T13:23:39.747Z"
   },
   {
    "duration": 8,
    "start_time": "2021-07-05T13:23:41.042Z"
   },
   {
    "duration": 49,
    "start_time": "2021-07-05T13:23:41.235Z"
   },
   {
    "duration": 30,
    "start_time": "2021-07-05T13:25:42.491Z"
   },
   {
    "duration": 50,
    "start_time": "2021-07-05T13:25:48.283Z"
   },
   {
    "duration": 8,
    "start_time": "2021-07-05T13:25:48.626Z"
   },
   {
    "duration": 50,
    "start_time": "2021-07-05T13:25:48.947Z"
   },
   {
    "duration": 359,
    "start_time": "2021-07-05T13:26:39.707Z"
   },
   {
    "duration": 7905,
    "start_time": "2021-07-05T13:26:49.499Z"
   },
   {
    "duration": 48,
    "start_time": "2021-07-05T13:27:04.619Z"
   },
   {
    "duration": 6,
    "start_time": "2021-07-05T13:27:07.722Z"
   },
   {
    "duration": 49,
    "start_time": "2021-07-05T13:27:08.227Z"
   },
   {
    "duration": 113,
    "start_time": "2021-07-05T13:27:50.059Z"
   },
   {
    "duration": 88,
    "start_time": "2021-07-05T13:28:17.531Z"
   },
   {
    "duration": 8,
    "start_time": "2021-07-05T13:28:19.026Z"
   },
   {
    "duration": 50,
    "start_time": "2021-07-05T13:28:19.253Z"
   },
   {
    "duration": 9718,
    "start_time": "2021-07-05T13:28:33.283Z"
   },
   {
    "duration": 1354,
    "start_time": "2021-07-05T13:29:08.652Z"
   },
   {
    "duration": 56,
    "start_time": "2021-07-05T13:29:18.507Z"
   },
   {
    "duration": 6,
    "start_time": "2021-07-05T13:29:19.106Z"
   },
   {
    "duration": 46,
    "start_time": "2021-07-05T13:29:19.523Z"
   },
   {
    "duration": 68,
    "start_time": "2021-07-05T13:29:20.219Z"
   },
   {
    "duration": 285,
    "start_time": "2021-07-05T13:29:41.995Z"
   },
   {
    "duration": 6,
    "start_time": "2021-07-05T13:29:46.522Z"
   },
   {
    "duration": 50,
    "start_time": "2021-07-05T13:29:57.962Z"
   },
   {
    "duration": 6,
    "start_time": "2021-07-05T13:29:58.594Z"
   },
   {
    "duration": 47,
    "start_time": "2021-07-05T13:29:59.235Z"
   },
   {
    "duration": 67,
    "start_time": "2021-07-05T13:30:00.788Z"
   },
   {
    "duration": 300,
    "start_time": "2021-07-05T13:30:11.970Z"
   },
   {
    "duration": 8,
    "start_time": "2021-07-05T13:30:34.629Z"
   },
   {
    "duration": 8,
    "start_time": "2021-07-05T13:30:35.545Z"
   },
   {
    "duration": 3,
    "start_time": "2021-07-05T13:30:36.090Z"
   },
   {
    "duration": 3814,
    "start_time": "2021-07-05T13:30:36.434Z"
   },
   {
    "duration": 24,
    "start_time": "2021-07-05T13:30:40.251Z"
   },
   {
    "duration": 51284,
    "start_time": "2021-07-05T13:30:45.568Z"
   },
   {
    "duration": 74996,
    "start_time": "2021-07-05T13:32:31.636Z"
   },
   {
    "duration": 58589,
    "start_time": "2021-07-05T13:33:55.301Z"
   },
   {
    "duration": 73,
    "start_time": "2021-07-05T13:35:19.306Z"
   },
   {
    "duration": 8,
    "start_time": "2021-07-05T13:35:19.786Z"
   },
   {
    "duration": 72,
    "start_time": "2021-07-05T13:35:20.291Z"
   },
   {
    "duration": 93,
    "start_time": "2021-07-05T13:35:20.955Z"
   },
   {
    "duration": 7,
    "start_time": "2021-07-05T13:35:26.573Z"
   },
   {
    "duration": 8,
    "start_time": "2021-07-05T13:35:29.161Z"
   },
   {
    "duration": 3,
    "start_time": "2021-07-05T13:35:29.697Z"
   },
   {
    "duration": 3434,
    "start_time": "2021-07-05T13:35:30.081Z"
   },
   {
    "duration": 226,
    "start_time": "2021-07-05T13:35:35.337Z"
   },
   {
    "duration": 60299,
    "start_time": "2021-07-05T13:35:39.086Z"
   },
   {
    "duration": 22,
    "start_time": "2021-07-05T13:37:53.034Z"
   },
   {
    "duration": 21,
    "start_time": "2021-07-05T13:38:48.779Z"
   },
   {
    "duration": 55,
    "start_time": "2021-07-05T13:38:56.538Z"
   },
   {
    "duration": 8,
    "start_time": "2021-07-05T13:38:57.552Z"
   },
   {
    "duration": 52,
    "start_time": "2021-07-05T13:38:57.994Z"
   },
   {
    "duration": 69,
    "start_time": "2021-07-05T13:39:03.258Z"
   },
   {
    "duration": 10,
    "start_time": "2021-07-05T13:39:04.305Z"
   },
   {
    "duration": 9,
    "start_time": "2021-07-05T13:39:05.633Z"
   },
   {
    "duration": 3,
    "start_time": "2021-07-05T13:39:06.297Z"
   },
   {
    "duration": 3507,
    "start_time": "2021-07-05T13:39:07.057Z"
   },
   {
    "duration": 16,
    "start_time": "2021-07-05T13:39:13.681Z"
   },
   {
    "duration": 58600,
    "start_time": "2021-07-05T13:39:19.835Z"
   },
   {
    "duration": 8,
    "start_time": "2021-07-05T13:41:41.002Z"
   },
   {
    "duration": 7,
    "start_time": "2021-07-05T13:41:41.473Z"
   },
   {
    "duration": 2,
    "start_time": "2021-07-05T13:41:41.857Z"
   },
   {
    "duration": 3220,
    "start_time": "2021-07-05T13:41:42.424Z"
   },
   {
    "duration": 22,
    "start_time": "2021-07-05T13:41:46.953Z"
   },
   {
    "duration": 47390,
    "start_time": "2021-07-05T13:41:51.804Z"
   },
   {
    "duration": 6,
    "start_time": "2021-07-05T13:42:47.889Z"
   },
   {
    "duration": 8229,
    "start_time": "2021-07-05T13:55:01.089Z"
   },
   {
    "duration": 22,
    "start_time": "2021-07-05T13:55:20.280Z"
   },
   {
    "duration": 29,
    "start_time": "2021-07-05T13:55:48.225Z"
   },
   {
    "duration": 19,
    "start_time": "2021-07-05T13:56:27.104Z"
   },
   {
    "duration": 19,
    "start_time": "2021-07-05T13:56:41.776Z"
   },
   {
    "duration": 27,
    "start_time": "2021-07-05T13:56:48.048Z"
   },
   {
    "duration": 28,
    "start_time": "2021-07-05T13:56:57.968Z"
   },
   {
    "duration": 86,
    "start_time": "2021-07-05T13:57:37.808Z"
   },
   {
    "duration": 6,
    "start_time": "2021-07-05T13:57:39.831Z"
   },
   {
    "duration": 56,
    "start_time": "2021-07-05T13:57:40.088Z"
   },
   {
    "duration": 79,
    "start_time": "2021-07-05T13:58:32.505Z"
   },
   {
    "duration": 8,
    "start_time": "2021-07-05T13:59:02.191Z"
   },
   {
    "duration": 8,
    "start_time": "2021-07-05T13:59:02.640Z"
   },
   {
    "duration": 3719,
    "start_time": "2021-07-05T13:59:03.143Z"
   },
   {
    "duration": 60,
    "start_time": "2021-07-05T13:59:08.815Z"
   },
   {
    "duration": 57963,
    "start_time": "2021-07-05T13:59:15.826Z"
   },
   {
    "duration": 19,
    "start_time": "2021-07-05T14:04:12.160Z"
   },
   {
    "duration": 1467,
    "start_time": "2021-07-05T14:04:23.386Z"
   },
   {
    "duration": 67,
    "start_time": "2021-07-05T14:04:24.856Z"
   },
   {
    "duration": 22,
    "start_time": "2021-07-05T14:04:24.926Z"
   },
   {
    "duration": 15,
    "start_time": "2021-07-05T14:04:24.952Z"
   },
   {
    "duration": 538,
    "start_time": "2021-07-05T14:04:24.970Z"
   },
   {
    "duration": 530,
    "start_time": "2021-07-05T14:04:25.511Z"
   },
   {
    "duration": 22,
    "start_time": "2021-07-05T14:04:26.044Z"
   },
   {
    "duration": 7,
    "start_time": "2021-07-05T14:04:26.070Z"
   },
   {
    "duration": 695,
    "start_time": "2021-07-05T14:04:26.080Z"
   },
   {
    "duration": 23,
    "start_time": "2021-07-05T14:04:26.777Z"
   },
   {
    "duration": 20,
    "start_time": "2021-07-05T14:04:26.802Z"
   },
   {
    "duration": 58,
    "start_time": "2021-07-05T14:04:26.824Z"
   },
   {
    "duration": 46,
    "start_time": "2021-07-05T14:04:26.885Z"
   },
   {
    "duration": 39,
    "start_time": "2021-07-05T14:04:26.934Z"
   },
   {
    "duration": 10,
    "start_time": "2021-07-05T14:04:26.975Z"
   },
   {
    "duration": 83,
    "start_time": "2021-07-05T14:04:26.987Z"
   },
   {
    "duration": 18,
    "start_time": "2021-07-05T14:04:27.073Z"
   },
   {
    "duration": 13,
    "start_time": "2021-07-05T14:04:27.094Z"
   },
   {
    "duration": 62,
    "start_time": "2021-07-05T14:04:27.110Z"
   },
   {
    "duration": 34,
    "start_time": "2021-07-05T14:04:27.175Z"
   },
   {
    "duration": 35,
    "start_time": "2021-07-05T14:04:27.211Z"
   },
   {
    "duration": 68,
    "start_time": "2021-07-05T14:04:27.248Z"
   },
   {
    "duration": 6,
    "start_time": "2021-07-05T14:04:27.321Z"
   },
   {
    "duration": 84,
    "start_time": "2021-07-05T14:04:27.330Z"
   },
   {
    "duration": 118,
    "start_time": "2021-07-05T14:04:27.417Z"
   },
   {
    "duration": 8,
    "start_time": "2021-07-05T14:04:27.540Z"
   },
   {
    "duration": 20,
    "start_time": "2021-07-05T14:04:27.551Z"
   },
   {
    "duration": 3743,
    "start_time": "2021-07-05T14:04:27.574Z"
   },
   {
    "duration": 146,
    "start_time": "2021-07-05T14:04:31.319Z"
   },
   {
    "duration": 80217,
    "start_time": "2021-07-05T14:04:31.469Z"
   },
   {
    "duration": 3,
    "start_time": "2021-07-05T14:05:51.688Z"
   },
   {
    "duration": 51400,
    "start_time": "2021-07-05T14:05:51.694Z"
   },
   {
    "duration": 46794,
    "start_time": "2021-07-05T14:06:43.097Z"
   },
   {
    "duration": 932,
    "start_time": "2021-07-05T14:07:29.894Z"
   },
   {
    "duration": 56684,
    "start_time": "2021-07-05T14:08:04.330Z"
   },
   {
    "duration": 5,
    "start_time": "2021-07-05T14:40:09.398Z"
   },
   {
    "duration": 10,
    "start_time": "2021-07-05T14:40:09.766Z"
   },
   {
    "duration": 14,
    "start_time": "2021-07-05T14:40:10.430Z"
   },
   {
    "duration": 3490,
    "start_time": "2021-07-05T14:40:12.047Z"
   },
   {
    "duration": 46265,
    "start_time": "2021-07-05T14:40:22.983Z"
   },
   {
    "duration": 47417,
    "start_time": "2021-07-05T14:41:55.617Z"
   },
   {
    "duration": 48211,
    "start_time": "2021-07-05T14:43:24.705Z"
   },
   {
    "duration": 48617,
    "start_time": "2021-07-05T14:44:23.624Z"
   },
   {
    "duration": 47861,
    "start_time": "2021-07-05T14:45:23.561Z"
   },
   {
    "duration": 47862,
    "start_time": "2021-07-05T14:46:20.928Z"
   },
   {
    "duration": 46162,
    "start_time": "2021-07-05T14:47:15.424Z"
   },
   {
    "duration": 53,
    "start_time": "2021-07-05T14:52:09.228Z"
   },
   {
    "duration": 7,
    "start_time": "2021-07-05T14:52:09.597Z"
   },
   {
    "duration": 52,
    "start_time": "2021-07-05T14:52:10.070Z"
   },
   {
    "duration": 74,
    "start_time": "2021-07-05T14:52:10.638Z"
   },
   {
    "duration": 8,
    "start_time": "2021-07-05T14:52:17.046Z"
   },
   {
    "duration": 8,
    "start_time": "2021-07-05T14:52:17.421Z"
   },
   {
    "duration": 12,
    "start_time": "2021-07-05T14:52:19.197Z"
   },
   {
    "duration": 3901,
    "start_time": "2021-07-05T14:52:19.579Z"
   },
   {
    "duration": 87,
    "start_time": "2021-07-05T14:52:25.982Z"
   },
   {
    "duration": 1793,
    "start_time": "2021-07-05T14:52:30.381Z"
   },
   {
    "duration": 48767,
    "start_time": "2021-07-05T14:52:36.279Z"
   },
   {
    "duration": 25,
    "start_time": "2021-07-05T14:54:21.412Z"
   },
   {
    "duration": 26,
    "start_time": "2021-07-05T14:54:43.828Z"
   },
   {
    "duration": 521,
    "start_time": "2021-07-05T14:55:00.173Z"
   },
   {
    "duration": 23,
    "start_time": "2021-07-05T14:55:06.636Z"
   },
   {
    "duration": 25,
    "start_time": "2021-07-05T14:55:51.229Z"
   },
   {
    "duration": 58,
    "start_time": "2021-07-05T14:57:29.005Z"
   },
   {
    "duration": 6,
    "start_time": "2021-07-05T14:57:29.796Z"
   },
   {
    "duration": 51,
    "start_time": "2021-07-05T14:57:30.343Z"
   },
   {
    "duration": 76,
    "start_time": "2021-07-05T14:58:00.574Z"
   },
   {
    "duration": 8,
    "start_time": "2021-07-05T14:58:10.612Z"
   },
   {
    "duration": 8,
    "start_time": "2021-07-05T14:58:10.964Z"
   },
   {
    "duration": 12,
    "start_time": "2021-07-05T14:58:11.852Z"
   },
   {
    "duration": 4499,
    "start_time": "2021-07-05T14:58:12.324Z"
   },
   {
    "duration": 28,
    "start_time": "2021-07-05T14:58:19.836Z"
   },
   {
    "duration": 1585,
    "start_time": "2021-07-05T14:58:23.101Z"
   },
   {
    "duration": 51366,
    "start_time": "2021-07-05T14:58:29.783Z"
   },
   {
    "duration": 24395,
    "start_time": "2021-07-05T14:59:50.974Z"
   },
   {
    "duration": 40308,
    "start_time": "2021-07-05T15:00:31.382Z"
   },
   {
    "duration": 72208,
    "start_time": "2021-07-05T15:02:12.479Z"
   },
   {
    "duration": 71807,
    "start_time": "2021-07-05T15:04:03.103Z"
   },
   {
    "duration": 887,
    "start_time": "2021-07-05T15:05:14.913Z"
   },
   {
    "duration": 40506,
    "start_time": "2021-07-05T15:05:31.399Z"
   },
   {
    "duration": 42102,
    "start_time": "2021-07-05T15:06:23.062Z"
   },
   {
    "duration": 44983,
    "start_time": "2021-07-05T15:07:42.204Z"
   },
   {
    "duration": 861,
    "start_time": "2021-07-05T15:08:27.190Z"
   },
   {
    "duration": 45493,
    "start_time": "2021-07-05T15:08:50.860Z"
   },
   {
    "duration": 61809,
    "start_time": "2021-07-05T15:09:46.005Z"
   },
   {
    "duration": 815,
    "start_time": "2021-07-05T15:10:55.283Z"
   },
   {
    "duration": 7,
    "start_time": "2021-07-05T15:11:35.727Z"
   },
   {
    "duration": 10,
    "start_time": "2021-07-05T15:11:36.259Z"
   },
   {
    "duration": 13,
    "start_time": "2021-07-05T15:11:37.714Z"
   },
   {
    "duration": 4621,
    "start_time": "2021-07-05T15:11:38.826Z"
   },
   {
    "duration": 125,
    "start_time": "2021-07-05T15:11:46.242Z"
   },
   {
    "duration": 47253,
    "start_time": "2021-07-05T15:11:53.757Z"
   },
   {
    "duration": 60,
    "start_time": "2021-07-05T15:13:42.755Z"
   },
   {
    "duration": 8,
    "start_time": "2021-07-05T15:13:43.578Z"
   },
   {
    "duration": 36,
    "start_time": "2021-07-05T15:13:49.499Z"
   },
   {
    "duration": 80,
    "start_time": "2021-07-05T15:13:51.405Z"
   },
   {
    "duration": 10,
    "start_time": "2021-07-05T15:13:54.986Z"
   },
   {
    "duration": 10,
    "start_time": "2021-07-05T15:13:55.330Z"
   },
   {
    "duration": 18,
    "start_time": "2021-07-05T15:13:55.875Z"
   },
   {
    "duration": 6736,
    "start_time": "2021-07-05T15:13:56.442Z"
   },
   {
    "duration": 200,
    "start_time": "2021-07-05T15:14:05.979Z"
   },
   {
    "duration": 2325,
    "start_time": "2021-07-05T15:14:11.338Z"
   },
   {
    "duration": 47304,
    "start_time": "2021-07-05T15:14:18.409Z"
   },
   {
    "duration": 848,
    "start_time": "2021-07-05T15:15:39.923Z"
   },
   {
    "duration": 172,
    "start_time": "2021-07-05T15:16:42.523Z"
   },
   {
    "duration": 7,
    "start_time": "2021-07-05T15:16:42.841Z"
   },
   {
    "duration": 46,
    "start_time": "2021-07-05T15:16:43.450Z"
   },
   {
    "duration": 87,
    "start_time": "2021-07-05T15:16:44.267Z"
   },
   {
    "duration": 9,
    "start_time": "2021-07-05T15:16:52.602Z"
   },
   {
    "duration": 9,
    "start_time": "2021-07-05T15:16:53.050Z"
   },
   {
    "duration": 13,
    "start_time": "2021-07-05T15:16:53.842Z"
   },
   {
    "duration": 5117,
    "start_time": "2021-07-05T15:16:54.538Z"
   },
   {
    "duration": 153,
    "start_time": "2021-07-05T15:17:02.210Z"
   },
   {
    "duration": 2222,
    "start_time": "2021-07-05T15:17:05.153Z"
   },
   {
    "duration": 48247,
    "start_time": "2021-07-05T15:17:12.509Z"
   },
   {
    "duration": 59,
    "start_time": "2021-07-05T15:18:41.410Z"
   },
   {
    "duration": 36,
    "start_time": "2021-07-05T15:18:42.802Z"
   },
   {
    "duration": 7,
    "start_time": "2021-07-05T15:18:46.866Z"
   },
   {
    "duration": 38,
    "start_time": "2021-07-05T15:18:47.875Z"
   },
   {
    "duration": 6,
    "start_time": "2021-07-05T15:21:30.450Z"
   },
   {
    "duration": 60,
    "start_time": "2021-07-05T15:21:53.346Z"
   },
   {
    "duration": 7,
    "start_time": "2021-07-05T15:21:53.810Z"
   },
   {
    "duration": 37,
    "start_time": "2021-07-05T15:21:54.162Z"
   },
   {
    "duration": 101,
    "start_time": "2021-07-05T15:21:54.699Z"
   },
   {
    "duration": 6,
    "start_time": "2021-07-05T15:21:55.370Z"
   },
   {
    "duration": 7541,
    "start_time": "2021-07-05T15:22:02.242Z"
   },
   {
    "duration": 77,
    "start_time": "2021-07-05T15:22:23.739Z"
   },
   {
    "duration": 6,
    "start_time": "2021-07-05T15:22:25.226Z"
   },
   {
    "duration": 57,
    "start_time": "2021-07-05T15:22:48.178Z"
   },
   {
    "duration": 7,
    "start_time": "2021-07-05T15:22:48.466Z"
   },
   {
    "duration": 40,
    "start_time": "2021-07-05T15:22:48.842Z"
   },
   {
    "duration": 83,
    "start_time": "2021-07-05T15:22:49.827Z"
   },
   {
    "duration": 6,
    "start_time": "2021-07-05T15:22:50.554Z"
   },
   {
    "duration": 58,
    "start_time": "2021-07-05T15:23:06.026Z"
   },
   {
    "duration": 7,
    "start_time": "2021-07-05T15:23:06.305Z"
   },
   {
    "duration": 39,
    "start_time": "2021-07-05T15:23:06.658Z"
   },
   {
    "duration": 83,
    "start_time": "2021-07-05T15:23:07.259Z"
   },
   {
    "duration": 6,
    "start_time": "2021-07-05T15:23:07.801Z"
   },
   {
    "duration": 9,
    "start_time": "2021-07-05T15:23:10.521Z"
   },
   {
    "duration": 8,
    "start_time": "2021-07-05T15:23:10.873Z"
   },
   {
    "duration": 13,
    "start_time": "2021-07-05T15:23:11.890Z"
   },
   {
    "duration": 4868,
    "start_time": "2021-07-05T15:23:12.393Z"
   },
   {
    "duration": 123,
    "start_time": "2021-07-05T15:23:20.442Z"
   },
   {
    "duration": 2441,
    "start_time": "2021-07-05T15:23:23.425Z"
   },
   {
    "duration": 51692,
    "start_time": "2021-07-05T15:23:33.765Z"
   },
   {
    "duration": 2726,
    "start_time": "2021-07-05T15:25:58.962Z"
   },
   {
    "duration": 3532,
    "start_time": "2021-07-05T15:26:08.434Z"
   },
   {
    "duration": 4028,
    "start_time": "2021-07-05T15:26:16.834Z"
   },
   {
    "duration": 4125,
    "start_time": "2021-07-05T15:26:25.744Z"
   },
   {
    "duration": 3923,
    "start_time": "2021-07-05T15:26:32.842Z"
   },
   {
    "duration": 3752,
    "start_time": "2021-07-05T15:26:37.914Z"
   },
   {
    "duration": 46968,
    "start_time": "2021-07-05T15:29:06.252Z"
   },
   {
    "duration": 46789,
    "start_time": "2021-07-05T15:30:08.445Z"
   },
   {
    "duration": 46222,
    "start_time": "2021-07-05T15:31:40.203Z"
   },
   {
    "duration": 45251,
    "start_time": "2021-07-05T15:32:33.918Z"
   },
   {
    "duration": 864,
    "start_time": "2021-07-05T15:33:40.949Z"
   },
   {
    "duration": 59,
    "start_time": "2021-07-05T15:36:10.782Z"
   },
   {
    "duration": 6,
    "start_time": "2021-07-05T15:36:11.085Z"
   },
   {
    "duration": 36,
    "start_time": "2021-07-05T15:36:11.661Z"
   },
   {
    "duration": 80,
    "start_time": "2021-07-05T15:36:12.390Z"
   },
   {
    "duration": 6,
    "start_time": "2021-07-05T15:36:22.534Z"
   },
   {
    "duration": 8,
    "start_time": "2021-07-05T15:36:23.796Z"
   },
   {
    "duration": 9,
    "start_time": "2021-07-05T15:36:24.364Z"
   },
   {
    "duration": 12,
    "start_time": "2021-07-05T15:36:24.813Z"
   },
   {
    "duration": 5201,
    "start_time": "2021-07-05T15:36:26.140Z"
   },
   {
    "duration": 204,
    "start_time": "2021-07-05T15:36:34.164Z"
   },
   {
    "duration": 4005,
    "start_time": "2021-07-05T15:36:37.269Z"
   },
   {
    "duration": 51348,
    "start_time": "2021-07-05T15:36:48.871Z"
   },
   {
    "duration": 904,
    "start_time": "2021-07-05T15:37:40.222Z"
   },
   {
    "duration": 46396,
    "start_time": "2021-07-05T15:38:25.183Z"
   },
   {
    "duration": 49013,
    "start_time": "2021-07-05T15:39:33.494Z"
   },
   {
    "duration": 9545,
    "start_time": "2021-07-05T15:40:40.717Z"
   },
   {
    "duration": 2033,
    "start_time": "2021-07-05T15:41:01.924Z"
   },
   {
    "duration": 2854,
    "start_time": "2021-07-05T15:41:09.908Z"
   },
   {
    "duration": 3900,
    "start_time": "2021-07-05T15:41:16.693Z"
   },
   {
    "duration": 6493,
    "start_time": "2021-07-05T15:41:29.716Z"
   },
   {
    "duration": 1255,
    "start_time": "2021-07-05T15:42:36.077Z"
   },
   {
    "duration": 121,
    "start_time": "2021-07-05T15:47:45.420Z"
   },
   {
    "duration": 106,
    "start_time": "2021-07-05T15:50:48.157Z"
   },
   {
    "duration": 4,
    "start_time": "2021-07-05T16:10:37.681Z"
   },
   {
    "duration": 5,
    "start_time": "2021-07-05T16:10:50.058Z"
   },
   {
    "duration": 5,
    "start_time": "2021-07-05T16:13:08.379Z"
   },
   {
    "duration": 5,
    "start_time": "2021-07-05T16:13:58.328Z"
   },
   {
    "duration": 4904,
    "start_time": "2021-07-05T16:17:04.527Z"
   },
   {
    "duration": 5411,
    "start_time": "2021-07-05T16:17:22.516Z"
   },
   {
    "duration": 9,
    "start_time": "2021-07-05T16:17:28.605Z"
   },
   {
    "duration": 5282,
    "start_time": "2021-07-05T16:17:44.100Z"
   },
   {
    "duration": 6603,
    "start_time": "2021-07-05T16:18:10.692Z"
   },
   {
    "duration": 21,
    "start_time": "2021-07-05T16:18:17.956Z"
   },
   {
    "duration": 5086,
    "start_time": "2021-07-05T16:18:34.876Z"
   },
   {
    "duration": 15,
    "start_time": "2021-07-05T16:18:39.965Z"
   },
   {
    "duration": 132,
    "start_time": "2021-07-05T16:20:38.535Z"
   },
   {
    "duration": 11,
    "start_time": "2021-07-05T16:20:39.692Z"
   },
   {
    "duration": 4128,
    "start_time": "2021-07-05T16:21:11.549Z"
   },
   {
    "duration": 82,
    "start_time": "2021-07-05T16:21:15.680Z"
   },
   {
    "duration": 3718,
    "start_time": "2021-07-05T16:21:28.564Z"
   },
   {
    "duration": 80,
    "start_time": "2021-07-05T16:21:32.284Z"
   },
   {
    "duration": 59356,
    "start_time": "2021-07-05T16:22:19.237Z"
   },
   {
    "duration": 14,
    "start_time": "2021-07-05T16:23:18.596Z"
   },
   {
    "duration": 1536,
    "start_time": "2021-07-05T16:24:31.506Z"
   },
   {
    "duration": 73,
    "start_time": "2021-07-05T16:24:33.046Z"
   },
   {
    "duration": 41,
    "start_time": "2021-07-05T16:24:33.122Z"
   },
   {
    "duration": 9,
    "start_time": "2021-07-05T16:24:33.166Z"
   },
   {
    "duration": 530,
    "start_time": "2021-07-05T16:24:33.178Z"
   },
   {
    "duration": 522,
    "start_time": "2021-07-05T16:24:33.710Z"
   },
   {
    "duration": 10,
    "start_time": "2021-07-05T16:24:34.235Z"
   },
   {
    "duration": 7,
    "start_time": "2021-07-05T16:24:34.264Z"
   },
   {
    "duration": 754,
    "start_time": "2021-07-05T16:24:34.274Z"
   },
   {
    "duration": 47,
    "start_time": "2021-07-05T16:24:35.031Z"
   },
   {
    "duration": 25,
    "start_time": "2021-07-05T16:24:35.081Z"
   },
   {
    "duration": 19,
    "start_time": "2021-07-05T16:24:35.109Z"
   },
   {
    "duration": 149,
    "start_time": "2021-07-05T16:24:35.131Z"
   },
   {
    "duration": 45,
    "start_time": "2021-07-05T16:24:35.283Z"
   },
   {
    "duration": 40,
    "start_time": "2021-07-05T16:24:35.330Z"
   },
   {
    "duration": 12,
    "start_time": "2021-07-05T16:24:35.372Z"
   },
   {
    "duration": 63,
    "start_time": "2021-07-05T16:24:35.387Z"
   },
   {
    "duration": 16,
    "start_time": "2021-07-05T16:24:35.453Z"
   },
   {
    "duration": 19,
    "start_time": "2021-07-05T16:24:35.471Z"
   },
   {
    "duration": 27,
    "start_time": "2021-07-05T16:24:35.493Z"
   },
   {
    "duration": 48,
    "start_time": "2021-07-05T16:24:35.523Z"
   },
   {
    "duration": 34,
    "start_time": "2021-07-05T16:24:35.574Z"
   },
   {
    "duration": 82,
    "start_time": "2021-07-05T16:24:35.613Z"
   },
   {
    "duration": 7,
    "start_time": "2021-07-05T16:24:35.698Z"
   },
   {
    "duration": 55,
    "start_time": "2021-07-05T16:24:35.708Z"
   },
   {
    "duration": 107,
    "start_time": "2021-07-05T16:24:35.766Z"
   },
   {
    "duration": 9,
    "start_time": "2021-07-05T16:24:35.875Z"
   },
   {
    "duration": 11,
    "start_time": "2021-07-05T16:24:35.886Z"
   },
   {
    "duration": 11,
    "start_time": "2021-07-05T16:24:35.899Z"
   },
   {
    "duration": 4840,
    "start_time": "2021-07-05T16:24:35.912Z"
   },
   {
    "duration": 213,
    "start_time": "2021-07-05T16:24:40.755Z"
   },
   {
    "duration": 679809,
    "start_time": "2021-07-05T16:24:40.972Z"
   },
   {
    "duration": 4,
    "start_time": "2021-07-05T16:36:00.785Z"
   },
   {
    "duration": 61033,
    "start_time": "2021-07-05T16:36:00.792Z"
   },
   {
    "duration": 37,
    "start_time": "2021-07-05T16:37:01.829Z"
   },
   {
    "duration": 876,
    "start_time": "2021-07-05T16:37:01.869Z"
   },
   {
    "duration": 518,
    "start_time": "2021-07-05T16:38:10.593Z"
   },
   {
    "duration": 518,
    "start_time": "2021-07-05T16:38:54.769Z"
   },
   {
    "duration": 693,
    "start_time": "2021-07-05T16:39:02.249Z"
   },
   {
    "duration": 457,
    "start_time": "2021-07-05T16:39:10.810Z"
   },
   {
    "duration": 321,
    "start_time": "2021-07-05T16:39:34.737Z"
   },
   {
    "duration": 263,
    "start_time": "2021-07-05T16:39:40.065Z"
   },
   {
    "duration": 8,
    "start_time": "2021-07-05T16:40:11.625Z"
   },
   {
    "duration": 81,
    "start_time": "2021-07-05T16:40:21.073Z"
   },
   {
    "duration": 7,
    "start_time": "2021-07-05T16:40:21.962Z"
   },
   {
    "duration": 49,
    "start_time": "2021-07-05T16:40:23.203Z"
   },
   {
    "duration": 113,
    "start_time": "2021-07-05T16:40:26.682Z"
   },
   {
    "duration": 60,
    "start_time": "2021-07-05T16:40:54.922Z"
   },
   {
    "duration": 9,
    "start_time": "2021-07-05T16:40:56.785Z"
   },
   {
    "duration": 57,
    "start_time": "2021-07-05T16:41:02.081Z"
   },
   {
    "duration": 7,
    "start_time": "2021-07-05T16:41:02.392Z"
   },
   {
    "duration": 51,
    "start_time": "2021-07-05T16:41:02.777Z"
   },
   {
    "duration": 137,
    "start_time": "2021-07-05T16:41:05.850Z"
   },
   {
    "duration": 1587,
    "start_time": "2021-07-05T23:20:55.661Z"
   },
   {
    "duration": 76,
    "start_time": "2021-07-05T23:20:57.593Z"
   },
   {
    "duration": 23,
    "start_time": "2021-07-05T23:20:59.219Z"
   },
   {
    "duration": 8,
    "start_time": "2021-07-05T23:21:03.981Z"
   },
   {
    "duration": 501,
    "start_time": "2021-07-05T23:21:04.607Z"
   },
   {
    "duration": 511,
    "start_time": "2021-07-05T23:21:05.166Z"
   },
   {
    "duration": 11,
    "start_time": "2021-07-05T23:21:07.142Z"
   },
   {
    "duration": 8,
    "start_time": "2021-07-05T23:21:09.177Z"
   },
   {
    "duration": 676,
    "start_time": "2021-07-05T23:21:10.041Z"
   },
   {
    "duration": 25,
    "start_time": "2021-07-05T23:21:16.301Z"
   },
   {
    "duration": 24,
    "start_time": "2021-07-05T23:21:16.809Z"
   },
   {
    "duration": 22,
    "start_time": "2021-07-05T23:21:17.085Z"
   },
   {
    "duration": 123,
    "start_time": "2021-07-05T23:21:17.265Z"
   },
   {
    "duration": 48,
    "start_time": "2021-07-05T23:21:17.693Z"
   },
   {
    "duration": 41,
    "start_time": "2021-07-05T23:21:17.903Z"
   },
   {
    "duration": 7,
    "start_time": "2021-07-05T23:21:18.391Z"
   },
   {
    "duration": 54,
    "start_time": "2021-07-05T23:21:19.615Z"
   },
   {
    "duration": 11,
    "start_time": "2021-07-05T23:21:21.193Z"
   },
   {
    "duration": 7,
    "start_time": "2021-07-05T23:21:22.079Z"
   },
   {
    "duration": 19,
    "start_time": "2021-07-05T23:21:22.995Z"
   },
   {
    "duration": 45,
    "start_time": "2021-07-05T23:21:23.369Z"
   },
   {
    "duration": 37,
    "start_time": "2021-07-05T23:21:23.722Z"
   },
   {
    "duration": 60,
    "start_time": "2021-07-05T23:21:24.823Z"
   },
   {
    "duration": 6,
    "start_time": "2021-07-05T23:21:25.105Z"
   },
   {
    "duration": 37,
    "start_time": "2021-07-05T23:21:25.569Z"
   },
   {
    "duration": 88,
    "start_time": "2021-07-05T23:21:25.780Z"
   },
   {
    "duration": 220,
    "start_time": "2021-07-06T00:28:45.730Z"
   },
   {
    "duration": 1215,
    "start_time": "2021-07-06T00:28:53.119Z"
   },
   {
    "duration": 60,
    "start_time": "2021-07-06T00:28:56.921Z"
   },
   {
    "duration": 17,
    "start_time": "2021-07-06T00:28:58.253Z"
   },
   {
    "duration": 7,
    "start_time": "2021-07-06T00:28:59.955Z"
   },
   {
    "duration": 318,
    "start_time": "2021-07-06T00:29:01.010Z"
   },
   {
    "duration": 320,
    "start_time": "2021-07-06T00:29:01.469Z"
   },
   {
    "duration": 8,
    "start_time": "2021-07-06T00:29:02.615Z"
   },
   {
    "duration": 6,
    "start_time": "2021-07-06T00:29:03.076Z"
   },
   {
    "duration": 422,
    "start_time": "2021-07-06T00:29:03.247Z"
   },
   {
    "duration": 19,
    "start_time": "2021-07-06T00:29:04.956Z"
   },
   {
    "duration": 18,
    "start_time": "2021-07-06T00:29:05.621Z"
   },
   {
    "duration": 16,
    "start_time": "2021-07-06T00:29:06.007Z"
   },
   {
    "duration": 115,
    "start_time": "2021-07-06T00:29:06.205Z"
   },
   {
    "duration": 44,
    "start_time": "2021-07-06T00:29:06.957Z"
   },
   {
    "duration": 108,
    "start_time": "2021-07-06T00:29:07.281Z"
   },
   {
    "duration": 8,
    "start_time": "2021-07-06T00:29:08.321Z"
   },
   {
    "duration": 50,
    "start_time": "2021-07-06T00:29:08.983Z"
   },
   {
    "duration": 8,
    "start_time": "2021-07-06T00:29:10.907Z"
   },
   {
    "duration": 7,
    "start_time": "2021-07-06T00:29:12.216Z"
   },
   {
    "duration": 13,
    "start_time": "2021-07-06T00:29:28.074Z"
   },
   {
    "duration": 38,
    "start_time": "2021-07-06T00:29:29.429Z"
   },
   {
    "duration": 45,
    "start_time": "2021-07-06T00:29:32.167Z"
   },
   {
    "duration": 38,
    "start_time": "2021-07-06T00:29:32.567Z"
   },
   {
    "duration": 5,
    "start_time": "2021-07-06T00:29:32.741Z"
   },
   {
    "duration": 23,
    "start_time": "2021-07-06T00:29:33.131Z"
   },
   {
    "duration": 51,
    "start_time": "2021-07-06T00:29:34.597Z"
   },
   {
    "duration": 48,
    "start_time": "2021-07-06T00:29:36.461Z"
   },
   {
    "duration": 65,
    "start_time": "2021-07-06T00:30:37.966Z"
   },
   {
    "duration": 248,
    "start_time": "2021-07-06T01:49:05.133Z"
   },
   {
    "duration": 369,
    "start_time": "2021-07-06T01:49:51.653Z"
   },
   {
    "duration": 471,
    "start_time": "2021-07-06T01:51:56.240Z"
   },
   {
    "duration": 332,
    "start_time": "2021-07-06T02:55:27.728Z"
   },
   {
    "duration": 212,
    "start_time": "2021-07-06T02:56:30.966Z"
   },
   {
    "duration": 895,
    "start_time": "2021-07-06T02:56:37.039Z"
   },
   {
    "duration": 1001,
    "start_time": "2021-07-06T02:56:45.454Z"
   },
   {
    "duration": 4479,
    "start_time": "2021-07-06T02:58:51.422Z"
   },
   {
    "duration": 4989,
    "start_time": "2021-07-06T02:59:56.626Z"
   },
   {
    "duration": 1560,
    "start_time": "2021-07-06T11:37:37.149Z"
   },
   {
    "duration": 73,
    "start_time": "2021-07-06T11:37:38.711Z"
   },
   {
    "duration": 21,
    "start_time": "2021-07-06T11:37:38.788Z"
   },
   {
    "duration": 7,
    "start_time": "2021-07-06T11:37:38.812Z"
   },
   {
    "duration": 520,
    "start_time": "2021-07-06T11:37:38.821Z"
   },
   {
    "duration": 527,
    "start_time": "2021-07-06T11:37:39.343Z"
   },
   {
    "duration": 10,
    "start_time": "2021-07-06T11:37:39.873Z"
   },
   {
    "duration": 26,
    "start_time": "2021-07-06T11:37:39.887Z"
   },
   {
    "duration": 692,
    "start_time": "2021-07-06T11:37:39.916Z"
   },
   {
    "duration": 26,
    "start_time": "2021-07-06T11:37:40.612Z"
   },
   {
    "duration": 25,
    "start_time": "2021-07-06T11:37:40.641Z"
   },
   {
    "duration": 52,
    "start_time": "2021-07-06T11:37:40.669Z"
   },
   {
    "duration": 142,
    "start_time": "2021-07-06T11:37:40.724Z"
   },
   {
    "duration": 48,
    "start_time": "2021-07-06T11:37:40.869Z"
   },
   {
    "duration": 38,
    "start_time": "2021-07-06T11:37:40.919Z"
   },
   {
    "duration": 17,
    "start_time": "2021-07-06T11:37:40.960Z"
   },
   {
    "duration": 64,
    "start_time": "2021-07-06T11:37:40.980Z"
   },
   {
    "duration": 16,
    "start_time": "2021-07-06T11:37:41.046Z"
   },
   {
    "duration": 8,
    "start_time": "2021-07-06T11:37:41.064Z"
   },
   {
    "duration": 41,
    "start_time": "2021-07-06T11:37:41.074Z"
   },
   {
    "duration": 41,
    "start_time": "2021-07-06T11:37:41.118Z"
   },
   {
    "duration": 38,
    "start_time": "2021-07-06T11:37:41.161Z"
   },
   {
    "duration": 61,
    "start_time": "2021-07-06T11:37:41.210Z"
   },
   {
    "duration": 8,
    "start_time": "2021-07-06T11:37:41.275Z"
   },
   {
    "duration": 38,
    "start_time": "2021-07-06T11:37:41.308Z"
   },
   {
    "duration": 109,
    "start_time": "2021-07-06T11:37:41.348Z"
   },
   {
    "duration": 7906,
    "start_time": "2021-07-06T11:37:41.459Z"
   },
   {
    "duration": 5,
    "start_time": "2021-07-06T11:37:49.368Z"
   },
   {
    "duration": 36,
    "start_time": "2021-07-06T11:37:49.376Z"
   },
   {
    "duration": 12,
    "start_time": "2021-07-06T11:37:49.415Z"
   },
   {
    "duration": 4755,
    "start_time": "2021-07-06T11:37:49.429Z"
   },
   {
    "duration": 129,
    "start_time": "2021-07-06T11:37:54.187Z"
   },
   {
    "duration": 4492,
    "start_time": "2021-07-06T11:37:54.319Z"
   },
   {
    "duration": 3,
    "start_time": "2021-07-06T11:37:58.814Z"
   },
   {
    "duration": 48358,
    "start_time": "2021-07-06T11:37:58.819Z"
   },
   {
    "duration": 11,
    "start_time": "2021-07-06T11:38:47.179Z"
   },
   {
    "duration": 861,
    "start_time": "2021-07-06T11:38:47.192Z"
   },
   {
    "duration": 7496,
    "start_time": "2021-07-06T11:39:19.747Z"
   },
   {
    "duration": 7502,
    "start_time": "2021-07-06T11:40:40.507Z"
   },
   {
    "duration": 8163,
    "start_time": "2021-07-06T11:41:24.187Z"
   },
   {
    "duration": 59,
    "start_time": "2021-07-06T11:46:10.794Z"
   },
   {
    "duration": 6,
    "start_time": "2021-07-06T11:46:11.162Z"
   },
   {
    "duration": 38,
    "start_time": "2021-07-06T11:46:12.115Z"
   },
   {
    "duration": 82,
    "start_time": "2021-07-06T11:46:13.603Z"
   },
   {
    "duration": 9,
    "start_time": "2021-07-06T11:46:28.352Z"
   },
   {
    "duration": 9,
    "start_time": "2021-07-06T11:46:29.401Z"
   },
   {
    "duration": 5,
    "start_time": "2021-07-06T11:46:31.081Z"
   },
   {
    "duration": 4762,
    "start_time": "2021-07-06T11:46:33.042Z"
   },
   {
    "duration": 201,
    "start_time": "2021-07-06T11:46:37.808Z"
   },
   {
    "duration": 5996,
    "start_time": "2021-07-06T11:46:38.018Z"
   },
   {
    "duration": 3,
    "start_time": "2021-07-06T11:46:44.017Z"
   },
   {
    "duration": 48997,
    "start_time": "2021-07-06T11:46:44.022Z"
   },
   {
    "duration": 11,
    "start_time": "2021-07-06T11:47:33.021Z"
   },
   {
    "duration": 120,
    "start_time": "2021-07-06T11:50:22.312Z"
   },
   {
    "duration": 8198,
    "start_time": "2021-07-06T11:50:28.034Z"
   },
   {
    "duration": 6,
    "start_time": "2021-07-06T11:51:44.186Z"
   },
   {
    "duration": 7,
    "start_time": "2021-07-06T11:51:46.913Z"
   },
   {
    "duration": 9,
    "start_time": "2021-07-06T11:51:47.257Z"
   },
   {
    "duration": 5,
    "start_time": "2021-07-06T11:51:47.737Z"
   },
   {
    "duration": 9,
    "start_time": "2021-07-06T11:51:58.297Z"
   },
   {
    "duration": 4145,
    "start_time": "2021-07-06T11:52:07.082Z"
   },
   {
    "duration": 187,
    "start_time": "2021-07-06T11:52:11.230Z"
   },
   {
    "duration": 3789,
    "start_time": "2021-07-06T11:52:11.420Z"
   },
   {
    "duration": 2,
    "start_time": "2021-07-06T11:52:15.212Z"
   },
   {
    "duration": 45687,
    "start_time": "2021-07-06T11:52:15.217Z"
   },
   {
    "duration": 11,
    "start_time": "2021-07-06T11:53:00.906Z"
   },
   {
    "duration": 917,
    "start_time": "2021-07-06T11:55:47.026Z"
   },
   {
    "duration": 6351,
    "start_time": "2021-07-06T11:56:38.464Z"
   },
   {
    "duration": 7187,
    "start_time": "2021-07-06T11:56:58.441Z"
   },
   {
    "duration": 59,
    "start_time": "2021-07-06T12:04:45.416Z"
   },
   {
    "duration": 7,
    "start_time": "2021-07-06T12:04:45.720Z"
   },
   {
    "duration": 38,
    "start_time": "2021-07-06T12:04:46.513Z"
   },
   {
    "duration": 98,
    "start_time": "2021-07-06T12:04:47.850Z"
   },
   {
    "duration": 8253,
    "start_time": "2021-07-06T12:04:49.400Z"
   },
   {
    "duration": 5,
    "start_time": "2021-07-06T12:04:57.656Z"
   },
   {
    "duration": 62,
    "start_time": "2021-07-06T12:05:39.088Z"
   },
   {
    "duration": 7,
    "start_time": "2021-07-06T12:05:39.344Z"
   },
   {
    "duration": 38,
    "start_time": "2021-07-06T12:05:39.817Z"
   },
   {
    "duration": 99,
    "start_time": "2021-07-06T12:05:40.425Z"
   },
   {
    "duration": 8324,
    "start_time": "2021-07-06T12:05:41.088Z"
   },
   {
    "duration": 6,
    "start_time": "2021-07-06T12:05:49.414Z"
   },
   {
    "duration": 30,
    "start_time": "2021-07-06T12:05:49.427Z"
   },
   {
    "duration": 21,
    "start_time": "2021-07-06T12:05:49.461Z"
   },
   {
    "duration": 42,
    "start_time": "2021-07-06T12:05:49.484Z"
   },
   {
    "duration": 4208,
    "start_time": "2021-07-06T12:05:49.528Z"
   },
   {
    "duration": 88,
    "start_time": "2021-07-06T12:05:53.738Z"
   },
   {
    "duration": 27514,
    "start_time": "2021-07-06T12:05:53.908Z"
   },
   {
    "duration": 4,
    "start_time": "2021-07-06T12:06:21.426Z"
   },
   {
    "duration": 50202,
    "start_time": "2021-07-06T12:06:21.433Z"
   },
   {
    "duration": 12,
    "start_time": "2021-07-06T12:07:11.637Z"
   },
   {
    "duration": 60,
    "start_time": "2021-07-06T12:08:38.048Z"
   },
   {
    "duration": 8,
    "start_time": "2021-07-06T12:08:38.328Z"
   },
   {
    "duration": 38,
    "start_time": "2021-07-06T12:08:39.185Z"
   },
   {
    "duration": 92,
    "start_time": "2021-07-06T12:08:39.977Z"
   },
   {
    "duration": 7802,
    "start_time": "2021-07-06T12:08:40.799Z"
   },
   {
    "duration": 6,
    "start_time": "2021-07-06T12:08:48.604Z"
   },
   {
    "duration": 29,
    "start_time": "2021-07-06T12:08:48.614Z"
   },
   {
    "duration": 26,
    "start_time": "2021-07-06T12:08:48.647Z"
   },
   {
    "duration": 17,
    "start_time": "2021-07-06T12:08:48.675Z"
   },
   {
    "duration": 4355,
    "start_time": "2021-07-06T12:08:48.695Z"
   },
   {
    "duration": 266,
    "start_time": "2021-07-06T12:08:53.052Z"
   },
   {
    "duration": 23586,
    "start_time": "2021-07-06T12:08:53.323Z"
   },
   {
    "duration": 3,
    "start_time": "2021-07-06T12:09:16.912Z"
   },
   {
    "duration": 47429,
    "start_time": "2021-07-06T12:09:16.917Z"
   },
   {
    "duration": 12,
    "start_time": "2021-07-06T12:10:04.349Z"
   },
   {
    "duration": 63,
    "start_time": "2021-07-06T12:10:51.015Z"
   },
   {
    "duration": 6,
    "start_time": "2021-07-06T12:10:51.391Z"
   },
   {
    "duration": 53,
    "start_time": "2021-07-06T12:10:52.280Z"
   },
   {
    "duration": 83,
    "start_time": "2021-07-06T12:10:53.104Z"
   },
   {
    "duration": 7701,
    "start_time": "2021-07-06T12:10:53.862Z"
   },
   {
    "duration": 7,
    "start_time": "2021-07-06T12:11:01.567Z"
   },
   {
    "duration": 35,
    "start_time": "2021-07-06T12:11:01.578Z"
   },
   {
    "duration": 30,
    "start_time": "2021-07-06T12:11:01.616Z"
   },
   {
    "duration": 10,
    "start_time": "2021-07-06T12:11:01.648Z"
   },
   {
    "duration": 4083,
    "start_time": "2021-07-06T12:11:01.661Z"
   },
   {
    "duration": 269,
    "start_time": "2021-07-06T12:11:05.747Z"
   },
   {
    "duration": 28106,
    "start_time": "2021-07-06T12:11:06.020Z"
   },
   {
    "duration": 4,
    "start_time": "2021-07-06T12:11:34.129Z"
   },
   {
    "duration": 52287,
    "start_time": "2021-07-06T12:11:34.136Z"
   },
   {
    "duration": 10,
    "start_time": "2021-07-06T12:12:26.426Z"
   },
   {
    "duration": 531,
    "start_time": "2021-07-06T12:23:21.087Z"
   },
   {
    "duration": 351,
    "start_time": "2021-07-06T12:23:37.951Z"
   },
   {
    "duration": 113,
    "start_time": "2021-07-06T12:23:46.727Z"
   },
   {
    "duration": 332,
    "start_time": "2021-07-06T12:23:49.359Z"
   },
   {
    "duration": 10,
    "start_time": "2021-07-06T12:24:02.198Z"
   },
   {
    "duration": 51,
    "start_time": "2021-07-06T12:24:06.871Z"
   },
   {
    "duration": 10,
    "start_time": "2021-07-06T12:24:08.190Z"
   },
   {
    "duration": 8,
    "start_time": "2021-07-06T12:24:09.966Z"
   },
   {
    "duration": 15,
    "start_time": "2021-07-06T12:26:25.751Z"
   },
   {
    "duration": 22,
    "start_time": "2021-07-06T12:27:21.390Z"
   },
   {
    "duration": 9,
    "start_time": "2021-07-06T12:30:00.575Z"
   },
   {
    "duration": 9,
    "start_time": "2021-07-06T12:30:07.078Z"
   },
   {
    "duration": 15,
    "start_time": "2021-07-06T12:30:10.622Z"
   },
   {
    "duration": 13,
    "start_time": "2021-07-06T12:30:21.526Z"
   },
   {
    "duration": 342,
    "start_time": "2021-07-06T12:30:35.982Z"
   },
   {
    "duration": 433,
    "start_time": "2021-07-06T12:32:38.550Z"
   },
   {
    "duration": 371,
    "start_time": "2021-07-06T12:32:49.486Z"
   },
   {
    "duration": 359,
    "start_time": "2021-07-06T12:34:55.470Z"
   },
   {
    "duration": 11,
    "start_time": "2021-07-06T12:35:02.598Z"
   },
   {
    "duration": 390,
    "start_time": "2021-07-06T12:35:51.189Z"
   },
   {
    "duration": 12,
    "start_time": "2021-07-06T12:35:55.724Z"
   },
   {
    "duration": 9,
    "start_time": "2021-07-06T12:36:07.325Z"
   },
   {
    "duration": 55,
    "start_time": "2021-07-06T12:37:23.265Z"
   },
   {
    "duration": 20,
    "start_time": "2021-07-06T12:37:32.413Z"
   },
   {
    "duration": 15,
    "start_time": "2021-07-06T12:37:39.006Z"
   },
   {
    "duration": 19,
    "start_time": "2021-07-06T12:37:48.454Z"
   },
   {
    "duration": 55,
    "start_time": "2021-07-06T12:45:21.765Z"
   },
   {
    "duration": 10,
    "start_time": "2021-07-06T12:45:25.684Z"
   },
   {
    "duration": 10,
    "start_time": "2021-07-06T12:45:33.388Z"
   },
   {
    "duration": 377,
    "start_time": "2021-07-06T12:45:39.062Z"
   },
   {
    "duration": 10,
    "start_time": "2021-07-06T12:47:29.565Z"
   },
   {
    "duration": 128,
    "start_time": "2021-07-06T12:47:36.412Z"
   },
   {
    "duration": 351,
    "start_time": "2021-07-06T12:47:40.028Z"
   },
   {
    "duration": 11,
    "start_time": "2021-07-06T12:47:45.860Z"
   },
   {
    "duration": 12,
    "start_time": "2021-07-06T12:47:52.324Z"
   },
   {
    "duration": 12,
    "start_time": "2021-07-06T12:47:58.252Z"
   },
   {
    "duration": 13,
    "start_time": "2021-07-06T12:48:02.852Z"
   },
   {
    "duration": 326,
    "start_time": "2021-07-06T12:50:16.644Z"
   },
   {
    "duration": 377,
    "start_time": "2021-07-06T12:50:31.668Z"
   },
   {
    "duration": 5,
    "start_time": "2021-07-06T13:03:03.531Z"
   },
   {
    "duration": 669,
    "start_time": "2021-07-06T13:03:26.027Z"
   },
   {
    "duration": 402,
    "start_time": "2021-07-06T13:03:50.460Z"
   },
   {
    "duration": 337,
    "start_time": "2021-07-06T13:03:55.531Z"
   },
   {
    "duration": 13,
    "start_time": "2021-07-06T13:06:33.195Z"
   },
   {
    "duration": 14,
    "start_time": "2021-07-06T13:06:56.483Z"
   },
   {
    "duration": 11,
    "start_time": "2021-07-06T13:07:13.035Z"
   },
   {
    "duration": 324,
    "start_time": "2021-07-06T13:07:21.211Z"
   },
   {
    "duration": 371,
    "start_time": "2021-07-06T13:08:09.683Z"
   },
   {
    "duration": 366,
    "start_time": "2021-07-06T13:08:14.755Z"
   },
   {
    "duration": 11,
    "start_time": "2021-07-06T13:08:20.994Z"
   },
   {
    "duration": 13,
    "start_time": "2021-07-06T13:09:32.483Z"
   },
   {
    "duration": 19,
    "start_time": "2021-07-06T13:09:59.395Z"
   },
   {
    "duration": 18,
    "start_time": "2021-07-06T13:10:06.875Z"
   },
   {
    "duration": 396,
    "start_time": "2021-07-06T13:11:59.324Z"
   },
   {
    "duration": 22,
    "start_time": "2021-07-06T13:13:29.203Z"
   },
   {
    "duration": 319,
    "start_time": "2021-07-06T13:14:24.555Z"
   },
   {
    "duration": 625,
    "start_time": "2021-07-06T13:15:00.788Z"
   },
   {
    "duration": 425,
    "start_time": "2021-07-06T13:15:07.451Z"
   },
   {
    "duration": 8754,
    "start_time": "2021-07-06T13:17:09.388Z"
   },
   {
    "duration": 16,
    "start_time": "2021-07-06T13:17:20.659Z"
   },
   {
    "duration": 17,
    "start_time": "2021-07-06T13:17:26.746Z"
   },
   {
    "duration": 17,
    "start_time": "2021-07-06T13:17:30.866Z"
   },
   {
    "duration": 15,
    "start_time": "2021-07-06T13:17:34.130Z"
   },
   {
    "duration": 403,
    "start_time": "2021-07-06T13:17:57.083Z"
   },
   {
    "duration": 16,
    "start_time": "2021-07-06T13:18:08.716Z"
   },
   {
    "duration": 19,
    "start_time": "2021-07-06T13:18:41.683Z"
   },
   {
    "duration": 8,
    "start_time": "2021-07-06T13:19:10.651Z"
   },
   {
    "duration": 18,
    "start_time": "2021-07-06T13:19:15.186Z"
   },
   {
    "duration": 22,
    "start_time": "2021-07-06T13:19:55.883Z"
   },
   {
    "duration": 20,
    "start_time": "2021-07-06T13:20:01.962Z"
   },
   {
    "duration": 54,
    "start_time": "2021-07-06T13:20:07.890Z"
   },
   {
    "duration": 11,
    "start_time": "2021-07-06T13:20:08.585Z"
   },
   {
    "duration": 10,
    "start_time": "2021-07-06T13:20:09.665Z"
   },
   {
    "duration": 21,
    "start_time": "2021-07-06T13:20:11.794Z"
   },
   {
    "duration": 426,
    "start_time": "2021-07-06T13:20:12.962Z"
   },
   {
    "duration": 20,
    "start_time": "2021-07-06T13:20:14.010Z"
   },
   {
    "duration": 23,
    "start_time": "2021-07-06T13:20:18.794Z"
   },
   {
    "duration": 1683,
    "start_time": "2021-07-06T13:21:21.043Z"
   },
   {
    "duration": 73,
    "start_time": "2021-07-06T13:21:22.729Z"
   },
   {
    "duration": 22,
    "start_time": "2021-07-06T13:21:22.805Z"
   },
   {
    "duration": 9,
    "start_time": "2021-07-06T13:21:22.830Z"
   },
   {
    "duration": 531,
    "start_time": "2021-07-06T13:21:22.842Z"
   },
   {
    "duration": 522,
    "start_time": "2021-07-06T13:21:23.376Z"
   },
   {
    "duration": 17,
    "start_time": "2021-07-06T13:21:23.900Z"
   },
   {
    "duration": 7,
    "start_time": "2021-07-06T13:21:23.921Z"
   },
   {
    "duration": 715,
    "start_time": "2021-07-06T13:21:23.932Z"
   },
   {
    "duration": 29,
    "start_time": "2021-07-06T13:21:24.650Z"
   },
   {
    "duration": 50,
    "start_time": "2021-07-06T13:21:24.682Z"
   },
   {
    "duration": 20,
    "start_time": "2021-07-06T13:21:24.735Z"
   },
   {
    "duration": 160,
    "start_time": "2021-07-06T13:21:24.758Z"
   },
   {
    "duration": 49,
    "start_time": "2021-07-06T13:21:24.920Z"
   },
   {
    "duration": 39,
    "start_time": "2021-07-06T13:21:24.971Z"
   },
   {
    "duration": 8,
    "start_time": "2021-07-06T13:21:25.013Z"
   },
   {
    "duration": 63,
    "start_time": "2021-07-06T13:21:25.024Z"
   },
   {
    "duration": 24,
    "start_time": "2021-07-06T13:21:25.090Z"
   },
   {
    "duration": 15,
    "start_time": "2021-07-06T13:21:25.117Z"
   },
   {
    "duration": 38,
    "start_time": "2021-07-06T13:21:25.135Z"
   },
   {
    "duration": 473,
    "start_time": "2021-07-06T13:21:25.175Z"
   },
   {
    "duration": 23,
    "start_time": "2021-07-06T13:21:25.651Z"
   },
   {
    "duration": 37,
    "start_time": "2021-07-06T13:21:25.709Z"
   },
   {
    "duration": 37,
    "start_time": "2021-07-06T13:21:25.749Z"
   },
   {
    "duration": 69,
    "start_time": "2021-07-06T13:21:25.788Z"
   },
   {
    "duration": 7,
    "start_time": "2021-07-06T13:21:25.859Z"
   },
   {
    "duration": 57,
    "start_time": "2021-07-06T13:21:25.869Z"
   },
   {
    "duration": 110,
    "start_time": "2021-07-06T13:21:25.928Z"
   },
   {
    "duration": 7594,
    "start_time": "2021-07-06T13:21:26.041Z"
   },
   {
    "duration": 6,
    "start_time": "2021-07-06T13:21:33.638Z"
   },
   {
    "duration": 9,
    "start_time": "2021-07-06T13:21:33.646Z"
   },
   {
    "duration": 11,
    "start_time": "2021-07-06T13:21:33.658Z"
   },
   {
    "duration": 39,
    "start_time": "2021-07-06T13:21:33.672Z"
   },
   {
    "duration": 3003,
    "start_time": "2021-07-06T13:21:33.714Z"
   },
   {
    "duration": 195,
    "start_time": "2021-07-06T13:21:36.720Z"
   },
   {
    "duration": 371398,
    "start_time": "2021-07-06T13:21:36.919Z"
   },
   {
    "duration": 4,
    "start_time": "2021-07-06T13:27:48.319Z"
   },
   {
    "duration": 41070,
    "start_time": "2021-07-06T13:27:48.326Z"
   },
   {
    "duration": 10,
    "start_time": "2021-07-06T13:28:29.398Z"
   },
   {
    "duration": 31,
    "start_time": "2021-07-06T13:28:29.411Z"
   },
   {
    "duration": 909,
    "start_time": "2021-07-06T13:28:29.445Z"
   },
   {
    "duration": 7322,
    "start_time": "2021-07-06T13:41:06.160Z"
   },
   {
    "duration": 1623,
    "start_time": "2021-07-06T14:07:39.387Z"
   },
   {
    "duration": 81,
    "start_time": "2021-07-06T14:07:41.013Z"
   },
   {
    "duration": 22,
    "start_time": "2021-07-06T14:07:41.098Z"
   },
   {
    "duration": 8,
    "start_time": "2021-07-06T14:07:41.122Z"
   },
   {
    "duration": 534,
    "start_time": "2021-07-06T14:07:41.133Z"
   },
   {
    "duration": 513,
    "start_time": "2021-07-06T14:07:41.669Z"
   },
   {
    "duration": 26,
    "start_time": "2021-07-06T14:07:42.184Z"
   },
   {
    "duration": 8,
    "start_time": "2021-07-06T14:07:42.214Z"
   },
   {
    "duration": 835,
    "start_time": "2021-07-06T14:07:42.225Z"
   },
   {
    "duration": 26,
    "start_time": "2021-07-06T14:07:43.062Z"
   },
   {
    "duration": 43,
    "start_time": "2021-07-06T14:07:43.091Z"
   },
   {
    "duration": 21,
    "start_time": "2021-07-06T14:07:43.136Z"
   },
   {
    "duration": 139,
    "start_time": "2021-07-06T14:07:43.159Z"
   },
   {
    "duration": 46,
    "start_time": "2021-07-06T14:07:43.301Z"
   },
   {
    "duration": 39,
    "start_time": "2021-07-06T14:07:43.350Z"
   },
   {
    "duration": 16,
    "start_time": "2021-07-06T14:07:43.392Z"
   },
   {
    "duration": 51,
    "start_time": "2021-07-06T14:07:43.411Z"
   },
   {
    "duration": 11,
    "start_time": "2021-07-06T14:07:43.464Z"
   },
   {
    "duration": 32,
    "start_time": "2021-07-06T14:07:43.477Z"
   },
   {
    "duration": 449,
    "start_time": "2021-07-06T14:07:43.512Z"
   },
   {
    "duration": 25,
    "start_time": "2021-07-06T14:07:43.964Z"
   },
   {
    "duration": 22,
    "start_time": "2021-07-06T14:07:44.008Z"
   },
   {
    "duration": 34,
    "start_time": "2021-07-06T14:07:44.036Z"
   },
   {
    "duration": 47,
    "start_time": "2021-07-06T14:07:44.073Z"
   },
   {
    "duration": 60,
    "start_time": "2021-07-06T14:07:44.122Z"
   },
   {
    "duration": 24,
    "start_time": "2021-07-06T14:07:44.185Z"
   },
   {
    "duration": 37,
    "start_time": "2021-07-06T14:07:44.212Z"
   },
   {
    "duration": 106,
    "start_time": "2021-07-06T14:07:44.252Z"
   },
   {
    "duration": 7483,
    "start_time": "2021-07-06T14:07:44.360Z"
   },
   {
    "duration": 5,
    "start_time": "2021-07-06T14:07:51.846Z"
   },
   {
    "duration": 11,
    "start_time": "2021-07-06T14:07:51.854Z"
   },
   {
    "duration": 41,
    "start_time": "2021-07-06T14:07:51.868Z"
   },
   {
    "duration": 4,
    "start_time": "2021-07-06T14:07:51.912Z"
   },
   {
    "duration": 3013,
    "start_time": "2021-07-06T14:07:51.919Z"
   },
   {
    "duration": 84,
    "start_time": "2021-07-06T14:07:54.935Z"
   },
   {
    "duration": 4297,
    "start_time": "2021-07-06T14:07:55.112Z"
   },
   {
    "duration": 4,
    "start_time": "2021-07-06T14:07:59.412Z"
   },
   {
    "duration": 38916,
    "start_time": "2021-07-06T14:07:59.418Z"
   },
   {
    "duration": 13,
    "start_time": "2021-07-06T14:08:38.337Z"
   },
   {
    "duration": 850,
    "start_time": "2021-07-06T14:08:38.353Z"
   },
   {
    "duration": 1707,
    "start_time": "2021-07-06T14:29:00.951Z"
   },
   {
    "duration": 74,
    "start_time": "2021-07-06T14:29:02.661Z"
   },
   {
    "duration": 27,
    "start_time": "2021-07-06T14:29:02.738Z"
   },
   {
    "duration": 8,
    "start_time": "2021-07-06T14:29:02.767Z"
   },
   {
    "duration": 591,
    "start_time": "2021-07-06T14:29:02.778Z"
   },
   {
    "duration": 527,
    "start_time": "2021-07-06T14:29:03.372Z"
   },
   {
    "duration": 15,
    "start_time": "2021-07-06T14:29:03.901Z"
   },
   {
    "duration": 7,
    "start_time": "2021-07-06T14:29:03.920Z"
   },
   {
    "duration": 711,
    "start_time": "2021-07-06T14:29:03.930Z"
   },
   {
    "duration": 26,
    "start_time": "2021-07-06T14:29:04.644Z"
   },
   {
    "duration": 51,
    "start_time": "2021-07-06T14:29:04.673Z"
   },
   {
    "duration": 22,
    "start_time": "2021-07-06T14:29:04.728Z"
   },
   {
    "duration": 152,
    "start_time": "2021-07-06T14:29:04.753Z"
   },
   {
    "duration": 47,
    "start_time": "2021-07-06T14:29:04.907Z"
   },
   {
    "duration": 41,
    "start_time": "2021-07-06T14:29:04.956Z"
   },
   {
    "duration": 12,
    "start_time": "2021-07-06T14:29:04.999Z"
   },
   {
    "duration": 51,
    "start_time": "2021-07-06T14:29:05.014Z"
   },
   {
    "duration": 11,
    "start_time": "2021-07-06T14:29:05.067Z"
   },
   {
    "duration": 17,
    "start_time": "2021-07-06T14:29:05.080Z"
   },
   {
    "duration": 442,
    "start_time": "2021-07-06T14:29:05.099Z"
   },
   {
    "duration": 24,
    "start_time": "2021-07-06T14:29:05.544Z"
   },
   {
    "duration": 40,
    "start_time": "2021-07-06T14:29:05.570Z"
   },
   {
    "duration": 35,
    "start_time": "2021-07-06T14:29:05.616Z"
   },
   {
    "duration": 35,
    "start_time": "2021-07-06T14:29:05.654Z"
   },
   {
    "duration": 70,
    "start_time": "2021-07-06T14:29:05.692Z"
   },
   {
    "duration": 7,
    "start_time": "2021-07-06T14:29:05.764Z"
   },
   {
    "duration": 58,
    "start_time": "2021-07-06T14:29:05.773Z"
   },
   {
    "duration": 98,
    "start_time": "2021-07-06T14:29:05.834Z"
   },
   {
    "duration": 7335,
    "start_time": "2021-07-06T14:29:05.935Z"
   },
   {
    "duration": 6,
    "start_time": "2021-07-06T14:29:13.273Z"
   },
   {
    "duration": 27,
    "start_time": "2021-07-06T14:29:13.282Z"
   },
   {
    "duration": 17,
    "start_time": "2021-07-06T14:29:13.312Z"
   },
   {
    "duration": 11,
    "start_time": "2021-07-06T14:29:13.332Z"
   },
   {
    "duration": 3059,
    "start_time": "2021-07-06T14:29:13.345Z"
   },
   {
    "duration": 207,
    "start_time": "2021-07-06T14:29:16.409Z"
   },
   {
    "duration": 3996,
    "start_time": "2021-07-06T14:29:16.620Z"
   },
   {
    "duration": 3,
    "start_time": "2021-07-06T14:29:20.618Z"
   },
   {
    "duration": 37379,
    "start_time": "2021-07-06T14:29:20.624Z"
   },
   {
    "duration": 10,
    "start_time": "2021-07-06T14:29:58.005Z"
   },
   {
    "duration": 800,
    "start_time": "2021-07-06T14:29:58.018Z"
   },
   {
    "duration": 378,
    "start_time": "2021-07-07T14:18:34.354Z"
   },
   {
    "duration": 1567,
    "start_time": "2021-07-07T14:18:55.196Z"
   },
   {
    "duration": 70,
    "start_time": "2021-07-07T14:18:56.768Z"
   },
   {
    "duration": 29,
    "start_time": "2021-07-07T14:18:56.841Z"
   },
   {
    "duration": 7,
    "start_time": "2021-07-07T14:18:56.873Z"
   },
   {
    "duration": 527,
    "start_time": "2021-07-07T14:18:56.883Z"
   },
   {
    "duration": 545,
    "start_time": "2021-07-07T14:18:57.412Z"
   },
   {
    "duration": 10,
    "start_time": "2021-07-07T14:18:57.967Z"
   },
   {
    "duration": 6,
    "start_time": "2021-07-07T14:18:57.981Z"
   },
   {
    "duration": 729,
    "start_time": "2021-07-07T14:18:57.990Z"
   },
   {
    "duration": 24,
    "start_time": "2021-07-07T14:18:58.722Z"
   },
   {
    "duration": 40,
    "start_time": "2021-07-07T14:18:58.749Z"
   },
   {
    "duration": 19,
    "start_time": "2021-07-07T14:18:58.791Z"
   },
   {
    "duration": 135,
    "start_time": "2021-07-07T14:18:58.812Z"
   },
   {
    "duration": 46,
    "start_time": "2021-07-07T14:18:58.949Z"
   },
   {
    "duration": 53,
    "start_time": "2021-07-07T14:18:58.998Z"
   },
   {
    "duration": 7,
    "start_time": "2021-07-07T14:18:59.054Z"
   },
   {
    "duration": 49,
    "start_time": "2021-07-07T14:18:59.064Z"
   },
   {
    "duration": 10,
    "start_time": "2021-07-07T14:18:59.115Z"
   },
   {
    "duration": 12,
    "start_time": "2021-07-07T14:18:59.127Z"
   },
   {
    "duration": 448,
    "start_time": "2021-07-07T14:18:59.141Z"
   },
   {
    "duration": 25,
    "start_time": "2021-07-07T14:18:59.592Z"
   },
   {
    "duration": 22,
    "start_time": "2021-07-07T14:18:59.619Z"
   },
   {
    "duration": 56,
    "start_time": "2021-07-07T14:18:59.645Z"
   },
   {
    "duration": 442,
    "start_time": "2021-07-07T14:18:59.704Z"
   },
   {
    "duration": 44,
    "start_time": "2021-07-07T14:19:00.150Z"
   },
   {
    "duration": 60,
    "start_time": "2021-07-07T14:19:00.196Z"
   },
   {
    "duration": 7,
    "start_time": "2021-07-07T14:19:00.268Z"
   },
   {
    "duration": 55,
    "start_time": "2021-07-07T14:19:00.277Z"
   },
   {
    "duration": 85,
    "start_time": "2021-07-07T14:19:00.334Z"
   },
   {
    "duration": 7881,
    "start_time": "2021-07-07T14:19:00.421Z"
   },
   {
    "duration": 6,
    "start_time": "2021-07-07T14:19:08.304Z"
   },
   {
    "duration": 12,
    "start_time": "2021-07-07T14:19:08.312Z"
   },
   {
    "duration": 9,
    "start_time": "2021-07-07T14:19:08.327Z"
   },
   {
    "duration": 4,
    "start_time": "2021-07-07T14:19:08.367Z"
   },
   {
    "duration": 3020,
    "start_time": "2021-07-07T14:19:08.373Z"
   },
   {
    "duration": 171,
    "start_time": "2021-07-07T14:19:11.396Z"
   },
   {
    "duration": 3514,
    "start_time": "2021-07-07T14:19:11.569Z"
   },
   {
    "duration": 4,
    "start_time": "2021-07-07T14:19:15.086Z"
   },
   {
    "duration": 37347,
    "start_time": "2021-07-07T14:19:15.093Z"
   },
   {
    "duration": 10,
    "start_time": "2021-07-07T14:19:52.442Z"
   },
   {
    "duration": 815,
    "start_time": "2021-07-07T14:19:52.455Z"
   },
   {
    "duration": 303,
    "start_time": "2021-07-07T14:21:11.902Z"
   },
   {
    "duration": 299,
    "start_time": "2021-07-07T14:21:17.767Z"
   },
   {
    "duration": 284,
    "start_time": "2021-07-07T14:21:21.983Z"
   },
   {
    "duration": 266,
    "start_time": "2021-07-07T14:21:26.967Z"
   },
   {
    "duration": 487,
    "start_time": "2021-07-07T14:22:51.814Z"
   },
   {
    "duration": 57,
    "start_time": "2021-07-07T14:22:59.614Z"
   },
   {
    "duration": 6,
    "start_time": "2021-07-07T14:22:59.838Z"
   },
   {
    "duration": 37,
    "start_time": "2021-07-07T14:23:00.134Z"
   },
   {
    "duration": 82,
    "start_time": "2021-07-07T14:23:01.392Z"
   },
   {
    "duration": 7433,
    "start_time": "2021-07-07T14:23:02.694Z"
   },
   {
    "duration": 81,
    "start_time": "2021-07-07T14:23:10.129Z"
   }
  ],
  "kernelspec": {
   "display_name": "Python 3",
   "language": "python",
   "name": "python3"
  },
  "language_info": {
   "codemirror_mode": {
    "name": "ipython",
    "version": 3
   },
   "file_extension": ".py",
   "mimetype": "text/x-python",
   "name": "python",
   "nbconvert_exporter": "python",
   "pygments_lexer": "ipython3",
   "version": "3.7.6"
  },
  "toc": {
   "base_numbering": 1,
   "nav_menu": {},
   "number_sections": true,
   "sideBar": true,
   "skip_h1_title": true,
   "title_cell": "Table of Contents",
   "title_sidebar": "Contents",
   "toc_cell": false,
   "toc_position": {},
   "toc_section_display": true,
   "toc_window_display": false
  }
 },
 "nbformat": 4,
 "nbformat_minor": 2
}
